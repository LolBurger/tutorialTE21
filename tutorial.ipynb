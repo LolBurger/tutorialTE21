{
 "cells": [
  {
   "cell_type": "markdown",
   "metadata": {
    "pycharm": {
     "name": "#%% md\n"
    },
    "slideshow": {
     "slide_type": "slide"
    }
   },
   "source": [
    "<h1><center>Data preprocessing </center></h1>\n",
    "\n",
    "First we import the modules (libraries) required by the code. <br>\n",
    "Three modules are here included:\n",
    "- numpy: basic library for array handling and manipulation\n",
    "- pandas: library to handle I/O of files and data structure manipulation\n",
    "- matplotlib: data visualization\n",
    "\n",
    "<p>To increase the code readability, a common approach involves\n",
    "using aliases *(e.g. import pandas as <ins>pd</ins>)*."
   ]
  },
  {
   "cell_type": "code",
   "execution_count": 1,
   "metadata": {
    "slideshow": {
     "slide_type": "subslide"
    }
   },
   "outputs": [],
   "source": [
    "#Import the necessary modules and address them using aliases\n",
    "import numpy as np\n",
    "import pandas as pd\n",
    "import matplotlib.pyplot as plt"
   ]
  },
  {
   "cell_type": "markdown",
   "metadata": {
    "pycharm": {
     "name": "#%% md\n"
    },
    "slideshow": {
     "slide_type": "slide"
    }
   },
   "source": [
    "Then, we read the training database that was previously stored in\n",
    "a *Comma Separated Values* file *(.csv)*. <br>\n",
    "The input format strongly depends on the source that generated\n",
    "your data."
   ]
  },
  {
   "cell_type": "code",
   "execution_count": 2,
   "metadata": {
    "pycharm": {
     "name": "#%%\n"
    },
    "slideshow": {
     "slide_type": "subslide"
    }
   },
   "outputs": [],
   "source": [
    "#Read the training data stored in .csv file\n",
    "df = pd.read_csv('RESULT_FILES/trainingData.csv',sep=',')"
   ]
  },
  {
   "cell_type": "markdown",
   "metadata": {
    "pycharm": {
     "name": "#%% md\n"
    },
    "slideshow": {
     "slide_type": "slide"
    }
   },
   "source": [
    "The file is read using the pandas library and it is stored in the df\n",
    "*dataframe* variable.\n",
    "<p> We can now inspect the database by accessing the first few rows\n",
    "of the file with their index, using the *.iloc[ ]* function, and\n",
    "by printing them on the screen:"
   ]
  },
  {
   "cell_type": "code",
   "execution_count": 3,
   "metadata": {
    "pycharm": {
     "name": "#%%\n"
    },
    "slideshow": {
     "slide_type": "subslide"
    }
   },
   "outputs": [
    {
     "name": "stdout",
     "output_type": "stream",
     "text": [
      "   AoA      CL       CD  camber  camber_loc  thickness     Re\n",
      "0 -2.0 -0.1551  0.01968       1           1          6  50000\n",
      "1  0.0  0.0572  0.01435       1           1          6  50000\n",
      "2  2.0  0.2316  0.01576       1           1          6  50000\n",
      "3  4.0  0.5433  0.01971       1           1          6  50000\n"
     ]
    }
   ],
   "source": [
    "#On screen print of the first four rows of the database\n",
    "print(df.iloc[0:4])"
   ]
  },
  {
   "cell_type": "markdown",
   "metadata": {
    "slideshow": {
     "slide_type": "slide"
    }
   },
   "source": [
    "The database for this tutorial was formerly cleaned of all the\n",
    "non-relevant columns. We can inspect the available features\n",
    "through the built-in pandas feature *df.columns*.\n",
    "<p>We can print them on the screen by simply iterating all over them:</p>"
   ]
  },
  {
   "cell_type": "code",
   "execution_count": 4,
   "metadata": {
    "pycharm": {
     "name": "#%%\n"
    },
    "slideshow": {
     "slide_type": "subslide"
    }
   },
   "outputs": [
    {
     "name": "stdout",
     "output_type": "stream",
     "text": [
      "AoA\n",
      "CL\n",
      "CD\n",
      "camber\n",
      "camber_loc\n",
      "thickness\n",
      "Re\n"
     ]
    }
   ],
   "source": [
    "#On screen print of the database columns\n",
    "for cname in df.columns:\n",
    "    print(cname)"
   ]
  },
  {
   "cell_type": "markdown",
   "metadata": {
    "pycharm": {
     "name": "#%% md\n"
    },
    "slideshow": {
     "slide_type": "slide"
    }
   },
   "source": [
    "As previously introduced in the first part of the tutorial, neural networks may be impaired by training data with features having different scales of magnitude and outliers.\n",
    "<br>In general, data regularization/standardization is often beneficial for the neural netwrk training. <br>\n",
    "Here we scale data according to one of the simplest criterion, called\n",
    " *minMax scaler*, that regularize features by bounding all the features between 0 and 1: <br><center>\n",
    " $\\hat{x}=\\frac{x-{x}_{min}}{x_{max}-{x}_{min}}$\n",
    " </center>\n",
    " where:\n",
    " - $\\hat{x}$ is the normalized feature vector\n",
    " - $x$ is the dimensional feature vecotr\n",
    " - $min$ and $max$ are the minimum and the maximum of the feature vector respectively\n",
    " To do so, we can use a for loop to scroll through the columns (features), iteratively computing the minimum and the maximum and eventually normalize data:"
   ]
  },
  {
   "cell_type": "code",
   "execution_count": 5,
   "metadata": {
    "pycharm": {
     "name": "#%%\n"
    },
    "slideshow": {
     "slide_type": "subslide"
    }
   },
   "outputs": [],
   "source": [
    "#Minmax normalization\n",
    "for cname in df.columns:\n",
    "    df[cname] = (df[cname]-df[cname].min())/(df[cname].max()-df[cname].min())"
   ]
  },
  {
   "cell_type": "markdown",
   "metadata": {
    "slideshow": {
     "slide_type": "slide"
    }
   },
   "source": [
    "We now inspect the normalized dataset statistics using the pandas built-in function *pd.describe()*:"
   ]
  },
  {
   "cell_type": "code",
   "execution_count": 6,
   "metadata": {
    "pycharm": {
     "name": "#%%\n"
    },
    "slideshow": {
     "slide_type": "subslide"
    }
   },
   "outputs": [
    {
     "name": "stdout",
     "output_type": "stream",
     "text": [
      "               AoA           CL           CD       camber   camber_loc  \\\n",
      "count  2276.000000  2276.000000  2276.000000  2276.000000  2276.000000   \n",
      "mean      0.488967     0.493499     0.203944     0.479350     0.521383   \n",
      "std       0.318187     0.206408     0.239350     0.371136     0.367524   \n",
      "min       0.000000     0.000000     0.000000     0.000000     0.000000   \n",
      "25%       0.222222     0.354608     0.053910     0.000000     0.333333   \n",
      "50%       0.444444     0.519807     0.096755     0.333333     0.666667   \n",
      "75%       0.777778     0.633627     0.233039     0.666667     1.000000   \n",
      "max       1.000000     1.000000     1.000000     1.000000     1.000000   \n",
      "\n",
      "         thickness           Re  \n",
      "count  2276.000000  2276.000000  \n",
      "mean      0.528705     0.289127  \n",
      "std       0.367556     0.388650  \n",
      "min       0.000000     0.000000  \n",
      "25%       0.333333     0.000000  \n",
      "50%       0.666667     0.052632  \n",
      "75%       1.000000     0.210526  \n",
      "max       1.000000     1.000000  \n"
     ]
    }
   ],
   "source": [
    "#Computes basic statistics of the normalized data and print that on the screen \n",
    "stats = df.describe()\n",
    "print(stats)"
   ]
  },
  {
   "cell_type": "markdown",
   "metadata": {},
   "source": [
    "We can also visualize the distribution of data using box plots,\n",
    "that show data distribution with their quantile. <br>\n",
    "We can use the build-in pandas function called *boxplot()*."
   ]
  },
  {
   "cell_type": "code",
   "execution_count": 7,
   "metadata": {},
   "outputs": [
    {
     "data": {
      "image/png": "[encoded data removed]",
      "text/plain": [
       "<Figure size 864x432 with 1 Axes>"
      ]
     },
     "metadata": {
      "needs_background": "light"
     },
     "output_type": "display_data"
    }
   ],
   "source": [
    "#Generates a new figure\n",
    "plt.figure(figsize=(12,6))\n",
    "\n",
    "#Box plot using pandas \n",
    "df.boxplot()\n",
    "\n",
    "#Add labels to the axes\n",
    "plt.xlabel('Feature')\n",
    "plt.ylabel('Numerical value')\n",
    "\n",
    "#Show figure\n",
    "plt.show()"
   ]
  },
  {
   "cell_type": "markdown",
   "metadata": {
    "slideshow": {
     "slide_type": "slide"
    }
   },
   "source": [
    "We can also visualize the different moments to have an easier\n",
    "inspection of the normalization outcome. Despite being possible\n",
    "to plot data directly with pandas, we will here use the standard\n",
    "Python module for visualization, *matplotlib*, that we previously\n",
    "imported as *plt*:"
   ]
  },
  {
   "cell_type": "code",
   "execution_count": 8,
   "metadata": {
    "pycharm": {
     "name": "#%%\n"
    },
    "slideshow": {
     "slide_type": "subslide"
    }
   },
   "outputs": [
    {
     "data": {
      "image/png": "[encoded data removed]",
      "text/plain": [
       "<Figure size 648x648 with 1 Axes>"
      ]
     },
     "metadata": {
      "needs_background": "light"
     },
     "output_type": "display_data"
    }
   ],
   "source": [
    "#Generates a new figure and plots mean/min/max/std for each feature.\n",
    "plt.figure(figsize = (9,9))\n",
    "\n",
    "#Plot mean\n",
    "plt.plot(stats.columns, stats.loc['mean'], c='r', label='mean')\n",
    "\n",
    "#Plot minimum\n",
    "plt.plot(stats.columns, stats.loc['min'], c='b', label='min')\n",
    "\n",
    "#Plot maximum\n",
    "plt.plot(stats.columns, stats.loc['max'], c='g', label='max')\n",
    "\n",
    "#Plot standard deviation\n",
    "plt.plot(stats.columns, stats.loc['std'], c='y', label='std')\n",
    "\n",
    "#Add a legend and a grid \n",
    "plt.legend()\n",
    "plt.grid()\n",
    "\n",
    "#Shows figure\n",
    "plt.show()"
   ]
  },
  {
   "cell_type": "markdown",
   "metadata": {
    "pycharm": {
     "name": "#%% md\n"
    },
    "slideshow": {
     "slide_type": "slide"
    }
   },
   "source": [
    "After the regularization, the features are limited between 0 and 1.\n",
    "<br> The subsequent step is to divide data between the *train* and\n",
    "*test* subsets. To do so, we use another library, called\n",
    "*scikit-learn*, and its method *train_test_split*. <br>\n",
    "In addition, this utility automatically splits the existing features\n",
    "between **input** or **output**.\n",
    "<br> The database that we are using is already ordered to have the\n",
    "last two columns that correspond to the output. <br>\n",
    "The *train_test_split* function requires as arguments the input and\n",
    "output features and the relative sizes of the two splits. <br>\n",
    "Depending on the application, the training/test size ratio may change,\n",
    "however we use 70% of the dataset as training subsample and 30%\n",
    "as testing subsample, that includes 2276 entires. <br>\n",
    "This function returns four arguments:\n",
    "* **X_train**: training input features, with shape (1594, 5)\n",
    "* **y_train**: training output features, with shape (1594, 2)\n",
    "* **X_test**: testing input features, with shape (682, 5)\n",
    "* **y_test**: testing output features, with shape (682, 2)\n"
   ]
  },
  {
   "cell_type": "code",
   "execution_count": 9,
   "metadata": {
    "pycharm": {
     "name": "#%%\n"
    },
    "slideshow": {
     "slide_type": "subslide"
    }
   },
   "outputs": [],
   "source": [
    "#Import of the sklearn train_test_split function\n",
    "from sklearn.model_selection import train_test_split\n",
    "\n",
    "#Definition of the input/output features \n",
    "df_shape = df.shape\n",
    "input_features = df[['AoA', 'camber', 'camber_loc', 'thickness', 'Re']]\n",
    "output_features = df[['CL','CD']]\n",
    "\n",
    "#Split in train and test data\n",
    "X_train, X_test, y_train, y_test = train_test_split(\n",
    "    input_features, output_features, test_size=0.3, random_state=20)"
   ]
  },
  {
   "cell_type": "markdown",
   "metadata": {
    "pycharm": {
     "name": "#%% md\n"
    },
    "slideshow": {
     "slide_type": "slide"
    }
   },
   "source": [
    "<h1><center>Training a basic model</center></h1>\n",
    "We are now ready to define the neural network architecture. Several deep learning APIs are available for free, <i> e.g.\n",
    "Tensorflow, Keras, Pytorch</i>. In this tutorial we will be using Keras API.\n",
    "Several neural network topologies may compete in solving the same kind of problem, and it is not always easy to\n",
    "determine the best solutions a priori. In this case, we will solve this simple problem by using one of the simplest\n",
    "topology, a feed-forward multi-layer perceptron neural network. <br> We can start importing the necessary modules from the\n",
    "<i>Keras</i> library, distributed with the <i>tensorflow</i> package:"
   ]
  },
  {
   "cell_type": "code",
   "execution_count": 10,
   "metadata": {
    "pycharm": {
     "is_executing": true,
     "name": "#%%\n"
    },
    "slideshow": {
     "slide_type": "subslide"
    }
   },
   "outputs": [
    {
     "ename": "ModuleNotFoundError",
     "evalue": "No module named 'tensorflow'",
     "output_type": "error",
     "traceback": [
      "\u001B[1;31m---------------------------------------------------------------------------\u001B[0m",
      "\u001B[1;31mModuleNotFoundError\u001B[0m                       Traceback (most recent call last)",
      "\u001B[1;32m<ipython-input-10-f088f0e0a358>\u001B[0m in \u001B[0;36m<module>\u001B[1;34m\u001B[0m\n\u001B[0;32m      1\u001B[0m \u001B[1;31m#import of the tensorflow library\u001B[0m\u001B[1;33m\u001B[0m\u001B[1;33m\u001B[0m\u001B[1;33m\u001B[0m\u001B[0m\n\u001B[1;32m----> 2\u001B[1;33m \u001B[1;32mfrom\u001B[0m \u001B[0mtensorflow\u001B[0m \u001B[1;32mimport\u001B[0m \u001B[0mkeras\u001B[0m\u001B[1;33m\u001B[0m\u001B[1;33m\u001B[0m\u001B[0m\n\u001B[0m",
      "\u001B[1;31mModuleNotFoundError\u001B[0m: No module named 'tensorflow'"
     ]
    }
   ],
   "source": [
    "#import of the tensorflow library\n",
    "from tensorflow import keras\n"
   ]
  },
  {
   "cell_type": "markdown",
   "metadata": {
    "pycharm": {
     "name": "#%% md\n"
    },
    "slideshow": {
     "slide_type": "slide"
    }
   },
   "source": [
    "Finding the best architecture for our neural network is not a trivial task, as it is normally one of the goal of the\n",
    "optimization of the neural network. We can start with a basic non-optimized morphology. We can choose as initial structure a three layer\n",
    "feed forward neural network with 5 neurons per biased layer. The number of neurons per layer may be chosen using a rule of thumb: rounding the number of output plus half of the number of input features.\n",
    "As a first assumption, <br><centering> $n_\\text{neur}=f_\\text{out}+0.5*f_\\text{in}=2+0.5*5 \\simeq 5$ </centering><br>\n",
    "We can also draw a fast sketch of the structure to understand data flow across the network.\n"
   ]
  },
  {
   "cell_type": "markdown",
   "metadata": {},
   "source": [
    "We can also visualize the actual structure of the neural network:\n",
    "    ![title](img/nn.svg)\n",
    "<centering> \n",
    "    *Image generated using NN SVG (http://alexlenail.me/NN-SVG/index.html)*\n",
    "</centering>"
   ]
  },
  {
   "cell_type": "markdown",
   "metadata": {},
   "source": [
    "Please note that the first instruction defines an input layer that has 5 neurons that are activated using a Rectified\n",
    "Linear Unit, whereas in the second instruction it is not necessary to specify the shape, as it is automatically derived\n",
    "from the previous layer. In such structure, the first and the second sets of weights have a shape of $f_\\text{in} \\times 5$\n",
    "and $5 \\times 5$ respectively. In our network structure we still miss the output layer with two neurons, corresponding to the number of output features $f_\\text{out}$. Moreover, we no longer want the output to be binded by the ReLU function, therefore we will use a simple linear activation."
   ]
  },
  {
   "cell_type": "markdown",
   "metadata": {},
   "source": [
    "The implementation of the mathematical formulation underlying neural networks may be complex and time consuming. Luckily, most of the\n",
    "deep-learning APIs like Keras distribute functions that dramatically speed up the process. We can start by defining our simple model through a user-defined function, here called *basic_model*."
   ]
  },
  {
   "cell_type": "code",
   "execution_count": null,
   "metadata": {
    "slideshow": {
     "slide_type": "subslide"
    }
   },
   "outputs": [],
   "source": [
    "# Computes the shape of the input features \n",
    "M,N_feat = X_train.shape\n",
    "\n",
    "# Definition the basic_model function\n",
    "def basic_model():\n",
    "    \n",
    "    #Definition the feed-forward neural network structure\n",
    "    model = keras.Sequential()\n",
    "    \n",
    "    #Definition of the first hidden layer\n",
    "    model.add(keras.layers.Dense(5, input_dim=N_feat, activation='tanh'))\n",
    "    \n",
    "    #Definition of the second hidden layer\n",
    "    model.add(keras.layers.Dense(5, activation='tanh'))\n",
    "    \n",
    "    #Definition of the output layer\n",
    "    model.add(keras.layers.Dense(2, activation='linear'))\n",
    "    \n",
    "    #Definition of the optimizer \n",
    "    opt = keras.optimizers.Adam(learning_rate=0.01)\n",
    "    \n",
    "    #Definition of the cost function\n",
    "    cost = keras.losses.MeanSquaredError()\n",
    "    \n",
    "    #Model finalization\n",
    "    model.compile(optimizer=opt,loss=cost)\n",
    "    \n",
    "    #Model return\n",
    "    return model"
   ]
  },
  {
   "cell_type": "markdown",
   "metadata": {
    "slideshow": {
     "slide_type": "slide"
    }
   },
   "source": [
    "In the last three lines of the function definition we are coding three relevant aspect of the neural network:\n",
    "<ul>\n",
    "<li>the learning rate (0.01)</li>\n",
    "<li>the cost function (Mean squared error)</li>\n",
    "<li>the optimizer (Adam)</li>\n",
    "</ul>\n",
    "<br> \n",
    "Even if Adam optimizer adapts the learning rate during the training phase, it has an impact on the speed of the algorithm. In fact, it controls the proportion that weights are updated. Larger values (e.g. 0.3) results in faster initial learning before the rate is updated. Smaller values (e.g. 1.0E-5) slow learning right down during training. <br>\n",
    "The choice of the cost function (also called loss function), depends mainly on the task to solve(regression\\classification). Its role in the neural network process is to determine the cost, i.e. the error that we are making between prediction and true values. As the gradients of losses are computed based on the cost function, it strongly affects the proper convergence of the optimizer. In this case we will use a common expression, the Mean Squared Error (MSE) function, defined as: <br><center>\n",
    "    $\\text{MSE}= \\frac{\\sum_{t=1}^T \\left(\\hat{y}_1-y\\right)^2}{T}$\n",
    "    </center><br>\n",
    "    \n",
    "The optimizer defines how to change weights or learning rates of the neural network to reduce the losses we previously defined. Adam optimizer has gained the favour of the community thanks to its fast convergence and adaptive learning rate."
   ]
  },
  {
   "cell_type": "markdown",
   "metadata": {
    "slideshow": {
     "slide_type": "slide"
    }
   },
   "source": [
    "Now everything is set up to start the training of the neural network. To do so, we use the *fit* command. The fit method accepts several arguments that may help or impair the convergence of the model. We want to specify that we want to use X_train and y_train as input/output of the training of the model and that X_test and y_test must be used to evaluate the model. "
   ]
  },
  {
   "cell_type": "code",
   "execution_count": null,
   "metadata": {
    "slideshow": {
     "slide_type": "subslide"
    }
   },
   "outputs": [],
   "source": [
    "#Model training\n",
    "history = basic_model().fit(X_train, y_train, epochs=200, validation_data = (X_test, y_test))"
   ]
  },
  {
   "cell_type": "markdown",
   "metadata": {
    "slideshow": {
     "slide_type": "slide"
    }
   },
   "source": [
    "Training and test losses, i.e. the computed MSE, are stored in the *history* variable. The history variable belongs to the *dictionary* type. Dictionaries are Python data structures that can be indexed using their *keys*, inspectable using the *.keys()* command.  "
   ]
  },
  {
   "cell_type": "code",
   "execution_count": null,
   "metadata": {
    "slideshow": {
     "slide_type": "subslide"
    }
   },
   "outputs": [],
   "source": [
    "#On screen print of the history dictionary\n",
    "print(history.history.keys())"
   ]
  },
  {
   "cell_type": "markdown",
   "metadata": {
    "slideshow": {
     "slide_type": "subslide"
    }
   },
   "source": [
    "We want to plot both of them in the same figure, to compare the convergence hisotry and enstablish if the model is overfitting or not. "
   ]
  },
  {
   "cell_type": "code",
   "execution_count": null,
   "metadata": {
    "slideshow": {
     "slide_type": "subslide"
    }
   },
   "outputs": [],
   "source": [
    "#Creates a new figure\n",
    "plt.figure()\n",
    "#Plotter of the training and test MSE\n",
    "plt.plot(history.history['loss'], c='k',label='Train')\n",
    "plt.plot(history.history['val_loss'], c='r', label = 'Test', ls='--')\n",
    "#Shows legend and add labels to the plot\n",
    "plt.legend()\n",
    "plt.xlabel('Nr. of Epochs')\n",
    "plt.ylabel('RMSE')\n",
    "plt.show()"
   ]
  },
  {
   "cell_type": "markdown",
   "metadata": {
    "slideshow": {
     "slide_type": "slide"
    }
   },
   "source": [
    "As both series (train and test MSE) are converging, we can assess that the model is behaving correctly in both datasets. Such visualization, however, provides a broad view on the model, without additional information on the local behavior of the model. For example, our artificial intelligence may work correctly within a certain range of the input features while underfitting in the rest of data. As MSE is averaged over the observations, we may not notice such problem and end up with an ill-conditioned model. We can generate a simple plot that compares the predicted output versus the true values for each of the outputs of the model. Let's start with the training data.<br>\n",
    "We first want to store the predictions of the model for both train and test data in the *y_train_pred* and *y_test_pred* variables: "
   ]
  },
  {
   "cell_type": "code",
   "execution_count": null,
   "metadata": {
    "slideshow": {
     "slide_type": "subslide"
    }
   },
   "outputs": [],
   "source": [
    "#Computes predictions of the model for both train and test datasets\n",
    "y_train_pred = basic_model().predict(X_train)\n",
    "y_test_pred = basic_model().predict(X_test)"
   ]
  },
  {
   "cell_type": "markdown",
   "metadata": {
    "slideshow": {
     "slide_type": "slide"
    }
   },
   "source": [
    "We can now compare them and see how the model is performing locally. An immediate way is to plot the true outputs of the model on both axes of a graph. In so doing, reference data is represented as a line. The output of the model is instead represented using the true output of the model on one of the axis and the predicted values on the other axis. The error of the model can therefore be visualized as the distance between the predicted points and the solid line. "
   ]
  },
  {
   "cell_type": "code",
   "execution_count": null,
   "metadata": {
    "slideshow": {
     "slide_type": "subslide"
    }
   },
   "outputs": [],
   "source": [
    "#Creates a new figure with two subplots\n",
    "fig = plt.figure(figsize=(12,8))\n",
    "\n",
    "#Cl plot with a 1:1 aspect ratio\n",
    "ax1 = fig.add_subplot(1,2,1, adjustable='box', aspect=1)\n",
    "#Plot reference data as a solid black line\n",
    "ax1.plot(y_train.values[:,0],y_train.values[:,0], c='k')\n",
    "#Plot model output as black empty circles\n",
    "ax1.scatter(y_train.values[:,0], y_train_pred[:,0], facecolor = 'none', edgecolor='k')\n",
    "#Add title and axes labels\n",
    "ax1.set_title('Cl - Train')\n",
    "ax1.set_xlabel('y_train')\n",
    "ax1.set_ylabel('y_train / y_train_pred')\n",
    "\n",
    "#Cd plot with a 1:1 aspect ratio\n",
    "ax2 = fig.add_subplot(1,2,2, adjustable='box', aspect=1)\n",
    "#Plot reference data as a solid black line\n",
    "ax2.plot(y_train.values[:,1],y_train.values[:,1], c='k', label='True')\n",
    "#Plot model output as black empty circles\n",
    "ax2.scatter(y_train.values[:,1], y_train_pred[:,1], facecolor = 'none', edgecolor='k', label='Predicted')\n",
    "#Add title and axes labels and a legend\n",
    "ax2.legend()\n",
    "ax2.set_title('Cd - Train')\n",
    "ax2.set_xlabel('y_train')\n",
    "ax2.set_ylabel('y_train / y_train_pred')\n",
    "\n",
    "plt.show()"
   ]
  },
  {
   "cell_type": "markdown",
   "metadata": {
    "slideshow": {
     "slide_type": "slide"
    }
   },
   "source": [
    "Now we can adapt the same lines of code for the test database:"
   ]
  },
  {
   "cell_type": "code",
   "execution_count": null,
   "metadata": {
    "slideshow": {
     "slide_type": "subslide"
    }
   },
   "outputs": [],
   "source": [
    "#Creates a new figure with two subplots\n",
    "fig = plt.figure(figsize=(12,8))\n",
    "\n",
    "#Cl plot with a 1:1 aspect ratio\n",
    "ax1 = fig.add_subplot(1,2,1, adjustable='box', aspect=1)\n",
    "#Plot reference data as a solid black line\n",
    "ax1.plot(y_test.values[:,0],y_test.values[:,0], c='k')\n",
    "#Plot model output as black empty circles\n",
    "ax1.scatter(y_test.values[:,0], y_test_pred[:,0], facecolor = 'none', edgecolor='k')\n",
    "#Add title and axes labels\n",
    "ax1.set_title('Cl - Test')\n",
    "ax1.set_xlabel('y_test')\n",
    "ax1.set_ylabel('y_test / y_test_pred')\n",
    "\n",
    "#Cd plot with a 1:1 aspect ratio\n",
    "ax2 = fig.add_subplot(1,2,2, adjustable='box', aspect=1)\n",
    "#Plot reference data as a solid black line\n",
    "ax2.plot(y_test.values[:,1],y_test.values[:,1], c='k', label='True')\n",
    "#Plot model output as black empty circles\n",
    "ax2.scatter(y_test.values[:,1], y_test_pred[:,1], facecolor = 'none', edgecolor='k', label='Predicted')\n",
    "#Add title and axes labels and a legend\n",
    "ax2.legend()\n",
    "ax2.set_title('Cd - Test')\n",
    "ax2.set_xlabel('y_test')\n",
    "ax2.set_ylabel('y_test / y_test_pred')\n",
    "\n",
    "plt.show()"
   ]
  },
  {
   "cell_type": "markdown",
   "metadata": {
    "slideshow": {
     "slide_type": "subslide"
    }
   },
   "source": [
    "It is evident that the errors are large and the trained model is useless as it is. The initial selection selection of the hyperparameters of the neural network is not suited to solve this particular task. It is now time to optimize the algorithm. "
   ]
  },
  {
   "cell_type": "markdown",
   "metadata": {
    "slideshow": {
     "slide_type": "slide"
    }
   },
   "source": [
    "<h1><center>Optimizing the model</center></h1>\n",
    "The optimization phase of the alogrithm is usually a computationally expensive and tedious process. The aim is to find the best combinations of hyperamters to achieve the highest accuracy / least error while making prediction. Depending on the computational costs of the training, we can investigate from tens to thousands possible combination of several hyperparameters and their effect on the neural network. In the simplest optimization, we can manually choose some combinations and hard-code them in the algorithm. However, this non-automatic approach is simply unfeasible for complex architectures. We will hereby use an hyperparameter optimizer already distributed in Keras, called *Keras Tuner*. We will define a search space and find out the best combination of hyperparameters. \n",
    "Our goal here is to find the best combination of:\n",
    "\n",
    "- **number of neurons**, ranging from 4 to 32\n",
    "- **activation functions**, choosing beetween ReLu and tanh\n",
    "- **learning rate**, choosing between 1e-2, 1e-3, 1e-4\n",
    "\n",
    "The first step is to define a dynamic structure of the neural network. In this new function, *model_builder*, the input argument *hp* is provided by the Keras Tuner. The number of neurons is a variable called *hp_units*, defined as integer, that varies from 4 to 32 with a 4 stride. The number of neurons is considered constant along all layers. We have also added a *dropout* layer between each hidden layer to increase the robustness of the model to overfitting. This layer randomly sets input units to 0 with a 30 % frequency of rate at each step during training time. The different acivations are chosen using the function *hp.Choice*, where we specify the availabe options. The same goes for the learning rate, stored in the *hp_learning_rate* variable. "
   ]
  },
  {
   "cell_type": "code",
   "execution_count": null,
   "metadata": {
    "pycharm": {
     "is_executing": true,
     "name": "#%%\n"
    },
    "slideshow": {
     "slide_type": "slide"
    }
   },
   "outputs": [],
   "source": [
    "\n",
    "def model_builder(hp):\n",
    "    #Definition the feed-forward neural network structure\n",
    "    model = keras.Sequential()\n",
    "    \n",
    "    #Declares the number of neurons to optimize\n",
    "    hp_units = hp.Int('units', min_value=4, max_value=68, step=8)\n",
    "    \n",
    "    #Chooses between relu and tanh for the first layer\n",
    "    act1 = hp.Choice('act1', values=['relu', 'tanh'])\n",
    "    \n",
    "    #Definition of the first hidden layer\n",
    "    model.add(keras.layers.Dense(hp_units, input_dim=N_feat, activation=act1))\n",
    "    \n",
    "    #Adds a dropout layer = 30%\n",
    "    model.add(keras.layers.Dropout(0.3))\n",
    "    \n",
    "    #Chooses between relu and tanh for the second layer\n",
    "    act2 = hp.Choice('act2', values=['relu', 'tanh'])\n",
    "    \n",
    "    #Adds a dropout layer = 30%\n",
    "    model.add(keras.layers.Dropout(0.3))\n",
    "    \n",
    "    #Definition of the second hidden layer\n",
    "    model.add(keras.layers.Dense(hp_units, activation=act2))\n",
    "    \n",
    "    #Adds a dropout layer = 30%\n",
    "    model.add(keras.layers.Dropout(0.3))\n",
    "    \n",
    "    #Chooses between relu and tanh for the first layer\n",
    "    act3 = hp.Choice('act3', values=['relu', 'tanh'])\n",
    "    \n",
    "    #Definition of the third hidden layer\n",
    "    model.add(keras.layers.Dense(hp_units, activation=act3))\n",
    "\n",
    "    #Definition of the output layer\n",
    "    model.add(keras.layers.Dense(2, activation='linear'))\n",
    "    \n",
    "    #Chooses between three possible learning rate \n",
    "    hp_learning_rate = hp.Choice('learning_rate', values=[1e-2, 1e-3, 1e-4])\n",
    "    \n",
    "    #Model finalization\n",
    "    model.compile(optimizer=keras.optimizers.Adam(learning_rate=hp_learning_rate),\n",
    "                  loss=keras.losses.MeanSquaredError())\n",
    "    \n",
    "    return model\n",
    "\n"
   ]
  },
  {
   "cell_type": "markdown",
   "metadata": {
    "pycharm": {
     "name": "#%% md\n"
    },
    "slideshow": {
     "slide_type": "slide"
    }
   },
   "source": [
    "We can now import the required module for the hyperparameter optimization. Among the possible optimizers, we are here using the *Hyperband* algorithm. To reduce the computational costs of training multiple neural network, we are limited the number of epochs to 100 and the maximum number of executions per trial to 3. The metric that is used to optimize the algorithm is the loss computed on the test data. "
   ]
  },
  {
   "cell_type": "code",
   "execution_count": null,
   "metadata": {
    "pycharm": {
     "is_executing": true
    },
    "slideshow": {
     "slide_type": "subslide"
    }
   },
   "outputs": [],
   "source": [
    "#Import of the required module\n",
    "from kerastuner.tuners import Hyperband\n",
    "\n",
    "#Definition of the tuner\n",
    "tuner = Hyperband(\n",
    "    model_builder,\n",
    "    max_epochs=100,\n",
    "    objective='val_loss',\n",
    "    seed=111,\n",
    "    executions_per_trial=3,\n",
    "    )"
   ]
  },
  {
   "cell_type": "markdown",
   "metadata": {
    "slideshow": {
     "slide_type": "slide"
    }
   },
   "source": [
    "Everything is now set up to run the optimization process. Please notice that the following expression is the same as the *.fit()* function that we previously used."
   ]
  },
  {
   "cell_type": "code",
   "execution_count": null,
   "metadata": {
    "pycharm": {
     "is_executing": true
    },
    "slideshow": {
     "slide_type": "subslide"
    }
   },
   "outputs": [],
   "source": [
    "#Start the hyperband search algoirthm\n",
    "tuner.search(X_train, y_train, epochs=30, validation_data = (X_test, y_test))\n"
   ]
  },
  {
   "cell_type": "markdown",
   "metadata": {
    "slideshow": {
     "slide_type": "slide"
    }
   },
   "source": [
    "After the optimization is finished, we can get the best model with the corresponding hyperparameters by running:"
   ]
  },
  {
   "cell_type": "code",
   "execution_count": null,
   "metadata": {
    "slideshow": {
     "slide_type": "subslide"
    }
   },
   "outputs": [],
   "source": [
    "#Gets the best combination of hyperparameters\n",
    "best_hps=tuner.get_best_hyperparameters(num_trials=1)[0]\n",
    "\n",
    "#Gets the best model \n",
    "best_model = tuner.get_best_models(num_models=1)[0]\n",
    "\n"
   ]
  },
  {
   "cell_type": "markdown",
   "metadata": {
    "slideshow": {
     "slide_type": "subslide"
    }
   },
   "source": [
    "It is also possible to have a summary of the optimization results by simply running:"
   ]
  },
  {
   "cell_type": "code",
   "execution_count": null,
   "metadata": {
    "slideshow": {
     "slide_type": "subslide"
    }
   },
   "outputs": [],
   "source": [
    "#Prints a summary of the results of the hyperband optimization\n",
    "tuner.results_summary()"
   ]
  },
  {
   "cell_type": "markdown",
   "metadata": {
    "pycharm": {
     "is_executing": true
    },
    "slideshow": {
     "slide_type": "slide"
    }
   },
   "source": [
    "We can now evaluate the performace of the algorithm. The process is exactly the same, we evaluate the convergence of the algorithm, then the output of the model for both training and test datasets. In this case, we don't want to stop the training of the algorithm too early. In so doing, in fact, we could obtain a suboptimal combination of weight and biases. We want to set the number of trainig epochs to a large number and then code a stopping criterion to interrupt the training when certain conditions are met. This is also called *early stopping*. To do so, we can use a *callback* function already implemented in Keras. In particular, the following command stops the training when the test loss is not improved during five subsequent epochs."
   ]
  },
  {
   "cell_type": "code",
   "execution_count": null,
   "metadata": {
    "pycharm": {
     "is_executing": true
    },
    "slideshow": {
     "slide_type": "subslide"
    }
   },
   "outputs": [],
   "source": [
    "#Early stopping criterion definition\n",
    "callback = keras.callbacks.EarlyStopping(monitor='loss', patience=30, \n",
    "                                         min_delta=0.0001,mode='auto')\n",
    "\n",
    "#Optimized model training\n",
    "history = best_model.fit(X_train, y_train, epochs=2000, callbacks=[callback],\n",
    "                         validation_data = (X_test, y_test))\n"
   ]
  },
  {
   "cell_type": "markdown",
   "metadata": {
    "slideshow": {
     "slide_type": "subslide"
    }
   },
   "source": [
    "We can now plot the convergence history as we did previously:"
   ]
  },
  {
   "cell_type": "code",
   "execution_count": null,
   "metadata": {
    "slideshow": {
     "slide_type": "subslide"
    }
   },
   "outputs": [],
   "source": [
    "#Creates a new figure\n",
    "plt.figure()\n",
    "#Plotter of the training and test MSE\n",
    "plt.plot(history.history['loss'], c='k',label='Train')\n",
    "plt.plot(history.history['val_loss'], c='r', label = 'Test', ls='--')\n",
    "#Shows legend and add labels to the plot\n",
    "plt.legend()\n",
    "plt.xlabel('Nr. of Epochs')\n",
    "plt.ylabel('MSE')\n",
    "plt.show()"
   ]
  },
  {
   "cell_type": "markdown",
   "metadata": {
    "slideshow": {
     "slide_type": "slide"
    }
   },
   "source": [
    "We first derive the prediction for the train dataset:"
   ]
  },
  {
   "cell_type": "code",
   "execution_count": null,
   "metadata": {
    "pycharm": {
     "is_executing": true
    },
    "slideshow": {
     "slide_type": "subslide"
    }
   },
   "outputs": [],
   "source": [
    "#Stores the output of the trained model\n",
    "y_train_pred = best_model.predict(X_train)\n"
   ]
  },
  {
   "cell_type": "code",
   "execution_count": null,
   "metadata": {
    "pycharm": {
     "is_executing": true
    },
    "slideshow": {
     "slide_type": "subslide"
    }
   },
   "outputs": [],
   "source": [
    "#Creates a new figure with two subplots\n",
    "fig = plt.figure(figsize=(12,8))\n",
    "\n",
    "#Cl plot with a 1:1 aspect ratio\n",
    "ax1 = fig.add_subplot(1,2,1, adjustable='box', aspect=1)\n",
    "#Plot reference data as a solid black line\n",
    "ax1.plot(y_train.values[:,0],y_train.values[:,0], c='k')\n",
    "#Plot model output as black empty circles\n",
    "ax1.scatter(y_train.values[:,0], y_train_pred[:,0], facecolor = 'none', edgecolor='k')\n",
    "#Add title and axes labels\n",
    "ax1.set_title('Cl - Train')\n",
    "ax1.set_xlabel('y_train')\n",
    "ax1.set_ylabel('y_train / y_train_pred')\n",
    "\n",
    "#Cd plot with a 1:1 aspect ratio\n",
    "ax2 = fig.add_subplot(1,2,2, adjustable='box', aspect=1)\n",
    "#Plot reference data as a solid black line\n",
    "ax2.plot(y_train.values[:,1],y_train.values[:,1], c='k', label='True')\n",
    "#Plot model output as black empty circles\n",
    "ax2.scatter(y_train.values[:,1], y_train_pred[:,1], facecolor = 'none', edgecolor='k', label='Predicted')\n",
    "#Add title and axes labels and a legend\n",
    "ax2.legend()\n",
    "ax2.set_title('Cd - Train')\n",
    "ax2.set_xlabel('y_train')\n",
    "ax2.set_ylabel('y_train / y_train_pred')\n",
    "\n",
    "plt.show()"
   ]
  },
  {
   "cell_type": "markdown",
   "metadata": {
    "slideshow": {
     "slide_type": "slide"
    }
   },
   "source": [
    "We can now do the same for the test database:"
   ]
  },
  {
   "cell_type": "code",
   "execution_count": null,
   "metadata": {
    "pycharm": {
     "is_executing": true
    },
    "slideshow": {
     "slide_type": "subslide"
    }
   },
   "outputs": [],
   "source": [
    "#Evaluates the output of the model on the test data \n",
    "y_test_pred = best_model.predict(X_test)\n",
    "\n",
    "#Creates a new figure with two subplots\n",
    "fig = plt.figure(figsize=(12,8))\n",
    "\n",
    "#Cl plot with a 1:1 aspect ratio\n",
    "ax1 = fig.add_subplot(1,2,1, adjustable='box', aspect=1)\n",
    "#Plot reference data as a solid black line\n",
    "ax1.plot(y_test.values[:,0],y_test.values[:,0], c='k')\n",
    "#Plot model output as black empty circles\n",
    "ax1.scatter(y_test.values[:,0], y_test_pred[:,0], facecolor = 'none', edgecolor='k')\n",
    "#Add title and axes labels\n",
    "ax1.set_title('Cl - Test')\n",
    "ax1.set_xlabel('y_test')\n",
    "ax1.set_ylabel('y_test / y_test_pred')\n",
    "\n",
    "#Cd plot with a 1:1 aspect ratio\n",
    "ax2 = fig.add_subplot(1,2,2, adjustable='box', aspect=1)\n",
    "#Plot reference data as a solid black line\n",
    "ax2.plot(y_test.values[:,1],y_test.values[:,1], c='k', label='True')\n",
    "#Plot model output as black empty circles\n",
    "ax2.scatter(y_test.values[:,1], y_test_pred[:,1], facecolor = 'none', edgecolor='k', label='Predicted')\n",
    "#Add title and axes labels and a legend\n",
    "ax2.legend()\n",
    "ax2.set_title('Cd - Test')\n",
    "ax2.set_xlabel('y_test')\n",
    "ax2.set_ylabel('y_test / y_test_pred')\n",
    "\n",
    "plt.show()"
   ]
  },
  {
   "cell_type": "code",
   "execution_count": null,
   "metadata": {},
   "outputs": [],
   "source": []
  }
 ],
 "metadata": {
  "celltoolbar": "Slideshow",
  "kernelspec": {
   "display_name": "PyCharm (Sistemi Energetici 2019-20)",
   "language": "python",
   "name": "pycharm-4d013c7a"
  },
  "language_info": {
   "codemirror_mode": {
    "name": "ipython",
    "version": 3
   },
   "file_extension": ".py",
   "mimetype": "text/x-python",
   "name": "python",
   "nbconvert_exporter": "python",
   "pygments_lexer": "ipython3",
   "version": "3.8.5"
  }
 },
 "nbformat": 4,
 "nbformat_minor": 1
}