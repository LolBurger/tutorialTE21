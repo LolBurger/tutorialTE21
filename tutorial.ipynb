{
 "cells": [
  {
   "cell_type": "markdown",
   "metadata": {
    "pycharm": {
     "name": "#%% md\n"
    },
    "slideshow": {
     "slide_type": "slide"
    }
   },
   "source": [
    "<h1><center>Data preprocessing </center></h1>\n",
    "\n",
    "First we import the modules (libraries) required by the code. <br>\n",
    "Three modules are here included:\n",
    "- <b>numpy</b>: basic library for array handling and manipulation\n",
    "- <b>pandas</b>: library to handle I/O of files and data structure manipulation\n",
    "- <b>matplotlib</b>: data visualization\n",
    "\n",
    "<p>To increase the code readability, a common approach involves\n",
    "    using aliases <i>(e.g. import pandas as <ins>pd</ins>)</i>."
   ]
  },
  {
   "cell_type": "code",
   "execution_count": 1,
   "metadata": {
    "slideshow": {
     "slide_type": "subslide"
    }
   },
   "outputs": [],
   "source": [
    "#Import the necessary modules and address them using aliases\n",
    "import numpy as np\n",
    "import pandas as pd\n",
    "import matplotlib.pyplot as plt"
   ]
  },
  {
   "cell_type": "markdown",
   "metadata": {
    "pycharm": {
     "name": "#%% md\n"
    },
    "slideshow": {
     "slide_type": "slide"
    }
   },
   "source": [
    "Now we read the training database that was previously stored in\n",
    "a *Comma Separated Values* file *(.csv)*. <br>\n",
    "The input format strongly depends on the source that generated\n",
    "your data."
   ]
  },
  {
   "cell_type": "code",
   "execution_count": 2,
   "metadata": {
    "pycharm": {
     "name": "#%%\n"
    },
    "slideshow": {
     "slide_type": "subslide"
    }
   },
   "outputs": [],
   "source": [
    "#Read the training data stored in .csv file\n",
    "df = pd.read_csv('RESULT_FILES/trainingData.csv',sep=',')"
   ]
  },
  {
   "cell_type": "markdown",
   "metadata": {
    "pycharm": {
     "name": "#%% md\n"
    },
    "slideshow": {
     "slide_type": "slide"
    }
   },
   "source": [
    "The file is read using the pandas library and it is stored in the <b>df</b> variable of type *dataframe* (a dataframe is a complex type variable that you can think as an Excel spreadsheet). \n",
    "The database for this tutorial was formerly cleaned of all the non-relevant columns. <br>\n",
    "We can inspect the available features through the built-in pandas method: <br>\n",
    "*df.columns*. <br>\n",
    "<p> We can now discover if the database was properly read by accessing the first 4 rows\n",
    "    of the file with their index, using the: <br>\n",
    "    <i>.iloc[ ]</i> <br>method. In addition, we want also to print the names of the columns by iterating over them."
   ]
  },
  {
   "cell_type": "code",
   "execution_count": 3,
   "metadata": {
    "pycharm": {
     "name": "#%%\n"
    },
    "slideshow": {
     "slide_type": "subslide"
    }
   },
   "outputs": [
    {
     "name": "stdout",
     "output_type": "stream",
     "text": [
      "   AoA      CL       CD  camber  camber_loc  thickness     Re\n",
      "0 -2.0 -0.1551  0.01968       1           1          6  50000\n",
      "1  0.0  0.0572  0.01435       1           1          6  50000\n",
      "2  2.0  0.2316  0.01576       1           1          6  50000\n",
      "3  4.0  0.5433  0.01971       1           1          6  50000\n",
      "\n",
      "\n",
      "AoA\n",
      "CL\n",
      "CD\n",
      "camber\n",
      "camber_loc\n",
      "thickness\n",
      "Re\n"
     ]
    }
   ],
   "source": [
    "#On-screen print of the first four rows of the database\n",
    "print(df.iloc[0:4])\n",
    "print('\\n')\n",
    "\n",
    "#On-screen print of the database columns\n",
    "for cname in df.columns:\n",
    "    print(cname)"
   ]
  },
  {
   "cell_type": "markdown",
   "metadata": {},
   "source": [
    "As previously introduced in the first part of the tutorial, neural networks may be impaired by training data with features having different scales of magnitude and outliers. We can inspect the raw dataset statistics using the pandas built-in function *pd.describe()*."
   ]
  },
  {
   "cell_type": "code",
   "execution_count": 4,
   "metadata": {
    "scrolled": true
   },
   "outputs": [
    {
     "name": "stdout",
     "output_type": "stream",
     "text": [
      "               AoA           CL           CD       camber   camber_loc  \\\n",
      "count  2276.000000  2276.000000  2276.000000  2276.000000  2276.000000   \n",
      "mean      6.801406     0.730679     0.049028     2.438049     2.564148   \n",
      "std       5.727368     0.432466     0.057540     1.113408     1.102571   \n",
      "min      -2.000000    -0.303300     0.000000     1.000000     1.000000   \n",
      "25%       2.000000     0.439675     0.012960     1.000000     2.000000   \n",
      "50%       6.000000     0.785800     0.023260     2.000000     3.000000   \n",
      "75%      12.000000     1.024275     0.056023     3.000000     4.000000   \n",
      "max      16.000000     1.791900     0.240400     4.000000     4.000000   \n",
      "\n",
      "         thickness              Re  \n",
      "count  2276.000000     2276.000000  \n",
      "mean      9.172232   324670.474517  \n",
      "std       2.205337   369217.915854  \n",
      "min       6.000000    50000.000000  \n",
      "25%       8.000000    50000.000000  \n",
      "50%      10.000000   100000.000000  \n",
      "75%      12.000000   250000.000000  \n",
      "max      12.000000  1000000.000000  \n"
     ]
    }
   ],
   "source": [
    "print(df.describe())"
   ]
  },
  {
   "cell_type": "markdown",
   "metadata": {},
   "source": [
    "A common and compact way to visualize the staistics of data are box plots,\n",
    "showing the data distribution with their quantiles. <br>\n",
    "On way of doing that is the build-in pandas method: *boxplot()*"
   ]
  },
  {
   "cell_type": "code",
   "execution_count": 5,
   "metadata": {},
   "outputs": [
    {
     "data": {
      "image/png": "[encoded data removed]",
      "text/plain": [
       "<Figure size 864x432 with 1 Axes>"
      ]
     },
     "metadata": {
      "needs_background": "light"
     },
     "output_type": "display_data"
    }
   ],
   "source": [
    "#Generates a new figure\n",
    "plt.figure(figsize=(12,6))\n",
    "\n",
    "#Box plot using pandas \n",
    "df.boxplot()\n",
    "\n",
    "#Add labels to the axes\n",
    "plt.xlabel('Feature')\n",
    "plt.ylabel('Numerical value')\n",
    "plt.ylim(0,20)\n",
    "\n",
    "#Show figure\n",
    "plt.show()"
   ]
  },
  {
   "cell_type": "markdown",
   "metadata": {
    "pycharm": {
     "name": "#%% md\n"
    },
    "slideshow": {
     "slide_type": "slide"
    }
   },
   "source": [
    "<b> aggiungi un commento ai boxplot di sopra per giustificare quanto sotto</b><br>\n",
    "\n",
    "<br>In general, data regularization/standardization is often beneficial for the neural netwrk training. <br>\n",
    "Here we scale data according to one of the simplest criterion, called\n",
    " *minMax scaler*, that regularize features by bounding all the features between 0 and 1: <br><center>\n",
    " $\\hat{x}=\\frac{x-{x}_{min}}{x_{max}-{x}_{min}}$\n",
    " </center>\n",
    " where:\n",
    " - $\\hat{x}$ is the normalized feature vector\n",
    " - $x$ is the dimensional feature vector\n",
    " - $min$ and $max$ are the minimum and the maximum of the feature vector respectively\n",
    " To do so, we can use a for loop to scroll through the columns (features), iteratively computing the minimum and the maximum and eventually normalize data:"
   ]
  },
  {
   "cell_type": "code",
   "execution_count": 6,
   "metadata": {
    "pycharm": {
     "name": "#%%\n"
    },
    "slideshow": {
     "slide_type": "subslide"
    }
   },
   "outputs": [],
   "source": [
    "#Minmax normalization\n",
    "for cname in df.columns:\n",
    "    df[cname] = (df[cname]-df[cname].min())/(df[cname].max()-df[cname].min())"
   ]
  },
  {
   "cell_type": "markdown",
   "metadata": {},
   "source": [
    "We can also statistically describe, as done for the raw dataset, the normalized data:"
   ]
  },
  {
   "cell_type": "code",
   "execution_count": 7,
   "metadata": {
    "pycharm": {
     "name": "#%%\n"
    },
    "slideshow": {
     "slide_type": "subslide"
    }
   },
   "outputs": [
    {
     "name": "stdout",
     "output_type": "stream",
     "text": [
      "               AoA           CL           CD       camber   camber_loc  \\\n",
      "count  2276.000000  2276.000000  2276.000000  2276.000000  2276.000000   \n",
      "mean      0.488967     0.493499     0.203944     0.479350     0.521383   \n",
      "std       0.318187     0.206408     0.239350     0.371136     0.367524   \n",
      "min       0.000000     0.000000     0.000000     0.000000     0.000000   \n",
      "25%       0.222222     0.354608     0.053910     0.000000     0.333333   \n",
      "50%       0.444444     0.519807     0.096755     0.333333     0.666667   \n",
      "75%       0.777778     0.633627     0.233039     0.666667     1.000000   \n",
      "max       1.000000     1.000000     1.000000     1.000000     1.000000   \n",
      "\n",
      "         thickness           Re  \n",
      "count  2276.000000  2276.000000  \n",
      "mean      0.528705     0.289127  \n",
      "std       0.367556     0.388650  \n",
      "min       0.000000     0.000000  \n",
      "25%       0.333333     0.000000  \n",
      "50%       0.666667     0.052632  \n",
      "75%       1.000000     0.210526  \n",
      "max       1.000000     1.000000  \n"
     ]
    }
   ],
   "source": [
    "#Computes basic statistics of the normalized data and print that on the screen \n",
    "stats = df.describe()\n",
    "print(stats)"
   ]
  },
  {
   "cell_type": "markdown",
   "metadata": {},
   "source": [
    "Let's see now what the normalized *boxplots* look like"
   ]
  },
  {
   "cell_type": "code",
   "execution_count": 8,
   "metadata": {},
   "outputs": [
    {
     "data": {
      "image/png": "[encoded data removed]",
      "text/plain": [
       "<Figure size 864x432 with 1 Axes>"
      ]
     },
     "metadata": {
      "needs_background": "light"
     },
     "output_type": "display_data"
    }
   ],
   "source": [
    "#Generates a new figure\n",
    "plt.figure(figsize=(12,6))\n",
    "\n",
    "#Box plot using pandas \n",
    "df.boxplot()\n",
    "\n",
    "#Add labels to the axes\n",
    "plt.xlabel('Feature')\n",
    "plt.ylabel('Numerical value')\n",
    "\n",
    "#Show figure\n",
    "plt.show()"
   ]
  },
  {
   "cell_type": "markdown",
   "metadata": {
    "pycharm": {
     "name": "#%% md\n"
    },
    "slideshow": {
     "slide_type": "slide"
    }
   },
   "source": [
    "After regularization, the features are limited between 0 and 1.\n",
    "<br> The subsequent step is to divide data between the *train* and\n",
    "*test* subsets. <br>To do so, we use another library, called\n",
    "*scikit-learn*, and its method *train_test_split*. <br>\n",
    "In addition, this utility automatically splits the existing features\n",
    "between **input** or **output**.\n",
    "<br> The database that we are using is already ordered to have the\n",
    "last two columns that correspond to the output. <br>\n",
    "The *train_test_split* function requires as arguments the input and\n",
    "output features and the relative sizes of the two splits. <br>\n",
    "Depending on the application, the training/test size ratio may change,\n",
    "however we use 70% of the dataset as training subsample and 30%\n",
    "as testing subsample, that includes 2276 entires. <br>\n",
    "This function returns four arguments:\n",
    "* **X_train**: training input features, with shape (1594, 5)\n",
    "* **y_train**: training output features, with shape (1594, 2)\n",
    "* **X_test**: testing input features, with shape (682, 5)\n",
    "* **y_test**: testing output features, with shape (682, 2)\n"
   ]
  },
  {
   "cell_type": "code",
   "execution_count": 9,
   "metadata": {
    "pycharm": {
     "name": "#%%\n"
    },
    "slideshow": {
     "slide_type": "subslide"
    }
   },
   "outputs": [],
   "source": [
    "#Import of the sklearn train_test_split function\n",
    "from sklearn.model_selection import train_test_split\n",
    "\n",
    "#Definition of the input/output features \n",
    "df_shape = df.shape\n",
    "input_features = df[['AoA', 'camber', 'camber_loc', 'thickness', 'Re']]\n",
    "output_features = df[['CL','CD']]\n",
    "\n",
    "#Split in train and test data\n",
    "X_train, X_test, y_train, y_test = train_test_split(\n",
    "    input_features, output_features, test_size=0.3, random_state=20)\n"
   ]
  },
  {
   "cell_type": "markdown",
   "metadata": {
    "pycharm": {
     "name": "#%% md\n"
    },
    "slideshow": {
     "slide_type": "slide"
    }
   },
   "source": [
    "<h1><center>Training a basic model</center></h1>\n",
    "We are now ready to define the neural network architecture. Several deep learning APIs are available for free, <i> e.g.\n",
    "Tensorflow, Keras, Pytorch</i>. <br>\n",
    "In this tutorial we will be using the Keras library.\n",
    "Several neural network topologies may compete in solving the same kind of problem, and it is not always easy to determine the best solution a priori. <br>\n",
    "In this case, we will solve this simple problem by using one of the simplest\n",
    "topology, a feed-forward multi-layer perceptron neural network. <br> We can start importing the necessary modules from the\n",
    "<i>Keras</i> library, distributed with the <i>tensorflow</i> package:"
   ]
  },
  {
   "cell_type": "code",
   "execution_count": 10,
   "metadata": {
    "pycharm": {
     "is_executing": true,
     "name": "#%%\n"
    },
    "slideshow": {
     "slide_type": "subslide"
    }
   },
   "outputs": [],
   "source": [
    "#import of the tensorflow library\n",
    "from tensorflow import keras\n"
   ]
  },
  {
   "cell_type": "markdown",
   "metadata": {
    "pycharm": {
     "name": "#%% md\n"
    },
    "slideshow": {
     "slide_type": "slide"
    }
   },
   "source": [
    "Finding the best architecture for our neural network is not a trivial task, as it is normally one of the goals of the optimization of the neural network.<br>\n",
    "In the first part of the tutorial we will train a basic non-optimized morphology. \n",
    "<br> We can choose as initial structure a two-layer <b>feed forward neural network</b> with 5 neurons (perceptrons) for each layer. <br>\n",
    "The number of neurons per layer may be chosen using a rule of thumb: <br>\n",
    "<centering> $n_\\text{neur}=f_\\text{out}+0.5*f_\\text{in}=2+0.5*5 \\simeq 5$ </centering><br>\n",
    "(number of output features + 0.5 * number of input features)<br>\n",
    "We can also draw a fast sketch of the structure to understand data flow across the network.\n"
   ]
  },
  {
   "cell_type": "markdown",
   "metadata": {},
   "source": [
    "We can also visualize the actual structure of the neural network:\n",
    "    ![title](img/nn.svg)\n",
    "<centering> \n",
    "    *Image generated using NN SVG (http://alexlenail.me/NN-SVG/index.html)*\n",
    "</centering>"
   ]
  },
  {
   "cell_type": "markdown",
   "metadata": {},
   "source": [
    "The implementation of the mathematical formulation underlying neural networks may be complex and time consuming. Luckily, most of the\n",
    "deep-learning APIs like Keras distribute functions that dramatically speed up the process. We can start by defining our simple model through a user-defined function, here called *basic_model*."
   ]
  },
  {
   "cell_type": "code",
   "execution_count": 11,
   "metadata": {
    "slideshow": {
     "slide_type": "subslide"
    }
   },
   "outputs": [],
   "source": [
    "# Computes the shape of the input features \n",
    "M,N_feat = X_train.shape\n",
    "\n",
    "import numpy as np\n",
    "import tensorflow as tf\n",
    "from tensorflow import keras\n",
    "from tensorflow.keras import layers\n",
    "\n",
    "# Definition the basic_model function\n",
    "def basic_model():\n",
    "    \n",
    "    inputs = tf.keras.Input(shape=(5,))\n",
    "\n",
    "    #Definition of the first hidden layer\n",
    "    dense = layers.Dense(5, activation=\"tanh\")\n",
    "    x = dense(inputs)\n",
    "\n",
    "    #Definition of the second hidden layer\n",
    "    x = layers.Dense(5, activation=\"tanh\")(x)\n",
    "    \n",
    "    outputs = layers.Dense(2, activation=\"linear\")(x)\n",
    "\n",
    "    model = keras.Model(inputs=inputs, outputs=outputs, name=\"Basic_model\")\n",
    "\n",
    "    #Definition of the optimizer\n",
    "    opt = keras.optimizers.Adam(learning_rate=0.01)\n",
    "\n",
    "    #Definition of the cost function\n",
    "    cost = keras.losses.MeanSquaredError()\n",
    "\n",
    "    #Model finalization\n",
    "    model.compile(optimizer=opt,loss=cost)\n",
    "\n",
    "    #Model return\n",
    "    return model"
   ]
  },
  {
   "cell_type": "markdown",
   "metadata": {},
   "source": [
    "We can also visualize if the neural network is programmed as expected. To do so,\n",
    "we can use the *summary()* function of Keras."
   ]
  },
  {
   "cell_type": "code",
   "execution_count": 12,
   "metadata": {},
   "outputs": [
    {
     "name": "stdout",
     "output_type": "stream",
     "text": [
      "Model: \"Basic_model\"\n",
      "_________________________________________________________________\n",
      "Layer (type)                 Output Shape              Param #   \n",
      "=================================================================\n",
      "input_1 (InputLayer)         [(None, 5)]               0         \n",
      "_________________________________________________________________\n",
      "dense (Dense)                (None, 5)                 30        \n",
      "_________________________________________________________________\n",
      "dense_1 (Dense)              (None, 5)                 30        \n",
      "_________________________________________________________________\n",
      "dense_2 (Dense)              (None, 2)                 12        \n",
      "=================================================================\n",
      "Total params: 72\n",
      "Trainable params: 72\n",
      "Non-trainable params: 0\n",
      "_________________________________________________________________\n",
      "None\n"
     ]
    }
   ],
   "source": [
    "print(basic_model().summary())"
   ]
  },
  {
   "cell_type": "markdown",
   "metadata": {
    "slideshow": {
     "slide_type": "slide"
    }
   },
   "source": [
    "In the last three lines of the function definition we are coding three relevant aspect of the neural network:\n",
    "<ul>\n",
    "<li>the learning rate (0.01)</li>\n",
    "<li>the cost function (Mean squared error)</li>\n",
    "<li>the optimizer (Adam)</li>\n",
    "</ul>\n",
    "<br> \n",
    "Even if Adam optimizer adapts the learning rate during the training phase, it has an impact on the speed of the algorithm. In fact, it controls the relaxation factor for weight update. Larger values (e.g. 0.3) result in faster initial learning. Smaller values (e.g. 1.0E-5) slow down the weight update during the training phase. </p>\n",
    "The choice of the cost function (also called loss function), depends mainly on the task (regression\\classification). Its role in the neural network is to determine the error that we are making between prediction and true values. <br>\n",
    "As the gradients of losses are computed based on the cost function, it strongly affects the proper convergence of the optimizer. <br>\n",
    "In this case we will use a common expression, the Mean Squared Error (MSE) function, defined as: <br><center>\n",
    "    $\\text{MSE}= \\frac{\\sum_{t=1}^T \\left(\\hat{y}_1-y\\right)^2}{T}$\n",
    "    </center><br>\n",
    "    \n",
    "The optimizer defines how to change weights or learning rates of the neural network to reduce the losses. <br>\n",
    "Adam optimizer is widely used because of fast convergence and adaptive learning rate."
   ]
  },
  {
   "cell_type": "markdown",
   "metadata": {
    "slideshow": {
     "slide_type": "slide"
    }
   },
   "source": [
    "Now everything is set up to start the training of the neural network. <br> \n",
    "To do so, we use the *fit* command. The fit method accepts several arguments that may help or impair the convergence of the model. We want to specify that we want to use X_train and y_train as input/output of the training of the model and that X_test and y_test must be used to evaluate the model. \n",
    "<br>\n",
    "<br>\n",
    "<b> How to choose the number of epochs? </b><br>\n",
    " In this case, we don't want to stop the training of the algorithm too early. In so doing, in fact, we could obtain a suboptimal combination of weight and biases. We want to set the number of trainig epochs to a large number and then code a stopping criterion to interrupt the training when certain conditions are met. This is also called *early stopping*. To do so, we can use a *callback* function already implemented in Keras. In particular, the following command stops the training when the test loss is not improved during five subsequent epochs. "
   ]
  },
  {
   "cell_type": "code",
   "execution_count": 13,
   "metadata": {
    "slideshow": {
     "slide_type": "subslide"
    }
   },
   "outputs": [
    {
     "name": "stdout",
     "output_type": "stream",
     "text": [
      "Epoch 1/2000\n",
      "WARNING:tensorflow:Callbacks method `on_test_batch_end` is slow compared to the batch time (batch time: 0.0000s vs `on_test_batch_end` time: 0.0010s). Check your callbacks.\n",
      "50/50 - 0s - loss: 0.0333 - val_loss: 0.0149\n",
      "Epoch 2/2000\n",
      "50/50 - 0s - loss: 0.0124 - val_loss: 0.0117\n",
      "Epoch 3/2000\n",
      "50/50 - 0s - loss: 0.0109 - val_loss: 0.0109\n",
      "Epoch 4/2000\n",
      "50/50 - 0s - loss: 0.0103 - val_loss: 0.0103\n",
      "Epoch 5/2000\n",
      "50/50 - 0s - loss: 0.0093 - val_loss: 0.0098\n",
      "Epoch 6/2000\n",
      "50/50 - 0s - loss: 0.0085 - val_loss: 0.0085\n",
      "Epoch 7/2000\n",
      "50/50 - 0s - loss: 0.0077 - val_loss: 0.0074\n",
      "Epoch 8/2000\n",
      "50/50 - 0s - loss: 0.0070 - val_loss: 0.0082\n",
      "Epoch 9/2000\n",
      "50/50 - 0s - loss: 0.0063 - val_loss: 0.0065\n",
      "Epoch 10/2000\n",
      "50/50 - 0s - loss: 0.0058 - val_loss: 0.0059\n",
      "Epoch 11/2000\n",
      "50/50 - 0s - loss: 0.0062 - val_loss: 0.0057\n",
      "Epoch 12/2000\n",
      "50/50 - 0s - loss: 0.0060 - val_loss: 0.0054\n",
      "Epoch 13/2000\n",
      "50/50 - 0s - loss: 0.0053 - val_loss: 0.0067\n",
      "Epoch 14/2000\n",
      "50/50 - 0s - loss: 0.0055 - val_loss: 0.0051\n",
      "Epoch 15/2000\n",
      "50/50 - 0s - loss: 0.0053 - val_loss: 0.0050\n",
      "Epoch 16/2000\n",
      "50/50 - 0s - loss: 0.0053 - val_loss: 0.0049\n",
      "Epoch 17/2000\n",
      "50/50 - 0s - loss: 0.0050 - val_loss: 0.0053\n",
      "Epoch 18/2000\n",
      "50/50 - 0s - loss: 0.0050 - val_loss: 0.0052\n",
      "Epoch 19/2000\n",
      "50/50 - 0s - loss: 0.0050 - val_loss: 0.0048\n",
      "Epoch 20/2000\n",
      "50/50 - 0s - loss: 0.0048 - val_loss: 0.0048\n",
      "Epoch 21/2000\n",
      "50/50 - 0s - loss: 0.0049 - val_loss: 0.0054\n",
      "Epoch 22/2000\n",
      "50/50 - 0s - loss: 0.0048 - val_loss: 0.0048\n",
      "Epoch 23/2000\n",
      "50/50 - 0s - loss: 0.0048 - val_loss: 0.0048\n",
      "Epoch 24/2000\n",
      "50/50 - 0s - loss: 0.0049 - val_loss: 0.0046\n",
      "Epoch 25/2000\n",
      "50/50 - 0s - loss: 0.0057 - val_loss: 0.0088\n",
      "Epoch 26/2000\n",
      "50/50 - 0s - loss: 0.0051 - val_loss: 0.0052\n",
      "Epoch 27/2000\n",
      "50/50 - 0s - loss: 0.0048 - val_loss: 0.0046\n",
      "Epoch 28/2000\n",
      "50/50 - 0s - loss: 0.0047 - val_loss: 0.0046\n",
      "Epoch 29/2000\n",
      "50/50 - 0s - loss: 0.0047 - val_loss: 0.0049\n",
      "Epoch 30/2000\n",
      "50/50 - 0s - loss: 0.0048 - val_loss: 0.0049\n",
      "Epoch 31/2000\n",
      "50/50 - 0s - loss: 0.0050 - val_loss: 0.0048\n",
      "Epoch 32/2000\n",
      "50/50 - 0s - loss: 0.0052 - val_loss: 0.0045\n",
      "Epoch 33/2000\n",
      "50/50 - 0s - loss: 0.0047 - val_loss: 0.0050\n",
      "Epoch 34/2000\n",
      "50/50 - 0s - loss: 0.0050 - val_loss: 0.0049\n",
      "Epoch 35/2000\n",
      "50/50 - 0s - loss: 0.0048 - val_loss: 0.0048\n",
      "Epoch 36/2000\n",
      "50/50 - 0s - loss: 0.0048 - val_loss: 0.0046\n",
      "Epoch 37/2000\n",
      "50/50 - 0s - loss: 0.0048 - val_loss: 0.0051\n",
      "Epoch 38/2000\n",
      "50/50 - 0s - loss: 0.0050 - val_loss: 0.0048\n",
      "Epoch 39/2000\n",
      "50/50 - 0s - loss: 0.0050 - val_loss: 0.0045\n",
      "Epoch 40/2000\n",
      "50/50 - 0s - loss: 0.0046 - val_loss: 0.0048\n",
      "Epoch 41/2000\n",
      "50/50 - 0s - loss: 0.0050 - val_loss: 0.0060\n",
      "Epoch 42/2000\n",
      "50/50 - 0s - loss: 0.0049 - val_loss: 0.0053\n",
      "Epoch 43/2000\n",
      "50/50 - 0s - loss: 0.0051 - val_loss: 0.0050\n",
      "Epoch 44/2000\n",
      "50/50 - 0s - loss: 0.0048 - val_loss: 0.0048\n",
      "Epoch 45/2000\n",
      "50/50 - 0s - loss: 0.0047 - val_loss: 0.0053\n",
      "Epoch 46/2000\n",
      "50/50 - 0s - loss: 0.0046 - val_loss: 0.0051\n",
      "Epoch 47/2000\n",
      "50/50 - 0s - loss: 0.0049 - val_loss: 0.0049\n",
      "Epoch 48/2000\n",
      "50/50 - 0s - loss: 0.0049 - val_loss: 0.0046\n",
      "Epoch 49/2000\n",
      "50/50 - 0s - loss: 0.0045 - val_loss: 0.0055\n",
      "Epoch 50/2000\n",
      "50/50 - 0s - loss: 0.0047 - val_loss: 0.0046\n",
      "Epoch 51/2000\n",
      "50/50 - 0s - loss: 0.0047 - val_loss: 0.0046\n",
      "Epoch 52/2000\n",
      "50/50 - 0s - loss: 0.0046 - val_loss: 0.0046\n",
      "Epoch 53/2000\n",
      "50/50 - 0s - loss: 0.0047 - val_loss: 0.0046\n",
      "Epoch 54/2000\n",
      "50/50 - 0s - loss: 0.0048 - val_loss: 0.0054\n",
      "Epoch 55/2000\n",
      "50/50 - 0s - loss: 0.0049 - val_loss: 0.0046\n",
      "Epoch 56/2000\n",
      "50/50 - 0s - loss: 0.0048 - val_loss: 0.0053\n",
      "Epoch 57/2000\n",
      "50/50 - 0s - loss: 0.0049 - val_loss: 0.0053\n",
      "Epoch 58/2000\n",
      "50/50 - 0s - loss: 0.0052 - val_loss: 0.0051\n",
      "Epoch 59/2000\n",
      "50/50 - 0s - loss: 0.0049 - val_loss: 0.0048\n",
      "Epoch 60/2000\n",
      "50/50 - 0s - loss: 0.0046 - val_loss: 0.0055\n",
      "Epoch 61/2000\n",
      "50/50 - 0s - loss: 0.0047 - val_loss: 0.0046\n",
      "Epoch 62/2000\n",
      "50/50 - 0s - loss: 0.0046 - val_loss: 0.0053\n",
      "Epoch 63/2000\n",
      "50/50 - 0s - loss: 0.0046 - val_loss: 0.0046\n",
      "Epoch 64/2000\n",
      "50/50 - 0s - loss: 0.0045 - val_loss: 0.0046\n",
      "Epoch 65/2000\n",
      "50/50 - 0s - loss: 0.0045 - val_loss: 0.0049\n",
      "Epoch 66/2000\n",
      "50/50 - 0s - loss: 0.0046 - val_loss: 0.0047\n",
      "Epoch 67/2000\n",
      "50/50 - 0s - loss: 0.0046 - val_loss: 0.0053\n",
      "Epoch 68/2000\n",
      "50/50 - 0s - loss: 0.0049 - val_loss: 0.0047\n",
      "Epoch 69/2000\n",
      "50/50 - 0s - loss: 0.0046 - val_loss: 0.0054\n",
      "Epoch 70/2000\n",
      "50/50 - 0s - loss: 0.0048 - val_loss: 0.0044\n",
      "Epoch 71/2000\n",
      "50/50 - 0s - loss: 0.0045 - val_loss: 0.0046\n",
      "Epoch 72/2000\n",
      "50/50 - 0s - loss: 0.0044 - val_loss: 0.0046\n",
      "Epoch 73/2000\n",
      "50/50 - 0s - loss: 0.0047 - val_loss: 0.0045\n",
      "Epoch 74/2000\n",
      "50/50 - 0s - loss: 0.0045 - val_loss: 0.0046\n",
      "Epoch 75/2000\n",
      "50/50 - 0s - loss: 0.0044 - val_loss: 0.0043\n",
      "Epoch 76/2000\n",
      "50/50 - 0s - loss: 0.0045 - val_loss: 0.0043\n",
      "Epoch 77/2000\n",
      "50/50 - 0s - loss: 0.0046 - val_loss: 0.0051\n",
      "Epoch 78/2000\n",
      "50/50 - 0s - loss: 0.0047 - val_loss: 0.0066\n",
      "Epoch 79/2000\n",
      "50/50 - 0s - loss: 0.0049 - val_loss: 0.0045\n",
      "Epoch 80/2000\n",
      "50/50 - 0s - loss: 0.0044 - val_loss: 0.0049\n",
      "Epoch 81/2000\n",
      "50/50 - 0s - loss: 0.0044 - val_loss: 0.0042\n",
      "Epoch 82/2000\n",
      "50/50 - 0s - loss: 0.0044 - val_loss: 0.0047\n",
      "Epoch 83/2000\n",
      "50/50 - 0s - loss: 0.0046 - val_loss: 0.0046\n",
      "Epoch 84/2000\n",
      "50/50 - 0s - loss: 0.0042 - val_loss: 0.0042\n",
      "Epoch 85/2000\n",
      "50/50 - 0s - loss: 0.0043 - val_loss: 0.0042\n",
      "Epoch 86/2000\n",
      "50/50 - 0s - loss: 0.0043 - val_loss: 0.0042\n",
      "Epoch 87/2000\n",
      "50/50 - 0s - loss: 0.0044 - val_loss: 0.0042\n",
      "Epoch 88/2000\n",
      "50/50 - 0s - loss: 0.0042 - val_loss: 0.0049\n",
      "Epoch 89/2000\n",
      "50/50 - 0s - loss: 0.0043 - val_loss: 0.0045\n",
      "Epoch 90/2000\n",
      "50/50 - 0s - loss: 0.0044 - val_loss: 0.0043\n",
      "Epoch 91/2000\n",
      "50/50 - 0s - loss: 0.0044 - val_loss: 0.0048\n",
      "Epoch 92/2000\n",
      "50/50 - 0s - loss: 0.0046 - val_loss: 0.0049\n",
      "Epoch 93/2000\n",
      "50/50 - 0s - loss: 0.0044 - val_loss: 0.0043\n",
      "Epoch 94/2000\n",
      "50/50 - 0s - loss: 0.0046 - val_loss: 0.0049\n",
      "Epoch 95/2000\n",
      "50/50 - 0s - loss: 0.0041 - val_loss: 0.0042\n",
      "Epoch 96/2000\n",
      "50/50 - 0s - loss: 0.0048 - val_loss: 0.0050\n",
      "Epoch 97/2000\n",
      "50/50 - 0s - loss: 0.0044 - val_loss: 0.0041\n",
      "Epoch 98/2000\n",
      "50/50 - 0s - loss: 0.0042 - val_loss: 0.0041\n",
      "Epoch 99/2000\n",
      "50/50 - 0s - loss: 0.0043 - val_loss: 0.0049\n",
      "Epoch 100/2000\n",
      "50/50 - 0s - loss: 0.0044 - val_loss: 0.0044\n",
      "Epoch 101/2000\n",
      "50/50 - 0s - loss: 0.0043 - val_loss: 0.0040\n",
      "Epoch 102/2000\n",
      "50/50 - 0s - loss: 0.0041 - val_loss: 0.0050\n",
      "Epoch 103/2000\n",
      "50/50 - 0s - loss: 0.0043 - val_loss: 0.0042\n",
      "Epoch 104/2000\n",
      "50/50 - 0s - loss: 0.0041 - val_loss: 0.0039\n",
      "Epoch 105/2000\n",
      "50/50 - 0s - loss: 0.0041 - val_loss: 0.0042\n",
      "Epoch 106/2000\n",
      "50/50 - 0s - loss: 0.0045 - val_loss: 0.0051\n",
      "Epoch 107/2000\n",
      "50/50 - 0s - loss: 0.0045 - val_loss: 0.0044\n",
      "Epoch 108/2000\n",
      "50/50 - 0s - loss: 0.0041 - val_loss: 0.0047\n",
      "Epoch 109/2000\n",
      "50/50 - 0s - loss: 0.0041 - val_loss: 0.0041\n",
      "Epoch 110/2000\n",
      "50/50 - 0s - loss: 0.0044 - val_loss: 0.0041\n",
      "Epoch 111/2000\n",
      "50/50 - 0s - loss: 0.0042 - val_loss: 0.0042\n",
      "Epoch 112/2000\n",
      "50/50 - 0s - loss: 0.0040 - val_loss: 0.0039\n",
      "Epoch 113/2000\n",
      "50/50 - 0s - loss: 0.0041 - val_loss: 0.0041\n",
      "Epoch 114/2000\n",
      "50/50 - 0s - loss: 0.0041 - val_loss: 0.0040\n",
      "Epoch 115/2000\n",
      "50/50 - 0s - loss: 0.0042 - val_loss: 0.0039\n",
      "Epoch 116/2000\n",
      "50/50 - 0s - loss: 0.0043 - val_loss: 0.0048\n",
      "Epoch 117/2000\n",
      "50/50 - 0s - loss: 0.0042 - val_loss: 0.0041\n",
      "Epoch 118/2000\n",
      "50/50 - 0s - loss: 0.0040 - val_loss: 0.0039\n",
      "Epoch 119/2000\n",
      "50/50 - 0s - loss: 0.0040 - val_loss: 0.0038\n",
      "Epoch 120/2000\n",
      "50/50 - 0s - loss: 0.0041 - val_loss: 0.0038\n",
      "Epoch 121/2000\n",
      "50/50 - 0s - loss: 0.0039 - val_loss: 0.0039\n",
      "Epoch 122/2000\n",
      "50/50 - 0s - loss: 0.0039 - val_loss: 0.0042\n",
      "Epoch 123/2000\n",
      "50/50 - 0s - loss: 0.0041 - val_loss: 0.0039\n",
      "Epoch 124/2000\n",
      "50/50 - 0s - loss: 0.0043 - val_loss: 0.0042\n",
      "Epoch 125/2000\n",
      "50/50 - 0s - loss: 0.0040 - val_loss: 0.0039\n",
      "Epoch 126/2000\n",
      "50/50 - 0s - loss: 0.0040 - val_loss: 0.0039\n",
      "Epoch 127/2000\n",
      "50/50 - 0s - loss: 0.0043 - val_loss: 0.0038\n",
      "Epoch 128/2000\n",
      "50/50 - 0s - loss: 0.0039 - val_loss: 0.0041\n",
      "Epoch 129/2000\n",
      "50/50 - 0s - loss: 0.0039 - val_loss: 0.0038\n",
      "Epoch 130/2000\n",
      "50/50 - 0s - loss: 0.0039 - val_loss: 0.0040\n",
      "Epoch 131/2000\n",
      "50/50 - 0s - loss: 0.0041 - val_loss: 0.0037\n",
      "Epoch 132/2000\n",
      "50/50 - 0s - loss: 0.0041 - val_loss: 0.0038\n",
      "Epoch 133/2000\n",
      "50/50 - 0s - loss: 0.0040 - val_loss: 0.0049\n",
      "Epoch 134/2000\n",
      "50/50 - 0s - loss: 0.0041 - val_loss: 0.0037\n",
      "Epoch 135/2000\n",
      "50/50 - 0s - loss: 0.0038 - val_loss: 0.0044\n",
      "Epoch 136/2000\n",
      "50/50 - 0s - loss: 0.0041 - val_loss: 0.0037\n"
     ]
    },
    {
     "name": "stdout",
     "output_type": "stream",
     "text": [
      "Epoch 137/2000\n",
      "50/50 - 0s - loss: 0.0040 - val_loss: 0.0037\n",
      "Epoch 138/2000\n",
      "50/50 - 0s - loss: 0.0038 - val_loss: 0.0038\n",
      "Epoch 139/2000\n",
      "50/50 - 0s - loss: 0.0039 - val_loss: 0.0037\n",
      "Epoch 140/2000\n",
      "50/50 - 0s - loss: 0.0038 - val_loss: 0.0043\n",
      "Epoch 141/2000\n",
      "50/50 - 0s - loss: 0.0039 - val_loss: 0.0044\n",
      "Epoch 142/2000\n",
      "50/50 - 0s - loss: 0.0039 - val_loss: 0.0037\n",
      "Epoch 143/2000\n",
      "50/50 - 0s - loss: 0.0040 - val_loss: 0.0038\n",
      "Epoch 144/2000\n",
      "50/50 - 0s - loss: 0.0037 - val_loss: 0.0038\n",
      "Epoch 145/2000\n",
      "50/50 - 0s - loss: 0.0039 - val_loss: 0.0039\n",
      "Epoch 146/2000\n",
      "50/50 - 0s - loss: 0.0039 - val_loss: 0.0046\n",
      "Epoch 147/2000\n",
      "50/50 - 0s - loss: 0.0037 - val_loss: 0.0041\n",
      "Epoch 148/2000\n",
      "50/50 - 0s - loss: 0.0040 - val_loss: 0.0049\n",
      "Epoch 149/2000\n",
      "50/50 - 0s - loss: 0.0038 - val_loss: 0.0037\n",
      "Epoch 150/2000\n",
      "50/50 - 0s - loss: 0.0039 - val_loss: 0.0040\n",
      "Epoch 151/2000\n",
      "50/50 - 0s - loss: 0.0039 - val_loss: 0.0036\n",
      "Epoch 152/2000\n",
      "50/50 - 0s - loss: 0.0040 - val_loss: 0.0036\n",
      "Epoch 153/2000\n",
      "50/50 - 0s - loss: 0.0037 - val_loss: 0.0041\n",
      "Epoch 154/2000\n",
      "50/50 - 0s - loss: 0.0041 - val_loss: 0.0039\n",
      "Epoch 155/2000\n",
      "50/50 - 0s - loss: 0.0040 - val_loss: 0.0036\n",
      "Epoch 156/2000\n",
      "50/50 - 0s - loss: 0.0036 - val_loss: 0.0036\n",
      "Epoch 157/2000\n",
      "50/50 - 0s - loss: 0.0040 - val_loss: 0.0037\n",
      "Epoch 158/2000\n",
      "50/50 - 0s - loss: 0.0038 - val_loss: 0.0039\n",
      "Epoch 159/2000\n",
      "50/50 - 0s - loss: 0.0038 - val_loss: 0.0038\n",
      "Epoch 160/2000\n",
      "50/50 - 0s - loss: 0.0038 - val_loss: 0.0038\n",
      "Epoch 161/2000\n",
      "50/50 - 0s - loss: 0.0041 - val_loss: 0.0036\n",
      "Epoch 162/2000\n",
      "50/50 - 0s - loss: 0.0039 - val_loss: 0.0046\n",
      "Epoch 163/2000\n",
      "50/50 - 0s - loss: 0.0038 - val_loss: 0.0052\n",
      "Epoch 164/2000\n",
      "50/50 - 0s - loss: 0.0038 - val_loss: 0.0046\n",
      "Epoch 165/2000\n",
      "50/50 - 0s - loss: 0.0037 - val_loss: 0.0036\n",
      "Epoch 166/2000\n",
      "50/50 - 0s - loss: 0.0038 - val_loss: 0.0050\n",
      "Epoch 167/2000\n",
      "50/50 - 0s - loss: 0.0037 - val_loss: 0.0036\n",
      "Epoch 168/2000\n",
      "50/50 - 0s - loss: 0.0039 - val_loss: 0.0035\n",
      "Epoch 169/2000\n",
      "50/50 - 0s - loss: 0.0037 - val_loss: 0.0040\n",
      "Epoch 170/2000\n",
      "50/50 - 0s - loss: 0.0041 - val_loss: 0.0038\n",
      "Epoch 171/2000\n",
      "50/50 - 0s - loss: 0.0038 - val_loss: 0.0036\n",
      "Epoch 172/2000\n",
      "50/50 - 0s - loss: 0.0037 - val_loss: 0.0038\n",
      "Epoch 173/2000\n",
      "50/50 - 0s - loss: 0.0037 - val_loss: 0.0036\n",
      "Epoch 174/2000\n",
      "50/50 - 0s - loss: 0.0037 - val_loss: 0.0035\n",
      "Epoch 175/2000\n",
      "50/50 - 0s - loss: 0.0036 - val_loss: 0.0035\n",
      "Epoch 176/2000\n",
      "50/50 - 0s - loss: 0.0036 - val_loss: 0.0035\n",
      "Epoch 177/2000\n",
      "50/50 - 0s - loss: 0.0036 - val_loss: 0.0037\n",
      "Epoch 178/2000\n",
      "50/50 - 0s - loss: 0.0036 - val_loss: 0.0035\n",
      "Epoch 179/2000\n",
      "50/50 - 0s - loss: 0.0036 - val_loss: 0.0034\n",
      "Epoch 180/2000\n",
      "50/50 - 0s - loss: 0.0037 - val_loss: 0.0037\n",
      "Epoch 181/2000\n",
      "50/50 - 0s - loss: 0.0038 - val_loss: 0.0034\n",
      "Epoch 182/2000\n",
      "50/50 - 0s - loss: 0.0037 - val_loss: 0.0037\n",
      "Epoch 183/2000\n",
      "50/50 - 0s - loss: 0.0036 - val_loss: 0.0038\n",
      "Epoch 184/2000\n",
      "50/50 - 0s - loss: 0.0036 - val_loss: 0.0035\n",
      "Epoch 185/2000\n",
      "50/50 - 0s - loss: 0.0036 - val_loss: 0.0036\n",
      "Epoch 186/2000\n",
      "50/50 - 0s - loss: 0.0036 - val_loss: 0.0035\n",
      "Epoch 187/2000\n",
      "50/50 - 0s - loss: 0.0036 - val_loss: 0.0048\n",
      "Epoch 188/2000\n",
      "50/50 - 0s - loss: 0.0040 - val_loss: 0.0050\n",
      "Epoch 189/2000\n",
      "50/50 - 0s - loss: 0.0039 - val_loss: 0.0040\n",
      "Epoch 190/2000\n",
      "50/50 - 0s - loss: 0.0036 - val_loss: 0.0038\n",
      "Epoch 191/2000\n",
      "50/50 - 0s - loss: 0.0035 - val_loss: 0.0037\n",
      "Epoch 192/2000\n",
      "50/50 - 0s - loss: 0.0038 - val_loss: 0.0036\n",
      "Epoch 193/2000\n",
      "50/50 - 0s - loss: 0.0035 - val_loss: 0.0038\n",
      "Epoch 194/2000\n",
      "50/50 - 0s - loss: 0.0037 - val_loss: 0.0036\n",
      "Epoch 195/2000\n",
      "50/50 - 0s - loss: 0.0036 - val_loss: 0.0033\n",
      "Epoch 196/2000\n",
      "50/50 - 0s - loss: 0.0036 - val_loss: 0.0043\n",
      "Epoch 197/2000\n",
      "50/50 - 0s - loss: 0.0036 - val_loss: 0.0036\n",
      "Epoch 198/2000\n",
      "50/50 - 0s - loss: 0.0035 - val_loss: 0.0037\n",
      "Epoch 199/2000\n",
      "50/50 - 0s - loss: 0.0039 - val_loss: 0.0046\n",
      "Epoch 200/2000\n",
      "50/50 - 0s - loss: 0.0037 - val_loss: 0.0039\n",
      "Epoch 201/2000\n",
      "50/50 - 0s - loss: 0.0036 - val_loss: 0.0037\n",
      "Epoch 202/2000\n",
      "50/50 - 0s - loss: 0.0037 - val_loss: 0.0040\n",
      "Epoch 203/2000\n",
      "50/50 - 0s - loss: 0.0038 - val_loss: 0.0048\n",
      "Epoch 204/2000\n",
      "50/50 - 0s - loss: 0.0036 - val_loss: 0.0036\n",
      "Epoch 205/2000\n",
      "50/50 - 0s - loss: 0.0038 - val_loss: 0.0035\n",
      "Epoch 206/2000\n",
      "50/50 - 0s - loss: 0.0036 - val_loss: 0.0034\n",
      "Epoch 207/2000\n",
      "50/50 - 0s - loss: 0.0038 - val_loss: 0.0036\n",
      "Epoch 208/2000\n",
      "50/50 - 0s - loss: 0.0035 - val_loss: 0.0033\n",
      "Epoch 209/2000\n",
      "50/50 - 0s - loss: 0.0036 - val_loss: 0.0034\n",
      "Epoch 210/2000\n",
      "50/50 - 0s - loss: 0.0035 - val_loss: 0.0033\n",
      "Epoch 211/2000\n",
      "50/50 - 0s - loss: 0.0035 - val_loss: 0.0037\n",
      "Epoch 212/2000\n",
      "50/50 - 0s - loss: 0.0036 - val_loss: 0.0033\n",
      "Epoch 213/2000\n",
      "50/50 - 0s - loss: 0.0036 - val_loss: 0.0035\n",
      "Epoch 214/2000\n",
      "50/50 - 0s - loss: 0.0035 - val_loss: 0.0034\n",
      "Epoch 215/2000\n",
      "50/50 - 0s - loss: 0.0035 - val_loss: 0.0036\n",
      "Epoch 216/2000\n",
      "50/50 - 0s - loss: 0.0035 - val_loss: 0.0034\n",
      "Epoch 217/2000\n",
      "50/50 - 0s - loss: 0.0037 - val_loss: 0.0036\n",
      "Epoch 218/2000\n",
      "50/50 - 0s - loss: 0.0036 - val_loss: 0.0035\n",
      "Epoch 219/2000\n",
      "50/50 - 0s - loss: 0.0035 - val_loss: 0.0033\n",
      "Epoch 220/2000\n",
      "50/50 - 0s - loss: 0.0035 - val_loss: 0.0036\n",
      "Epoch 221/2000\n",
      "50/50 - 0s - loss: 0.0035 - val_loss: 0.0035\n",
      "Epoch 222/2000\n",
      "50/50 - 0s - loss: 0.0034 - val_loss: 0.0037\n",
      "Epoch 223/2000\n",
      "50/50 - 0s - loss: 0.0035 - val_loss: 0.0034\n",
      "Epoch 224/2000\n",
      "50/50 - 0s - loss: 0.0038 - val_loss: 0.0037\n",
      "Epoch 225/2000\n",
      "50/50 - 0s - loss: 0.0036 - val_loss: 0.0041\n",
      "Epoch 226/2000\n",
      "50/50 - 0s - loss: 0.0034 - val_loss: 0.0036\n",
      "Epoch 227/2000\n",
      "50/50 - 0s - loss: 0.0035 - val_loss: 0.0035\n",
      "Epoch 228/2000\n",
      "50/50 - 0s - loss: 0.0035 - val_loss: 0.0042\n",
      "Epoch 229/2000\n",
      "50/50 - 0s - loss: 0.0036 - val_loss: 0.0037\n",
      "Epoch 230/2000\n",
      "50/50 - 0s - loss: 0.0036 - val_loss: 0.0035\n",
      "Epoch 231/2000\n",
      "50/50 - 0s - loss: 0.0037 - val_loss: 0.0040\n",
      "Epoch 232/2000\n",
      "50/50 - 0s - loss: 0.0034 - val_loss: 0.0032\n",
      "Epoch 233/2000\n",
      "50/50 - 0s - loss: 0.0035 - val_loss: 0.0035\n",
      "Epoch 234/2000\n",
      "50/50 - 0s - loss: 0.0038 - val_loss: 0.0040\n",
      "Epoch 235/2000\n",
      "50/50 - 0s - loss: 0.0037 - val_loss: 0.0036\n",
      "Epoch 236/2000\n",
      "50/50 - 0s - loss: 0.0035 - val_loss: 0.0033\n",
      "Epoch 237/2000\n",
      "50/50 - 0s - loss: 0.0033 - val_loss: 0.0034\n",
      "Epoch 238/2000\n",
      "50/50 - 0s - loss: 0.0034 - val_loss: 0.0033\n",
      "Epoch 239/2000\n",
      "50/50 - 0s - loss: 0.0034 - val_loss: 0.0032\n",
      "Epoch 240/2000\n",
      "50/50 - 0s - loss: 0.0034 - val_loss: 0.0034\n",
      "Epoch 241/2000\n",
      "50/50 - 0s - loss: 0.0036 - val_loss: 0.0037\n",
      "Epoch 242/2000\n",
      "50/50 - 0s - loss: 0.0036 - val_loss: 0.0033\n",
      "Epoch 243/2000\n",
      "50/50 - 0s - loss: 0.0034 - val_loss: 0.0034\n",
      "Epoch 244/2000\n",
      "50/50 - 0s - loss: 0.0034 - val_loss: 0.0033\n",
      "Epoch 245/2000\n",
      "50/50 - 0s - loss: 0.0039 - val_loss: 0.0037\n",
      "Epoch 246/2000\n",
      "50/50 - 0s - loss: 0.0034 - val_loss: 0.0036\n",
      "Epoch 247/2000\n",
      "50/50 - 0s - loss: 0.0034 - val_loss: 0.0033\n",
      "Epoch 248/2000\n",
      "50/50 - 0s - loss: 0.0033 - val_loss: 0.0032\n",
      "Epoch 249/2000\n",
      "50/50 - 0s - loss: 0.0034 - val_loss: 0.0033\n",
      "Epoch 250/2000\n",
      "50/50 - 0s - loss: 0.0034 - val_loss: 0.0032\n",
      "Epoch 251/2000\n",
      "50/50 - 0s - loss: 0.0034 - val_loss: 0.0034\n",
      "Epoch 252/2000\n",
      "50/50 - 0s - loss: 0.0034 - val_loss: 0.0035\n",
      "Epoch 253/2000\n",
      "50/50 - 0s - loss: 0.0035 - val_loss: 0.0033\n",
      "Epoch 254/2000\n",
      "50/50 - 0s - loss: 0.0034 - val_loss: 0.0035\n",
      "Epoch 255/2000\n",
      "50/50 - 0s - loss: 0.0035 - val_loss: 0.0033\n",
      "Epoch 256/2000\n",
      "50/50 - 0s - loss: 0.0033 - val_loss: 0.0034\n",
      "Epoch 257/2000\n",
      "50/50 - 0s - loss: 0.0033 - val_loss: 0.0035\n",
      "Epoch 258/2000\n",
      "50/50 - 0s - loss: 0.0034 - val_loss: 0.0034\n",
      "Epoch 259/2000\n",
      "50/50 - 0s - loss: 0.0033 - val_loss: 0.0032\n",
      "Epoch 260/2000\n",
      "50/50 - 0s - loss: 0.0034 - val_loss: 0.0032\n",
      "Epoch 261/2000\n",
      "50/50 - 0s - loss: 0.0033 - val_loss: 0.0036\n",
      "Epoch 262/2000\n",
      "50/50 - 0s - loss: 0.0038 - val_loss: 0.0034\n",
      "Epoch 263/2000\n",
      "50/50 - 0s - loss: 0.0034 - val_loss: 0.0034\n",
      "Epoch 264/2000\n",
      "50/50 - 0s - loss: 0.0033 - val_loss: 0.0035\n",
      "Epoch 265/2000\n",
      "50/50 - 0s - loss: 0.0032 - val_loss: 0.0034\n",
      "Epoch 266/2000\n",
      "50/50 - 0s - loss: 0.0033 - val_loss: 0.0034\n",
      "Epoch 267/2000\n",
      "50/50 - 0s - loss: 0.0033 - val_loss: 0.0040\n",
      "Epoch 268/2000\n",
      "50/50 - 0s - loss: 0.0033 - val_loss: 0.0035\n",
      "Epoch 269/2000\n",
      "50/50 - 0s - loss: 0.0034 - val_loss: 0.0034\n",
      "Epoch 270/2000\n",
      "50/50 - 0s - loss: 0.0035 - val_loss: 0.0033\n",
      "Epoch 271/2000\n",
      "50/50 - 0s - loss: 0.0034 - val_loss: 0.0033\n",
      "Epoch 272/2000\n",
      "50/50 - 0s - loss: 0.0032 - val_loss: 0.0038\n",
      "Epoch 273/2000\n",
      "50/50 - 0s - loss: 0.0034 - val_loss: 0.0031\n"
     ]
    },
    {
     "name": "stdout",
     "output_type": "stream",
     "text": [
      "Epoch 274/2000\n",
      "50/50 - 0s - loss: 0.0032 - val_loss: 0.0033\n",
      "Epoch 275/2000\n",
      "50/50 - 0s - loss: 0.0033 - val_loss: 0.0033\n",
      "Epoch 276/2000\n",
      "50/50 - 0s - loss: 0.0033 - val_loss: 0.0033\n",
      "Epoch 277/2000\n",
      "50/50 - 0s - loss: 0.0033 - val_loss: 0.0035\n",
      "Epoch 278/2000\n",
      "50/50 - 0s - loss: 0.0033 - val_loss: 0.0037\n",
      "Epoch 279/2000\n",
      "50/50 - 0s - loss: 0.0035 - val_loss: 0.0035\n",
      "Epoch 280/2000\n",
      "50/50 - 0s - loss: 0.0034 - val_loss: 0.0033\n",
      "Epoch 281/2000\n",
      "50/50 - 0s - loss: 0.0032 - val_loss: 0.0034\n",
      "Epoch 282/2000\n",
      "50/50 - 0s - loss: 0.0034 - val_loss: 0.0034\n",
      "Epoch 283/2000\n",
      "50/50 - 0s - loss: 0.0033 - val_loss: 0.0034\n",
      "Epoch 284/2000\n",
      "50/50 - 0s - loss: 0.0034 - val_loss: 0.0042\n",
      "Epoch 285/2000\n",
      "50/50 - 0s - loss: 0.0034 - val_loss: 0.0037\n",
      "Epoch 286/2000\n",
      "50/50 - 0s - loss: 0.0035 - val_loss: 0.0034\n",
      "Epoch 287/2000\n",
      "50/50 - 0s - loss: 0.0034 - val_loss: 0.0040\n",
      "Epoch 288/2000\n",
      "50/50 - 0s - loss: 0.0033 - val_loss: 0.0034\n",
      "Epoch 289/2000\n",
      "50/50 - 0s - loss: 0.0033 - val_loss: 0.0034\n",
      "Epoch 290/2000\n",
      "50/50 - 0s - loss: 0.0032 - val_loss: 0.0032\n",
      "Epoch 291/2000\n",
      "50/50 - 0s - loss: 0.0032 - val_loss: 0.0033\n",
      "Epoch 292/2000\n",
      "50/50 - 0s - loss: 0.0032 - val_loss: 0.0039\n",
      "Epoch 293/2000\n",
      "50/50 - 0s - loss: 0.0035 - val_loss: 0.0041\n",
      "Epoch 294/2000\n",
      "50/50 - 0s - loss: 0.0035 - val_loss: 0.0033\n",
      "Epoch 295/2000\n",
      "50/50 - 0s - loss: 0.0035 - val_loss: 0.0036\n",
      "Epoch 296/2000\n",
      "50/50 - 0s - loss: 0.0035 - val_loss: 0.0036\n",
      "Epoch 297/2000\n",
      "50/50 - 0s - loss: 0.0032 - val_loss: 0.0035\n",
      "Epoch 298/2000\n",
      "50/50 - 0s - loss: 0.0032 - val_loss: 0.0036\n",
      "Epoch 299/2000\n",
      "50/50 - 0s - loss: 0.0035 - val_loss: 0.0044\n",
      "Epoch 300/2000\n",
      "50/50 - 0s - loss: 0.0035 - val_loss: 0.0031\n",
      "Epoch 301/2000\n",
      "50/50 - 0s - loss: 0.0032 - val_loss: 0.0032\n",
      "Epoch 302/2000\n",
      "50/50 - 0s - loss: 0.0034 - val_loss: 0.0033\n",
      "Epoch 303/2000\n",
      "50/50 - 0s - loss: 0.0031 - val_loss: 0.0032\n",
      "Epoch 304/2000\n",
      "50/50 - 0s - loss: 0.0036 - val_loss: 0.0049\n",
      "Epoch 305/2000\n",
      "50/50 - 0s - loss: 0.0033 - val_loss: 0.0034\n",
      "Epoch 306/2000\n",
      "50/50 - 0s - loss: 0.0033 - val_loss: 0.0032\n",
      "Epoch 307/2000\n",
      "50/50 - 0s - loss: 0.0032 - val_loss: 0.0031\n",
      "Epoch 308/2000\n",
      "50/50 - 0s - loss: 0.0032 - val_loss: 0.0032\n",
      "Epoch 309/2000\n",
      "50/50 - 0s - loss: 0.0031 - val_loss: 0.0034\n",
      "Epoch 310/2000\n",
      "50/50 - 0s - loss: 0.0032 - val_loss: 0.0032\n",
      "Epoch 311/2000\n",
      "50/50 - 0s - loss: 0.0032 - val_loss: 0.0032\n",
      "Epoch 312/2000\n",
      "50/50 - 0s - loss: 0.0032 - val_loss: 0.0031\n",
      "Epoch 313/2000\n",
      "50/50 - 0s - loss: 0.0033 - val_loss: 0.0032\n",
      "Epoch 314/2000\n",
      "50/50 - 0s - loss: 0.0032 - val_loss: 0.0038\n",
      "Epoch 315/2000\n",
      "50/50 - 0s - loss: 0.0033 - val_loss: 0.0036\n",
      "Epoch 316/2000\n",
      "50/50 - 0s - loss: 0.0032 - val_loss: 0.0031\n",
      "Epoch 317/2000\n",
      "50/50 - 0s - loss: 0.0032 - val_loss: 0.0033\n",
      "Epoch 318/2000\n",
      "50/50 - 0s - loss: 0.0031 - val_loss: 0.0035\n",
      "Epoch 319/2000\n",
      "50/50 - 0s - loss: 0.0031 - val_loss: 0.0033\n",
      "Epoch 320/2000\n",
      "50/50 - 0s - loss: 0.0032 - val_loss: 0.0038\n",
      "Epoch 321/2000\n",
      "50/50 - 0s - loss: 0.0034 - val_loss: 0.0032\n",
      "Epoch 322/2000\n",
      "50/50 - 0s - loss: 0.0033 - val_loss: 0.0033\n",
      "Epoch 323/2000\n",
      "50/50 - 0s - loss: 0.0031 - val_loss: 0.0032\n",
      "Epoch 324/2000\n",
      "50/50 - 0s - loss: 0.0032 - val_loss: 0.0032\n",
      "Epoch 325/2000\n",
      "50/50 - 0s - loss: 0.0032 - val_loss: 0.0038\n",
      "Epoch 326/2000\n",
      "50/50 - 0s - loss: 0.0032 - val_loss: 0.0038\n",
      "Epoch 327/2000\n",
      "50/50 - 0s - loss: 0.0032 - val_loss: 0.0031\n",
      "Epoch 328/2000\n",
      "50/50 - 0s - loss: 0.0032 - val_loss: 0.0032\n",
      "Epoch 329/2000\n",
      "50/50 - 0s - loss: 0.0033 - val_loss: 0.0043\n",
      "Epoch 330/2000\n",
      "50/50 - 0s - loss: 0.0033 - val_loss: 0.0032\n",
      "Epoch 331/2000\n",
      "50/50 - 0s - loss: 0.0035 - val_loss: 0.0033\n",
      "Epoch 332/2000\n",
      "50/50 - 0s - loss: 0.0031 - val_loss: 0.0038\n",
      "Epoch 333/2000\n",
      "50/50 - 0s - loss: 0.0033 - val_loss: 0.0034\n",
      "Epoch 334/2000\n",
      "50/50 - 0s - loss: 0.0034 - val_loss: 0.0035\n",
      "Epoch 335/2000\n",
      "50/50 - 0s - loss: 0.0033 - val_loss: 0.0032\n",
      "Epoch 336/2000\n",
      "50/50 - 0s - loss: 0.0032 - val_loss: 0.0031\n",
      "Epoch 337/2000\n",
      "50/50 - 0s - loss: 0.0032 - val_loss: 0.0037\n",
      "Epoch 338/2000\n",
      "50/50 - 0s - loss: 0.0032 - val_loss: 0.0033\n",
      "Epoch 339/2000\n",
      "50/50 - 0s - loss: 0.0034 - val_loss: 0.0033\n",
      "Epoch 340/2000\n",
      "50/50 - 0s - loss: 0.0031 - val_loss: 0.0033\n",
      "Epoch 341/2000\n",
      "50/50 - 0s - loss: 0.0031 - val_loss: 0.0032\n",
      "Epoch 342/2000\n",
      "50/50 - 0s - loss: 0.0032 - val_loss: 0.0032\n",
      "Epoch 343/2000\n",
      "50/50 - 0s - loss: 0.0033 - val_loss: 0.0035\n",
      "Epoch 344/2000\n",
      "50/50 - 0s - loss: 0.0033 - val_loss: 0.0032\n",
      "Epoch 345/2000\n",
      "50/50 - 0s - loss: 0.0032 - val_loss: 0.0034\n",
      "Epoch 346/2000\n",
      "50/50 - 0s - loss: 0.0033 - val_loss: 0.0031\n",
      "Epoch 347/2000\n",
      "50/50 - 0s - loss: 0.0034 - val_loss: 0.0037\n",
      "Epoch 348/2000\n",
      "50/50 - 0s - loss: 0.0032 - val_loss: 0.0032\n",
      "Epoch 349/2000\n",
      "50/50 - 0s - loss: 0.0033 - val_loss: 0.0035\n",
      "Epoch 350/2000\n",
      "50/50 - 0s - loss: 0.0032 - val_loss: 0.0035\n",
      "Epoch 351/2000\n",
      "50/50 - 0s - loss: 0.0032 - val_loss: 0.0037\n",
      "Epoch 352/2000\n",
      "50/50 - 0s - loss: 0.0032 - val_loss: 0.0031\n",
      "Epoch 353/2000\n",
      "50/50 - 0s - loss: 0.0033 - val_loss: 0.0033\n",
      "Epoch 354/2000\n",
      "50/50 - 0s - loss: 0.0030 - val_loss: 0.0032\n",
      "Epoch 355/2000\n",
      "50/50 - 0s - loss: 0.0030 - val_loss: 0.0033\n",
      "Epoch 356/2000\n",
      "50/50 - 0s - loss: 0.0032 - val_loss: 0.0032\n",
      "Epoch 357/2000\n",
      "50/50 - 0s - loss: 0.0032 - val_loss: 0.0031\n",
      "Epoch 358/2000\n",
      "50/50 - 0s - loss: 0.0033 - val_loss: 0.0033\n",
      "Epoch 359/2000\n",
      "50/50 - 0s - loss: 0.0031 - val_loss: 0.0033\n",
      "Epoch 360/2000\n",
      "50/50 - 0s - loss: 0.0032 - val_loss: 0.0037\n",
      "Epoch 361/2000\n",
      "50/50 - 0s - loss: 0.0031 - val_loss: 0.0031\n",
      "Epoch 362/2000\n",
      "50/50 - 0s - loss: 0.0032 - val_loss: 0.0031\n",
      "Epoch 363/2000\n",
      "50/50 - 0s - loss: 0.0031 - val_loss: 0.0031\n",
      "Epoch 364/2000\n",
      "50/50 - 0s - loss: 0.0031 - val_loss: 0.0033\n",
      "Epoch 365/2000\n",
      "50/50 - 0s - loss: 0.0031 - val_loss: 0.0033\n",
      "Epoch 366/2000\n",
      "50/50 - 0s - loss: 0.0032 - val_loss: 0.0031\n",
      "Epoch 367/2000\n",
      "50/50 - 0s - loss: 0.0033 - val_loss: 0.0034\n",
      "Epoch 368/2000\n",
      "50/50 - 0s - loss: 0.0035 - val_loss: 0.0032\n",
      "Epoch 369/2000\n",
      "50/50 - 0s - loss: 0.0031 - val_loss: 0.0032\n",
      "Epoch 370/2000\n",
      "50/50 - 0s - loss: 0.0031 - val_loss: 0.0032\n",
      "Epoch 371/2000\n",
      "50/50 - 0s - loss: 0.0032 - val_loss: 0.0030\n",
      "Epoch 372/2000\n",
      "50/50 - 0s - loss: 0.0032 - val_loss: 0.0036\n",
      "Epoch 373/2000\n",
      "50/50 - 0s - loss: 0.0031 - val_loss: 0.0032\n",
      "Epoch 374/2000\n",
      "50/50 - 0s - loss: 0.0030 - val_loss: 0.0032\n",
      "Epoch 375/2000\n",
      "50/50 - 0s - loss: 0.0031 - val_loss: 0.0030\n",
      "Epoch 376/2000\n",
      "50/50 - 0s - loss: 0.0032 - val_loss: 0.0030\n",
      "Epoch 377/2000\n",
      "50/50 - 0s - loss: 0.0031 - val_loss: 0.0034\n",
      "Epoch 378/2000\n",
      "50/50 - 0s - loss: 0.0031 - val_loss: 0.0031\n",
      "Epoch 379/2000\n",
      "50/50 - 0s - loss: 0.0033 - val_loss: 0.0039\n",
      "Epoch 380/2000\n",
      "50/50 - 0s - loss: 0.0033 - val_loss: 0.0033\n",
      "Epoch 381/2000\n",
      "50/50 - 0s - loss: 0.0031 - val_loss: 0.0036\n",
      "Epoch 382/2000\n",
      "50/50 - 0s - loss: 0.0031 - val_loss: 0.0031\n",
      "Epoch 383/2000\n",
      "50/50 - 0s - loss: 0.0031 - val_loss: 0.0037\n",
      "Epoch 384/2000\n",
      "50/50 - 0s - loss: 0.0032 - val_loss: 0.0032\n",
      "Epoch 385/2000\n",
      "50/50 - 0s - loss: 0.0030 - val_loss: 0.0032\n",
      "Epoch 386/2000\n",
      "50/50 - 0s - loss: 0.0031 - val_loss: 0.0032\n",
      "Epoch 387/2000\n",
      "50/50 - 0s - loss: 0.0031 - val_loss: 0.0035\n",
      "Epoch 388/2000\n",
      "50/50 - 0s - loss: 0.0031 - val_loss: 0.0030\n",
      "Epoch 389/2000\n",
      "50/50 - 0s - loss: 0.0030 - val_loss: 0.0031\n",
      "Epoch 390/2000\n",
      "50/50 - 0s - loss: 0.0032 - val_loss: 0.0030\n",
      "Epoch 391/2000\n",
      "50/50 - 0s - loss: 0.0032 - val_loss: 0.0032\n",
      "Epoch 392/2000\n",
      "50/50 - 0s - loss: 0.0031 - val_loss: 0.0031\n",
      "Epoch 393/2000\n",
      "50/50 - 0s - loss: 0.0031 - val_loss: 0.0033\n",
      "Epoch 394/2000\n",
      "50/50 - 0s - loss: 0.0032 - val_loss: 0.0033\n",
      "Epoch 395/2000\n",
      "50/50 - 0s - loss: 0.0032 - val_loss: 0.0029\n",
      "Epoch 396/2000\n",
      "50/50 - 0s - loss: 0.0031 - val_loss: 0.0033\n",
      "Epoch 397/2000\n",
      "50/50 - 0s - loss: 0.0033 - val_loss: 0.0031\n",
      "Epoch 398/2000\n",
      "50/50 - 0s - loss: 0.0031 - val_loss: 0.0031\n",
      "Epoch 399/2000\n",
      "50/50 - 0s - loss: 0.0032 - val_loss: 0.0039\n",
      "Epoch 400/2000\n",
      "50/50 - 0s - loss: 0.0032 - val_loss: 0.0034\n",
      "Epoch 401/2000\n",
      "50/50 - 0s - loss: 0.0032 - val_loss: 0.0035\n",
      "Epoch 402/2000\n",
      "50/50 - 0s - loss: 0.0031 - val_loss: 0.0031\n",
      "Epoch 403/2000\n",
      "50/50 - 0s - loss: 0.0030 - val_loss: 0.0030\n",
      "Epoch 404/2000\n",
      "50/50 - 0s - loss: 0.0030 - val_loss: 0.0030\n",
      "Epoch 405/2000\n",
      "50/50 - 0s - loss: 0.0029 - val_loss: 0.0030\n",
      "Epoch 406/2000\n",
      "50/50 - 0s - loss: 0.0030 - val_loss: 0.0031\n",
      "Epoch 407/2000\n",
      "50/50 - 0s - loss: 0.0030 - val_loss: 0.0030\n",
      "Epoch 408/2000\n",
      "50/50 - 0s - loss: 0.0030 - val_loss: 0.0032\n",
      "Epoch 409/2000\n",
      "50/50 - 0s - loss: 0.0030 - val_loss: 0.0029\n",
      "Epoch 410/2000\n",
      "50/50 - 0s - loss: 0.0031 - val_loss: 0.0034\n"
     ]
    },
    {
     "name": "stdout",
     "output_type": "stream",
     "text": [
      "Epoch 411/2000\n",
      "50/50 - 0s - loss: 0.0031 - val_loss: 0.0032\n",
      "Epoch 412/2000\n",
      "50/50 - 0s - loss: 0.0030 - val_loss: 0.0029\n",
      "Epoch 413/2000\n",
      "50/50 - 0s - loss: 0.0030 - val_loss: 0.0030\n",
      "Epoch 414/2000\n",
      "50/50 - 0s - loss: 0.0029 - val_loss: 0.0030\n",
      "Epoch 415/2000\n",
      "50/50 - 0s - loss: 0.0032 - val_loss: 0.0032\n",
      "Epoch 416/2000\n",
      "50/50 - 0s - loss: 0.0030 - val_loss: 0.0029\n",
      "Epoch 417/2000\n",
      "50/50 - 0s - loss: 0.0031 - val_loss: 0.0030\n",
      "Epoch 418/2000\n",
      "50/50 - 0s - loss: 0.0029 - val_loss: 0.0029\n",
      "Epoch 419/2000\n",
      "50/50 - 0s - loss: 0.0028 - val_loss: 0.0031\n",
      "Epoch 420/2000\n",
      "50/50 - 0s - loss: 0.0030 - val_loss: 0.0029\n",
      "Epoch 421/2000\n",
      "50/50 - 0s - loss: 0.0029 - val_loss: 0.0030\n",
      "Epoch 422/2000\n",
      "50/50 - 0s - loss: 0.0030 - val_loss: 0.0030\n",
      "Epoch 423/2000\n",
      "50/50 - 0s - loss: 0.0032 - val_loss: 0.0031\n",
      "Epoch 424/2000\n",
      "50/50 - 0s - loss: 0.0030 - val_loss: 0.0034\n",
      "Epoch 425/2000\n",
      "50/50 - 0s - loss: 0.0029 - val_loss: 0.0029\n",
      "Epoch 426/2000\n",
      "50/50 - 0s - loss: 0.0029 - val_loss: 0.0029\n",
      "Epoch 427/2000\n",
      "50/50 - 0s - loss: 0.0030 - val_loss: 0.0032\n",
      "Epoch 428/2000\n",
      "50/50 - 0s - loss: 0.0029 - val_loss: 0.0036\n",
      "Epoch 429/2000\n",
      "50/50 - 0s - loss: 0.0030 - val_loss: 0.0029\n",
      "Epoch 430/2000\n",
      "50/50 - 0s - loss: 0.0030 - val_loss: 0.0030\n",
      "Epoch 431/2000\n",
      "50/50 - 0s - loss: 0.0031 - val_loss: 0.0028\n",
      "Epoch 432/2000\n",
      "50/50 - 0s - loss: 0.0031 - val_loss: 0.0031\n",
      "Epoch 433/2000\n",
      "50/50 - 0s - loss: 0.0031 - val_loss: 0.0029\n",
      "Epoch 434/2000\n",
      "50/50 - 0s - loss: 0.0030 - val_loss: 0.0028\n",
      "Epoch 435/2000\n",
      "50/50 - 0s - loss: 0.0030 - val_loss: 0.0030\n",
      "Epoch 436/2000\n",
      "50/50 - 0s - loss: 0.0030 - val_loss: 0.0031\n",
      "Epoch 437/2000\n",
      "50/50 - 0s - loss: 0.0029 - val_loss: 0.0029\n",
      "Epoch 438/2000\n",
      "50/50 - 0s - loss: 0.0029 - val_loss: 0.0028\n",
      "Epoch 439/2000\n",
      "50/50 - 0s - loss: 0.0029 - val_loss: 0.0028\n",
      "Epoch 440/2000\n",
      "50/50 - 0s - loss: 0.0030 - val_loss: 0.0031\n",
      "Epoch 441/2000\n",
      "50/50 - 0s - loss: 0.0031 - val_loss: 0.0030\n",
      "Epoch 442/2000\n",
      "50/50 - 0s - loss: 0.0032 - val_loss: 0.0030\n",
      "Epoch 443/2000\n",
      "50/50 - 0s - loss: 0.0032 - val_loss: 0.0041\n",
      "Epoch 444/2000\n",
      "50/50 - 0s - loss: 0.0030 - val_loss: 0.0029\n",
      "Epoch 445/2000\n",
      "50/50 - 0s - loss: 0.0029 - val_loss: 0.0032\n",
      "Epoch 446/2000\n",
      "50/50 - 0s - loss: 0.0029 - val_loss: 0.0030\n",
      "Epoch 447/2000\n",
      "50/50 - 0s - loss: 0.0030 - val_loss: 0.0029\n",
      "Epoch 448/2000\n",
      "50/50 - 0s - loss: 0.0028 - val_loss: 0.0027\n",
      "Epoch 449/2000\n",
      "50/50 - 0s - loss: 0.0029 - val_loss: 0.0028\n",
      "Epoch 450/2000\n",
      "50/50 - 0s - loss: 0.0029 - val_loss: 0.0034\n",
      "Epoch 451/2000\n",
      "50/50 - 0s - loss: 0.0029 - val_loss: 0.0029\n",
      "Epoch 452/2000\n",
      "50/50 - 0s - loss: 0.0029 - val_loss: 0.0028\n",
      "Epoch 453/2000\n",
      "50/50 - 0s - loss: 0.0030 - val_loss: 0.0039\n",
      "Epoch 454/2000\n",
      "50/50 - 0s - loss: 0.0032 - val_loss: 0.0030\n",
      "Epoch 455/2000\n",
      "50/50 - 0s - loss: 0.0031 - val_loss: 0.0027\n",
      "Epoch 456/2000\n",
      "50/50 - 0s - loss: 0.0030 - val_loss: 0.0028\n",
      "Epoch 457/2000\n",
      "50/50 - 0s - loss: 0.0030 - val_loss: 0.0032\n",
      "Epoch 458/2000\n",
      "50/50 - 0s - loss: 0.0029 - val_loss: 0.0029\n",
      "Epoch 459/2000\n",
      "50/50 - 0s - loss: 0.0030 - val_loss: 0.0028\n",
      "Epoch 460/2000\n",
      "50/50 - 0s - loss: 0.0030 - val_loss: 0.0028\n",
      "Epoch 461/2000\n",
      "50/50 - 0s - loss: 0.0031 - val_loss: 0.0030\n",
      "Epoch 462/2000\n",
      "50/50 - 0s - loss: 0.0029 - val_loss: 0.0030\n",
      "Epoch 463/2000\n",
      "50/50 - 0s - loss: 0.0029 - val_loss: 0.0028\n",
      "Epoch 464/2000\n",
      "50/50 - 0s - loss: 0.0028 - val_loss: 0.0028\n",
      "Epoch 465/2000\n",
      "50/50 - 0s - loss: 0.0029 - val_loss: 0.0030\n",
      "Epoch 466/2000\n",
      "50/50 - 0s - loss: 0.0029 - val_loss: 0.0028\n",
      "Epoch 467/2000\n",
      "50/50 - 0s - loss: 0.0028 - val_loss: 0.0029\n",
      "Epoch 468/2000\n",
      "50/50 - 0s - loss: 0.0029 - val_loss: 0.0029\n",
      "Epoch 469/2000\n",
      "50/50 - 0s - loss: 0.0029 - val_loss: 0.0030\n",
      "Epoch 470/2000\n",
      "50/50 - 0s - loss: 0.0031 - val_loss: 0.0028\n",
      "Epoch 471/2000\n",
      "50/50 - 0s - loss: 0.0029 - val_loss: 0.0028\n",
      "Epoch 472/2000\n",
      "50/50 - 0s - loss: 0.0028 - val_loss: 0.0031\n",
      "Epoch 473/2000\n",
      "50/50 - 0s - loss: 0.0028 - val_loss: 0.0029\n",
      "Epoch 474/2000\n",
      "50/50 - 0s - loss: 0.0029 - val_loss: 0.0030\n",
      "Epoch 475/2000\n",
      "50/50 - 0s - loss: 0.0029 - val_loss: 0.0027\n",
      "Epoch 476/2000\n",
      "50/50 - 0s - loss: 0.0029 - val_loss: 0.0034\n",
      "Epoch 477/2000\n",
      "50/50 - 0s - loss: 0.0029 - val_loss: 0.0028\n",
      "Epoch 478/2000\n",
      "50/50 - 0s - loss: 0.0027 - val_loss: 0.0029\n",
      "Epoch 479/2000\n",
      "50/50 - 0s - loss: 0.0030 - val_loss: 0.0029\n",
      "Epoch 480/2000\n",
      "50/50 - 0s - loss: 0.0028 - val_loss: 0.0028\n",
      "Epoch 481/2000\n",
      "50/50 - 0s - loss: 0.0028 - val_loss: 0.0028\n",
      "Epoch 482/2000\n",
      "50/50 - 0s - loss: 0.0029 - val_loss: 0.0028\n",
      "Epoch 483/2000\n",
      "50/50 - 0s - loss: 0.0028 - val_loss: 0.0032\n",
      "Epoch 484/2000\n",
      "50/50 - 0s - loss: 0.0030 - val_loss: 0.0029\n",
      "Epoch 485/2000\n",
      "50/50 - 0s - loss: 0.0030 - val_loss: 0.0029\n",
      "Epoch 486/2000\n",
      "50/50 - 0s - loss: 0.0029 - val_loss: 0.0029\n",
      "Epoch 487/2000\n",
      "50/50 - 0s - loss: 0.0029 - val_loss: 0.0027\n",
      "Epoch 488/2000\n",
      "50/50 - 0s - loss: 0.0029 - val_loss: 0.0028\n",
      "Epoch 489/2000\n",
      "50/50 - 0s - loss: 0.0028 - val_loss: 0.0028\n",
      "Epoch 490/2000\n",
      "50/50 - 0s - loss: 0.0029 - val_loss: 0.0030\n",
      "Epoch 491/2000\n",
      "50/50 - 0s - loss: 0.0028 - val_loss: 0.0027\n",
      "Epoch 492/2000\n",
      "50/50 - 0s - loss: 0.0029 - val_loss: 0.0027\n",
      "Epoch 493/2000\n",
      "50/50 - 0s - loss: 0.0029 - val_loss: 0.0031\n",
      "Epoch 494/2000\n",
      "50/50 - 0s - loss: 0.0028 - val_loss: 0.0028\n",
      "Epoch 495/2000\n",
      "50/50 - 0s - loss: 0.0027 - val_loss: 0.0027\n",
      "Epoch 496/2000\n",
      "50/50 - 0s - loss: 0.0029 - val_loss: 0.0032\n",
      "Epoch 497/2000\n",
      "50/50 - 0s - loss: 0.0028 - val_loss: 0.0027\n",
      "Epoch 498/2000\n",
      "50/50 - 0s - loss: 0.0029 - val_loss: 0.0029\n",
      "Epoch 499/2000\n",
      "50/50 - 0s - loss: 0.0028 - val_loss: 0.0031\n",
      "Epoch 500/2000\n",
      "50/50 - 0s - loss: 0.0029 - val_loss: 0.0027\n",
      "Epoch 501/2000\n",
      "50/50 - 0s - loss: 0.0030 - val_loss: 0.0028\n",
      "Epoch 502/2000\n",
      "50/50 - 0s - loss: 0.0030 - val_loss: 0.0028\n",
      "Epoch 503/2000\n",
      "50/50 - 0s - loss: 0.0029 - val_loss: 0.0027\n",
      "Epoch 504/2000\n",
      "50/50 - 0s - loss: 0.0029 - val_loss: 0.0028\n",
      "Epoch 505/2000\n",
      "50/50 - 0s - loss: 0.0028 - val_loss: 0.0031\n",
      "Epoch 506/2000\n",
      "50/50 - 0s - loss: 0.0029 - val_loss: 0.0030\n",
      "Epoch 507/2000\n",
      "50/50 - 0s - loss: 0.0029 - val_loss: 0.0028\n",
      "Epoch 508/2000\n",
      "50/50 - 0s - loss: 0.0028 - val_loss: 0.0029\n",
      "Epoch 509/2000\n",
      "50/50 - 0s - loss: 0.0029 - val_loss: 0.0027\n",
      "Epoch 510/2000\n",
      "50/50 - 0s - loss: 0.0028 - val_loss: 0.0029\n",
      "Epoch 511/2000\n",
      "50/50 - 0s - loss: 0.0028 - val_loss: 0.0027\n",
      "Epoch 512/2000\n",
      "50/50 - 0s - loss: 0.0028 - val_loss: 0.0030\n",
      "Epoch 513/2000\n",
      "50/50 - 0s - loss: 0.0028 - val_loss: 0.0032\n",
      "Epoch 514/2000\n",
      "50/50 - 0s - loss: 0.0028 - val_loss: 0.0028\n",
      "Epoch 515/2000\n",
      "50/50 - 0s - loss: 0.0028 - val_loss: 0.0028\n",
      "Epoch 516/2000\n",
      "50/50 - 0s - loss: 0.0028 - val_loss: 0.0028\n",
      "Epoch 517/2000\n",
      "50/50 - 0s - loss: 0.0029 - val_loss: 0.0029\n",
      "Epoch 518/2000\n",
      "50/50 - 0s - loss: 0.0029 - val_loss: 0.0029\n",
      "Epoch 519/2000\n",
      "50/50 - 0s - loss: 0.0030 - val_loss: 0.0031\n",
      "Epoch 520/2000\n",
      "50/50 - 0s - loss: 0.0029 - val_loss: 0.0029\n",
      "Epoch 521/2000\n",
      "50/50 - 0s - loss: 0.0028 - val_loss: 0.0027\n",
      "Epoch 522/2000\n",
      "50/50 - 0s - loss: 0.0028 - val_loss: 0.0027\n",
      "Epoch 523/2000\n",
      "50/50 - 0s - loss: 0.0028 - val_loss: 0.0027\n",
      "Epoch 524/2000\n",
      "50/50 - 0s - loss: 0.0028 - val_loss: 0.0027\n",
      "Epoch 525/2000\n",
      "50/50 - 0s - loss: 0.0029 - val_loss: 0.0029\n",
      "Epoch 526/2000\n",
      "50/50 - 0s - loss: 0.0029 - val_loss: 0.0028\n",
      "Epoch 527/2000\n",
      "50/50 - 0s - loss: 0.0028 - val_loss: 0.0029\n",
      "Epoch 528/2000\n",
      "50/50 - 0s - loss: 0.0028 - val_loss: 0.0029\n",
      "Epoch 529/2000\n",
      "50/50 - 0s - loss: 0.0028 - val_loss: 0.0032\n",
      "Epoch 530/2000\n",
      "50/50 - 0s - loss: 0.0028 - val_loss: 0.0029\n",
      "Epoch 531/2000\n",
      "50/50 - 0s - loss: 0.0028 - val_loss: 0.0029\n",
      "Epoch 532/2000\n",
      "50/50 - 0s - loss: 0.0028 - val_loss: 0.0028\n",
      "Epoch 533/2000\n",
      "50/50 - 0s - loss: 0.0028 - val_loss: 0.0027\n",
      "Epoch 534/2000\n",
      "50/50 - 0s - loss: 0.0028 - val_loss: 0.0027\n",
      "Epoch 535/2000\n",
      "50/50 - 0s - loss: 0.0027 - val_loss: 0.0028\n",
      "Epoch 536/2000\n",
      "50/50 - 0s - loss: 0.0028 - val_loss: 0.0027\n",
      "Epoch 537/2000\n",
      "50/50 - 0s - loss: 0.0028 - val_loss: 0.0027\n",
      "Epoch 538/2000\n",
      "50/50 - 0s - loss: 0.0028 - val_loss: 0.0026\n",
      "Epoch 539/2000\n",
      "50/50 - 0s - loss: 0.0028 - val_loss: 0.0029\n",
      "Epoch 540/2000\n",
      "50/50 - 0s - loss: 0.0029 - val_loss: 0.0028\n",
      "Epoch 541/2000\n",
      "50/50 - 0s - loss: 0.0028 - val_loss: 0.0030\n",
      "Epoch 542/2000\n",
      "50/50 - 0s - loss: 0.0029 - val_loss: 0.0031\n",
      "Epoch 543/2000\n",
      "50/50 - 0s - loss: 0.0029 - val_loss: 0.0029\n",
      "Epoch 544/2000\n",
      "50/50 - 0s - loss: 0.0029 - val_loss: 0.0030\n",
      "Epoch 545/2000\n",
      "50/50 - 0s - loss: 0.0029 - val_loss: 0.0027\n",
      "Epoch 546/2000\n",
      "50/50 - 0s - loss: 0.0028 - val_loss: 0.0028\n",
      "Epoch 547/2000\n",
      "50/50 - 0s - loss: 0.0028 - val_loss: 0.0031\n"
     ]
    },
    {
     "name": "stdout",
     "output_type": "stream",
     "text": [
      "Epoch 548/2000\n",
      "50/50 - 0s - loss: 0.0030 - val_loss: 0.0032\n",
      "Epoch 549/2000\n",
      "50/50 - 0s - loss: 0.0028 - val_loss: 0.0029\n",
      "Epoch 550/2000\n",
      "50/50 - 0s - loss: 0.0029 - val_loss: 0.0029\n",
      "Epoch 551/2000\n",
      "50/50 - 0s - loss: 0.0030 - val_loss: 0.0027\n",
      "Epoch 552/2000\n",
      "50/50 - 0s - loss: 0.0030 - val_loss: 0.0027\n",
      "Epoch 553/2000\n",
      "50/50 - 0s - loss: 0.0029 - val_loss: 0.0035\n",
      "Epoch 554/2000\n",
      "50/50 - 0s - loss: 0.0028 - val_loss: 0.0027\n",
      "Epoch 555/2000\n",
      "50/50 - 0s - loss: 0.0030 - val_loss: 0.0032\n",
      "Epoch 556/2000\n",
      "50/50 - 0s - loss: 0.0028 - val_loss: 0.0027\n",
      "Epoch 557/2000\n",
      "50/50 - 0s - loss: 0.0027 - val_loss: 0.0031\n",
      "Epoch 558/2000\n",
      "50/50 - 0s - loss: 0.0028 - val_loss: 0.0031\n",
      "Epoch 559/2000\n",
      "50/50 - 0s - loss: 0.0029 - val_loss: 0.0030\n",
      "Epoch 560/2000\n",
      "50/50 - 0s - loss: 0.0030 - val_loss: 0.0027\n",
      "Epoch 561/2000\n",
      "50/50 - 0s - loss: 0.0027 - val_loss: 0.0028\n",
      "Epoch 562/2000\n",
      "50/50 - 0s - loss: 0.0028 - val_loss: 0.0028\n",
      "Epoch 563/2000\n",
      "50/50 - 0s - loss: 0.0029 - val_loss: 0.0030\n",
      "Epoch 564/2000\n",
      "50/50 - 0s - loss: 0.0030 - val_loss: 0.0029\n",
      "Epoch 565/2000\n",
      "50/50 - 0s - loss: 0.0030 - val_loss: 0.0027\n",
      "Epoch 566/2000\n",
      "50/50 - 0s - loss: 0.0027 - val_loss: 0.0028\n",
      "Epoch 567/2000\n",
      "50/50 - 0s - loss: 0.0028 - val_loss: 0.0026\n",
      "Epoch 568/2000\n",
      "50/50 - 0s - loss: 0.0028 - val_loss: 0.0032\n",
      "Epoch 569/2000\n",
      "50/50 - 0s - loss: 0.0029 - val_loss: 0.0026\n",
      "Epoch 570/2000\n",
      "50/50 - 0s - loss: 0.0028 - val_loss: 0.0028\n",
      "Epoch 571/2000\n",
      "50/50 - 0s - loss: 0.0029 - val_loss: 0.0027\n",
      "Epoch 572/2000\n",
      "50/50 - 0s - loss: 0.0028 - val_loss: 0.0027\n",
      "Epoch 573/2000\n",
      "50/50 - 0s - loss: 0.0028 - val_loss: 0.0029\n",
      "Epoch 574/2000\n",
      "50/50 - 0s - loss: 0.0029 - val_loss: 0.0029\n",
      "Epoch 575/2000\n",
      "50/50 - 0s - loss: 0.0028 - val_loss: 0.0028\n",
      "Epoch 576/2000\n",
      "50/50 - 0s - loss: 0.0029 - val_loss: 0.0033\n",
      "Epoch 577/2000\n",
      "50/50 - 0s - loss: 0.0028 - val_loss: 0.0029\n",
      "Epoch 578/2000\n",
      "50/50 - 0s - loss: 0.0028 - val_loss: 0.0029\n",
      "Epoch 579/2000\n",
      "50/50 - 0s - loss: 0.0027 - val_loss: 0.0029\n",
      "Epoch 580/2000\n",
      "50/50 - 0s - loss: 0.0029 - val_loss: 0.0027\n",
      "Epoch 581/2000\n",
      "50/50 - 0s - loss: 0.0028 - val_loss: 0.0028\n",
      "Epoch 582/2000\n",
      "50/50 - 0s - loss: 0.0030 - val_loss: 0.0028\n",
      "Epoch 583/2000\n",
      "50/50 - 0s - loss: 0.0029 - val_loss: 0.0033\n",
      "Epoch 584/2000\n",
      "50/50 - 0s - loss: 0.0029 - val_loss: 0.0027\n",
      "Epoch 585/2000\n",
      "50/50 - 0s - loss: 0.0029 - val_loss: 0.0029\n",
      "Epoch 586/2000\n",
      "50/50 - 0s - loss: 0.0029 - val_loss: 0.0027\n",
      "Epoch 587/2000\n",
      "50/50 - 0s - loss: 0.0028 - val_loss: 0.0027\n",
      "Epoch 588/2000\n",
      "50/50 - 0s - loss: 0.0028 - val_loss: 0.0028\n",
      "Epoch 589/2000\n",
      "50/50 - 0s - loss: 0.0029 - val_loss: 0.0026\n",
      "Epoch 590/2000\n",
      "50/50 - 0s - loss: 0.0027 - val_loss: 0.0026\n",
      "Epoch 591/2000\n",
      "50/50 - 0s - loss: 0.0028 - val_loss: 0.0029\n",
      "Epoch 592/2000\n",
      "50/50 - 0s - loss: 0.0028 - val_loss: 0.0027\n",
      "Epoch 593/2000\n",
      "50/50 - 0s - loss: 0.0027 - val_loss: 0.0028\n",
      "Epoch 594/2000\n",
      "50/50 - 0s - loss: 0.0028 - val_loss: 0.0027\n",
      "Epoch 595/2000\n",
      "50/50 - 0s - loss: 0.0029 - val_loss: 0.0032\n",
      "Epoch 596/2000\n",
      "50/50 - 0s - loss: 0.0028 - val_loss: 0.0027\n",
      "Epoch 597/2000\n",
      "50/50 - 0s - loss: 0.0028 - val_loss: 0.0033\n",
      "Epoch 598/2000\n",
      "50/50 - 0s - loss: 0.0028 - val_loss: 0.0028\n",
      "Epoch 599/2000\n",
      "50/50 - 0s - loss: 0.0029 - val_loss: 0.0027\n",
      "Epoch 600/2000\n",
      "50/50 - 0s - loss: 0.0028 - val_loss: 0.0027\n",
      "Epoch 601/2000\n",
      "50/50 - 0s - loss: 0.0028 - val_loss: 0.0026\n",
      "Epoch 602/2000\n",
      "50/50 - 0s - loss: 0.0027 - val_loss: 0.0028\n",
      "Epoch 603/2000\n",
      "50/50 - 0s - loss: 0.0027 - val_loss: 0.0027\n",
      "Epoch 604/2000\n",
      "50/50 - 0s - loss: 0.0029 - val_loss: 0.0028\n",
      "Epoch 605/2000\n",
      "50/50 - 0s - loss: 0.0028 - val_loss: 0.0030\n",
      "Epoch 606/2000\n",
      "50/50 - 0s - loss: 0.0029 - val_loss: 0.0029\n",
      "Epoch 607/2000\n",
      "50/50 - 0s - loss: 0.0028 - val_loss: 0.0028\n",
      "Epoch 608/2000\n",
      "50/50 - 0s - loss: 0.0028 - val_loss: 0.0027\n",
      "Epoch 609/2000\n",
      "50/50 - 0s - loss: 0.0028 - val_loss: 0.0030\n",
      "Epoch 610/2000\n",
      "50/50 - 0s - loss: 0.0028 - val_loss: 0.0028\n",
      "Epoch 611/2000\n",
      "50/50 - 0s - loss: 0.0029 - val_loss: 0.0027\n",
      "Epoch 612/2000\n",
      "50/50 - 0s - loss: 0.0029 - val_loss: 0.0030\n",
      "Epoch 613/2000\n",
      "50/50 - 0s - loss: 0.0028 - val_loss: 0.0028\n",
      "Epoch 614/2000\n",
      "50/50 - 0s - loss: 0.0028 - val_loss: 0.0029\n",
      "Epoch 615/2000\n",
      "50/50 - 0s - loss: 0.0028 - val_loss: 0.0028\n",
      "Epoch 616/2000\n",
      "50/50 - 0s - loss: 0.0030 - val_loss: 0.0033\n",
      "Epoch 617/2000\n",
      "50/50 - 0s - loss: 0.0029 - val_loss: 0.0028\n",
      "Epoch 618/2000\n",
      "50/50 - 0s - loss: 0.0028 - val_loss: 0.0031\n",
      "Epoch 619/2000\n",
      "50/50 - 0s - loss: 0.0028 - val_loss: 0.0028\n",
      "Epoch 620/2000\n",
      "50/50 - 0s - loss: 0.0029 - val_loss: 0.0028\n",
      "Epoch 621/2000\n",
      "50/50 - 0s - loss: 0.0028 - val_loss: 0.0027\n",
      "Epoch 622/2000\n",
      "50/50 - 0s - loss: 0.0028 - val_loss: 0.0028\n",
      "Epoch 623/2000\n",
      "50/50 - 0s - loss: 0.0027 - val_loss: 0.0031\n",
      "Epoch 624/2000\n",
      "50/50 - 0s - loss: 0.0028 - val_loss: 0.0029\n",
      "Epoch 625/2000\n",
      "50/50 - 0s - loss: 0.0028 - val_loss: 0.0029\n",
      "Epoch 626/2000\n",
      "50/50 - 0s - loss: 0.0028 - val_loss: 0.0029\n",
      "Epoch 627/2000\n",
      "50/50 - 0s - loss: 0.0028 - val_loss: 0.0028\n",
      "Epoch 628/2000\n",
      "50/50 - 0s - loss: 0.0028 - val_loss: 0.0027\n",
      "Epoch 629/2000\n",
      "50/50 - 0s - loss: 0.0029 - val_loss: 0.0028\n",
      "Epoch 630/2000\n",
      "50/50 - 0s - loss: 0.0028 - val_loss: 0.0028\n",
      "Epoch 631/2000\n",
      "50/50 - 0s - loss: 0.0027 - val_loss: 0.0026\n",
      "Epoch 632/2000\n",
      "50/50 - 0s - loss: 0.0027 - val_loss: 0.0032\n",
      "Epoch 633/2000\n",
      "50/50 - 0s - loss: 0.0030 - val_loss: 0.0027\n",
      "Epoch 634/2000\n",
      "50/50 - 0s - loss: 0.0028 - val_loss: 0.0028\n",
      "Epoch 635/2000\n",
      "50/50 - 0s - loss: 0.0027 - val_loss: 0.0026\n",
      "Epoch 636/2000\n",
      "50/50 - 0s - loss: 0.0029 - val_loss: 0.0030\n",
      "Epoch 637/2000\n",
      "50/50 - 0s - loss: 0.0029 - val_loss: 0.0026\n",
      "Epoch 638/2000\n",
      "50/50 - 0s - loss: 0.0028 - val_loss: 0.0033\n",
      "Epoch 639/2000\n",
      "50/50 - 0s - loss: 0.0028 - val_loss: 0.0030\n",
      "Epoch 640/2000\n",
      "50/50 - 0s - loss: 0.0030 - val_loss: 0.0028\n",
      "Epoch 641/2000\n",
      "50/50 - 0s - loss: 0.0028 - val_loss: 0.0027\n",
      "Epoch 642/2000\n",
      "50/50 - 0s - loss: 0.0028 - val_loss: 0.0032\n",
      "Epoch 643/2000\n",
      "50/50 - 0s - loss: 0.0028 - val_loss: 0.0028\n",
      "Epoch 644/2000\n",
      "50/50 - 0s - loss: 0.0028 - val_loss: 0.0028\n",
      "Epoch 645/2000\n",
      "50/50 - 0s - loss: 0.0028 - val_loss: 0.0027\n",
      "Epoch 646/2000\n",
      "50/50 - 0s - loss: 0.0028 - val_loss: 0.0030\n",
      "Epoch 647/2000\n",
      "50/50 - 0s - loss: 0.0028 - val_loss: 0.0027\n",
      "Epoch 648/2000\n",
      "50/50 - 0s - loss: 0.0029 - val_loss: 0.0029\n",
      "Epoch 649/2000\n",
      "50/50 - 0s - loss: 0.0028 - val_loss: 0.0028\n",
      "Epoch 650/2000\n",
      "50/50 - 0s - loss: 0.0028 - val_loss: 0.0031\n",
      "Epoch 651/2000\n",
      "50/50 - 0s - loss: 0.0029 - val_loss: 0.0028\n",
      "Epoch 652/2000\n",
      "50/50 - 0s - loss: 0.0027 - val_loss: 0.0027\n",
      "Epoch 653/2000\n",
      "50/50 - 0s - loss: 0.0028 - val_loss: 0.0029\n",
      "Epoch 654/2000\n",
      "50/50 - 0s - loss: 0.0029 - val_loss: 0.0026\n",
      "Epoch 655/2000\n",
      "50/50 - 0s - loss: 0.0029 - val_loss: 0.0028\n",
      "Epoch 656/2000\n",
      "50/50 - 0s - loss: 0.0028 - val_loss: 0.0027\n",
      "Epoch 657/2000\n",
      "50/50 - 0s - loss: 0.0027 - val_loss: 0.0028\n",
      "Epoch 658/2000\n",
      "50/50 - 0s - loss: 0.0028 - val_loss: 0.0029\n",
      "Epoch 659/2000\n",
      "50/50 - 0s - loss: 0.0029 - val_loss: 0.0027\n",
      "Epoch 660/2000\n",
      "50/50 - 0s - loss: 0.0028 - val_loss: 0.0030\n",
      "Epoch 661/2000\n",
      "50/50 - 0s - loss: 0.0027 - val_loss: 0.0028\n",
      "Epoch 662/2000\n",
      "50/50 - 0s - loss: 0.0028 - val_loss: 0.0029\n",
      "Epoch 663/2000\n",
      "50/50 - 0s - loss: 0.0027 - val_loss: 0.0030\n",
      "Epoch 664/2000\n",
      "50/50 - 0s - loss: 0.0028 - val_loss: 0.0027\n",
      "Epoch 665/2000\n",
      "50/50 - 0s - loss: 0.0027 - val_loss: 0.0027\n",
      "Epoch 666/2000\n",
      "50/50 - 0s - loss: 0.0028 - val_loss: 0.0028\n",
      "Epoch 667/2000\n",
      "50/50 - 0s - loss: 0.0029 - val_loss: 0.0029\n",
      "Epoch 668/2000\n",
      "50/50 - 0s - loss: 0.0028 - val_loss: 0.0029\n",
      "Epoch 669/2000\n",
      "50/50 - 0s - loss: 0.0028 - val_loss: 0.0027\n",
      "Epoch 670/2000\n",
      "50/50 - 0s - loss: 0.0027 - val_loss: 0.0028\n",
      "Epoch 671/2000\n",
      "50/50 - 0s - loss: 0.0027 - val_loss: 0.0027\n",
      "Epoch 672/2000\n",
      "50/50 - 0s - loss: 0.0027 - val_loss: 0.0032\n",
      "Epoch 673/2000\n",
      "50/50 - 0s - loss: 0.0028 - val_loss: 0.0030\n",
      "Epoch 674/2000\n",
      "50/50 - 0s - loss: 0.0027 - val_loss: 0.0031\n",
      "Epoch 675/2000\n",
      "50/50 - 0s - loss: 0.0027 - val_loss: 0.0028\n",
      "Epoch 676/2000\n",
      "50/50 - 0s - loss: 0.0028 - val_loss: 0.0028\n",
      "Epoch 677/2000\n",
      "50/50 - 0s - loss: 0.0027 - val_loss: 0.0027\n",
      "Epoch 678/2000\n",
      "50/50 - 0s - loss: 0.0029 - val_loss: 0.0027\n",
      "Epoch 679/2000\n",
      "50/50 - 0s - loss: 0.0028 - val_loss: 0.0028\n",
      "Epoch 680/2000\n",
      "50/50 - 0s - loss: 0.0030 - val_loss: 0.0028\n",
      "Epoch 681/2000\n",
      "50/50 - 0s - loss: 0.0029 - val_loss: 0.0027\n",
      "Epoch 682/2000\n",
      "50/50 - 0s - loss: 0.0029 - val_loss: 0.0028\n",
      "Epoch 683/2000\n",
      "50/50 - 0s - loss: 0.0028 - val_loss: 0.0029\n",
      "Epoch 684/2000\n",
      "50/50 - 0s - loss: 0.0029 - val_loss: 0.0030\n"
     ]
    },
    {
     "name": "stdout",
     "output_type": "stream",
     "text": [
      "Epoch 685/2000\n",
      "50/50 - 0s - loss: 0.0028 - val_loss: 0.0028\n",
      "Epoch 686/2000\n",
      "50/50 - 0s - loss: 0.0028 - val_loss: 0.0032\n",
      "Epoch 687/2000\n",
      "50/50 - 0s - loss: 0.0028 - val_loss: 0.0027\n",
      "Epoch 688/2000\n",
      "50/50 - 0s - loss: 0.0029 - val_loss: 0.0030\n",
      "Epoch 689/2000\n",
      "50/50 - 0s - loss: 0.0029 - val_loss: 0.0031\n",
      "Epoch 690/2000\n",
      "50/50 - 0s - loss: 0.0029 - val_loss: 0.0029\n",
      "Epoch 691/2000\n",
      "50/50 - 0s - loss: 0.0028 - val_loss: 0.0030\n",
      "Epoch 692/2000\n",
      "50/50 - 0s - loss: 0.0027 - val_loss: 0.0031\n",
      "Epoch 693/2000\n",
      "50/50 - 0s - loss: 0.0028 - val_loss: 0.0026\n",
      "Epoch 694/2000\n",
      "50/50 - 0s - loss: 0.0028 - val_loss: 0.0028\n",
      "Epoch 695/2000\n",
      "50/50 - 0s - loss: 0.0028 - val_loss: 0.0027\n",
      "Epoch 696/2000\n",
      "50/50 - 0s - loss: 0.0029 - val_loss: 0.0028\n",
      "Epoch 697/2000\n",
      "50/50 - 0s - loss: 0.0030 - val_loss: 0.0028\n",
      "Epoch 698/2000\n",
      "50/50 - 0s - loss: 0.0027 - val_loss: 0.0027\n",
      "Epoch 699/2000\n",
      "50/50 - 0s - loss: 0.0028 - val_loss: 0.0028\n",
      "Epoch 700/2000\n",
      "50/50 - 0s - loss: 0.0027 - val_loss: 0.0030\n",
      "Epoch 701/2000\n",
      "50/50 - 0s - loss: 0.0028 - val_loss: 0.0029\n",
      "Epoch 702/2000\n",
      "50/50 - 0s - loss: 0.0030 - val_loss: 0.0027\n",
      "Epoch 703/2000\n",
      "50/50 - 0s - loss: 0.0028 - val_loss: 0.0029\n",
      "Epoch 704/2000\n",
      "50/50 - 0s - loss: 0.0027 - val_loss: 0.0029\n",
      "Epoch 705/2000\n",
      "50/50 - 0s - loss: 0.0028 - val_loss: 0.0029\n",
      "Epoch 706/2000\n",
      "50/50 - 0s - loss: 0.0028 - val_loss: 0.0026\n",
      "Epoch 707/2000\n",
      "50/50 - 0s - loss: 0.0029 - val_loss: 0.0028\n",
      "Epoch 708/2000\n",
      "50/50 - 0s - loss: 0.0029 - val_loss: 0.0029\n",
      "Epoch 709/2000\n",
      "50/50 - 0s - loss: 0.0029 - val_loss: 0.0029\n",
      "Epoch 710/2000\n",
      "50/50 - 0s - loss: 0.0028 - val_loss: 0.0028\n",
      "Epoch 711/2000\n",
      "50/50 - 0s - loss: 0.0029 - val_loss: 0.0027\n",
      "Epoch 712/2000\n",
      "50/50 - 0s - loss: 0.0028 - val_loss: 0.0027\n",
      "Epoch 713/2000\n",
      "50/50 - 0s - loss: 0.0027 - val_loss: 0.0028\n",
      "Epoch 714/2000\n",
      "50/50 - 0s - loss: 0.0029 - val_loss: 0.0030\n",
      "Epoch 715/2000\n",
      "50/50 - 0s - loss: 0.0029 - val_loss: 0.0026\n",
      "Epoch 716/2000\n",
      "50/50 - 0s - loss: 0.0027 - val_loss: 0.0027\n",
      "Epoch 717/2000\n",
      "50/50 - 0s - loss: 0.0027 - val_loss: 0.0028\n",
      "Epoch 718/2000\n",
      "50/50 - 0s - loss: 0.0028 - val_loss: 0.0027\n",
      "Epoch 719/2000\n",
      "50/50 - 0s - loss: 0.0028 - val_loss: 0.0027\n",
      "Epoch 720/2000\n",
      "50/50 - 0s - loss: 0.0027 - val_loss: 0.0029\n",
      "Epoch 721/2000\n",
      "50/50 - 0s - loss: 0.0028 - val_loss: 0.0027\n",
      "Epoch 722/2000\n",
      "50/50 - 0s - loss: 0.0028 - val_loss: 0.0027\n",
      "Epoch 723/2000\n",
      "50/50 - 0s - loss: 0.0028 - val_loss: 0.0029\n",
      "Epoch 724/2000\n",
      "50/50 - 0s - loss: 0.0028 - val_loss: 0.0027\n",
      "Epoch 725/2000\n",
      "50/50 - 0s - loss: 0.0028 - val_loss: 0.0027\n",
      "Epoch 726/2000\n",
      "50/50 - 0s - loss: 0.0027 - val_loss: 0.0029\n",
      "Epoch 727/2000\n",
      "50/50 - 0s - loss: 0.0029 - val_loss: 0.0027\n",
      "Epoch 728/2000\n",
      "50/50 - 0s - loss: 0.0028 - val_loss: 0.0039\n",
      "Epoch 729/2000\n",
      "50/50 - 0s - loss: 0.0030 - val_loss: 0.0029\n",
      "Epoch 730/2000\n",
      "50/50 - 0s - loss: 0.0028 - val_loss: 0.0027\n",
      "Epoch 731/2000\n",
      "50/50 - 0s - loss: 0.0029 - val_loss: 0.0030\n",
      "Epoch 732/2000\n",
      "50/50 - 0s - loss: 0.0029 - val_loss: 0.0027\n",
      "Epoch 733/2000\n",
      "50/50 - 0s - loss: 0.0027 - val_loss: 0.0027\n",
      "Epoch 734/2000\n",
      "50/50 - 0s - loss: 0.0028 - val_loss: 0.0027\n",
      "Epoch 735/2000\n",
      "50/50 - 0s - loss: 0.0028 - val_loss: 0.0032\n",
      "Epoch 736/2000\n",
      "50/50 - 0s - loss: 0.0028 - val_loss: 0.0027\n",
      "Epoch 737/2000\n",
      "50/50 - 0s - loss: 0.0027 - val_loss: 0.0029\n",
      "Epoch 738/2000\n",
      "50/50 - 0s - loss: 0.0028 - val_loss: 0.0028\n",
      "Epoch 739/2000\n",
      "50/50 - 0s - loss: 0.0028 - val_loss: 0.0027\n",
      "Epoch 740/2000\n",
      "50/50 - 0s - loss: 0.0029 - val_loss: 0.0032\n",
      "Epoch 741/2000\n",
      "50/50 - 0s - loss: 0.0027 - val_loss: 0.0028\n",
      "Epoch 742/2000\n",
      "50/50 - 0s - loss: 0.0028 - val_loss: 0.0028\n",
      "Epoch 743/2000\n",
      "50/50 - 0s - loss: 0.0027 - val_loss: 0.0027\n",
      "Epoch 744/2000\n",
      "50/50 - 0s - loss: 0.0027 - val_loss: 0.0027\n",
      "Epoch 745/2000\n",
      "50/50 - 0s - loss: 0.0027 - val_loss: 0.0028\n",
      "Epoch 746/2000\n",
      "50/50 - 0s - loss: 0.0028 - val_loss: 0.0027\n",
      "Epoch 747/2000\n",
      "50/50 - 0s - loss: 0.0028 - val_loss: 0.0030\n",
      "Epoch 748/2000\n",
      "50/50 - 0s - loss: 0.0029 - val_loss: 0.0031\n",
      "Epoch 749/2000\n",
      "50/50 - 0s - loss: 0.0029 - val_loss: 0.0031\n",
      "Epoch 750/2000\n",
      "50/50 - 0s - loss: 0.0027 - val_loss: 0.0028\n",
      "Epoch 751/2000\n",
      "50/50 - 0s - loss: 0.0027 - val_loss: 0.0032\n",
      "Epoch 752/2000\n",
      "50/50 - 0s - loss: 0.0029 - val_loss: 0.0031\n",
      "Epoch 753/2000\n",
      "50/50 - 0s - loss: 0.0030 - val_loss: 0.0034\n",
      "Epoch 754/2000\n",
      "50/50 - 0s - loss: 0.0029 - val_loss: 0.0027\n",
      "Epoch 755/2000\n",
      "50/50 - 0s - loss: 0.0029 - val_loss: 0.0028\n",
      "Epoch 756/2000\n",
      "50/50 - 0s - loss: 0.0028 - val_loss: 0.0028\n",
      "Epoch 757/2000\n",
      "50/50 - 0s - loss: 0.0027 - val_loss: 0.0028\n",
      "Epoch 758/2000\n",
      "50/50 - 0s - loss: 0.0028 - val_loss: 0.0027\n",
      "Epoch 759/2000\n",
      "50/50 - 0s - loss: 0.0028 - val_loss: 0.0028\n",
      "Epoch 760/2000\n",
      "50/50 - 0s - loss: 0.0029 - val_loss: 0.0027\n",
      "Epoch 761/2000\n",
      "50/50 - 0s - loss: 0.0028 - val_loss: 0.0027\n",
      "Epoch 762/2000\n",
      "50/50 - 0s - loss: 0.0029 - val_loss: 0.0030\n",
      "Epoch 763/2000\n",
      "50/50 - 0s - loss: 0.0028 - val_loss: 0.0030\n",
      "Epoch 764/2000\n",
      "50/50 - 0s - loss: 0.0027 - val_loss: 0.0027\n",
      "Epoch 765/2000\n",
      "50/50 - 0s - loss: 0.0027 - val_loss: 0.0032\n",
      "Epoch 766/2000\n",
      "50/50 - 0s - loss: 0.0027 - val_loss: 0.0028\n",
      "Epoch 767/2000\n",
      "50/50 - 0s - loss: 0.0028 - val_loss: 0.0028\n",
      "Epoch 768/2000\n",
      "50/50 - 0s - loss: 0.0029 - val_loss: 0.0027\n",
      "Epoch 769/2000\n",
      "50/50 - 0s - loss: 0.0028 - val_loss: 0.0031\n",
      "Epoch 770/2000\n",
      "50/50 - 0s - loss: 0.0028 - val_loss: 0.0028\n",
      "Epoch 771/2000\n",
      "50/50 - 0s - loss: 0.0029 - val_loss: 0.0028\n",
      "Epoch 772/2000\n",
      "50/50 - 0s - loss: 0.0028 - val_loss: 0.0028\n",
      "Epoch 773/2000\n",
      "50/50 - 0s - loss: 0.0027 - val_loss: 0.0031\n",
      "Epoch 774/2000\n",
      "50/50 - 0s - loss: 0.0028 - val_loss: 0.0036\n",
      "Epoch 775/2000\n",
      "50/50 - 0s - loss: 0.0029 - val_loss: 0.0027\n",
      "Epoch 776/2000\n",
      "50/50 - 0s - loss: 0.0027 - val_loss: 0.0032\n",
      "Epoch 777/2000\n",
      "50/50 - 0s - loss: 0.0028 - val_loss: 0.0029\n",
      "Epoch 778/2000\n",
      "50/50 - 0s - loss: 0.0028 - val_loss: 0.0027\n",
      "Epoch 779/2000\n",
      "50/50 - 0s - loss: 0.0028 - val_loss: 0.0030\n",
      "Epoch 780/2000\n",
      "50/50 - 0s - loss: 0.0028 - val_loss: 0.0028\n",
      "Epoch 781/2000\n",
      "50/50 - 0s - loss: 0.0028 - val_loss: 0.0027\n",
      "Epoch 782/2000\n",
      "50/50 - 0s - loss: 0.0028 - val_loss: 0.0030\n",
      "Epoch 783/2000\n",
      "50/50 - 0s - loss: 0.0027 - val_loss: 0.0028\n",
      "Epoch 784/2000\n",
      "50/50 - 0s - loss: 0.0028 - val_loss: 0.0030\n",
      "Epoch 785/2000\n",
      "50/50 - 0s - loss: 0.0028 - val_loss: 0.0028\n",
      "Epoch 786/2000\n",
      "50/50 - 0s - loss: 0.0028 - val_loss: 0.0028\n",
      "Epoch 787/2000\n",
      "50/50 - 0s - loss: 0.0028 - val_loss: 0.0028\n",
      "Epoch 788/2000\n",
      "50/50 - 0s - loss: 0.0030 - val_loss: 0.0041\n",
      "Epoch 789/2000\n",
      "50/50 - 0s - loss: 0.0030 - val_loss: 0.0028\n",
      "Epoch 790/2000\n",
      "50/50 - 0s - loss: 0.0027 - val_loss: 0.0028\n",
      "Epoch 791/2000\n",
      "50/50 - 0s - loss: 0.0028 - val_loss: 0.0029\n",
      "Epoch 792/2000\n",
      "50/50 - 0s - loss: 0.0027 - val_loss: 0.0028\n",
      "Epoch 793/2000\n",
      "50/50 - 0s - loss: 0.0028 - val_loss: 0.0033\n",
      "Epoch 794/2000\n",
      "50/50 - 0s - loss: 0.0029 - val_loss: 0.0028\n",
      "Epoch 795/2000\n",
      "50/50 - 0s - loss: 0.0028 - val_loss: 0.0028\n",
      "Epoch 796/2000\n",
      "50/50 - 0s - loss: 0.0027 - val_loss: 0.0028\n",
      "Epoch 797/2000\n",
      "50/50 - 0s - loss: 0.0027 - val_loss: 0.0033\n",
      "Epoch 798/2000\n",
      "50/50 - 0s - loss: 0.0028 - val_loss: 0.0028\n",
      "Epoch 799/2000\n",
      "50/50 - 0s - loss: 0.0028 - val_loss: 0.0029\n",
      "Epoch 800/2000\n",
      "50/50 - 0s - loss: 0.0028 - val_loss: 0.0029\n",
      "Epoch 801/2000\n",
      "50/50 - 0s - loss: 0.0027 - val_loss: 0.0028\n",
      "Epoch 802/2000\n",
      "50/50 - 0s - loss: 0.0027 - val_loss: 0.0027\n",
      "Epoch 803/2000\n",
      "50/50 - 0s - loss: 0.0029 - val_loss: 0.0031\n",
      "Epoch 804/2000\n",
      "50/50 - 0s - loss: 0.0028 - val_loss: 0.0028\n",
      "Epoch 805/2000\n",
      "50/50 - 0s - loss: 0.0028 - val_loss: 0.0027\n",
      "Epoch 806/2000\n",
      "50/50 - 0s - loss: 0.0028 - val_loss: 0.0029\n",
      "Epoch 807/2000\n",
      "50/50 - 0s - loss: 0.0027 - val_loss: 0.0028\n",
      "Epoch 808/2000\n",
      "50/50 - 0s - loss: 0.0028 - val_loss: 0.0027\n",
      "Epoch 809/2000\n",
      "50/50 - 0s - loss: 0.0027 - val_loss: 0.0027\n",
      "Epoch 810/2000\n",
      "50/50 - 0s - loss: 0.0027 - val_loss: 0.0027\n",
      "Epoch 811/2000\n",
      "50/50 - 0s - loss: 0.0028 - val_loss: 0.0028\n",
      "Epoch 812/2000\n",
      "50/50 - 0s - loss: 0.0029 - val_loss: 0.0033\n",
      "Epoch 813/2000\n",
      "50/50 - 0s - loss: 0.0029 - val_loss: 0.0029\n",
      "Epoch 814/2000\n",
      "50/50 - 0s - loss: 0.0028 - val_loss: 0.0029\n",
      "Epoch 815/2000\n",
      "50/50 - 0s - loss: 0.0028 - val_loss: 0.0033\n",
      "Epoch 816/2000\n",
      "50/50 - 0s - loss: 0.0028 - val_loss: 0.0027\n",
      "Epoch 817/2000\n",
      "50/50 - 0s - loss: 0.0028 - val_loss: 0.0026\n",
      "Epoch 818/2000\n",
      "50/50 - 0s - loss: 0.0027 - val_loss: 0.0028\n",
      "Epoch 819/2000\n",
      "50/50 - 0s - loss: 0.0029 - val_loss: 0.0031\n",
      "Epoch 820/2000\n",
      "50/50 - 0s - loss: 0.0029 - val_loss: 0.0029\n",
      "Epoch 821/2000\n",
      "50/50 - 0s - loss: 0.0028 - val_loss: 0.0029\n"
     ]
    },
    {
     "name": "stdout",
     "output_type": "stream",
     "text": [
      "Epoch 822/2000\n",
      "50/50 - 0s - loss: 0.0028 - val_loss: 0.0029\n",
      "Epoch 823/2000\n",
      "50/50 - 0s - loss: 0.0028 - val_loss: 0.0032\n",
      "Epoch 824/2000\n",
      "50/50 - 0s - loss: 0.0028 - val_loss: 0.0033\n",
      "Epoch 825/2000\n",
      "50/50 - 0s - loss: 0.0028 - val_loss: 0.0028\n",
      "Epoch 826/2000\n",
      "50/50 - 0s - loss: 0.0028 - val_loss: 0.0028\n",
      "Epoch 827/2000\n",
      "50/50 - 0s - loss: 0.0028 - val_loss: 0.0029\n",
      "Epoch 828/2000\n",
      "50/50 - 0s - loss: 0.0028 - val_loss: 0.0032\n",
      "Epoch 829/2000\n",
      "50/50 - 0s - loss: 0.0028 - val_loss: 0.0030\n",
      "Epoch 830/2000\n",
      "50/50 - 0s - loss: 0.0027 - val_loss: 0.0028\n",
      "Epoch 831/2000\n",
      "50/50 - 0s - loss: 0.0028 - val_loss: 0.0029\n",
      "Epoch 832/2000\n",
      "50/50 - 0s - loss: 0.0027 - val_loss: 0.0026\n",
      "Epoch 833/2000\n",
      "50/50 - 0s - loss: 0.0027 - val_loss: 0.0028\n",
      "Epoch 834/2000\n",
      "50/50 - 0s - loss: 0.0028 - val_loss: 0.0031\n",
      "Epoch 835/2000\n",
      "50/50 - 0s - loss: 0.0028 - val_loss: 0.0029\n",
      "Epoch 836/2000\n",
      "50/50 - 0s - loss: 0.0028 - val_loss: 0.0027\n",
      "Epoch 837/2000\n",
      "50/50 - 0s - loss: 0.0026 - val_loss: 0.0028\n",
      "Epoch 838/2000\n",
      "50/50 - 0s - loss: 0.0028 - val_loss: 0.0029\n",
      "Epoch 839/2000\n",
      "50/50 - 0s - loss: 0.0027 - val_loss: 0.0029\n",
      "Epoch 840/2000\n",
      "50/50 - 0s - loss: 0.0028 - val_loss: 0.0029\n",
      "Epoch 841/2000\n",
      "50/50 - 0s - loss: 0.0029 - val_loss: 0.0028\n",
      "Epoch 842/2000\n",
      "50/50 - 0s - loss: 0.0028 - val_loss: 0.0027\n",
      "Epoch 843/2000\n",
      "50/50 - 0s - loss: 0.0027 - val_loss: 0.0029\n",
      "Epoch 844/2000\n",
      "50/50 - 0s - loss: 0.0029 - val_loss: 0.0028\n",
      "Epoch 845/2000\n",
      "50/50 - 0s - loss: 0.0027 - val_loss: 0.0031\n",
      "Epoch 846/2000\n",
      "50/50 - 0s - loss: 0.0029 - val_loss: 0.0028\n",
      "Epoch 847/2000\n",
      "50/50 - 0s - loss: 0.0028 - val_loss: 0.0028\n",
      "Epoch 848/2000\n",
      "50/50 - 0s - loss: 0.0028 - val_loss: 0.0027\n",
      "Epoch 849/2000\n",
      "50/50 - 0s - loss: 0.0027 - val_loss: 0.0029\n",
      "Epoch 850/2000\n",
      "50/50 - 0s - loss: 0.0027 - val_loss: 0.0029\n",
      "Epoch 851/2000\n",
      "50/50 - 0s - loss: 0.0028 - val_loss: 0.0033\n",
      "Epoch 852/2000\n",
      "50/50 - 0s - loss: 0.0028 - val_loss: 0.0027\n",
      "Epoch 853/2000\n",
      "50/50 - 0s - loss: 0.0027 - val_loss: 0.0027\n",
      "Epoch 854/2000\n",
      "50/50 - 0s - loss: 0.0028 - val_loss: 0.0028\n",
      "Epoch 855/2000\n",
      "50/50 - 0s - loss: 0.0027 - val_loss: 0.0027\n",
      "Epoch 856/2000\n",
      "50/50 - 0s - loss: 0.0028 - val_loss: 0.0028\n",
      "Epoch 857/2000\n",
      "50/50 - 0s - loss: 0.0028 - val_loss: 0.0028\n",
      "Epoch 858/2000\n",
      "50/50 - 0s - loss: 0.0028 - val_loss: 0.0027\n",
      "Epoch 859/2000\n",
      "50/50 - 0s - loss: 0.0027 - val_loss: 0.0029\n",
      "Epoch 860/2000\n",
      "50/50 - 0s - loss: 0.0028 - val_loss: 0.0028\n",
      "Epoch 861/2000\n",
      "50/50 - 0s - loss: 0.0030 - val_loss: 0.0027\n",
      "Epoch 862/2000\n",
      "50/50 - 0s - loss: 0.0029 - val_loss: 0.0029\n",
      "Epoch 863/2000\n",
      "50/50 - 0s - loss: 0.0028 - val_loss: 0.0026\n",
      "Epoch 864/2000\n",
      "50/50 - 0s - loss: 0.0028 - val_loss: 0.0027\n",
      "Epoch 865/2000\n",
      "50/50 - 0s - loss: 0.0028 - val_loss: 0.0027\n",
      "Epoch 866/2000\n",
      "50/50 - 0s - loss: 0.0028 - val_loss: 0.0028\n",
      "Epoch 867/2000\n",
      "50/50 - 0s - loss: 0.0029 - val_loss: 0.0031\n",
      "Epoch 868/2000\n",
      "50/50 - 0s - loss: 0.0027 - val_loss: 0.0029\n",
      "Epoch 869/2000\n",
      "50/50 - 0s - loss: 0.0028 - val_loss: 0.0031\n",
      "Epoch 870/2000\n",
      "50/50 - 0s - loss: 0.0028 - val_loss: 0.0028\n",
      "Epoch 871/2000\n",
      "50/50 - 0s - loss: 0.0028 - val_loss: 0.0030\n",
      "Epoch 872/2000\n",
      "50/50 - 0s - loss: 0.0028 - val_loss: 0.0028\n",
      "Epoch 873/2000\n",
      "50/50 - 0s - loss: 0.0029 - val_loss: 0.0030\n",
      "Epoch 874/2000\n",
      "50/50 - 0s - loss: 0.0028 - val_loss: 0.0026\n",
      "Epoch 875/2000\n",
      "50/50 - 0s - loss: 0.0028 - val_loss: 0.0034\n",
      "Epoch 876/2000\n",
      "50/50 - 0s - loss: 0.0028 - val_loss: 0.0029\n",
      "Epoch 877/2000\n",
      "50/50 - 0s - loss: 0.0028 - val_loss: 0.0029\n",
      "Epoch 878/2000\n",
      "50/50 - 0s - loss: 0.0027 - val_loss: 0.0027\n",
      "Epoch 879/2000\n",
      "50/50 - 0s - loss: 0.0027 - val_loss: 0.0030\n",
      "Epoch 880/2000\n",
      "50/50 - 0s - loss: 0.0027 - val_loss: 0.0028\n",
      "Epoch 881/2000\n",
      "50/50 - 0s - loss: 0.0028 - val_loss: 0.0028\n",
      "Epoch 882/2000\n",
      "50/50 - 0s - loss: 0.0028 - val_loss: 0.0031\n",
      "Epoch 883/2000\n",
      "50/50 - 0s - loss: 0.0029 - val_loss: 0.0028\n",
      "Epoch 884/2000\n",
      "50/50 - 0s - loss: 0.0028 - val_loss: 0.0028\n",
      "Epoch 885/2000\n",
      "50/50 - 0s - loss: 0.0027 - val_loss: 0.0029\n",
      "Epoch 886/2000\n",
      "50/50 - 0s - loss: 0.0027 - val_loss: 0.0027\n",
      "Epoch 887/2000\n",
      "50/50 - 0s - loss: 0.0028 - val_loss: 0.0029\n",
      "Epoch 888/2000\n",
      "50/50 - 0s - loss: 0.0027 - val_loss: 0.0029\n",
      "Epoch 889/2000\n",
      "50/50 - 0s - loss: 0.0028 - val_loss: 0.0031\n",
      "Epoch 890/2000\n",
      "50/50 - 0s - loss: 0.0028 - val_loss: 0.0026\n",
      "Epoch 891/2000\n",
      "50/50 - 0s - loss: 0.0028 - val_loss: 0.0030\n",
      "Epoch 892/2000\n",
      "50/50 - 0s - loss: 0.0028 - val_loss: 0.0028\n",
      "Epoch 893/2000\n",
      "50/50 - 0s - loss: 0.0027 - val_loss: 0.0028\n",
      "Epoch 894/2000\n",
      "50/50 - 0s - loss: 0.0027 - val_loss: 0.0032\n",
      "Epoch 895/2000\n",
      "50/50 - 0s - loss: 0.0028 - val_loss: 0.0029\n",
      "Epoch 896/2000\n",
      "50/50 - 0s - loss: 0.0028 - val_loss: 0.0031\n",
      "Epoch 897/2000\n",
      "50/50 - 0s - loss: 0.0030 - val_loss: 0.0027\n",
      "Epoch 898/2000\n",
      "50/50 - 0s - loss: 0.0029 - val_loss: 0.0028\n",
      "Epoch 899/2000\n",
      "50/50 - 0s - loss: 0.0028 - val_loss: 0.0027\n",
      "Epoch 900/2000\n",
      "50/50 - 0s - loss: 0.0028 - val_loss: 0.0027\n",
      "Epoch 901/2000\n",
      "50/50 - 0s - loss: 0.0028 - val_loss: 0.0029\n",
      "Epoch 902/2000\n",
      "50/50 - 0s - loss: 0.0028 - val_loss: 0.0029\n",
      "Epoch 903/2000\n",
      "50/50 - 0s - loss: 0.0028 - val_loss: 0.0028\n",
      "Epoch 904/2000\n",
      "50/50 - 0s - loss: 0.0027 - val_loss: 0.0027\n",
      "Epoch 905/2000\n",
      "50/50 - 0s - loss: 0.0027 - val_loss: 0.0027\n",
      "Epoch 906/2000\n",
      "50/50 - 0s - loss: 0.0027 - val_loss: 0.0033\n",
      "Epoch 907/2000\n",
      "50/50 - 0s - loss: 0.0028 - val_loss: 0.0028\n",
      "Epoch 908/2000\n",
      "50/50 - 0s - loss: 0.0028 - val_loss: 0.0029\n",
      "Epoch 909/2000\n",
      "50/50 - 0s - loss: 0.0028 - val_loss: 0.0029\n",
      "Epoch 910/2000\n",
      "50/50 - 0s - loss: 0.0028 - val_loss: 0.0029\n",
      "Epoch 911/2000\n",
      "50/50 - 0s - loss: 0.0027 - val_loss: 0.0029\n",
      "Epoch 912/2000\n",
      "50/50 - 0s - loss: 0.0027 - val_loss: 0.0032\n",
      "Epoch 913/2000\n",
      "50/50 - 0s - loss: 0.0029 - val_loss: 0.0028\n",
      "Epoch 914/2000\n",
      "50/50 - 0s - loss: 0.0027 - val_loss: 0.0028\n",
      "Epoch 915/2000\n",
      "50/50 - 0s - loss: 0.0028 - val_loss: 0.0029\n",
      "Epoch 916/2000\n",
      "50/50 - 0s - loss: 0.0028 - val_loss: 0.0027\n",
      "Epoch 917/2000\n",
      "50/50 - 0s - loss: 0.0028 - val_loss: 0.0029\n",
      "Epoch 918/2000\n",
      "50/50 - 0s - loss: 0.0027 - val_loss: 0.0028\n",
      "Epoch 919/2000\n",
      "50/50 - 0s - loss: 0.0027 - val_loss: 0.0029\n",
      "Epoch 920/2000\n",
      "50/50 - 0s - loss: 0.0028 - val_loss: 0.0029\n",
      "Epoch 921/2000\n",
      "50/50 - 0s - loss: 0.0027 - val_loss: 0.0027\n",
      "Epoch 922/2000\n",
      "50/50 - 0s - loss: 0.0028 - val_loss: 0.0028\n",
      "Epoch 923/2000\n",
      "50/50 - 0s - loss: 0.0028 - val_loss: 0.0030\n",
      "Epoch 924/2000\n",
      "50/50 - 0s - loss: 0.0027 - val_loss: 0.0027\n",
      "Epoch 925/2000\n",
      "50/50 - 0s - loss: 0.0027 - val_loss: 0.0028\n",
      "Epoch 926/2000\n",
      "50/50 - 0s - loss: 0.0028 - val_loss: 0.0032\n",
      "Epoch 927/2000\n",
      "50/50 - 0s - loss: 0.0028 - val_loss: 0.0027\n",
      "Epoch 928/2000\n",
      "50/50 - 0s - loss: 0.0027 - val_loss: 0.0029\n",
      "Epoch 929/2000\n",
      "50/50 - 0s - loss: 0.0029 - val_loss: 0.0031\n",
      "Epoch 930/2000\n",
      "50/50 - 0s - loss: 0.0029 - val_loss: 0.0030\n",
      "Epoch 931/2000\n",
      "50/50 - 0s - loss: 0.0029 - val_loss: 0.0027\n",
      "Epoch 932/2000\n",
      "50/50 - 0s - loss: 0.0028 - val_loss: 0.0031\n",
      "Epoch 933/2000\n",
      "50/50 - 0s - loss: 0.0027 - val_loss: 0.0030\n",
      "Epoch 934/2000\n",
      "50/50 - 0s - loss: 0.0029 - val_loss: 0.0027\n",
      "Epoch 935/2000\n",
      "50/50 - 0s - loss: 0.0028 - val_loss: 0.0031\n",
      "Epoch 936/2000\n",
      "50/50 - 0s - loss: 0.0029 - val_loss: 0.0031\n",
      "Epoch 937/2000\n",
      "50/50 - 0s - loss: 0.0028 - val_loss: 0.0028\n",
      "Epoch 938/2000\n",
      "50/50 - 0s - loss: 0.0028 - val_loss: 0.0030\n",
      "Epoch 939/2000\n",
      "50/50 - 0s - loss: 0.0028 - val_loss: 0.0027\n",
      "Epoch 940/2000\n",
      "50/50 - 0s - loss: 0.0027 - val_loss: 0.0028\n",
      "Epoch 941/2000\n",
      "50/50 - 0s - loss: 0.0027 - val_loss: 0.0030\n",
      "Epoch 942/2000\n",
      "50/50 - 0s - loss: 0.0027 - val_loss: 0.0026\n",
      "Epoch 943/2000\n",
      "50/50 - 0s - loss: 0.0028 - val_loss: 0.0027\n",
      "Epoch 944/2000\n",
      "50/50 - 0s - loss: 0.0028 - val_loss: 0.0028\n",
      "Epoch 945/2000\n",
      "50/50 - 0s - loss: 0.0027 - val_loss: 0.0027\n",
      "Epoch 946/2000\n",
      "50/50 - 0s - loss: 0.0027 - val_loss: 0.0028\n",
      "Epoch 947/2000\n",
      "50/50 - 0s - loss: 0.0028 - val_loss: 0.0029\n",
      "Epoch 948/2000\n",
      "50/50 - 0s - loss: 0.0028 - val_loss: 0.0028\n",
      "Epoch 949/2000\n",
      "50/50 - 0s - loss: 0.0028 - val_loss: 0.0032\n",
      "Epoch 950/2000\n",
      "50/50 - 0s - loss: 0.0028 - val_loss: 0.0028\n",
      "Epoch 951/2000\n",
      "50/50 - 0s - loss: 0.0028 - val_loss: 0.0029\n",
      "Epoch 952/2000\n",
      "50/50 - 0s - loss: 0.0029 - val_loss: 0.0028\n",
      "Epoch 953/2000\n",
      "50/50 - 0s - loss: 0.0029 - val_loss: 0.0029\n",
      "Epoch 954/2000\n",
      "50/50 - 0s - loss: 0.0028 - val_loss: 0.0030\n",
      "Epoch 955/2000\n",
      "50/50 - 0s - loss: 0.0028 - val_loss: 0.0030\n",
      "Epoch 956/2000\n",
      "50/50 - 0s - loss: 0.0027 - val_loss: 0.0029\n",
      "Epoch 957/2000\n",
      "50/50 - 0s - loss: 0.0028 - val_loss: 0.0028\n",
      "Epoch 958/2000\n",
      "50/50 - 0s - loss: 0.0027 - val_loss: 0.0033\n"
     ]
    },
    {
     "name": "stdout",
     "output_type": "stream",
     "text": [
      "Epoch 959/2000\n",
      "50/50 - 0s - loss: 0.0030 - val_loss: 0.0028\n",
      "Epoch 960/2000\n",
      "50/50 - 0s - loss: 0.0028 - val_loss: 0.0027\n",
      "Epoch 961/2000\n",
      "50/50 - 0s - loss: 0.0027 - val_loss: 0.0029\n",
      "Epoch 962/2000\n",
      "50/50 - 0s - loss: 0.0027 - val_loss: 0.0028\n",
      "Epoch 963/2000\n",
      "50/50 - 0s - loss: 0.0028 - val_loss: 0.0027\n",
      "Epoch 964/2000\n",
      "50/50 - 0s - loss: 0.0028 - val_loss: 0.0028\n",
      "Epoch 965/2000\n",
      "50/50 - 0s - loss: 0.0028 - val_loss: 0.0027\n",
      "Epoch 966/2000\n",
      "50/50 - 0s - loss: 0.0029 - val_loss: 0.0027\n",
      "Epoch 967/2000\n",
      "50/50 - 0s - loss: 0.0030 - val_loss: 0.0031\n",
      "Epoch 968/2000\n",
      "50/50 - 0s - loss: 0.0028 - val_loss: 0.0029\n",
      "Epoch 969/2000\n",
      "50/50 - 0s - loss: 0.0027 - val_loss: 0.0027\n",
      "Epoch 970/2000\n",
      "50/50 - 0s - loss: 0.0028 - val_loss: 0.0027\n",
      "Epoch 971/2000\n",
      "50/50 - 0s - loss: 0.0028 - val_loss: 0.0029\n",
      "Epoch 972/2000\n",
      "50/50 - 0s - loss: 0.0028 - val_loss: 0.0029\n",
      "Epoch 973/2000\n",
      "50/50 - 0s - loss: 0.0028 - val_loss: 0.0027\n",
      "Epoch 974/2000\n",
      "50/50 - 0s - loss: 0.0028 - val_loss: 0.0030\n",
      "Epoch 975/2000\n",
      "50/50 - 0s - loss: 0.0028 - val_loss: 0.0027\n",
      "Epoch 976/2000\n",
      "50/50 - 0s - loss: 0.0028 - val_loss: 0.0027\n",
      "Epoch 977/2000\n",
      "50/50 - 0s - loss: 0.0026 - val_loss: 0.0029\n",
      "Epoch 978/2000\n",
      "50/50 - 0s - loss: 0.0029 - val_loss: 0.0031\n",
      "Epoch 979/2000\n",
      "50/50 - 0s - loss: 0.0029 - val_loss: 0.0028\n",
      "Epoch 980/2000\n",
      "50/50 - 0s - loss: 0.0027 - val_loss: 0.0029\n",
      "Epoch 981/2000\n",
      "50/50 - 0s - loss: 0.0027 - val_loss: 0.0029\n",
      "Epoch 982/2000\n",
      "50/50 - 0s - loss: 0.0028 - val_loss: 0.0031\n",
      "Epoch 983/2000\n",
      "50/50 - 0s - loss: 0.0029 - val_loss: 0.0028\n",
      "Epoch 984/2000\n",
      "50/50 - 0s - loss: 0.0030 - val_loss: 0.0034\n",
      "Epoch 985/2000\n",
      "50/50 - 0s - loss: 0.0030 - val_loss: 0.0029\n",
      "Epoch 986/2000\n",
      "50/50 - 0s - loss: 0.0028 - val_loss: 0.0029\n",
      "Epoch 987/2000\n",
      "50/50 - 0s - loss: 0.0028 - val_loss: 0.0028\n",
      "Epoch 988/2000\n",
      "50/50 - 0s - loss: 0.0028 - val_loss: 0.0027\n",
      "Epoch 989/2000\n",
      "50/50 - 0s - loss: 0.0027 - val_loss: 0.0030\n",
      "Epoch 990/2000\n",
      "50/50 - 0s - loss: 0.0027 - val_loss: 0.0029\n",
      "Epoch 991/2000\n",
      "50/50 - 0s - loss: 0.0027 - val_loss: 0.0028\n",
      "Epoch 992/2000\n",
      "50/50 - 0s - loss: 0.0028 - val_loss: 0.0032\n",
      "Epoch 993/2000\n",
      "50/50 - 0s - loss: 0.0028 - val_loss: 0.0030\n",
      "Epoch 994/2000\n",
      "50/50 - 0s - loss: 0.0028 - val_loss: 0.0029\n",
      "Epoch 995/2000\n",
      "50/50 - 0s - loss: 0.0028 - val_loss: 0.0029\n",
      "Epoch 996/2000\n",
      "50/50 - 0s - loss: 0.0028 - val_loss: 0.0029\n",
      "Epoch 997/2000\n",
      "50/50 - 0s - loss: 0.0028 - val_loss: 0.0029\n",
      "Epoch 998/2000\n",
      "50/50 - 0s - loss: 0.0027 - val_loss: 0.0027\n",
      "Epoch 999/2000\n",
      "50/50 - 0s - loss: 0.0027 - val_loss: 0.0029\n",
      "Epoch 1000/2000\n",
      "50/50 - 0s - loss: 0.0028 - val_loss: 0.0028\n",
      "Epoch 1001/2000\n",
      "50/50 - 0s - loss: 0.0028 - val_loss: 0.0030\n",
      "Epoch 1002/2000\n",
      "50/50 - 0s - loss: 0.0028 - val_loss: 0.0030\n",
      "Epoch 1003/2000\n",
      "50/50 - 0s - loss: 0.0028 - val_loss: 0.0029\n",
      "Epoch 1004/2000\n",
      "50/50 - 0s - loss: 0.0028 - val_loss: 0.0029\n",
      "Epoch 1005/2000\n",
      "50/50 - 0s - loss: 0.0028 - val_loss: 0.0028\n",
      "Epoch 1006/2000\n",
      "50/50 - 0s - loss: 0.0027 - val_loss: 0.0026\n",
      "Epoch 1007/2000\n",
      "50/50 - 0s - loss: 0.0027 - val_loss: 0.0031\n",
      "Epoch 1008/2000\n",
      "50/50 - 0s - loss: 0.0027 - val_loss: 0.0028\n",
      "Epoch 1009/2000\n",
      "50/50 - 0s - loss: 0.0027 - val_loss: 0.0029\n",
      "Epoch 1010/2000\n",
      "50/50 - 0s - loss: 0.0027 - val_loss: 0.0030\n",
      "Epoch 1011/2000\n",
      "50/50 - 0s - loss: 0.0027 - val_loss: 0.0027\n",
      "Epoch 1012/2000\n",
      "50/50 - 0s - loss: 0.0028 - val_loss: 0.0029\n",
      "Epoch 1013/2000\n",
      "50/50 - 0s - loss: 0.0028 - val_loss: 0.0027\n",
      "Epoch 1014/2000\n",
      "50/50 - 0s - loss: 0.0028 - val_loss: 0.0029\n",
      "Epoch 1015/2000\n",
      "50/50 - 0s - loss: 0.0028 - val_loss: 0.0029\n",
      "Epoch 1016/2000\n",
      "50/50 - 0s - loss: 0.0029 - val_loss: 0.0030\n",
      "Epoch 1017/2000\n",
      "50/50 - 0s - loss: 0.0027 - val_loss: 0.0027\n",
      "Epoch 1018/2000\n",
      "50/50 - 0s - loss: 0.0027 - val_loss: 0.0028\n",
      "Epoch 1019/2000\n",
      "50/50 - 0s - loss: 0.0029 - val_loss: 0.0028\n",
      "Epoch 1020/2000\n",
      "50/50 - 0s - loss: 0.0027 - val_loss: 0.0027\n",
      "Epoch 1021/2000\n",
      "50/50 - 0s - loss: 0.0028 - val_loss: 0.0029\n",
      "Epoch 1022/2000\n",
      "50/50 - 0s - loss: 0.0027 - val_loss: 0.0028\n",
      "Epoch 1023/2000\n",
      "50/50 - 0s - loss: 0.0027 - val_loss: 0.0030\n",
      "Epoch 1024/2000\n",
      "50/50 - 0s - loss: 0.0028 - val_loss: 0.0029\n",
      "Epoch 1025/2000\n",
      "50/50 - 0s - loss: 0.0028 - val_loss: 0.0028\n",
      "Epoch 1026/2000\n",
      "50/50 - 0s - loss: 0.0027 - val_loss: 0.0027\n",
      "Epoch 1027/2000\n",
      "50/50 - 0s - loss: 0.0028 - val_loss: 0.0031\n",
      "Epoch 1028/2000\n",
      "50/50 - 0s - loss: 0.0029 - val_loss: 0.0032\n",
      "Epoch 1029/2000\n",
      "50/50 - 0s - loss: 0.0030 - val_loss: 0.0030\n",
      "Epoch 1030/2000\n",
      "50/50 - 0s - loss: 0.0027 - val_loss: 0.0028\n",
      "Epoch 1031/2000\n",
      "50/50 - 0s - loss: 0.0028 - val_loss: 0.0028\n",
      "Epoch 1032/2000\n",
      "50/50 - 0s - loss: 0.0028 - val_loss: 0.0030\n",
      "Epoch 1033/2000\n",
      "50/50 - 0s - loss: 0.0029 - val_loss: 0.0029\n",
      "Epoch 1034/2000\n",
      "50/50 - 0s - loss: 0.0028 - val_loss: 0.0027\n",
      "Epoch 1035/2000\n",
      "50/50 - 0s - loss: 0.0028 - val_loss: 0.0028\n",
      "Epoch 1036/2000\n",
      "50/50 - 0s - loss: 0.0029 - val_loss: 0.0027\n",
      "Epoch 1037/2000\n",
      "50/50 - 0s - loss: 0.0028 - val_loss: 0.0028\n",
      "Epoch 1038/2000\n",
      "50/50 - 0s - loss: 0.0027 - val_loss: 0.0029\n",
      "Epoch 1039/2000\n",
      "50/50 - 0s - loss: 0.0028 - val_loss: 0.0029\n",
      "Epoch 1040/2000\n",
      "50/50 - 0s - loss: 0.0028 - val_loss: 0.0027\n",
      "Epoch 1041/2000\n",
      "50/50 - 0s - loss: 0.0028 - val_loss: 0.0030\n",
      "Epoch 1042/2000\n",
      "50/50 - 0s - loss: 0.0031 - val_loss: 0.0032\n",
      "Epoch 1043/2000\n",
      "50/50 - 0s - loss: 0.0028 - val_loss: 0.0027\n",
      "Epoch 1044/2000\n",
      "50/50 - 0s - loss: 0.0028 - val_loss: 0.0028\n",
      "Epoch 1045/2000\n",
      "50/50 - 0s - loss: 0.0028 - val_loss: 0.0028\n",
      "Epoch 1046/2000\n",
      "50/50 - 0s - loss: 0.0027 - val_loss: 0.0030\n",
      "Epoch 1047/2000\n",
      "50/50 - 0s - loss: 0.0027 - val_loss: 0.0028\n",
      "Epoch 1048/2000\n",
      "50/50 - 0s - loss: 0.0027 - val_loss: 0.0031\n",
      "Epoch 1049/2000\n",
      "50/50 - 0s - loss: 0.0027 - val_loss: 0.0028\n",
      "Epoch 1050/2000\n",
      "50/50 - 0s - loss: 0.0029 - val_loss: 0.0029\n",
      "Epoch 1051/2000\n",
      "50/50 - 0s - loss: 0.0027 - val_loss: 0.0027\n",
      "Epoch 1052/2000\n",
      "50/50 - 0s - loss: 0.0027 - val_loss: 0.0030\n",
      "Epoch 1053/2000\n",
      "50/50 - 0s - loss: 0.0028 - val_loss: 0.0028\n",
      "Epoch 1054/2000\n",
      "50/50 - 0s - loss: 0.0028 - val_loss: 0.0029\n",
      "Epoch 1055/2000\n",
      "50/50 - 0s - loss: 0.0028 - val_loss: 0.0030\n",
      "Epoch 1056/2000\n",
      "50/50 - 0s - loss: 0.0029 - val_loss: 0.0028\n",
      "Epoch 1057/2000\n",
      "50/50 - 0s - loss: 0.0026 - val_loss: 0.0029\n",
      "Epoch 1058/2000\n",
      "50/50 - 0s - loss: 0.0027 - val_loss: 0.0028\n",
      "Epoch 1059/2000\n",
      "50/50 - 0s - loss: 0.0029 - val_loss: 0.0033\n",
      "Epoch 1060/2000\n",
      "50/50 - 0s - loss: 0.0032 - val_loss: 0.0030\n",
      "Epoch 1061/2000\n",
      "50/50 - 0s - loss: 0.0027 - val_loss: 0.0029\n",
      "Epoch 1062/2000\n",
      "50/50 - 0s - loss: 0.0027 - val_loss: 0.0029\n",
      "Epoch 1063/2000\n",
      "50/50 - 0s - loss: 0.0028 - val_loss: 0.0030\n",
      "Epoch 1064/2000\n",
      "50/50 - 0s - loss: 0.0028 - val_loss: 0.0028\n",
      "Epoch 1065/2000\n",
      "50/50 - 0s - loss: 0.0028 - val_loss: 0.0028\n",
      "Epoch 1066/2000\n",
      "50/50 - 0s - loss: 0.0029 - val_loss: 0.0028\n",
      "Epoch 1067/2000\n",
      "50/50 - 0s - loss: 0.0028 - val_loss: 0.0029\n",
      "Epoch 1068/2000\n",
      "50/50 - 0s - loss: 0.0028 - val_loss: 0.0028\n",
      "Epoch 1069/2000\n",
      "50/50 - 0s - loss: 0.0028 - val_loss: 0.0031\n",
      "Epoch 1070/2000\n",
      "50/50 - 0s - loss: 0.0028 - val_loss: 0.0029\n",
      "Epoch 1071/2000\n",
      "50/50 - 0s - loss: 0.0027 - val_loss: 0.0029\n",
      "Epoch 1072/2000\n",
      "50/50 - 0s - loss: 0.0027 - val_loss: 0.0028\n",
      "Epoch 1073/2000\n",
      "50/50 - 0s - loss: 0.0028 - val_loss: 0.0030\n",
      "Epoch 1074/2000\n",
      "50/50 - 0s - loss: 0.0029 - val_loss: 0.0028\n",
      "Epoch 1075/2000\n",
      "50/50 - 0s - loss: 0.0028 - val_loss: 0.0027\n",
      "Epoch 1076/2000\n",
      "50/50 - 0s - loss: 0.0028 - val_loss: 0.0029\n",
      "Epoch 1077/2000\n",
      "50/50 - 0s - loss: 0.0028 - val_loss: 0.0030\n",
      "Epoch 1078/2000\n",
      "50/50 - 0s - loss: 0.0028 - val_loss: 0.0028\n",
      "Epoch 1079/2000\n",
      "50/50 - 0s - loss: 0.0028 - val_loss: 0.0027\n",
      "Epoch 1080/2000\n",
      "50/50 - 0s - loss: 0.0027 - val_loss: 0.0028\n",
      "Epoch 1081/2000\n",
      "50/50 - 0s - loss: 0.0028 - val_loss: 0.0029\n",
      "Epoch 1082/2000\n",
      "50/50 - 0s - loss: 0.0028 - val_loss: 0.0029\n",
      "Epoch 1083/2000\n",
      "50/50 - 0s - loss: 0.0027 - val_loss: 0.0033\n",
      "Epoch 1084/2000\n",
      "50/50 - 0s - loss: 0.0027 - val_loss: 0.0028\n",
      "Epoch 1085/2000\n",
      "50/50 - 0s - loss: 0.0028 - val_loss: 0.0031\n",
      "Epoch 1086/2000\n",
      "50/50 - 0s - loss: 0.0029 - val_loss: 0.0028\n",
      "Epoch 1087/2000\n",
      "50/50 - 0s - loss: 0.0028 - val_loss: 0.0030\n",
      "Epoch 1088/2000\n",
      "50/50 - 0s - loss: 0.0027 - val_loss: 0.0030\n",
      "Epoch 1089/2000\n",
      "50/50 - 0s - loss: 0.0027 - val_loss: 0.0027\n",
      "Epoch 1090/2000\n",
      "50/50 - 0s - loss: 0.0028 - val_loss: 0.0028\n",
      "Epoch 1091/2000\n",
      "50/50 - 0s - loss: 0.0029 - val_loss: 0.0030\n",
      "Epoch 1092/2000\n",
      "50/50 - 0s - loss: 0.0029 - val_loss: 0.0031\n",
      "Epoch 1093/2000\n",
      "50/50 - 0s - loss: 0.0028 - val_loss: 0.0028\n"
     ]
    },
    {
     "name": "stdout",
     "output_type": "stream",
     "text": [
      "Epoch 1094/2000\n",
      "50/50 - 0s - loss: 0.0027 - val_loss: 0.0030\n",
      "Epoch 1095/2000\n",
      "50/50 - 0s - loss: 0.0029 - val_loss: 0.0033\n",
      "Epoch 1096/2000\n",
      "50/50 - 0s - loss: 0.0029 - val_loss: 0.0031\n",
      "Epoch 1097/2000\n",
      "50/50 - 0s - loss: 0.0030 - val_loss: 0.0038\n",
      "Epoch 1098/2000\n",
      "50/50 - 0s - loss: 0.0028 - val_loss: 0.0029\n",
      "Epoch 1099/2000\n",
      "50/50 - 0s - loss: 0.0028 - val_loss: 0.0027\n",
      "Epoch 1100/2000\n",
      "50/50 - 0s - loss: 0.0027 - val_loss: 0.0028\n",
      "Epoch 1101/2000\n",
      "50/50 - 0s - loss: 0.0028 - val_loss: 0.0028\n",
      "Epoch 1102/2000\n",
      "50/50 - 0s - loss: 0.0027 - val_loss: 0.0030\n",
      "Epoch 1103/2000\n",
      "50/50 - 0s - loss: 0.0028 - val_loss: 0.0028\n",
      "Epoch 1104/2000\n",
      "50/50 - 0s - loss: 0.0028 - val_loss: 0.0027\n",
      "Epoch 1105/2000\n",
      "50/50 - 0s - loss: 0.0027 - val_loss: 0.0030\n",
      "Epoch 1106/2000\n",
      "50/50 - 0s - loss: 0.0027 - val_loss: 0.0029\n",
      "Epoch 1107/2000\n",
      "50/50 - 0s - loss: 0.0028 - val_loss: 0.0032\n",
      "Epoch 1108/2000\n",
      "50/50 - 0s - loss: 0.0029 - val_loss: 0.0027\n",
      "Epoch 1109/2000\n",
      "50/50 - 0s - loss: 0.0027 - val_loss: 0.0029\n",
      "Epoch 1110/2000\n",
      "50/50 - 0s - loss: 0.0028 - val_loss: 0.0030\n",
      "Epoch 1111/2000\n",
      "50/50 - 0s - loss: 0.0028 - val_loss: 0.0028\n",
      "Epoch 1112/2000\n",
      "50/50 - 0s - loss: 0.0028 - val_loss: 0.0036\n",
      "Epoch 1113/2000\n",
      "50/50 - 0s - loss: 0.0028 - val_loss: 0.0026\n",
      "Epoch 1114/2000\n",
      "50/50 - 0s - loss: 0.0027 - val_loss: 0.0029\n",
      "Epoch 1115/2000\n",
      "50/50 - 0s - loss: 0.0027 - val_loss: 0.0029\n",
      "Epoch 1116/2000\n",
      "50/50 - 0s - loss: 0.0028 - val_loss: 0.0033\n",
      "Epoch 1117/2000\n",
      "50/50 - 0s - loss: 0.0029 - val_loss: 0.0028\n",
      "Epoch 1118/2000\n",
      "50/50 - 0s - loss: 0.0027 - val_loss: 0.0027\n",
      "Epoch 1119/2000\n",
      "50/50 - 0s - loss: 0.0027 - val_loss: 0.0028\n",
      "Epoch 1120/2000\n",
      "50/50 - 0s - loss: 0.0028 - val_loss: 0.0028\n",
      "Epoch 1121/2000\n",
      "50/50 - 0s - loss: 0.0028 - val_loss: 0.0027\n",
      "Epoch 1122/2000\n",
      "50/50 - 0s - loss: 0.0027 - val_loss: 0.0029\n",
      "Epoch 1123/2000\n",
      "50/50 - 0s - loss: 0.0029 - val_loss: 0.0030\n",
      "Epoch 1124/2000\n",
      "50/50 - 0s - loss: 0.0027 - val_loss: 0.0027\n",
      "Epoch 1125/2000\n",
      "50/50 - 0s - loss: 0.0028 - val_loss: 0.0031\n",
      "Epoch 1126/2000\n",
      "50/50 - 0s - loss: 0.0029 - val_loss: 0.0034\n",
      "Epoch 1127/2000\n",
      "50/50 - 0s - loss: 0.0028 - val_loss: 0.0032\n",
      "Epoch 1128/2000\n",
      "50/50 - 0s - loss: 0.0027 - val_loss: 0.0029\n",
      "Epoch 1129/2000\n",
      "50/50 - 0s - loss: 0.0028 - val_loss: 0.0030\n",
      "Epoch 1130/2000\n",
      "50/50 - 0s - loss: 0.0027 - val_loss: 0.0028\n",
      "Epoch 1131/2000\n",
      "50/50 - 0s - loss: 0.0028 - val_loss: 0.0029\n",
      "Epoch 1132/2000\n",
      "50/50 - 0s - loss: 0.0027 - val_loss: 0.0029\n",
      "Epoch 1133/2000\n",
      "50/50 - 0s - loss: 0.0027 - val_loss: 0.0028\n",
      "Epoch 1134/2000\n",
      "50/50 - 0s - loss: 0.0027 - val_loss: 0.0030\n",
      "Epoch 1135/2000\n",
      "50/50 - 0s - loss: 0.0028 - val_loss: 0.0027\n",
      "Epoch 1136/2000\n",
      "50/50 - 0s - loss: 0.0027 - val_loss: 0.0027\n",
      "Epoch 1137/2000\n",
      "50/50 - 0s - loss: 0.0029 - val_loss: 0.0029\n",
      "Epoch 1138/2000\n",
      "50/50 - 0s - loss: 0.0027 - val_loss: 0.0028\n",
      "Epoch 1139/2000\n",
      "50/50 - 0s - loss: 0.0029 - val_loss: 0.0029\n",
      "Epoch 1140/2000\n",
      "50/50 - 0s - loss: 0.0029 - val_loss: 0.0030\n",
      "Epoch 1141/2000\n",
      "50/50 - 0s - loss: 0.0028 - val_loss: 0.0029\n",
      "Epoch 1142/2000\n",
      "50/50 - 0s - loss: 0.0028 - val_loss: 0.0029\n",
      "Epoch 1143/2000\n",
      "50/50 - 0s - loss: 0.0028 - val_loss: 0.0029\n",
      "Epoch 1144/2000\n",
      "50/50 - 0s - loss: 0.0028 - val_loss: 0.0028\n",
      "Epoch 1145/2000\n",
      "50/50 - 0s - loss: 0.0029 - val_loss: 0.0028\n",
      "Epoch 1146/2000\n",
      "50/50 - 0s - loss: 0.0027 - val_loss: 0.0033\n",
      "Epoch 1147/2000\n",
      "50/50 - 0s - loss: 0.0028 - val_loss: 0.0028\n",
      "Epoch 1148/2000\n",
      "50/50 - 0s - loss: 0.0028 - val_loss: 0.0030\n",
      "Epoch 1149/2000\n",
      "50/50 - 0s - loss: 0.0029 - val_loss: 0.0029\n",
      "Epoch 1150/2000\n",
      "50/50 - 0s - loss: 0.0028 - val_loss: 0.0028\n",
      "Epoch 1151/2000\n",
      "50/50 - 0s - loss: 0.0028 - val_loss: 0.0027\n",
      "Epoch 1152/2000\n",
      "50/50 - 0s - loss: 0.0028 - val_loss: 0.0029\n",
      "Epoch 1153/2000\n",
      "50/50 - 0s - loss: 0.0028 - val_loss: 0.0032\n",
      "Epoch 1154/2000\n",
      "50/50 - 0s - loss: 0.0028 - val_loss: 0.0029\n",
      "Epoch 1155/2000\n",
      "50/50 - 0s - loss: 0.0028 - val_loss: 0.0031\n",
      "Epoch 1156/2000\n",
      "50/50 - 0s - loss: 0.0028 - val_loss: 0.0030\n",
      "Epoch 1157/2000\n",
      "50/50 - 0s - loss: 0.0028 - val_loss: 0.0027\n",
      "Epoch 1158/2000\n",
      "50/50 - 0s - loss: 0.0028 - val_loss: 0.0028\n",
      "Epoch 1159/2000\n",
      "50/50 - 0s - loss: 0.0029 - val_loss: 0.0029\n",
      "Epoch 1160/2000\n",
      "50/50 - 0s - loss: 0.0029 - val_loss: 0.0029\n",
      "Epoch 1161/2000\n",
      "50/50 - 0s - loss: 0.0027 - val_loss: 0.0030\n",
      "Epoch 1162/2000\n",
      "50/50 - 0s - loss: 0.0029 - val_loss: 0.0028\n",
      "Epoch 1163/2000\n",
      "50/50 - 0s - loss: 0.0028 - val_loss: 0.0028\n",
      "Epoch 1164/2000\n",
      "50/50 - 0s - loss: 0.0028 - val_loss: 0.0033\n",
      "Epoch 1165/2000\n",
      "50/50 - 0s - loss: 0.0027 - val_loss: 0.0029\n",
      "Epoch 1166/2000\n",
      "50/50 - 0s - loss: 0.0028 - val_loss: 0.0035\n",
      "Epoch 1167/2000\n",
      "50/50 - 0s - loss: 0.0027 - val_loss: 0.0029\n",
      "Epoch 1168/2000\n",
      "50/50 - 0s - loss: 0.0029 - val_loss: 0.0029\n",
      "Epoch 1169/2000\n",
      "50/50 - 0s - loss: 0.0028 - val_loss: 0.0033\n",
      "Epoch 1170/2000\n",
      "50/50 - 0s - loss: 0.0030 - val_loss: 0.0027\n",
      "Epoch 1171/2000\n",
      "50/50 - 0s - loss: 0.0027 - val_loss: 0.0029\n",
      "Epoch 1172/2000\n",
      "50/50 - 0s - loss: 0.0029 - val_loss: 0.0027\n",
      "Epoch 1173/2000\n",
      "50/50 - 0s - loss: 0.0027 - val_loss: 0.0027\n",
      "Epoch 1174/2000\n",
      "50/50 - 0s - loss: 0.0027 - val_loss: 0.0028\n",
      "Epoch 1175/2000\n",
      "50/50 - 0s - loss: 0.0027 - val_loss: 0.0030\n",
      "Epoch 1176/2000\n",
      "50/50 - 0s - loss: 0.0027 - val_loss: 0.0027\n",
      "Epoch 1177/2000\n",
      "50/50 - 0s - loss: 0.0028 - val_loss: 0.0029\n",
      "Epoch 1178/2000\n",
      "50/50 - 0s - loss: 0.0028 - val_loss: 0.0032\n",
      "Epoch 1179/2000\n",
      "50/50 - 0s - loss: 0.0028 - val_loss: 0.0028\n",
      "Epoch 1180/2000\n",
      "50/50 - 0s - loss: 0.0028 - val_loss: 0.0027\n",
      "Epoch 1181/2000\n",
      "50/50 - 0s - loss: 0.0028 - val_loss: 0.0028\n",
      "Epoch 1182/2000\n",
      "50/50 - 0s - loss: 0.0027 - val_loss: 0.0027\n",
      "Epoch 1183/2000\n",
      "50/50 - 0s - loss: 0.0028 - val_loss: 0.0029\n",
      "Epoch 1184/2000\n",
      "50/50 - 0s - loss: 0.0028 - val_loss: 0.0034\n",
      "Epoch 1185/2000\n",
      "50/50 - 0s - loss: 0.0028 - val_loss: 0.0028\n",
      "Epoch 1186/2000\n",
      "50/50 - 0s - loss: 0.0028 - val_loss: 0.0030\n",
      "Epoch 1187/2000\n",
      "50/50 - 0s - loss: 0.0027 - val_loss: 0.0028\n",
      "Epoch 1188/2000\n",
      "50/50 - 0s - loss: 0.0028 - val_loss: 0.0027\n",
      "Epoch 1189/2000\n",
      "50/50 - 0s - loss: 0.0028 - val_loss: 0.0029\n",
      "Epoch 1190/2000\n",
      "50/50 - 0s - loss: 0.0027 - val_loss: 0.0029\n",
      "Epoch 1191/2000\n",
      "50/50 - 0s - loss: 0.0027 - val_loss: 0.0031\n",
      "Epoch 1192/2000\n",
      "50/50 - 0s - loss: 0.0029 - val_loss: 0.0036\n",
      "Epoch 1193/2000\n",
      "50/50 - 0s - loss: 0.0030 - val_loss: 0.0031\n",
      "Epoch 1194/2000\n",
      "50/50 - 0s - loss: 0.0028 - val_loss: 0.0029\n",
      "Epoch 1195/2000\n",
      "50/50 - 0s - loss: 0.0028 - val_loss: 0.0030\n",
      "Epoch 1196/2000\n",
      "50/50 - 0s - loss: 0.0028 - val_loss: 0.0029\n",
      "Epoch 1197/2000\n",
      "50/50 - 0s - loss: 0.0029 - val_loss: 0.0029\n",
      "Epoch 1198/2000\n",
      "50/50 - 0s - loss: 0.0028 - val_loss: 0.0027\n",
      "Epoch 1199/2000\n",
      "50/50 - 0s - loss: 0.0028 - val_loss: 0.0028\n",
      "Epoch 1200/2000\n",
      "50/50 - 0s - loss: 0.0027 - val_loss: 0.0027\n",
      "Epoch 1201/2000\n",
      "50/50 - 0s - loss: 0.0028 - val_loss: 0.0027\n",
      "Epoch 1202/2000\n",
      "50/50 - 0s - loss: 0.0027 - val_loss: 0.0027\n",
      "Epoch 1203/2000\n",
      "50/50 - 0s - loss: 0.0028 - val_loss: 0.0029\n",
      "Epoch 1204/2000\n",
      "50/50 - 0s - loss: 0.0028 - val_loss: 0.0028\n",
      "Epoch 1205/2000\n",
      "50/50 - 0s - loss: 0.0027 - val_loss: 0.0030\n",
      "Epoch 1206/2000\n",
      "50/50 - 0s - loss: 0.0028 - val_loss: 0.0029\n",
      "Epoch 1207/2000\n",
      "50/50 - 0s - loss: 0.0027 - val_loss: 0.0028\n",
      "Epoch 1208/2000\n",
      "50/50 - 0s - loss: 0.0028 - val_loss: 0.0035\n",
      "Epoch 1209/2000\n",
      "50/50 - 0s - loss: 0.0032 - val_loss: 0.0032\n",
      "Epoch 1210/2000\n",
      "50/50 - 0s - loss: 0.0029 - val_loss: 0.0028\n",
      "Epoch 1211/2000\n",
      "50/50 - 0s - loss: 0.0027 - val_loss: 0.0028\n",
      "Epoch 1212/2000\n",
      "50/50 - 0s - loss: 0.0028 - val_loss: 0.0029\n",
      "Epoch 1213/2000\n",
      "50/50 - 0s - loss: 0.0029 - val_loss: 0.0027\n",
      "Epoch 1214/2000\n",
      "50/50 - 0s - loss: 0.0027 - val_loss: 0.0031\n",
      "Epoch 1215/2000\n",
      "50/50 - 0s - loss: 0.0028 - val_loss: 0.0029\n",
      "Epoch 1216/2000\n",
      "50/50 - 0s - loss: 0.0027 - val_loss: 0.0030\n",
      "Epoch 1217/2000\n",
      "50/50 - 0s - loss: 0.0027 - val_loss: 0.0031\n",
      "Epoch 1218/2000\n",
      "50/50 - 0s - loss: 0.0029 - val_loss: 0.0029\n",
      "Epoch 1219/2000\n",
      "50/50 - 0s - loss: 0.0028 - val_loss: 0.0032\n",
      "Epoch 1220/2000\n",
      "50/50 - 0s - loss: 0.0029 - val_loss: 0.0032\n",
      "Epoch 1221/2000\n",
      "50/50 - 0s - loss: 0.0028 - val_loss: 0.0031\n",
      "Epoch 1222/2000\n",
      "50/50 - 0s - loss: 0.0027 - val_loss: 0.0031\n",
      "Epoch 1223/2000\n",
      "50/50 - 0s - loss: 0.0027 - val_loss: 0.0027\n",
      "Epoch 1224/2000\n",
      "50/50 - 0s - loss: 0.0027 - val_loss: 0.0028\n",
      "Epoch 1225/2000\n",
      "50/50 - 0s - loss: 0.0027 - val_loss: 0.0027\n",
      "Epoch 1226/2000\n",
      "50/50 - 0s - loss: 0.0027 - val_loss: 0.0028\n",
      "Epoch 1227/2000\n",
      "50/50 - 0s - loss: 0.0026 - val_loss: 0.0030\n",
      "Epoch 1228/2000\n",
      "50/50 - 0s - loss: 0.0028 - val_loss: 0.0030\n"
     ]
    },
    {
     "name": "stdout",
     "output_type": "stream",
     "text": [
      "Epoch 1229/2000\n",
      "50/50 - 0s - loss: 0.0027 - val_loss: 0.0033\n",
      "Epoch 1230/2000\n",
      "50/50 - 0s - loss: 0.0027 - val_loss: 0.0031\n",
      "Epoch 1231/2000\n",
      "50/50 - 0s - loss: 0.0027 - val_loss: 0.0028\n",
      "Epoch 1232/2000\n",
      "50/50 - 0s - loss: 0.0028 - val_loss: 0.0028\n",
      "Epoch 1233/2000\n",
      "50/50 - 0s - loss: 0.0027 - val_loss: 0.0031\n",
      "Epoch 1234/2000\n",
      "50/50 - 0s - loss: 0.0027 - val_loss: 0.0032\n",
      "Epoch 1235/2000\n",
      "50/50 - 0s - loss: 0.0028 - val_loss: 0.0030\n",
      "Epoch 1236/2000\n",
      "50/50 - 0s - loss: 0.0028 - val_loss: 0.0028\n",
      "Epoch 1237/2000\n",
      "50/50 - 0s - loss: 0.0028 - val_loss: 0.0028\n",
      "Epoch 1238/2000\n",
      "50/50 - 0s - loss: 0.0027 - val_loss: 0.0028\n",
      "Epoch 1239/2000\n",
      "50/50 - 0s - loss: 0.0028 - val_loss: 0.0028\n",
      "Epoch 1240/2000\n",
      "50/50 - 0s - loss: 0.0027 - val_loss: 0.0028\n",
      "Epoch 1241/2000\n",
      "50/50 - 0s - loss: 0.0028 - val_loss: 0.0028\n",
      "Epoch 1242/2000\n",
      "50/50 - 0s - loss: 0.0027 - val_loss: 0.0028\n",
      "Epoch 1243/2000\n",
      "50/50 - 0s - loss: 0.0028 - val_loss: 0.0031\n",
      "Epoch 1244/2000\n",
      "50/50 - 0s - loss: 0.0028 - val_loss: 0.0031\n",
      "Epoch 1245/2000\n",
      "50/50 - 0s - loss: 0.0028 - val_loss: 0.0027\n",
      "Epoch 1246/2000\n",
      "50/50 - 0s - loss: 0.0028 - val_loss: 0.0029\n",
      "Epoch 1247/2000\n",
      "50/50 - 0s - loss: 0.0027 - val_loss: 0.0028\n",
      "Epoch 1248/2000\n",
      "50/50 - 0s - loss: 0.0027 - val_loss: 0.0029\n",
      "Epoch 1249/2000\n",
      "50/50 - 0s - loss: 0.0028 - val_loss: 0.0031\n",
      "Epoch 1250/2000\n",
      "50/50 - 0s - loss: 0.0029 - val_loss: 0.0030\n",
      "Epoch 1251/2000\n",
      "50/50 - 0s - loss: 0.0028 - val_loss: 0.0028\n",
      "Epoch 1252/2000\n",
      "50/50 - 0s - loss: 0.0029 - val_loss: 0.0027\n",
      "Epoch 1253/2000\n",
      "50/50 - 0s - loss: 0.0028 - val_loss: 0.0031\n",
      "Epoch 1254/2000\n",
      "50/50 - 0s - loss: 0.0028 - val_loss: 0.0032\n",
      "Epoch 1255/2000\n",
      "50/50 - 0s - loss: 0.0029 - val_loss: 0.0033\n",
      "Epoch 1256/2000\n",
      "50/50 - 0s - loss: 0.0028 - val_loss: 0.0028\n",
      "Epoch 1257/2000\n",
      "50/50 - 0s - loss: 0.0029 - val_loss: 0.0030\n",
      "Epoch 1258/2000\n",
      "50/50 - 0s - loss: 0.0028 - val_loss: 0.0029\n",
      "Epoch 1259/2000\n",
      "50/50 - 0s - loss: 0.0028 - val_loss: 0.0034\n",
      "Epoch 1260/2000\n",
      "50/50 - 0s - loss: 0.0027 - val_loss: 0.0029\n",
      "Epoch 1261/2000\n",
      "50/50 - 0s - loss: 0.0027 - val_loss: 0.0030\n",
      "Epoch 1262/2000\n",
      "50/50 - 0s - loss: 0.0028 - val_loss: 0.0029\n",
      "Epoch 1263/2000\n",
      "50/50 - 0s - loss: 0.0031 - val_loss: 0.0035\n",
      "Epoch 1264/2000\n",
      "50/50 - 0s - loss: 0.0028 - val_loss: 0.0028\n",
      "Epoch 1265/2000\n",
      "50/50 - 0s - loss: 0.0028 - val_loss: 0.0028\n",
      "Epoch 1266/2000\n",
      "50/50 - 0s - loss: 0.0027 - val_loss: 0.0027\n",
      "Epoch 1267/2000\n",
      "50/50 - 0s - loss: 0.0027 - val_loss: 0.0027\n",
      "Epoch 1268/2000\n",
      "50/50 - 0s - loss: 0.0028 - val_loss: 0.0028\n",
      "Epoch 1269/2000\n",
      "50/50 - 0s - loss: 0.0028 - val_loss: 0.0029\n",
      "Epoch 1270/2000\n",
      "50/50 - 0s - loss: 0.0029 - val_loss: 0.0027\n",
      "Epoch 1271/2000\n",
      "50/50 - 0s - loss: 0.0028 - val_loss: 0.0028\n",
      "Epoch 1272/2000\n",
      "50/50 - 0s - loss: 0.0027 - val_loss: 0.0028\n",
      "Epoch 1273/2000\n",
      "50/50 - 0s - loss: 0.0028 - val_loss: 0.0029\n",
      "Epoch 1274/2000\n",
      "50/50 - 0s - loss: 0.0027 - val_loss: 0.0028\n",
      "Epoch 1275/2000\n",
      "50/50 - 0s - loss: 0.0027 - val_loss: 0.0028\n",
      "Epoch 1276/2000\n",
      "50/50 - 0s - loss: 0.0028 - val_loss: 0.0034\n",
      "Epoch 1277/2000\n",
      "50/50 - 0s - loss: 0.0029 - val_loss: 0.0027\n",
      "Epoch 1278/2000\n",
      "50/50 - 0s - loss: 0.0027 - val_loss: 0.0028\n",
      "Epoch 1279/2000\n",
      "50/50 - 0s - loss: 0.0027 - val_loss: 0.0029\n",
      "Epoch 1280/2000\n",
      "50/50 - 0s - loss: 0.0027 - val_loss: 0.0027\n",
      "Epoch 1281/2000\n",
      "50/50 - 0s - loss: 0.0028 - val_loss: 0.0030\n",
      "Epoch 1282/2000\n",
      "50/50 - 0s - loss: 0.0029 - val_loss: 0.0033\n",
      "Epoch 1283/2000\n",
      "50/50 - 0s - loss: 0.0027 - val_loss: 0.0029\n",
      "Epoch 1284/2000\n",
      "50/50 - 0s - loss: 0.0029 - val_loss: 0.0028\n",
      "Epoch 1285/2000\n",
      "50/50 - 0s - loss: 0.0027 - val_loss: 0.0028\n",
      "Epoch 1286/2000\n",
      "50/50 - 0s - loss: 0.0028 - val_loss: 0.0034\n",
      "Epoch 1287/2000\n",
      "50/50 - 0s - loss: 0.0028 - val_loss: 0.0030\n",
      "Epoch 1288/2000\n",
      "50/50 - 0s - loss: 0.0027 - val_loss: 0.0033\n",
      "Epoch 1289/2000\n",
      "50/50 - 0s - loss: 0.0029 - val_loss: 0.0028\n",
      "Epoch 1290/2000\n",
      "50/50 - 0s - loss: 0.0028 - val_loss: 0.0032\n",
      "Epoch 1291/2000\n",
      "50/50 - 0s - loss: 0.0028 - val_loss: 0.0028\n",
      "Epoch 1292/2000\n",
      "50/50 - 0s - loss: 0.0027 - val_loss: 0.0028\n",
      "Epoch 1293/2000\n",
      "50/50 - 0s - loss: 0.0028 - val_loss: 0.0028\n",
      "Epoch 1294/2000\n",
      "50/50 - 0s - loss: 0.0028 - val_loss: 0.0032\n",
      "Epoch 1295/2000\n",
      "50/50 - 0s - loss: 0.0029 - val_loss: 0.0028\n",
      "Epoch 1296/2000\n",
      "50/50 - 0s - loss: 0.0028 - val_loss: 0.0032\n",
      "Epoch 1297/2000\n",
      "50/50 - 0s - loss: 0.0029 - val_loss: 0.0028\n",
      "Epoch 1298/2000\n",
      "50/50 - 0s - loss: 0.0028 - val_loss: 0.0029\n",
      "Epoch 1299/2000\n",
      "50/50 - 0s - loss: 0.0027 - val_loss: 0.0028\n",
      "Epoch 1300/2000\n",
      "50/50 - 0s - loss: 0.0028 - val_loss: 0.0029\n",
      "Epoch 1301/2000\n",
      "50/50 - 0s - loss: 0.0028 - val_loss: 0.0029\n",
      "Epoch 1302/2000\n",
      "50/50 - 0s - loss: 0.0028 - val_loss: 0.0027\n",
      "Epoch 1303/2000\n",
      "50/50 - 0s - loss: 0.0028 - val_loss: 0.0028\n",
      "Epoch 1304/2000\n",
      "50/50 - 0s - loss: 0.0028 - val_loss: 0.0028\n",
      "Epoch 1305/2000\n",
      "50/50 - 0s - loss: 0.0027 - val_loss: 0.0029\n",
      "Epoch 1306/2000\n",
      "50/50 - 0s - loss: 0.0028 - val_loss: 0.0038\n",
      "Epoch 1307/2000\n",
      "50/50 - 0s - loss: 0.0028 - val_loss: 0.0027\n",
      "Epoch 1308/2000\n",
      "50/50 - 0s - loss: 0.0027 - val_loss: 0.0027\n",
      "Epoch 1309/2000\n",
      "50/50 - 0s - loss: 0.0027 - val_loss: 0.0030\n",
      "Epoch 1310/2000\n",
      "50/50 - 0s - loss: 0.0027 - val_loss: 0.0028\n",
      "Epoch 1311/2000\n",
      "50/50 - 0s - loss: 0.0027 - val_loss: 0.0029\n",
      "Epoch 1312/2000\n",
      "50/50 - 0s - loss: 0.0027 - val_loss: 0.0028\n",
      "Epoch 1313/2000\n",
      "50/50 - 0s - loss: 0.0028 - val_loss: 0.0027\n",
      "Epoch 1314/2000\n",
      "50/50 - 0s - loss: 0.0029 - val_loss: 0.0028\n",
      "Epoch 1315/2000\n",
      "50/50 - 0s - loss: 0.0027 - val_loss: 0.0029\n",
      "Epoch 1316/2000\n",
      "50/50 - 0s - loss: 0.0027 - val_loss: 0.0028\n",
      "Epoch 1317/2000\n",
      "50/50 - 0s - loss: 0.0028 - val_loss: 0.0032\n",
      "Epoch 1318/2000\n",
      "50/50 - 0s - loss: 0.0028 - val_loss: 0.0029\n",
      "Epoch 1319/2000\n",
      "50/50 - 0s - loss: 0.0028 - val_loss: 0.0027\n",
      "Epoch 1320/2000\n",
      "50/50 - 0s - loss: 0.0027 - val_loss: 0.0028\n",
      "Epoch 1321/2000\n",
      "50/50 - 0s - loss: 0.0028 - val_loss: 0.0030\n",
      "Epoch 1322/2000\n",
      "50/50 - 0s - loss: 0.0028 - val_loss: 0.0031\n",
      "Epoch 1323/2000\n",
      "50/50 - 0s - loss: 0.0029 - val_loss: 0.0029\n",
      "Epoch 1324/2000\n",
      "50/50 - 0s - loss: 0.0027 - val_loss: 0.0031\n",
      "Epoch 1325/2000\n",
      "50/50 - 0s - loss: 0.0028 - val_loss: 0.0028\n",
      "Epoch 1326/2000\n",
      "50/50 - 0s - loss: 0.0027 - val_loss: 0.0028\n",
      "Epoch 1327/2000\n",
      "50/50 - 0s - loss: 0.0028 - val_loss: 0.0028\n",
      "Epoch 1328/2000\n",
      "50/50 - 0s - loss: 0.0028 - val_loss: 0.0030\n",
      "Epoch 1329/2000\n",
      "50/50 - 0s - loss: 0.0028 - val_loss: 0.0029\n",
      "Epoch 1330/2000\n",
      "50/50 - 0s - loss: 0.0028 - val_loss: 0.0029\n",
      "Epoch 1331/2000\n",
      "50/50 - 0s - loss: 0.0027 - val_loss: 0.0029\n",
      "Epoch 1332/2000\n",
      "50/50 - 0s - loss: 0.0029 - val_loss: 0.0029\n",
      "Epoch 1333/2000\n",
      "50/50 - 0s - loss: 0.0027 - val_loss: 0.0028\n",
      "Epoch 1334/2000\n",
      "50/50 - 0s - loss: 0.0027 - val_loss: 0.0029\n",
      "Epoch 1335/2000\n",
      "50/50 - 0s - loss: 0.0028 - val_loss: 0.0030\n",
      "Epoch 1336/2000\n",
      "50/50 - 0s - loss: 0.0028 - val_loss: 0.0029\n",
      "Epoch 1337/2000\n",
      "50/50 - 0s - loss: 0.0028 - val_loss: 0.0028\n",
      "Epoch 1338/2000\n",
      "50/50 - 0s - loss: 0.0028 - val_loss: 0.0029\n",
      "Epoch 1339/2000\n",
      "50/50 - 0s - loss: 0.0027 - val_loss: 0.0028\n",
      "Epoch 1340/2000\n",
      "50/50 - 0s - loss: 0.0027 - val_loss: 0.0032\n",
      "Epoch 1341/2000\n",
      "50/50 - 0s - loss: 0.0027 - val_loss: 0.0028\n",
      "Epoch 1342/2000\n",
      "50/50 - 0s - loss: 0.0027 - val_loss: 0.0027\n",
      "Epoch 1343/2000\n",
      "50/50 - 0s - loss: 0.0028 - val_loss: 0.0031\n",
      "Epoch 1344/2000\n",
      "50/50 - 0s - loss: 0.0028 - val_loss: 0.0028\n",
      "Epoch 1345/2000\n",
      "50/50 - 0s - loss: 0.0028 - val_loss: 0.0028\n",
      "Epoch 1346/2000\n",
      "50/50 - 0s - loss: 0.0027 - val_loss: 0.0027\n",
      "Epoch 1347/2000\n",
      "50/50 - 0s - loss: 0.0027 - val_loss: 0.0030\n",
      "Epoch 1348/2000\n",
      "50/50 - 0s - loss: 0.0028 - val_loss: 0.0031\n",
      "Epoch 1349/2000\n",
      "50/50 - 0s - loss: 0.0028 - val_loss: 0.0027\n",
      "Epoch 1350/2000\n",
      "50/50 - 0s - loss: 0.0029 - val_loss: 0.0038\n",
      "Epoch 1351/2000\n",
      "50/50 - 0s - loss: 0.0029 - val_loss: 0.0030\n",
      "Epoch 1352/2000\n",
      "50/50 - 0s - loss: 0.0028 - val_loss: 0.0027\n",
      "Epoch 1353/2000\n",
      "50/50 - 0s - loss: 0.0027 - val_loss: 0.0029\n",
      "Epoch 1354/2000\n",
      "50/50 - 0s - loss: 0.0027 - val_loss: 0.0031\n",
      "Epoch 1355/2000\n",
      "50/50 - 0s - loss: 0.0028 - val_loss: 0.0028\n",
      "Epoch 1356/2000\n",
      "50/50 - 0s - loss: 0.0027 - val_loss: 0.0030\n",
      "Epoch 1357/2000\n",
      "50/50 - 0s - loss: 0.0028 - val_loss: 0.0028\n",
      "Epoch 1358/2000\n",
      "50/50 - 0s - loss: 0.0029 - val_loss: 0.0028\n",
      "Epoch 1359/2000\n",
      "50/50 - 0s - loss: 0.0028 - val_loss: 0.0030\n",
      "Epoch 1360/2000\n",
      "50/50 - 0s - loss: 0.0027 - val_loss: 0.0030\n",
      "Epoch 1361/2000\n",
      "50/50 - 0s - loss: 0.0027 - val_loss: 0.0031\n",
      "Epoch 1362/2000\n",
      "50/50 - 0s - loss: 0.0027 - val_loss: 0.0029\n",
      "Epoch 1363/2000\n",
      "50/50 - 0s - loss: 0.0027 - val_loss: 0.0028\n"
     ]
    },
    {
     "name": "stdout",
     "output_type": "stream",
     "text": [
      "Epoch 1364/2000\n",
      "50/50 - 0s - loss: 0.0027 - val_loss: 0.0028\n",
      "Epoch 1365/2000\n",
      "50/50 - 0s - loss: 0.0027 - val_loss: 0.0032\n",
      "Epoch 1366/2000\n",
      "50/50 - 0s - loss: 0.0028 - val_loss: 0.0028\n",
      "Epoch 1367/2000\n",
      "50/50 - 0s - loss: 0.0028 - val_loss: 0.0029\n",
      "Epoch 1368/2000\n",
      "50/50 - 0s - loss: 0.0028 - val_loss: 0.0027\n",
      "Epoch 1369/2000\n",
      "50/50 - 0s - loss: 0.0027 - val_loss: 0.0031\n",
      "Epoch 1370/2000\n",
      "50/50 - 0s - loss: 0.0028 - val_loss: 0.0032\n",
      "Epoch 1371/2000\n",
      "50/50 - 0s - loss: 0.0029 - val_loss: 0.0031\n",
      "Epoch 1372/2000\n",
      "50/50 - 0s - loss: 0.0029 - val_loss: 0.0029\n",
      "Epoch 1373/2000\n",
      "50/50 - 0s - loss: 0.0028 - val_loss: 0.0028\n",
      "Epoch 1374/2000\n",
      "50/50 - 0s - loss: 0.0029 - val_loss: 0.0028\n",
      "Epoch 1375/2000\n",
      "50/50 - 0s - loss: 0.0027 - val_loss: 0.0037\n",
      "Epoch 1376/2000\n",
      "50/50 - 0s - loss: 0.0029 - val_loss: 0.0027\n",
      "Epoch 1377/2000\n",
      "50/50 - 0s - loss: 0.0028 - val_loss: 0.0028\n",
      "Epoch 1378/2000\n",
      "50/50 - 0s - loss: 0.0027 - val_loss: 0.0035\n",
      "Epoch 1379/2000\n",
      "50/50 - 0s - loss: 0.0027 - val_loss: 0.0031\n",
      "Epoch 1380/2000\n",
      "50/50 - 0s - loss: 0.0029 - val_loss: 0.0030\n",
      "Epoch 1381/2000\n",
      "50/50 - 0s - loss: 0.0028 - val_loss: 0.0029\n",
      "Epoch 1382/2000\n",
      "50/50 - 0s - loss: 0.0027 - val_loss: 0.0028\n",
      "Epoch 1383/2000\n",
      "50/50 - 0s - loss: 0.0027 - val_loss: 0.0038\n",
      "Epoch 1384/2000\n",
      "50/50 - 0s - loss: 0.0028 - val_loss: 0.0029\n",
      "Epoch 1385/2000\n",
      "50/50 - 0s - loss: 0.0027 - val_loss: 0.0032\n",
      "Epoch 1386/2000\n",
      "50/50 - 0s - loss: 0.0028 - val_loss: 0.0029\n",
      "Epoch 1387/2000\n",
      "50/50 - 0s - loss: 0.0027 - val_loss: 0.0029\n",
      "Epoch 1388/2000\n",
      "50/50 - 0s - loss: 0.0028 - val_loss: 0.0030\n",
      "Epoch 1389/2000\n",
      "50/50 - 0s - loss: 0.0028 - val_loss: 0.0028\n",
      "Epoch 1390/2000\n",
      "50/50 - 0s - loss: 0.0028 - val_loss: 0.0029\n",
      "Epoch 1391/2000\n",
      "50/50 - 0s - loss: 0.0027 - val_loss: 0.0030\n",
      "Epoch 1392/2000\n",
      "50/50 - 0s - loss: 0.0027 - val_loss: 0.0028\n",
      "Epoch 1393/2000\n",
      "50/50 - 0s - loss: 0.0027 - val_loss: 0.0028\n",
      "Epoch 1394/2000\n",
      "50/50 - 0s - loss: 0.0027 - val_loss: 0.0030\n",
      "Epoch 1395/2000\n",
      "50/50 - 0s - loss: 0.0029 - val_loss: 0.0030\n",
      "Epoch 1396/2000\n",
      "50/50 - 0s - loss: 0.0028 - val_loss: 0.0028\n",
      "Epoch 1397/2000\n",
      "50/50 - 0s - loss: 0.0027 - val_loss: 0.0031\n",
      "Epoch 1398/2000\n",
      "50/50 - 0s - loss: 0.0028 - val_loss: 0.0028\n",
      "Epoch 1399/2000\n",
      "50/50 - 0s - loss: 0.0027 - val_loss: 0.0027\n",
      "Epoch 1400/2000\n",
      "50/50 - 0s - loss: 0.0027 - val_loss: 0.0028\n",
      "Epoch 1401/2000\n",
      "50/50 - 0s - loss: 0.0027 - val_loss: 0.0028\n",
      "Epoch 1402/2000\n",
      "50/50 - 0s - loss: 0.0028 - val_loss: 0.0029\n",
      "Epoch 1403/2000\n",
      "50/50 - 0s - loss: 0.0028 - val_loss: 0.0028\n",
      "Epoch 1404/2000\n",
      "50/50 - 0s - loss: 0.0029 - val_loss: 0.0029\n",
      "Epoch 1405/2000\n",
      "50/50 - 0s - loss: 0.0027 - val_loss: 0.0031\n",
      "Epoch 1406/2000\n",
      "50/50 - 0s - loss: 0.0027 - val_loss: 0.0030\n",
      "Epoch 1407/2000\n",
      "50/50 - 0s - loss: 0.0027 - val_loss: 0.0028\n",
      "Epoch 1408/2000\n",
      "50/50 - 0s - loss: 0.0027 - val_loss: 0.0031\n",
      "Epoch 1409/2000\n",
      "50/50 - 0s - loss: 0.0027 - val_loss: 0.0028\n",
      "Epoch 1410/2000\n",
      "50/50 - 0s - loss: 0.0028 - val_loss: 0.0027\n",
      "Epoch 1411/2000\n",
      "50/50 - 0s - loss: 0.0027 - val_loss: 0.0030\n",
      "Epoch 1412/2000\n",
      "50/50 - 0s - loss: 0.0027 - val_loss: 0.0028\n",
      "Epoch 1413/2000\n",
      "50/50 - 0s - loss: 0.0027 - val_loss: 0.0028\n",
      "Epoch 1414/2000\n",
      "50/50 - 0s - loss: 0.0027 - val_loss: 0.0028\n",
      "Epoch 1415/2000\n",
      "50/50 - 0s - loss: 0.0028 - val_loss: 0.0028\n",
      "Epoch 1416/2000\n",
      "50/50 - 0s - loss: 0.0028 - val_loss: 0.0036\n",
      "Epoch 1417/2000\n",
      "50/50 - 0s - loss: 0.0027 - val_loss: 0.0029\n",
      "Epoch 1418/2000\n",
      "50/50 - 0s - loss: 0.0027 - val_loss: 0.0028\n",
      "Epoch 1419/2000\n",
      "50/50 - 0s - loss: 0.0027 - val_loss: 0.0028\n",
      "Epoch 1420/2000\n",
      "50/50 - 0s - loss: 0.0028 - val_loss: 0.0036\n",
      "Epoch 1421/2000\n",
      "50/50 - 0s - loss: 0.0029 - val_loss: 0.0037\n",
      "Epoch 1422/2000\n",
      "50/50 - 0s - loss: 0.0027 - val_loss: 0.0028\n",
      "Epoch 1423/2000\n",
      "50/50 - 0s - loss: 0.0027 - val_loss: 0.0030\n",
      "Epoch 1424/2000\n",
      "50/50 - 0s - loss: 0.0027 - val_loss: 0.0030\n",
      "Epoch 1425/2000\n",
      "50/50 - 0s - loss: 0.0029 - val_loss: 0.0030\n",
      "Epoch 1426/2000\n",
      "50/50 - 0s - loss: 0.0029 - val_loss: 0.0030\n",
      "Epoch 1427/2000\n",
      "50/50 - 0s - loss: 0.0029 - val_loss: 0.0030\n",
      "Epoch 1428/2000\n",
      "50/50 - 0s - loss: 0.0028 - val_loss: 0.0028\n",
      "Epoch 1429/2000\n",
      "50/50 - 0s - loss: 0.0028 - val_loss: 0.0030\n",
      "Epoch 1430/2000\n",
      "50/50 - 0s - loss: 0.0028 - val_loss: 0.0030\n",
      "Epoch 1431/2000\n",
      "50/50 - 0s - loss: 0.0027 - val_loss: 0.0028\n",
      "Epoch 1432/2000\n",
      "50/50 - 0s - loss: 0.0027 - val_loss: 0.0029\n",
      "Epoch 1433/2000\n",
      "50/50 - 0s - loss: 0.0028 - val_loss: 0.0028\n",
      "Epoch 1434/2000\n",
      "50/50 - 0s - loss: 0.0027 - val_loss: 0.0032\n",
      "Epoch 1435/2000\n",
      "50/50 - 0s - loss: 0.0028 - val_loss: 0.0028\n",
      "Epoch 1436/2000\n",
      "50/50 - 0s - loss: 0.0027 - val_loss: 0.0031\n",
      "Epoch 1437/2000\n",
      "50/50 - 0s - loss: 0.0027 - val_loss: 0.0028\n",
      "Epoch 1438/2000\n",
      "50/50 - 0s - loss: 0.0027 - val_loss: 0.0031\n",
      "Epoch 1439/2000\n",
      "50/50 - 0s - loss: 0.0028 - val_loss: 0.0027\n",
      "Epoch 1440/2000\n",
      "50/50 - 0s - loss: 0.0027 - val_loss: 0.0031\n",
      "Epoch 1441/2000\n",
      "50/50 - 0s - loss: 0.0027 - val_loss: 0.0030\n",
      "Epoch 1442/2000\n",
      "50/50 - 0s - loss: 0.0029 - val_loss: 0.0032\n",
      "Epoch 1443/2000\n",
      "50/50 - 0s - loss: 0.0029 - val_loss: 0.0030\n",
      "Epoch 1444/2000\n",
      "50/50 - 0s - loss: 0.0027 - val_loss: 0.0029\n",
      "Epoch 1445/2000\n",
      "50/50 - 0s - loss: 0.0027 - val_loss: 0.0029\n",
      "Epoch 1446/2000\n",
      "50/50 - 0s - loss: 0.0028 - val_loss: 0.0031\n",
      "Epoch 1447/2000\n",
      "50/50 - 0s - loss: 0.0029 - val_loss: 0.0028\n",
      "Epoch 1448/2000\n",
      "50/50 - 0s - loss: 0.0028 - val_loss: 0.0027\n",
      "Epoch 1449/2000\n",
      "50/50 - 0s - loss: 0.0028 - val_loss: 0.0030\n",
      "Epoch 1450/2000\n",
      "50/50 - 0s - loss: 0.0027 - val_loss: 0.0032\n",
      "Epoch 1451/2000\n",
      "50/50 - 0s - loss: 0.0027 - val_loss: 0.0031\n",
      "Epoch 1452/2000\n",
      "50/50 - 0s - loss: 0.0027 - val_loss: 0.0027\n",
      "Epoch 1453/2000\n",
      "50/50 - 0s - loss: 0.0027 - val_loss: 0.0029\n",
      "Epoch 1454/2000\n",
      "50/50 - 0s - loss: 0.0028 - val_loss: 0.0028\n",
      "Epoch 1455/2000\n",
      "50/50 - 0s - loss: 0.0027 - val_loss: 0.0030\n",
      "Epoch 1456/2000\n",
      "50/50 - 0s - loss: 0.0028 - val_loss: 0.0034\n",
      "Epoch 1457/2000\n",
      "50/50 - 0s - loss: 0.0028 - val_loss: 0.0030\n",
      "Epoch 1458/2000\n",
      "50/50 - 0s - loss: 0.0028 - val_loss: 0.0030\n",
      "Epoch 1459/2000\n",
      "50/50 - 0s - loss: 0.0027 - val_loss: 0.0029\n",
      "Epoch 1460/2000\n",
      "50/50 - 0s - loss: 0.0026 - val_loss: 0.0031\n",
      "Epoch 1461/2000\n",
      "50/50 - 0s - loss: 0.0028 - val_loss: 0.0028\n",
      "Epoch 1462/2000\n",
      "50/50 - 0s - loss: 0.0026 - val_loss: 0.0031\n",
      "Epoch 1463/2000\n",
      "50/50 - 0s - loss: 0.0028 - val_loss: 0.0028\n",
      "Epoch 1464/2000\n",
      "50/50 - 0s - loss: 0.0028 - val_loss: 0.0029\n",
      "Epoch 1465/2000\n",
      "50/50 - 0s - loss: 0.0028 - val_loss: 0.0031\n",
      "Epoch 1466/2000\n",
      "50/50 - 0s - loss: 0.0028 - val_loss: 0.0028\n",
      "Epoch 1467/2000\n",
      "50/50 - 0s - loss: 0.0027 - val_loss: 0.0028\n",
      "Epoch 1468/2000\n",
      "50/50 - 0s - loss: 0.0027 - val_loss: 0.0028\n",
      "Epoch 1469/2000\n",
      "50/50 - 0s - loss: 0.0027 - val_loss: 0.0027\n",
      "Epoch 1470/2000\n",
      "50/50 - 0s - loss: 0.0028 - val_loss: 0.0028\n",
      "Epoch 1471/2000\n",
      "50/50 - 0s - loss: 0.0026 - val_loss: 0.0029\n",
      "Epoch 1472/2000\n",
      "50/50 - 0s - loss: 0.0026 - val_loss: 0.0028\n",
      "Epoch 1473/2000\n",
      "50/50 - 0s - loss: 0.0028 - val_loss: 0.0027\n",
      "Epoch 1474/2000\n",
      "50/50 - 0s - loss: 0.0028 - val_loss: 0.0028\n",
      "Epoch 1475/2000\n",
      "50/50 - 0s - loss: 0.0027 - val_loss: 0.0028\n",
      "Epoch 1476/2000\n",
      "50/50 - 0s - loss: 0.0027 - val_loss: 0.0029\n",
      "Epoch 1477/2000\n",
      "50/50 - 0s - loss: 0.0028 - val_loss: 0.0028\n",
      "Epoch 1478/2000\n",
      "50/50 - 0s - loss: 0.0028 - val_loss: 0.0028\n",
      "Epoch 1479/2000\n",
      "50/50 - 0s - loss: 0.0027 - val_loss: 0.0030\n",
      "Epoch 1480/2000\n",
      "50/50 - 0s - loss: 0.0027 - val_loss: 0.0029\n",
      "Epoch 1481/2000\n",
      "50/50 - 0s - loss: 0.0027 - val_loss: 0.0030\n",
      "Epoch 1482/2000\n",
      "50/50 - 0s - loss: 0.0028 - val_loss: 0.0027\n",
      "Epoch 1483/2000\n",
      "50/50 - 0s - loss: 0.0027 - val_loss: 0.0027\n",
      "Epoch 1484/2000\n",
      "50/50 - 0s - loss: 0.0027 - val_loss: 0.0027\n",
      "Epoch 1485/2000\n",
      "50/50 - 0s - loss: 0.0027 - val_loss: 0.0029\n",
      "Epoch 1486/2000\n",
      "50/50 - 0s - loss: 0.0027 - val_loss: 0.0029\n",
      "Epoch 1487/2000\n",
      "50/50 - 0s - loss: 0.0027 - val_loss: 0.0028\n",
      "Epoch 1488/2000\n",
      "50/50 - 0s - loss: 0.0028 - val_loss: 0.0032\n",
      "Epoch 1489/2000\n",
      "50/50 - 0s - loss: 0.0028 - val_loss: 0.0029\n",
      "Epoch 1490/2000\n",
      "50/50 - 0s - loss: 0.0027 - val_loss: 0.0030\n",
      "Epoch 1491/2000\n",
      "50/50 - 0s - loss: 0.0028 - val_loss: 0.0027\n",
      "Epoch 1492/2000\n",
      "50/50 - 0s - loss: 0.0027 - val_loss: 0.0028\n",
      "Epoch 1493/2000\n",
      "50/50 - 0s - loss: 0.0027 - val_loss: 0.0028\n",
      "Epoch 1494/2000\n",
      "50/50 - 0s - loss: 0.0026 - val_loss: 0.0028\n",
      "Epoch 1495/2000\n",
      "50/50 - 0s - loss: 0.0030 - val_loss: 0.0028\n",
      "Epoch 1496/2000\n",
      "50/50 - 0s - loss: 0.0027 - val_loss: 0.0028\n",
      "Epoch 1497/2000\n",
      "50/50 - 0s - loss: 0.0026 - val_loss: 0.0031\n",
      "Epoch 1498/2000\n",
      "50/50 - 0s - loss: 0.0027 - val_loss: 0.0035\n"
     ]
    },
    {
     "name": "stdout",
     "output_type": "stream",
     "text": [
      "Epoch 1499/2000\n",
      "50/50 - 0s - loss: 0.0028 - val_loss: 0.0030\n",
      "Epoch 1500/2000\n",
      "50/50 - 0s - loss: 0.0029 - val_loss: 0.0027\n",
      "Epoch 1501/2000\n",
      "50/50 - 0s - loss: 0.0027 - val_loss: 0.0028\n",
      "Epoch 1502/2000\n",
      "50/50 - 0s - loss: 0.0027 - val_loss: 0.0028\n",
      "Epoch 1503/2000\n",
      "50/50 - 0s - loss: 0.0027 - val_loss: 0.0029\n",
      "Epoch 1504/2000\n",
      "50/50 - 0s - loss: 0.0026 - val_loss: 0.0028\n",
      "Epoch 1505/2000\n",
      "50/50 - 0s - loss: 0.0026 - val_loss: 0.0029\n",
      "Epoch 1506/2000\n",
      "50/50 - 0s - loss: 0.0029 - val_loss: 0.0028\n",
      "Epoch 1507/2000\n",
      "50/50 - 0s - loss: 0.0027 - val_loss: 0.0027\n",
      "Epoch 1508/2000\n",
      "50/50 - 0s - loss: 0.0027 - val_loss: 0.0028\n",
      "Epoch 1509/2000\n",
      "50/50 - 0s - loss: 0.0026 - val_loss: 0.0028\n",
      "Epoch 1510/2000\n",
      "50/50 - 0s - loss: 0.0026 - val_loss: 0.0028\n",
      "Epoch 1511/2000\n",
      "50/50 - 0s - loss: 0.0027 - val_loss: 0.0028\n",
      "Epoch 1512/2000\n",
      "50/50 - 0s - loss: 0.0028 - val_loss: 0.0029\n",
      "Epoch 1513/2000\n",
      "50/50 - 0s - loss: 0.0028 - val_loss: 0.0028\n",
      "Epoch 1514/2000\n",
      "50/50 - 0s - loss: 0.0026 - val_loss: 0.0027\n",
      "Epoch 1515/2000\n",
      "50/50 - 0s - loss: 0.0027 - val_loss: 0.0028\n",
      "Epoch 1516/2000\n",
      "50/50 - 0s - loss: 0.0027 - val_loss: 0.0029\n",
      "Epoch 1517/2000\n",
      "50/50 - 0s - loss: 0.0027 - val_loss: 0.0027\n",
      "Epoch 1518/2000\n",
      "50/50 - 0s - loss: 0.0027 - val_loss: 0.0029\n",
      "Epoch 1519/2000\n",
      "50/50 - 0s - loss: 0.0027 - val_loss: 0.0028\n",
      "Epoch 1520/2000\n",
      "50/50 - 0s - loss: 0.0027 - val_loss: 0.0029\n",
      "Epoch 1521/2000\n",
      "50/50 - 0s - loss: 0.0028 - val_loss: 0.0028\n",
      "Epoch 1522/2000\n",
      "50/50 - 0s - loss: 0.0026 - val_loss: 0.0029\n",
      "Epoch 1523/2000\n",
      "50/50 - 0s - loss: 0.0026 - val_loss: 0.0028\n",
      "Epoch 1524/2000\n",
      "50/50 - 0s - loss: 0.0028 - val_loss: 0.0027\n",
      "Epoch 1525/2000\n",
      "50/50 - 0s - loss: 0.0028 - val_loss: 0.0031\n",
      "Epoch 1526/2000\n",
      "50/50 - 0s - loss: 0.0027 - val_loss: 0.0028\n",
      "Epoch 1527/2000\n",
      "50/50 - 0s - loss: 0.0027 - val_loss: 0.0026\n",
      "Epoch 1528/2000\n",
      "50/50 - 0s - loss: 0.0026 - val_loss: 0.0029\n",
      "Epoch 1529/2000\n",
      "50/50 - 0s - loss: 0.0027 - val_loss: 0.0028\n",
      "Epoch 1530/2000\n",
      "50/50 - 0s - loss: 0.0027 - val_loss: 0.0030\n",
      "Epoch 1531/2000\n",
      "50/50 - 0s - loss: 0.0028 - val_loss: 0.0028\n",
      "Epoch 1532/2000\n",
      "50/50 - 0s - loss: 0.0027 - val_loss: 0.0029\n",
      "Epoch 1533/2000\n",
      "50/50 - 0s - loss: 0.0028 - val_loss: 0.0037\n",
      "Epoch 1534/2000\n",
      "50/50 - 0s - loss: 0.0029 - val_loss: 0.0029\n",
      "Epoch 1535/2000\n",
      "50/50 - 0s - loss: 0.0028 - val_loss: 0.0027\n",
      "Epoch 1536/2000\n",
      "50/50 - 0s - loss: 0.0026 - val_loss: 0.0029\n",
      "Epoch 1537/2000\n",
      "50/50 - 0s - loss: 0.0026 - val_loss: 0.0026\n",
      "Epoch 1538/2000\n",
      "50/50 - 0s - loss: 0.0027 - val_loss: 0.0027\n",
      "Epoch 1539/2000\n",
      "50/50 - 0s - loss: 0.0026 - val_loss: 0.0028\n",
      "Epoch 1540/2000\n",
      "50/50 - 0s - loss: 0.0028 - val_loss: 0.0029\n",
      "Epoch 1541/2000\n",
      "50/50 - 0s - loss: 0.0028 - val_loss: 0.0028\n",
      "Epoch 1542/2000\n",
      "50/50 - 0s - loss: 0.0028 - val_loss: 0.0029\n",
      "Epoch 1543/2000\n",
      "50/50 - 0s - loss: 0.0028 - val_loss: 0.0027\n",
      "Epoch 1544/2000\n",
      "50/50 - 0s - loss: 0.0027 - val_loss: 0.0028\n",
      "Epoch 1545/2000\n",
      "50/50 - 0s - loss: 0.0026 - val_loss: 0.0027\n",
      "Epoch 1546/2000\n",
      "50/50 - 0s - loss: 0.0027 - val_loss: 0.0028\n",
      "Epoch 1547/2000\n",
      "50/50 - 0s - loss: 0.0029 - val_loss: 0.0031\n",
      "Epoch 1548/2000\n",
      "50/50 - 0s - loss: 0.0026 - val_loss: 0.0028\n",
      "Epoch 1549/2000\n",
      "50/50 - 0s - loss: 0.0027 - val_loss: 0.0029\n",
      "Epoch 1550/2000\n",
      "50/50 - 0s - loss: 0.0027 - val_loss: 0.0026\n",
      "Epoch 1551/2000\n",
      "50/50 - 0s - loss: 0.0026 - val_loss: 0.0028\n",
      "Epoch 1552/2000\n",
      "50/50 - 0s - loss: 0.0027 - val_loss: 0.0027\n",
      "Epoch 1553/2000\n",
      "50/50 - 0s - loss: 0.0027 - val_loss: 0.0029\n",
      "Epoch 1554/2000\n",
      "50/50 - 0s - loss: 0.0027 - val_loss: 0.0029\n",
      "Epoch 1555/2000\n",
      "50/50 - 0s - loss: 0.0027 - val_loss: 0.0029\n",
      "Epoch 1556/2000\n",
      "50/50 - 0s - loss: 0.0027 - val_loss: 0.0028\n",
      "Epoch 1557/2000\n",
      "50/50 - 0s - loss: 0.0026 - val_loss: 0.0028\n",
      "Epoch 1558/2000\n",
      "50/50 - 0s - loss: 0.0028 - val_loss: 0.0029\n",
      "Epoch 1559/2000\n",
      "50/50 - 0s - loss: 0.0027 - val_loss: 0.0027\n",
      "Epoch 1560/2000\n",
      "50/50 - 0s - loss: 0.0026 - val_loss: 0.0027\n",
      "Epoch 1561/2000\n",
      "50/50 - 0s - loss: 0.0026 - val_loss: 0.0030\n",
      "Epoch 1562/2000\n",
      "50/50 - 0s - loss: 0.0027 - val_loss: 0.0027\n",
      "Epoch 1563/2000\n",
      "50/50 - 0s - loss: 0.0026 - val_loss: 0.0032\n",
      "Epoch 1564/2000\n",
      "50/50 - 0s - loss: 0.0028 - val_loss: 0.0028\n",
      "Epoch 1565/2000\n",
      "50/50 - 0s - loss: 0.0027 - val_loss: 0.0028\n",
      "Epoch 1566/2000\n",
      "50/50 - 0s - loss: 0.0027 - val_loss: 0.0027\n",
      "Epoch 1567/2000\n",
      "50/50 - 0s - loss: 0.0027 - val_loss: 0.0035\n",
      "Epoch 1568/2000\n",
      "50/50 - 0s - loss: 0.0028 - val_loss: 0.0033\n",
      "Epoch 1569/2000\n",
      "50/50 - 0s - loss: 0.0027 - val_loss: 0.0028\n",
      "Epoch 1570/2000\n",
      "50/50 - 0s - loss: 0.0028 - val_loss: 0.0029\n",
      "Epoch 1571/2000\n",
      "50/50 - 0s - loss: 0.0026 - val_loss: 0.0029\n",
      "Epoch 1572/2000\n",
      "50/50 - 0s - loss: 0.0026 - val_loss: 0.0027\n",
      "Epoch 1573/2000\n",
      "50/50 - 0s - loss: 0.0026 - val_loss: 0.0027\n",
      "Epoch 1574/2000\n",
      "50/50 - 0s - loss: 0.0026 - val_loss: 0.0027\n",
      "Epoch 1575/2000\n",
      "50/50 - 0s - loss: 0.0026 - val_loss: 0.0028\n",
      "Epoch 1576/2000\n",
      "50/50 - 0s - loss: 0.0026 - val_loss: 0.0030\n",
      "Epoch 1577/2000\n",
      "50/50 - 0s - loss: 0.0028 - val_loss: 0.0028\n",
      "Epoch 1578/2000\n",
      "50/50 - 0s - loss: 0.0028 - val_loss: 0.0029\n",
      "Epoch 1579/2000\n",
      "50/50 - 0s - loss: 0.0028 - val_loss: 0.0031\n",
      "Epoch 1580/2000\n",
      "50/50 - 0s - loss: 0.0026 - val_loss: 0.0030\n",
      "Epoch 1581/2000\n",
      "50/50 - 0s - loss: 0.0026 - val_loss: 0.0028\n",
      "Epoch 1582/2000\n",
      "50/50 - 0s - loss: 0.0027 - val_loss: 0.0028\n",
      "Epoch 1583/2000\n",
      "50/50 - 0s - loss: 0.0026 - val_loss: 0.0029\n",
      "Epoch 1584/2000\n",
      "50/50 - 0s - loss: 0.0026 - val_loss: 0.0028\n",
      "Epoch 1585/2000\n",
      "50/50 - 0s - loss: 0.0027 - val_loss: 0.0028\n",
      "Epoch 1586/2000\n",
      "50/50 - 0s - loss: 0.0027 - val_loss: 0.0028\n",
      "Epoch 1587/2000\n",
      "50/50 - 0s - loss: 0.0026 - val_loss: 0.0028\n",
      "Epoch 1588/2000\n",
      "50/50 - 0s - loss: 0.0027 - val_loss: 0.0030\n",
      "Epoch 1589/2000\n",
      "50/50 - 0s - loss: 0.0026 - val_loss: 0.0027\n",
      "Epoch 1590/2000\n",
      "50/50 - 0s - loss: 0.0027 - val_loss: 0.0029\n",
      "Epoch 1591/2000\n",
      "50/50 - 0s - loss: 0.0027 - val_loss: 0.0032\n",
      "Epoch 1592/2000\n",
      "50/50 - 0s - loss: 0.0029 - val_loss: 0.0036\n",
      "Epoch 1593/2000\n",
      "50/50 - 0s - loss: 0.0027 - val_loss: 0.0029\n",
      "Epoch 1594/2000\n",
      "50/50 - 0s - loss: 0.0026 - val_loss: 0.0028\n",
      "Epoch 1595/2000\n",
      "50/50 - 0s - loss: 0.0026 - val_loss: 0.0028\n",
      "Epoch 1596/2000\n",
      "50/50 - 0s - loss: 0.0026 - val_loss: 0.0028\n",
      "Epoch 1597/2000\n",
      "50/50 - 0s - loss: 0.0027 - val_loss: 0.0027\n",
      "Epoch 1598/2000\n",
      "50/50 - 0s - loss: 0.0026 - val_loss: 0.0026\n",
      "Epoch 1599/2000\n",
      "50/50 - 0s - loss: 0.0027 - val_loss: 0.0028\n",
      "Epoch 1600/2000\n",
      "50/50 - 0s - loss: 0.0026 - val_loss: 0.0029\n",
      "Epoch 1601/2000\n",
      "50/50 - 0s - loss: 0.0027 - val_loss: 0.0028\n",
      "Epoch 1602/2000\n",
      "50/50 - 0s - loss: 0.0027 - val_loss: 0.0027\n",
      "Epoch 1603/2000\n",
      "50/50 - 0s - loss: 0.0026 - val_loss: 0.0027\n",
      "Epoch 1604/2000\n",
      "50/50 - 0s - loss: 0.0028 - val_loss: 0.0027\n",
      "Epoch 1605/2000\n",
      "50/50 - 0s - loss: 0.0027 - val_loss: 0.0028\n",
      "Epoch 1606/2000\n",
      "50/50 - 0s - loss: 0.0026 - val_loss: 0.0029\n",
      "Epoch 1607/2000\n",
      "50/50 - 0s - loss: 0.0027 - val_loss: 0.0030\n",
      "Epoch 1608/2000\n",
      "50/50 - 0s - loss: 0.0028 - val_loss: 0.0027\n",
      "Epoch 1609/2000\n",
      "50/50 - 0s - loss: 0.0027 - val_loss: 0.0027\n",
      "Epoch 1610/2000\n",
      "50/50 - 0s - loss: 0.0026 - val_loss: 0.0028\n",
      "Epoch 1611/2000\n",
      "50/50 - 0s - loss: 0.0026 - val_loss: 0.0027\n",
      "Epoch 1612/2000\n",
      "50/50 - 0s - loss: 0.0027 - val_loss: 0.0034\n",
      "Epoch 1613/2000\n",
      "50/50 - 0s - loss: 0.0028 - val_loss: 0.0028\n",
      "Epoch 1614/2000\n",
      "50/50 - 0s - loss: 0.0026 - val_loss: 0.0027\n",
      "Epoch 1615/2000\n",
      "50/50 - 0s - loss: 0.0027 - val_loss: 0.0029\n",
      "Epoch 1616/2000\n",
      "50/50 - 0s - loss: 0.0027 - val_loss: 0.0028\n",
      "Epoch 1617/2000\n",
      "50/50 - 0s - loss: 0.0026 - val_loss: 0.0033\n",
      "Epoch 1618/2000\n",
      "50/50 - 0s - loss: 0.0028 - val_loss: 0.0029\n",
      "Epoch 1619/2000\n",
      "50/50 - 0s - loss: 0.0028 - val_loss: 0.0029\n",
      "Epoch 1620/2000\n",
      "50/50 - 0s - loss: 0.0026 - val_loss: 0.0028\n",
      "Epoch 1621/2000\n",
      "50/50 - 0s - loss: 0.0027 - val_loss: 0.0028\n",
      "Epoch 1622/2000\n",
      "50/50 - 0s - loss: 0.0028 - val_loss: 0.0028\n",
      "Epoch 1623/2000\n",
      "50/50 - 0s - loss: 0.0027 - val_loss: 0.0028\n",
      "Epoch 1624/2000\n",
      "50/50 - 0s - loss: 0.0027 - val_loss: 0.0027\n",
      "Epoch 1625/2000\n",
      "50/50 - 0s - loss: 0.0027 - val_loss: 0.0031\n",
      "Epoch 1626/2000\n",
      "50/50 - 0s - loss: 0.0028 - val_loss: 0.0027\n",
      "Epoch 1627/2000\n",
      "50/50 - 0s - loss: 0.0027 - val_loss: 0.0028\n",
      "Epoch 1628/2000\n",
      "50/50 - 0s - loss: 0.0027 - val_loss: 0.0029\n",
      "Epoch 1629/2000\n",
      "50/50 - 0s - loss: 0.0026 - val_loss: 0.0028\n",
      "Epoch 1630/2000\n",
      "50/50 - 0s - loss: 0.0028 - val_loss: 0.0028\n",
      "Epoch 1631/2000\n",
      "50/50 - 0s - loss: 0.0028 - val_loss: 0.0029\n",
      "Epoch 1632/2000\n",
      "50/50 - 0s - loss: 0.0027 - val_loss: 0.0030\n",
      "Epoch 1633/2000\n",
      "50/50 - 0s - loss: 0.0026 - val_loss: 0.0028\n"
     ]
    },
    {
     "name": "stdout",
     "output_type": "stream",
     "text": [
      "Epoch 1634/2000\n",
      "50/50 - 0s - loss: 0.0027 - val_loss: 0.0030\n",
      "Epoch 1635/2000\n",
      "50/50 - 0s - loss: 0.0026 - val_loss: 0.0027\n",
      "Epoch 1636/2000\n",
      "50/50 - 0s - loss: 0.0027 - val_loss: 0.0028\n",
      "Epoch 1637/2000\n",
      "50/50 - 0s - loss: 0.0028 - val_loss: 0.0029\n",
      "Epoch 1638/2000\n",
      "50/50 - 0s - loss: 0.0026 - val_loss: 0.0027\n",
      "Epoch 1639/2000\n",
      "50/50 - 0s - loss: 0.0025 - val_loss: 0.0029\n",
      "Epoch 1640/2000\n",
      "50/50 - 0s - loss: 0.0027 - val_loss: 0.0031\n",
      "Epoch 1641/2000\n",
      "50/50 - 0s - loss: 0.0027 - val_loss: 0.0031\n",
      "Epoch 1642/2000\n",
      "50/50 - 0s - loss: 0.0029 - val_loss: 0.0029\n",
      "Epoch 1643/2000\n",
      "50/50 - 0s - loss: 0.0027 - val_loss: 0.0027\n",
      "Epoch 1644/2000\n",
      "50/50 - 0s - loss: 0.0027 - val_loss: 0.0027\n",
      "Epoch 1645/2000\n",
      "50/50 - 0s - loss: 0.0027 - val_loss: 0.0029\n",
      "Epoch 1646/2000\n",
      "50/50 - 0s - loss: 0.0027 - val_loss: 0.0029\n",
      "Epoch 1647/2000\n",
      "50/50 - 0s - loss: 0.0026 - val_loss: 0.0028\n",
      "Epoch 1648/2000\n",
      "50/50 - 0s - loss: 0.0026 - val_loss: 0.0029\n",
      "Epoch 1649/2000\n",
      "50/50 - 0s - loss: 0.0028 - val_loss: 0.0030\n",
      "Epoch 1650/2000\n",
      "50/50 - 0s - loss: 0.0026 - val_loss: 0.0033\n",
      "Epoch 1651/2000\n",
      "50/50 - 0s - loss: 0.0027 - val_loss: 0.0027\n",
      "Epoch 1652/2000\n",
      "50/50 - 0s - loss: 0.0026 - val_loss: 0.0028\n",
      "Epoch 1653/2000\n",
      "50/50 - 0s - loss: 0.0027 - val_loss: 0.0030\n",
      "Epoch 1654/2000\n",
      "50/50 - 0s - loss: 0.0027 - val_loss: 0.0028\n",
      "Epoch 1655/2000\n",
      "50/50 - 0s - loss: 0.0026 - val_loss: 0.0028\n",
      "Epoch 1656/2000\n",
      "50/50 - 0s - loss: 0.0027 - val_loss: 0.0031\n",
      "Epoch 1657/2000\n",
      "50/50 - 0s - loss: 0.0027 - val_loss: 0.0032\n",
      "Epoch 1658/2000\n",
      "50/50 - 0s - loss: 0.0027 - val_loss: 0.0027\n",
      "Epoch 1659/2000\n",
      "50/50 - 0s - loss: 0.0027 - val_loss: 0.0029\n",
      "Epoch 1660/2000\n",
      "50/50 - 0s - loss: 0.0027 - val_loss: 0.0028\n",
      "Epoch 1661/2000\n",
      "50/50 - 0s - loss: 0.0028 - val_loss: 0.0029\n",
      "Epoch 1662/2000\n",
      "50/50 - 0s - loss: 0.0028 - val_loss: 0.0032\n",
      "Epoch 1663/2000\n",
      "50/50 - 0s - loss: 0.0026 - val_loss: 0.0029\n",
      "Epoch 1664/2000\n",
      "50/50 - 0s - loss: 0.0026 - val_loss: 0.0027\n",
      "Epoch 1665/2000\n",
      "50/50 - 0s - loss: 0.0026 - val_loss: 0.0027\n",
      "Epoch 1666/2000\n",
      "50/50 - 0s - loss: 0.0027 - val_loss: 0.0027\n",
      "Epoch 1667/2000\n",
      "50/50 - 0s - loss: 0.0026 - val_loss: 0.0027\n",
      "Epoch 1668/2000\n",
      "50/50 - 0s - loss: 0.0026 - val_loss: 0.0030\n",
      "Epoch 1669/2000\n",
      "50/50 - 0s - loss: 0.0027 - val_loss: 0.0028\n",
      "Epoch 1670/2000\n",
      "50/50 - 0s - loss: 0.0027 - val_loss: 0.0030\n",
      "Epoch 1671/2000\n",
      "50/50 - 0s - loss: 0.0027 - val_loss: 0.0028\n",
      "Epoch 1672/2000\n",
      "50/50 - 0s - loss: 0.0026 - val_loss: 0.0028\n",
      "Epoch 1673/2000\n",
      "50/50 - 0s - loss: 0.0028 - val_loss: 0.0034\n",
      "Epoch 1674/2000\n",
      "50/50 - 0s - loss: 0.0026 - val_loss: 0.0028\n",
      "Epoch 1675/2000\n",
      "50/50 - 0s - loss: 0.0027 - val_loss: 0.0029\n",
      "Epoch 1676/2000\n",
      "50/50 - 0s - loss: 0.0028 - val_loss: 0.0029\n",
      "Epoch 1677/2000\n",
      "50/50 - 0s - loss: 0.0027 - val_loss: 0.0036\n",
      "Epoch 1678/2000\n",
      "50/50 - 0s - loss: 0.0028 - val_loss: 0.0032\n",
      "Epoch 1679/2000\n",
      "50/50 - 0s - loss: 0.0027 - val_loss: 0.0031\n",
      "Epoch 1680/2000\n",
      "50/50 - 0s - loss: 0.0027 - val_loss: 0.0026\n",
      "Epoch 1681/2000\n",
      "50/50 - 0s - loss: 0.0026 - val_loss: 0.0027\n",
      "Epoch 1682/2000\n",
      "50/50 - 0s - loss: 0.0026 - val_loss: 0.0028\n",
      "Epoch 1683/2000\n",
      "50/50 - 0s - loss: 0.0027 - val_loss: 0.0028\n",
      "Epoch 1684/2000\n",
      "50/50 - 0s - loss: 0.0027 - val_loss: 0.0028\n",
      "Epoch 1685/2000\n",
      "50/50 - 0s - loss: 0.0028 - val_loss: 0.0028\n",
      "Epoch 1686/2000\n",
      "50/50 - 0s - loss: 0.0027 - val_loss: 0.0028\n",
      "Epoch 1687/2000\n",
      "50/50 - 0s - loss: 0.0027 - val_loss: 0.0027\n",
      "Epoch 1688/2000\n",
      "50/50 - 0s - loss: 0.0028 - val_loss: 0.0027\n",
      "Epoch 1689/2000\n",
      "50/50 - 0s - loss: 0.0030 - val_loss: 0.0031\n",
      "Epoch 1690/2000\n",
      "50/50 - 0s - loss: 0.0029 - val_loss: 0.0031\n",
      "Epoch 1691/2000\n",
      "50/50 - 0s - loss: 0.0026 - val_loss: 0.0027\n",
      "Epoch 1692/2000\n",
      "50/50 - 0s - loss: 0.0028 - val_loss: 0.0028\n",
      "Epoch 1693/2000\n",
      "50/50 - 0s - loss: 0.0026 - val_loss: 0.0028\n",
      "Epoch 1694/2000\n",
      "50/50 - 0s - loss: 0.0027 - val_loss: 0.0028\n",
      "Epoch 1695/2000\n",
      "50/50 - 0s - loss: 0.0027 - val_loss: 0.0027\n",
      "Epoch 1696/2000\n",
      "50/50 - 0s - loss: 0.0027 - val_loss: 0.0027\n",
      "Epoch 1697/2000\n",
      "50/50 - 0s - loss: 0.0027 - val_loss: 0.0028\n",
      "Epoch 1698/2000\n",
      "50/50 - 0s - loss: 0.0028 - val_loss: 0.0028\n",
      "Epoch 1699/2000\n",
      "50/50 - 0s - loss: 0.0027 - val_loss: 0.0027\n",
      "Epoch 1700/2000\n",
      "50/50 - 0s - loss: 0.0027 - val_loss: 0.0028\n",
      "Epoch 1701/2000\n",
      "50/50 - 0s - loss: 0.0027 - val_loss: 0.0030\n",
      "Epoch 1702/2000\n",
      "50/50 - 0s - loss: 0.0026 - val_loss: 0.0027\n",
      "Epoch 1703/2000\n",
      "50/50 - 0s - loss: 0.0027 - val_loss: 0.0029\n",
      "Epoch 1704/2000\n",
      "50/50 - 0s - loss: 0.0027 - val_loss: 0.0028\n",
      "Epoch 1705/2000\n",
      "50/50 - 0s - loss: 0.0027 - val_loss: 0.0028\n",
      "Epoch 1706/2000\n",
      "50/50 - 0s - loss: 0.0026 - val_loss: 0.0032\n",
      "Epoch 1707/2000\n",
      "50/50 - 0s - loss: 0.0029 - val_loss: 0.0028\n",
      "Epoch 1708/2000\n",
      "50/50 - 0s - loss: 0.0026 - val_loss: 0.0029\n",
      "Epoch 1709/2000\n",
      "50/50 - 0s - loss: 0.0027 - val_loss: 0.0029\n",
      "Epoch 1710/2000\n",
      "50/50 - 0s - loss: 0.0028 - val_loss: 0.0031\n",
      "Epoch 1711/2000\n",
      "50/50 - 0s - loss: 0.0027 - val_loss: 0.0030\n",
      "Epoch 1712/2000\n",
      "50/50 - 0s - loss: 0.0026 - val_loss: 0.0027\n",
      "Epoch 1713/2000\n",
      "50/50 - 0s - loss: 0.0026 - val_loss: 0.0029\n",
      "Epoch 1714/2000\n",
      "50/50 - 0s - loss: 0.0026 - val_loss: 0.0034\n",
      "Epoch 1715/2000\n",
      "50/50 - 0s - loss: 0.0027 - val_loss: 0.0028\n",
      "Epoch 1716/2000\n",
      "50/50 - 0s - loss: 0.0027 - val_loss: 0.0027\n",
      "Epoch 1717/2000\n",
      "50/50 - 0s - loss: 0.0028 - val_loss: 0.0029\n",
      "Epoch 1718/2000\n",
      "50/50 - 0s - loss: 0.0028 - val_loss: 0.0027\n",
      "Epoch 1719/2000\n",
      "50/50 - 0s - loss: 0.0027 - val_loss: 0.0027\n",
      "Epoch 1720/2000\n",
      "50/50 - 0s - loss: 0.0026 - val_loss: 0.0034\n",
      "Epoch 1721/2000\n",
      "50/50 - 0s - loss: 0.0027 - val_loss: 0.0028\n",
      "Epoch 1722/2000\n",
      "50/50 - 0s - loss: 0.0027 - val_loss: 0.0030\n",
      "Epoch 1723/2000\n",
      "50/50 - 0s - loss: 0.0027 - val_loss: 0.0030\n",
      "Epoch 1724/2000\n",
      "50/50 - 0s - loss: 0.0026 - val_loss: 0.0028\n",
      "Epoch 1725/2000\n",
      "50/50 - 0s - loss: 0.0026 - val_loss: 0.0027\n",
      "Epoch 1726/2000\n",
      "50/50 - 0s - loss: 0.0026 - val_loss: 0.0028\n",
      "Epoch 1727/2000\n",
      "50/50 - 0s - loss: 0.0027 - val_loss: 0.0030\n",
      "Epoch 1728/2000\n",
      "50/50 - 0s - loss: 0.0027 - val_loss: 0.0031\n",
      "Epoch 1729/2000\n",
      "50/50 - 0s - loss: 0.0028 - val_loss: 0.0028\n",
      "Epoch 1730/2000\n",
      "50/50 - 0s - loss: 0.0026 - val_loss: 0.0027\n",
      "Epoch 1731/2000\n",
      "50/50 - 0s - loss: 0.0026 - val_loss: 0.0029\n",
      "Epoch 1732/2000\n",
      "50/50 - 0s - loss: 0.0027 - val_loss: 0.0029\n",
      "Epoch 1733/2000\n",
      "50/50 - 0s - loss: 0.0027 - val_loss: 0.0028\n",
      "Epoch 1734/2000\n",
      "50/50 - 0s - loss: 0.0027 - val_loss: 0.0030\n",
      "Epoch 1735/2000\n",
      "50/50 - 0s - loss: 0.0026 - val_loss: 0.0027\n",
      "Epoch 1736/2000\n",
      "50/50 - 0s - loss: 0.0027 - val_loss: 0.0030\n",
      "Epoch 1737/2000\n",
      "50/50 - 0s - loss: 0.0027 - val_loss: 0.0028\n",
      "Epoch 1738/2000\n",
      "50/50 - 0s - loss: 0.0026 - val_loss: 0.0028\n",
      "Epoch 1739/2000\n",
      "50/50 - 0s - loss: 0.0027 - val_loss: 0.0029\n",
      "Epoch 1740/2000\n",
      "50/50 - 0s - loss: 0.0027 - val_loss: 0.0028\n",
      "Epoch 1741/2000\n",
      "50/50 - 0s - loss: 0.0027 - val_loss: 0.0032\n",
      "Epoch 1742/2000\n",
      "50/50 - 0s - loss: 0.0027 - val_loss: 0.0030\n",
      "Epoch 1743/2000\n",
      "50/50 - 0s - loss: 0.0027 - val_loss: 0.0027\n",
      "Epoch 1744/2000\n",
      "50/50 - 0s - loss: 0.0026 - val_loss: 0.0029\n",
      "Epoch 1745/2000\n",
      "50/50 - 0s - loss: 0.0027 - val_loss: 0.0030\n",
      "Epoch 1746/2000\n",
      "50/50 - 0s - loss: 0.0027 - val_loss: 0.0028\n",
      "Epoch 1747/2000\n",
      "50/50 - 0s - loss: 0.0027 - val_loss: 0.0028\n",
      "Epoch 1748/2000\n",
      "50/50 - 0s - loss: 0.0027 - val_loss: 0.0029\n",
      "Epoch 1749/2000\n",
      "50/50 - 0s - loss: 0.0027 - val_loss: 0.0027\n",
      "Epoch 1750/2000\n",
      "50/50 - 0s - loss: 0.0026 - val_loss: 0.0028\n",
      "Epoch 1751/2000\n",
      "50/50 - 0s - loss: 0.0026 - val_loss: 0.0027\n",
      "Epoch 1752/2000\n",
      "50/50 - 0s - loss: 0.0028 - val_loss: 0.0028\n",
      "Epoch 1753/2000\n",
      "50/50 - 0s - loss: 0.0027 - val_loss: 0.0031\n",
      "Epoch 1754/2000\n",
      "50/50 - 0s - loss: 0.0027 - val_loss: 0.0028\n",
      "Epoch 1755/2000\n",
      "50/50 - 0s - loss: 0.0026 - val_loss: 0.0028\n",
      "Epoch 1756/2000\n",
      "50/50 - 0s - loss: 0.0027 - val_loss: 0.0027\n",
      "Epoch 1757/2000\n",
      "50/50 - 0s - loss: 0.0028 - val_loss: 0.0027\n",
      "Epoch 1758/2000\n",
      "50/50 - 0s - loss: 0.0026 - val_loss: 0.0029\n",
      "Epoch 1759/2000\n",
      "50/50 - 0s - loss: 0.0026 - val_loss: 0.0027\n",
      "Epoch 1760/2000\n",
      "50/50 - 0s - loss: 0.0029 - val_loss: 0.0031\n",
      "Epoch 1761/2000\n",
      "50/50 - 0s - loss: 0.0028 - val_loss: 0.0028\n",
      "Epoch 1762/2000\n",
      "50/50 - 0s - loss: 0.0027 - val_loss: 0.0027\n",
      "Epoch 1763/2000\n",
      "50/50 - 0s - loss: 0.0027 - val_loss: 0.0027\n",
      "Epoch 1764/2000\n",
      "50/50 - 0s - loss: 0.0027 - val_loss: 0.0033\n",
      "Epoch 1765/2000\n",
      "50/50 - 0s - loss: 0.0026 - val_loss: 0.0026\n",
      "Epoch 1766/2000\n",
      "50/50 - 0s - loss: 0.0026 - val_loss: 0.0027\n",
      "Epoch 1767/2000\n",
      "50/50 - 0s - loss: 0.0026 - val_loss: 0.0027\n",
      "Epoch 1768/2000\n",
      "50/50 - 0s - loss: 0.0026 - val_loss: 0.0028\n"
     ]
    },
    {
     "name": "stdout",
     "output_type": "stream",
     "text": [
      "Epoch 1769/2000\n",
      "50/50 - 0s - loss: 0.0028 - val_loss: 0.0031\n",
      "Epoch 1770/2000\n",
      "50/50 - 0s - loss: 0.0027 - val_loss: 0.0029\n",
      "Epoch 1771/2000\n",
      "50/50 - 0s - loss: 0.0026 - val_loss: 0.0030\n",
      "Epoch 1772/2000\n",
      "50/50 - 0s - loss: 0.0027 - val_loss: 0.0027\n",
      "Epoch 1773/2000\n",
      "50/50 - 0s - loss: 0.0027 - val_loss: 0.0027\n",
      "Epoch 1774/2000\n",
      "50/50 - 0s - loss: 0.0027 - val_loss: 0.0028\n",
      "Epoch 1775/2000\n",
      "50/50 - 0s - loss: 0.0027 - val_loss: 0.0030\n",
      "Epoch 1776/2000\n",
      "50/50 - 0s - loss: 0.0026 - val_loss: 0.0034\n",
      "Epoch 1777/2000\n",
      "50/50 - 0s - loss: 0.0027 - val_loss: 0.0029\n",
      "Epoch 1778/2000\n",
      "50/50 - 0s - loss: 0.0027 - val_loss: 0.0029\n",
      "Epoch 1779/2000\n",
      "50/50 - 0s - loss: 0.0028 - val_loss: 0.0027\n",
      "Epoch 1780/2000\n",
      "50/50 - 0s - loss: 0.0029 - val_loss: 0.0028\n",
      "Epoch 1781/2000\n",
      "50/50 - 0s - loss: 0.0026 - val_loss: 0.0028\n",
      "Epoch 1782/2000\n",
      "50/50 - 0s - loss: 0.0027 - val_loss: 0.0029\n",
      "Epoch 1783/2000\n",
      "50/50 - 0s - loss: 0.0027 - val_loss: 0.0027\n",
      "Epoch 1784/2000\n",
      "50/50 - 0s - loss: 0.0026 - val_loss: 0.0028\n",
      "Epoch 1785/2000\n",
      "50/50 - 0s - loss: 0.0028 - val_loss: 0.0032\n",
      "Epoch 1786/2000\n",
      "50/50 - 0s - loss: 0.0026 - val_loss: 0.0027\n",
      "Epoch 1787/2000\n",
      "50/50 - 0s - loss: 0.0026 - val_loss: 0.0027\n",
      "Epoch 1788/2000\n",
      "50/50 - 0s - loss: 0.0026 - val_loss: 0.0030\n",
      "Epoch 1789/2000\n",
      "50/50 - 0s - loss: 0.0026 - val_loss: 0.0032\n",
      "Epoch 1790/2000\n",
      "50/50 - 0s - loss: 0.0027 - val_loss: 0.0027\n",
      "Epoch 1791/2000\n",
      "50/50 - 0s - loss: 0.0026 - val_loss: 0.0028\n",
      "Epoch 1792/2000\n",
      "50/50 - 0s - loss: 0.0027 - val_loss: 0.0027\n",
      "Epoch 1793/2000\n",
      "50/50 - 0s - loss: 0.0027 - val_loss: 0.0030\n",
      "Epoch 1794/2000\n",
      "50/50 - 0s - loss: 0.0027 - val_loss: 0.0029\n",
      "Epoch 1795/2000\n",
      "50/50 - 0s - loss: 0.0026 - val_loss: 0.0027\n",
      "Epoch 1796/2000\n",
      "50/50 - 0s - loss: 0.0027 - val_loss: 0.0028\n",
      "Epoch 1797/2000\n",
      "50/50 - 0s - loss: 0.0026 - val_loss: 0.0027\n",
      "Epoch 1798/2000\n",
      "50/50 - 0s - loss: 0.0026 - val_loss: 0.0029\n",
      "Epoch 1799/2000\n",
      "50/50 - 0s - loss: 0.0026 - val_loss: 0.0028\n",
      "Epoch 1800/2000\n",
      "50/50 - 0s - loss: 0.0027 - val_loss: 0.0028\n",
      "Epoch 1801/2000\n",
      "50/50 - 0s - loss: 0.0027 - val_loss: 0.0031\n",
      "Epoch 1802/2000\n",
      "50/50 - 0s - loss: 0.0027 - val_loss: 0.0030\n",
      "Epoch 1803/2000\n",
      "50/50 - 0s - loss: 0.0027 - val_loss: 0.0037\n",
      "Epoch 1804/2000\n",
      "50/50 - 0s - loss: 0.0027 - val_loss: 0.0028\n",
      "Epoch 1805/2000\n",
      "50/50 - 0s - loss: 0.0028 - val_loss: 0.0028\n",
      "Epoch 1806/2000\n",
      "50/50 - 0s - loss: 0.0027 - val_loss: 0.0028\n",
      "Epoch 1807/2000\n",
      "50/50 - 0s - loss: 0.0026 - val_loss: 0.0028\n",
      "Epoch 1808/2000\n",
      "50/50 - 0s - loss: 0.0027 - val_loss: 0.0029\n",
      "Epoch 1809/2000\n",
      "50/50 - 0s - loss: 0.0027 - val_loss: 0.0028\n",
      "Epoch 1810/2000\n",
      "50/50 - 0s - loss: 0.0028 - val_loss: 0.0028\n",
      "Epoch 1811/2000\n",
      "50/50 - 0s - loss: 0.0027 - val_loss: 0.0029\n",
      "Epoch 1812/2000\n",
      "50/50 - 0s - loss: 0.0027 - val_loss: 0.0029\n",
      "Epoch 1813/2000\n",
      "50/50 - 0s - loss: 0.0027 - val_loss: 0.0027\n",
      "Epoch 1814/2000\n",
      "50/50 - 0s - loss: 0.0026 - val_loss: 0.0030\n",
      "Epoch 1815/2000\n",
      "50/50 - 0s - loss: 0.0027 - val_loss: 0.0027\n",
      "Epoch 1816/2000\n",
      "50/50 - 0s - loss: 0.0027 - val_loss: 0.0033\n",
      "Epoch 1817/2000\n",
      "50/50 - 0s - loss: 0.0028 - val_loss: 0.0032\n",
      "Epoch 1818/2000\n",
      "50/50 - 0s - loss: 0.0028 - val_loss: 0.0027\n",
      "Epoch 1819/2000\n",
      "50/50 - 0s - loss: 0.0027 - val_loss: 0.0029\n",
      "Epoch 1820/2000\n",
      "50/50 - 0s - loss: 0.0029 - val_loss: 0.0027\n",
      "Epoch 1821/2000\n",
      "50/50 - 0s - loss: 0.0026 - val_loss: 0.0027\n",
      "Epoch 1822/2000\n",
      "50/50 - 0s - loss: 0.0027 - val_loss: 0.0027\n",
      "Epoch 1823/2000\n",
      "50/50 - 0s - loss: 0.0027 - val_loss: 0.0029\n",
      "Epoch 1824/2000\n",
      "50/50 - 0s - loss: 0.0028 - val_loss: 0.0029\n",
      "Epoch 1825/2000\n",
      "50/50 - 0s - loss: 0.0027 - val_loss: 0.0031\n",
      "Epoch 1826/2000\n",
      "50/50 - 0s - loss: 0.0029 - val_loss: 0.0031\n",
      "Epoch 1827/2000\n",
      "50/50 - 0s - loss: 0.0029 - val_loss: 0.0029\n",
      "Epoch 1828/2000\n",
      "50/50 - 0s - loss: 0.0026 - val_loss: 0.0029\n",
      "Epoch 1829/2000\n",
      "50/50 - 0s - loss: 0.0026 - val_loss: 0.0028\n",
      "Epoch 1830/2000\n",
      "50/50 - 0s - loss: 0.0026 - val_loss: 0.0028\n",
      "Epoch 1831/2000\n",
      "50/50 - 0s - loss: 0.0027 - val_loss: 0.0029\n",
      "Epoch 1832/2000\n",
      "50/50 - 0s - loss: 0.0027 - val_loss: 0.0028\n",
      "Epoch 1833/2000\n",
      "50/50 - 0s - loss: 0.0027 - val_loss: 0.0028\n",
      "Epoch 1834/2000\n",
      "50/50 - 0s - loss: 0.0026 - val_loss: 0.0028\n",
      "Epoch 1835/2000\n",
      "50/50 - 0s - loss: 0.0026 - val_loss: 0.0027\n",
      "Epoch 1836/2000\n",
      "50/50 - 0s - loss: 0.0028 - val_loss: 0.0027\n",
      "Epoch 1837/2000\n",
      "50/50 - 0s - loss: 0.0027 - val_loss: 0.0027\n",
      "Epoch 1838/2000\n",
      "50/50 - 0s - loss: 0.0027 - val_loss: 0.0027\n",
      "Epoch 1839/2000\n",
      "50/50 - 0s - loss: 0.0026 - val_loss: 0.0028\n",
      "Epoch 1840/2000\n",
      "50/50 - 0s - loss: 0.0027 - val_loss: 0.0026\n",
      "Epoch 1841/2000\n",
      "50/50 - 0s - loss: 0.0027 - val_loss: 0.0030\n",
      "Epoch 1842/2000\n",
      "50/50 - 0s - loss: 0.0029 - val_loss: 0.0028\n",
      "Epoch 1843/2000\n",
      "50/50 - 0s - loss: 0.0027 - val_loss: 0.0028\n",
      "Epoch 1844/2000\n",
      "50/50 - 0s - loss: 0.0027 - val_loss: 0.0029\n",
      "Epoch 1845/2000\n",
      "50/50 - 0s - loss: 0.0027 - val_loss: 0.0028\n",
      "Epoch 1846/2000\n",
      "50/50 - 0s - loss: 0.0027 - val_loss: 0.0028\n",
      "Epoch 1847/2000\n",
      "50/50 - 0s - loss: 0.0026 - val_loss: 0.0029\n",
      "Epoch 1848/2000\n",
      "50/50 - 0s - loss: 0.0026 - val_loss: 0.0029\n",
      "Epoch 1849/2000\n",
      "50/50 - 0s - loss: 0.0027 - val_loss: 0.0027\n",
      "Epoch 1850/2000\n",
      "50/50 - 0s - loss: 0.0027 - val_loss: 0.0028\n",
      "Epoch 1851/2000\n",
      "50/50 - 0s - loss: 0.0026 - val_loss: 0.0029\n",
      "Epoch 1852/2000\n",
      "50/50 - 0s - loss: 0.0026 - val_loss: 0.0029\n",
      "Epoch 1853/2000\n",
      "50/50 - 0s - loss: 0.0027 - val_loss: 0.0029\n",
      "Epoch 1854/2000\n",
      "50/50 - 0s - loss: 0.0027 - val_loss: 0.0027\n",
      "Epoch 1855/2000\n",
      "50/50 - 0s - loss: 0.0027 - val_loss: 0.0028\n",
      "Epoch 1856/2000\n",
      "50/50 - 0s - loss: 0.0026 - val_loss: 0.0028\n",
      "Epoch 1857/2000\n",
      "50/50 - 0s - loss: 0.0028 - val_loss: 0.0027\n",
      "Epoch 1858/2000\n",
      "50/50 - 0s - loss: 0.0028 - val_loss: 0.0027\n",
      "Epoch 1859/2000\n",
      "50/50 - 0s - loss: 0.0027 - val_loss: 0.0032\n",
      "Epoch 1860/2000\n",
      "50/50 - 0s - loss: 0.0028 - val_loss: 0.0027\n",
      "Epoch 1861/2000\n",
      "50/50 - 0s - loss: 0.0028 - val_loss: 0.0029\n",
      "Epoch 1862/2000\n",
      "50/50 - 0s - loss: 0.0028 - val_loss: 0.0032\n",
      "Epoch 1863/2000\n",
      "50/50 - 0s - loss: 0.0026 - val_loss: 0.0028\n",
      "Epoch 1864/2000\n",
      "50/50 - 0s - loss: 0.0028 - val_loss: 0.0030\n",
      "Epoch 1865/2000\n",
      "50/50 - 0s - loss: 0.0027 - val_loss: 0.0028\n",
      "Epoch 1866/2000\n",
      "50/50 - 0s - loss: 0.0026 - val_loss: 0.0029\n",
      "Epoch 1867/2000\n",
      "50/50 - 0s - loss: 0.0026 - val_loss: 0.0027\n",
      "Epoch 1868/2000\n",
      "50/50 - 0s - loss: 0.0026 - val_loss: 0.0028\n",
      "Epoch 1869/2000\n",
      "50/50 - 0s - loss: 0.0026 - val_loss: 0.0035\n",
      "Epoch 1870/2000\n",
      "50/50 - 0s - loss: 0.0028 - val_loss: 0.0030\n",
      "Epoch 1871/2000\n",
      "50/50 - 0s - loss: 0.0027 - val_loss: 0.0029\n",
      "Epoch 1872/2000\n",
      "50/50 - 0s - loss: 0.0028 - val_loss: 0.0027\n",
      "Epoch 1873/2000\n",
      "50/50 - 0s - loss: 0.0026 - val_loss: 0.0031\n",
      "Epoch 1874/2000\n",
      "50/50 - 0s - loss: 0.0027 - val_loss: 0.0029\n",
      "Epoch 1875/2000\n",
      "50/50 - 0s - loss: 0.0027 - val_loss: 0.0027\n",
      "Epoch 1876/2000\n",
      "50/50 - 0s - loss: 0.0027 - val_loss: 0.0027\n",
      "Epoch 1877/2000\n",
      "50/50 - 0s - loss: 0.0027 - val_loss: 0.0028\n",
      "Epoch 1878/2000\n",
      "50/50 - 0s - loss: 0.0026 - val_loss: 0.0028\n",
      "Epoch 1879/2000\n",
      "50/50 - 0s - loss: 0.0026 - val_loss: 0.0031\n",
      "Epoch 1880/2000\n",
      "50/50 - 0s - loss: 0.0028 - val_loss: 0.0030\n",
      "Epoch 1881/2000\n",
      "50/50 - 0s - loss: 0.0027 - val_loss: 0.0028\n",
      "Epoch 1882/2000\n",
      "50/50 - 0s - loss: 0.0026 - val_loss: 0.0030\n",
      "Epoch 1883/2000\n",
      "50/50 - 0s - loss: 0.0026 - val_loss: 0.0028\n",
      "Epoch 1884/2000\n",
      "50/50 - 0s - loss: 0.0028 - val_loss: 0.0029\n",
      "Epoch 1885/2000\n",
      "50/50 - 0s - loss: 0.0026 - val_loss: 0.0028\n",
      "Epoch 1886/2000\n",
      "50/50 - 0s - loss: 0.0027 - val_loss: 0.0028\n",
      "Epoch 1887/2000\n",
      "50/50 - 0s - loss: 0.0027 - val_loss: 0.0031\n",
      "Epoch 1888/2000\n",
      "50/50 - 0s - loss: 0.0028 - val_loss: 0.0028\n",
      "Epoch 1889/2000\n",
      "50/50 - 0s - loss: 0.0027 - val_loss: 0.0028\n",
      "Epoch 1890/2000\n",
      "50/50 - 0s - loss: 0.0027 - val_loss: 0.0028\n",
      "Epoch 1891/2000\n",
      "50/50 - 0s - loss: 0.0026 - val_loss: 0.0031\n",
      "Epoch 1892/2000\n",
      "50/50 - 0s - loss: 0.0029 - val_loss: 0.0028\n",
      "Epoch 1893/2000\n",
      "50/50 - 0s - loss: 0.0028 - val_loss: 0.0027\n",
      "Epoch 1894/2000\n",
      "50/50 - 0s - loss: 0.0026 - val_loss: 0.0027\n",
      "Epoch 1895/2000\n",
      "50/50 - 0s - loss: 0.0026 - val_loss: 0.0030\n",
      "Epoch 1896/2000\n",
      "50/50 - 0s - loss: 0.0027 - val_loss: 0.0028\n",
      "Epoch 1897/2000\n",
      "50/50 - 0s - loss: 0.0027 - val_loss: 0.0027\n",
      "Epoch 1898/2000\n",
      "50/50 - 0s - loss: 0.0027 - val_loss: 0.0027\n",
      "Epoch 1899/2000\n",
      "50/50 - 0s - loss: 0.0027 - val_loss: 0.0028\n",
      "Epoch 1900/2000\n",
      "50/50 - 0s - loss: 0.0027 - val_loss: 0.0032\n",
      "Epoch 1901/2000\n",
      "50/50 - 0s - loss: 0.0027 - val_loss: 0.0030\n",
      "Epoch 1902/2000\n",
      "50/50 - 0s - loss: 0.0028 - val_loss: 0.0028\n",
      "Epoch 1903/2000\n",
      "50/50 - 0s - loss: 0.0026 - val_loss: 0.0027\n"
     ]
    },
    {
     "name": "stdout",
     "output_type": "stream",
     "text": [
      "Epoch 1904/2000\n",
      "50/50 - 0s - loss: 0.0026 - val_loss: 0.0027\n",
      "Epoch 1905/2000\n",
      "50/50 - 0s - loss: 0.0026 - val_loss: 0.0029\n",
      "Epoch 1906/2000\n",
      "50/50 - 0s - loss: 0.0027 - val_loss: 0.0028\n",
      "Epoch 1907/2000\n",
      "50/50 - 0s - loss: 0.0028 - val_loss: 0.0027\n",
      "Epoch 1908/2000\n",
      "50/50 - 0s - loss: 0.0028 - val_loss: 0.0027\n",
      "Epoch 1909/2000\n",
      "50/50 - 0s - loss: 0.0027 - val_loss: 0.0028\n",
      "Epoch 1910/2000\n",
      "50/50 - 0s - loss: 0.0026 - val_loss: 0.0028\n",
      "Epoch 1911/2000\n",
      "50/50 - 0s - loss: 0.0026 - val_loss: 0.0028\n",
      "Epoch 1912/2000\n",
      "50/50 - 0s - loss: 0.0027 - val_loss: 0.0028\n",
      "Epoch 1913/2000\n",
      "50/50 - 0s - loss: 0.0028 - val_loss: 0.0027\n",
      "Epoch 1914/2000\n",
      "50/50 - 0s - loss: 0.0026 - val_loss: 0.0029\n",
      "Epoch 1915/2000\n",
      "50/50 - 0s - loss: 0.0028 - val_loss: 0.0036\n",
      "Epoch 1916/2000\n",
      "50/50 - 0s - loss: 0.0029 - val_loss: 0.0030\n",
      "Epoch 1917/2000\n",
      "50/50 - 0s - loss: 0.0028 - val_loss: 0.0028\n",
      "Epoch 1918/2000\n",
      "50/50 - 0s - loss: 0.0026 - val_loss: 0.0028\n",
      "Epoch 1919/2000\n",
      "50/50 - 0s - loss: 0.0027 - val_loss: 0.0029\n",
      "Epoch 1920/2000\n",
      "50/50 - 0s - loss: 0.0027 - val_loss: 0.0031\n",
      "Epoch 1921/2000\n",
      "50/50 - 0s - loss: 0.0027 - val_loss: 0.0028\n",
      "Epoch 1922/2000\n",
      "50/50 - 0s - loss: 0.0026 - val_loss: 0.0028\n",
      "Epoch 1923/2000\n",
      "50/50 - 0s - loss: 0.0027 - val_loss: 0.0028\n",
      "Epoch 1924/2000\n",
      "50/50 - 0s - loss: 0.0027 - val_loss: 0.0027\n",
      "Epoch 1925/2000\n",
      "50/50 - 0s - loss: 0.0027 - val_loss: 0.0028\n",
      "Epoch 1926/2000\n",
      "50/50 - 0s - loss: 0.0027 - val_loss: 0.0029\n",
      "Epoch 1927/2000\n",
      "50/50 - 0s - loss: 0.0028 - val_loss: 0.0030\n",
      "Epoch 1928/2000\n",
      "50/50 - 0s - loss: 0.0026 - val_loss: 0.0028\n",
      "Epoch 1929/2000\n",
      "50/50 - 0s - loss: 0.0027 - val_loss: 0.0028\n",
      "Epoch 1930/2000\n",
      "50/50 - 0s - loss: 0.0027 - val_loss: 0.0028\n",
      "Epoch 1931/2000\n",
      "50/50 - 0s - loss: 0.0027 - val_loss: 0.0033\n",
      "Epoch 1932/2000\n",
      "50/50 - 0s - loss: 0.0027 - val_loss: 0.0028\n",
      "Epoch 1933/2000\n",
      "50/50 - 0s - loss: 0.0027 - val_loss: 0.0029\n",
      "Epoch 1934/2000\n",
      "50/50 - 0s - loss: 0.0026 - val_loss: 0.0029\n",
      "Epoch 1935/2000\n",
      "50/50 - 0s - loss: 0.0027 - val_loss: 0.0034\n",
      "Epoch 1936/2000\n",
      "50/50 - 0s - loss: 0.0027 - val_loss: 0.0028\n",
      "Epoch 1937/2000\n",
      "50/50 - 0s - loss: 0.0026 - val_loss: 0.0031\n",
      "Epoch 1938/2000\n",
      "50/50 - 0s - loss: 0.0027 - val_loss: 0.0028\n",
      "Epoch 1939/2000\n",
      "50/50 - 0s - loss: 0.0026 - val_loss: 0.0028\n",
      "Epoch 1940/2000\n",
      "50/50 - 0s - loss: 0.0027 - val_loss: 0.0027\n",
      "Epoch 1941/2000\n",
      "50/50 - 0s - loss: 0.0026 - val_loss: 0.0027\n",
      "Epoch 1942/2000\n",
      "50/50 - 0s - loss: 0.0027 - val_loss: 0.0032\n",
      "Epoch 1943/2000\n",
      "50/50 - 0s - loss: 0.0026 - val_loss: 0.0029\n",
      "Epoch 1944/2000\n",
      "50/50 - 0s - loss: 0.0027 - val_loss: 0.0030\n",
      "Epoch 1945/2000\n",
      "50/50 - 0s - loss: 0.0027 - val_loss: 0.0029\n",
      "Epoch 1946/2000\n",
      "50/50 - 0s - loss: 0.0028 - val_loss: 0.0029\n",
      "Epoch 1947/2000\n",
      "50/50 - 0s - loss: 0.0027 - val_loss: 0.0031\n",
      "Epoch 1948/2000\n",
      "50/50 - 0s - loss: 0.0027 - val_loss: 0.0032\n",
      "Epoch 1949/2000\n",
      "50/50 - 0s - loss: 0.0027 - val_loss: 0.0029\n",
      "Epoch 1950/2000\n",
      "50/50 - 0s - loss: 0.0027 - val_loss: 0.0032\n",
      "Epoch 1951/2000\n",
      "50/50 - 0s - loss: 0.0027 - val_loss: 0.0027\n",
      "Epoch 1952/2000\n",
      "50/50 - 0s - loss: 0.0026 - val_loss: 0.0029\n",
      "Epoch 1953/2000\n",
      "50/50 - 0s - loss: 0.0028 - val_loss: 0.0029\n",
      "Epoch 1954/2000\n",
      "50/50 - 0s - loss: 0.0026 - val_loss: 0.0028\n",
      "Epoch 1955/2000\n",
      "50/50 - 0s - loss: 0.0026 - val_loss: 0.0030\n",
      "Epoch 1956/2000\n",
      "50/50 - 0s - loss: 0.0026 - val_loss: 0.0030\n",
      "Epoch 1957/2000\n",
      "50/50 - 0s - loss: 0.0028 - val_loss: 0.0029\n",
      "Epoch 1958/2000\n",
      "50/50 - 0s - loss: 0.0027 - val_loss: 0.0028\n",
      "Epoch 1959/2000\n",
      "50/50 - 0s - loss: 0.0029 - val_loss: 0.0030\n",
      "Epoch 1960/2000\n",
      "50/50 - 0s - loss: 0.0027 - val_loss: 0.0028\n",
      "Epoch 1961/2000\n",
      "50/50 - 0s - loss: 0.0026 - val_loss: 0.0028\n",
      "Epoch 1962/2000\n",
      "50/50 - 0s - loss: 0.0026 - val_loss: 0.0027\n",
      "Epoch 1963/2000\n",
      "50/50 - 0s - loss: 0.0026 - val_loss: 0.0027\n",
      "Epoch 1964/2000\n",
      "50/50 - 0s - loss: 0.0027 - val_loss: 0.0029\n",
      "Epoch 1965/2000\n",
      "50/50 - 0s - loss: 0.0026 - val_loss: 0.0029\n",
      "Epoch 1966/2000\n",
      "50/50 - 0s - loss: 0.0026 - val_loss: 0.0027\n",
      "Epoch 1967/2000\n",
      "50/50 - 0s - loss: 0.0026 - val_loss: 0.0027\n",
      "Epoch 1968/2000\n",
      "50/50 - 0s - loss: 0.0027 - val_loss: 0.0028\n",
      "Epoch 1969/2000\n",
      "50/50 - 0s - loss: 0.0027 - val_loss: 0.0028\n",
      "Epoch 1970/2000\n",
      "50/50 - 0s - loss: 0.0026 - val_loss: 0.0028\n",
      "Epoch 1971/2000\n",
      "50/50 - 0s - loss: 0.0027 - val_loss: 0.0031\n",
      "Epoch 1972/2000\n",
      "50/50 - 0s - loss: 0.0027 - val_loss: 0.0029\n",
      "Epoch 1973/2000\n",
      "50/50 - 0s - loss: 0.0027 - val_loss: 0.0028\n",
      "Epoch 1974/2000\n",
      "50/50 - 0s - loss: 0.0026 - val_loss: 0.0028\n",
      "Epoch 1975/2000\n",
      "50/50 - 0s - loss: 0.0027 - val_loss: 0.0031\n",
      "Epoch 1976/2000\n",
      "50/50 - 0s - loss: 0.0026 - val_loss: 0.0029\n",
      "Epoch 1977/2000\n",
      "50/50 - 0s - loss: 0.0027 - val_loss: 0.0028\n",
      "Epoch 1978/2000\n",
      "50/50 - 0s - loss: 0.0027 - val_loss: 0.0028\n",
      "Epoch 1979/2000\n",
      "50/50 - 0s - loss: 0.0026 - val_loss: 0.0031\n",
      "Epoch 1980/2000\n",
      "50/50 - 0s - loss: 0.0027 - val_loss: 0.0028\n",
      "Epoch 1981/2000\n",
      "50/50 - 0s - loss: 0.0027 - val_loss: 0.0032\n",
      "Epoch 1982/2000\n",
      "50/50 - 0s - loss: 0.0026 - val_loss: 0.0027\n",
      "Epoch 1983/2000\n",
      "50/50 - 0s - loss: 0.0027 - val_loss: 0.0033\n",
      "Epoch 1984/2000\n",
      "50/50 - 0s - loss: 0.0027 - val_loss: 0.0030\n",
      "Epoch 1985/2000\n",
      "50/50 - 0s - loss: 0.0027 - val_loss: 0.0029\n",
      "Epoch 1986/2000\n",
      "50/50 - 0s - loss: 0.0030 - val_loss: 0.0028\n",
      "Epoch 1987/2000\n",
      "50/50 - 0s - loss: 0.0027 - val_loss: 0.0027\n",
      "Epoch 1988/2000\n",
      "50/50 - 0s - loss: 0.0027 - val_loss: 0.0027\n",
      "Epoch 1989/2000\n",
      "50/50 - 0s - loss: 0.0027 - val_loss: 0.0028\n",
      "Epoch 1990/2000\n",
      "50/50 - 0s - loss: 0.0026 - val_loss: 0.0027\n",
      "Epoch 1991/2000\n",
      "50/50 - 0s - loss: 0.0027 - val_loss: 0.0029\n",
      "Epoch 1992/2000\n",
      "50/50 - 0s - loss: 0.0027 - val_loss: 0.0028\n",
      "Epoch 1993/2000\n",
      "50/50 - 0s - loss: 0.0027 - val_loss: 0.0030\n",
      "Epoch 1994/2000\n",
      "50/50 - 0s - loss: 0.0027 - val_loss: 0.0028\n",
      "Epoch 1995/2000\n",
      "50/50 - 0s - loss: 0.0027 - val_loss: 0.0030\n",
      "Epoch 1996/2000\n",
      "50/50 - 0s - loss: 0.0026 - val_loss: 0.0030\n",
      "Epoch 1997/2000\n",
      "50/50 - 0s - loss: 0.0027 - val_loss: 0.0033\n",
      "Epoch 1998/2000\n",
      "50/50 - 0s - loss: 0.0027 - val_loss: 0.0030\n",
      "Epoch 1999/2000\n",
      "50/50 - 0s - loss: 0.0028 - val_loss: 0.0029\n",
      "Epoch 2000/2000\n",
      "50/50 - 0s - loss: 0.0026 - val_loss: 0.0034\n"
     ]
    }
   ],
   "source": [
    "#Model training\n",
    "basicModel = basic_model()\n",
    "\n",
    "\n",
    "#Early stopping criterion definition\n",
    "callback = keras.callbacks.EarlyStopping(monitor='loss', patience=30, \n",
    "                                         min_delta=0.0001,mode='auto')\n",
    "\n",
    "#Training of the model\n",
    "history = basicModel.fit(X_train.values, [y_train.values[:,0],y_train.values[:,1]], epochs=2000, validation_data = (X_test, [y_test.values[:,0],y_test.values[:,1]]),\n",
    "                           verbose=2)"
   ]
  },
  {
   "cell_type": "markdown",
   "metadata": {
    "slideshow": {
     "slide_type": "slide"
    }
   },
   "source": [
    "Training and test losses, i.e. the computed MSE, are stored in the *history* variable. The history variable belongs to the *dictionary* type. Dictionaries are Python data structures that can be indexed using their *keys*, inspectable using the *.keys()* command.  "
   ]
  },
  {
   "cell_type": "code",
   "execution_count": 14,
   "metadata": {
    "slideshow": {
     "slide_type": "subslide"
    }
   },
   "outputs": [
    {
     "name": "stdout",
     "output_type": "stream",
     "text": [
      "dict_keys(['loss', 'val_loss'])\n"
     ]
    }
   ],
   "source": [
    "#On screen print of the history dictionary\n",
    "print(history.history.keys())"
   ]
  },
  {
   "cell_type": "markdown",
   "metadata": {
    "slideshow": {
     "slide_type": "subslide"
    }
   },
   "source": [
    "We want to plot both of them in the same figure, to compare the convergence hisotry and enstablish if the model is overfitting or not. "
   ]
  },
  {
   "cell_type": "code",
   "execution_count": 15,
   "metadata": {
    "slideshow": {
     "slide_type": "subslide"
    }
   },
   "outputs": [
    {
     "data": {
      "image/png": "[encoded data removed]",
      "text/plain": [
       "<Figure size 432x288 with 1 Axes>"
      ]
     },
     "metadata": {
      "needs_background": "light"
     },
     "output_type": "display_data"
    }
   ],
   "source": [
    "#Creates a new figure\n",
    "plt.figure()\n",
    "#Plotter of the training and test MSE\n",
    "plt.plot(history.history['loss'], c='k',label='Train')\n",
    "plt.plot(history.history['val_loss'], c='r', label = 'Test', ls='--')\n",
    "#Shows legend and add labels to the plot\n",
    "plt.legend()\n",
    "plt.xlabel('Nr. of Epochs')\n",
    "plt.ylabel('MSE')\n",
    "plt.show()"
   ]
  },
  {
   "cell_type": "markdown",
   "metadata": {
    "slideshow": {
     "slide_type": "slide"
    }
   },
   "source": [
    "As both series (train and test MSE) are converging, we can assess that the model is behaving correctly in both datasets. Such visualization, however, provides a broad view on the model, without additional information on its local behavior. For example, our artificial intelligence may work correctly within a certain range of the input features while underfitting in the rest of data. As MSE is averaged over the observations, we may not notice such problem and end up with an ill-conditioned model. We can generate a simple plot that compares the predicted output versus the true values for each of the outputs of the model. Let's start with the training data.<br>\n",
    "We first want to store the predictions of the model for both train and test data in the *y_train_pred* and *y_test_pred* variables: "
   ]
  },
  {
   "cell_type": "code",
   "execution_count": 16,
   "metadata": {
    "slideshow": {
     "slide_type": "subslide"
    }
   },
   "outputs": [],
   "source": [
    "#Computes predictions of the model for both train and test datasets\n",
    "y_train_pred = basicModel.predict(X_train)\n",
    "y_test_pred = basicModel.predict(X_test)"
   ]
  },
  {
   "cell_type": "markdown",
   "metadata": {
    "slideshow": {
     "slide_type": "slide"
    }
   },
   "source": [
    "We can now compare them and see how the model is performing locally. An immediate way is to plot the true outputs of the model on both axes of a graph. In so doing, reference data is represented as a line. The output of the model is instead represented using the true output of the model on one of the axis and the predicted values on the other axis. The error of the model can therefore be visualized as the distance between the predicted points and the solid line. "
   ]
  },
  {
   "cell_type": "code",
   "execution_count": 17,
   "metadata": {
    "slideshow": {
     "slide_type": "subslide"
    }
   },
   "outputs": [
    {
     "data": {
      "image/png": "[encoded data removed]",
      "text/plain": [
       "<Figure size 864x576 with 2 Axes>"
      ]
     },
     "metadata": {
      "needs_background": "light"
     },
     "output_type": "display_data"
    }
   ],
   "source": [
    "#Creates a new figure with two subplots\n",
    "fig = plt.figure(figsize=(12,8))\n",
    "\n",
    "#Cl plot with a 1:1 aspect ratio\n",
    "ax1 = fig.add_subplot(1,2,1, adjustable='box', aspect=1)\n",
    "#Plot reference data as a solid black line\n",
    "ax1.plot(y_train.values[:,0],y_train.values[:,0], c='k')\n",
    "#Plot model output as black empty circles\n",
    "ax1.scatter(y_train.values[:,0], y_train_pred[:,0], facecolor = 'none', edgecolor='k')\n",
    "#Add title and axes labels\n",
    "ax1.set_title('Cl - Train')\n",
    "ax1.set_xlabel('y_train')\n",
    "ax1.set_ylabel('y_train / y_train_pred')\n",
    "\n",
    "#Cd plot with a 1:1 aspect ratio\n",
    "ax2 = fig.add_subplot(1,2,2, adjustable='box', aspect=1)\n",
    "#Plot reference data as a solid black line\n",
    "ax2.plot(y_train.values[:,1],y_train.values[:,1], c='k', label='True')\n",
    "#Plot model output as black empty circles\n",
    "ax2.scatter(y_train.values[:,1], y_train_pred[:,1], facecolor = 'none', edgecolor='k', label='Predicted')\n",
    "#Add title and axes labels and a legend\n",
    "ax2.legend()\n",
    "ax2.set_title('Cd - Train')\n",
    "ax2.set_xlabel('y_train')\n",
    "ax2.set_ylabel('y_train / y_train_pred')\n",
    "\n",
    "plt.show()"
   ]
  },
  {
   "cell_type": "markdown",
   "metadata": {
    "slideshow": {
     "slide_type": "slide"
    }
   },
   "source": [
    "Now we can adapt the same lines of code for the test database:"
   ]
  },
  {
   "cell_type": "code",
   "execution_count": 18,
   "metadata": {
    "slideshow": {
     "slide_type": "subslide"
    }
   },
   "outputs": [
    {
     "data": {
      "image/png": "[encoded data removed]",
      "text/plain": [
       "<Figure size 864x576 with 2 Axes>"
      ]
     },
     "metadata": {
      "needs_background": "light"
     },
     "output_type": "display_data"
    }
   ],
   "source": [
    "#Creates a new figure with two subplots\n",
    "fig = plt.figure(figsize=(12,8))\n",
    "\n",
    "#Cl plot with a 1:1 aspect ratio\n",
    "ax1 = fig.add_subplot(1,2,1, adjustable='box', aspect=1)\n",
    "#Plot reference data as a solid black line\n",
    "ax1.plot(y_test.values[:,0],y_test.values[:,0], c='k')\n",
    "#Plot model output as black empty circles\n",
    "ax1.scatter(y_test.values[:,0], y_test_pred[:,0], facecolor = 'none', edgecolor='k')\n",
    "#Add title and axes labels\n",
    "ax1.set_title('Cl - Test')\n",
    "ax1.set_xlabel('y_test')\n",
    "ax1.set_ylabel('y_test / y_test_pred')\n",
    "\n",
    "#Cd plot with a 1:1 aspect ratio\n",
    "ax2 = fig.add_subplot(1,2,2, adjustable='box', aspect=1)\n",
    "#Plot reference data as a solid black line\n",
    "ax2.plot(y_test.values[:,1],y_test.values[:,1], c='k', label='True')\n",
    "#Plot model output as black empty circles\n",
    "ax2.scatter(y_test.values[:,1], y_test_pred[:,1], facecolor = 'none', edgecolor='k', label='Predicted')\n",
    "#Add title and axes labels and a legend\n",
    "ax2.legend()\n",
    "ax2.set_title('Cd - Test')\n",
    "ax2.set_xlabel('y_test')\n",
    "ax2.set_ylabel('y_test / y_test_pred')\n",
    "\n",
    "plt.show()"
   ]
  },
  {
   "cell_type": "markdown",
   "metadata": {
    "slideshow": {
     "slide_type": "subslide"
    }
   },
   "source": [
    "It is evident that the errors are large, especially for the drag coefficient. The trained model needs corrections. Several factors may impair the effectiveness of the algorithm. Among them, the initial selection of the hyperparameters of the neural network may be suboptimal to solve this particular task. It is now time to optimize the algorithm. "
   ]
  },
  {
   "cell_type": "markdown",
   "metadata": {
    "slideshow": {
     "slide_type": "slide"
    }
   },
   "source": [
    "<h1><center>Optimizing the model</center></h1>\n",
    "The optimization phase of the alogrithm is usually a computationally expensive and tedious process. The aim is to find the best combinations of hyperamters to achieve the highest accuracy / least error while making prediction. Depending on the computational costs of the training, we can investigate from tens to thousands possible combination of several hyperparameters and their effect on the neural network. In the simplest optimization, we can manually choose some combinations and hard-code them in the algorithm. However, this non-automatic approach is simply unfeasible for complex architectures. We will hereby use an hyperparameter optimizer already distributed in Keras, called *Keras Tuner*. We will define a search space and find out the best combination of hyperparameters. \n",
    "Our goal here is to find the best combination of:\n",
    "\n",
    "- **number of neurons**, ranging from 4 to 68\n",
    "- **activation functions**, choosing beetween ReLu and tanh\n",
    "- **learning rate**, choosing between 1e-2, 1e-3, 1e-4\n",
    "\n",
    "The first step is to define a dynamic structure of the neural network. In this new function, *model_builder*, the input argument *hp* is provided by the Keras Tuner. The number of neurons is a variable called *hp_units*, defined as integer, that varies from 4 to 32 with a 4 stride. The number of neurons is considered constant along all layers. We have also added a *dropout* layer between each hidden layer to increase the robustness of the model to overfitting. This layer randomly sets input units to 0 with a 30 % frequency of rate at each step during training time. The different acivations are chosen using the function *hp.Choice*, where we specify the availabe options. The same goes for the learning rate, stored in the *hp_learning_rate* variable. "
   ]
  },
  {
   "cell_type": "code",
   "execution_count": 19,
   "metadata": {
    "pycharm": {
     "is_executing": true,
     "name": "#%%\n"
    },
    "slideshow": {
     "slide_type": "slide"
    }
   },
   "outputs": [],
   "source": [
    "#Advanced model declaration\n",
    "def model_builder(hp):\n",
    "    \n",
    "    #Declaration of the input tensor\n",
    "    inputs = tf.keras.Input(shape=(5,))\n",
    "    \n",
    "    #Declares the number of neurons to optimize\n",
    "    hp_units = hp.Int('units', min_value=4, max_value=68, step=8)\n",
    "    \n",
    "    #Chooses between relu and tanh for the first layer\n",
    "    act1 = hp.Choice('act1', values=['relu', 'tanh'])\n",
    "    \n",
    "    #Definition of the first hidden layer\n",
    "    dense = layers.Dense(hp_units, activation=act1)\n",
    "    x = dense(inputs)\n",
    "    \n",
    "    #Adds a dropout layer = 30%\n",
    "    drop = keras.layers.Dropout(0.3)\n",
    "    x = drop(x)\n",
    "    \n",
    "    #Chooses between relu and tanh for the second layer\n",
    "    act2 = hp.Choice('act2', values=['relu', 'tanh'])\n",
    "    \n",
    "    #Definition of the second hidden layer\n",
    "    x = layers.Dense(hp_units, activation=act2)(x)\n",
    "    \n",
    "    #Adds a dropout layer = 30%\n",
    "    drop = keras.layers.Dropout(0.3)\n",
    "    x = drop(x)\n",
    "    \n",
    "    #Defines the output layer\n",
    "    outputs = layers.Dense(2, activation=\"linear\")(x)\n",
    "    \n",
    "    #Declaration of the advanced model\n",
    "    model = keras.Model(inputs=inputs, outputs=outputs, name=\"Advanced_model\")\n",
    "    \n",
    "    #Chooses between three possible learning rate\n",
    "    hp_learning_rate = hp.Choice('learning_rate', values=[1e-2, 1e-3, 1e-4])\n",
    "    \n",
    "    #Model finalization\n",
    "    model.compile(optimizer=keras.optimizers.Adam(learning_rate=hp_learning_rate),\n",
    "    loss=keras.losses.MeanSquaredError())\n",
    "    \n",
    "    return model"
   ]
  },
  {
   "cell_type": "markdown",
   "metadata": {
    "pycharm": {
     "name": "#%% md\n"
    },
    "slideshow": {
     "slide_type": "slide"
    }
   },
   "source": [
    "We can now import the required module for the hyperparameter optimization. Among the possible optimizers, we are here using the *Hyperband* algorithm. To reduce the computational costs of training multiple neural network, we are limited the number of epochs to 100 and the maximum number of executions per trial to 3. The metric that is used to optimize the algorithm is the loss computed on the test data. "
   ]
  },
  {
   "cell_type": "code",
   "execution_count": 20,
   "metadata": {
    "pycharm": {
     "is_executing": true
    },
    "slideshow": {
     "slide_type": "subslide"
    }
   },
   "outputs": [
    {
     "name": "stdout",
     "output_type": "stream",
     "text": [
      "INFO:tensorflow:Reloading Oracle from existing project .\\untitled_project\\oracle.json\n",
      "INFO:tensorflow:Reloading Tuner from .\\untitled_project\\tuner0.json\n"
     ]
    }
   ],
   "source": [
    "#Import of the required module\n",
    "from kerastuner.tuners import Hyperband\n",
    "\n",
    "#Definition of the tuner\n",
    "tuner = Hyperband(\n",
    "    model_builder,\n",
    "    max_epochs=100,\n",
    "    objective='val_loss',\n",
    "    seed=111,\n",
    "    executions_per_trial=3,\n",
    "    )"
   ]
  },
  {
   "cell_type": "markdown",
   "metadata": {
    "slideshow": {
     "slide_type": "slide"
    }
   },
   "source": [
    "Everything is now set up to run the optimization process. Please notice that the following expression is the same as the *.fit()* function that we previously used."
   ]
  },
  {
   "cell_type": "code",
   "execution_count": 21,
   "metadata": {
    "pycharm": {
     "is_executing": true
    },
    "slideshow": {
     "slide_type": "subslide"
    }
   },
   "outputs": [
    {
     "name": "stdout",
     "output_type": "stream",
     "text": [
      "INFO:tensorflow:Oracle triggered exit\n"
     ]
    }
   ],
   "source": [
    "#Start the hyperband search algoirthm\n",
    "tuner.search(X_train, y_train, epochs=30, validation_data = (X_test, y_test))\n"
   ]
  },
  {
   "cell_type": "markdown",
   "metadata": {
    "slideshow": {
     "slide_type": "slide"
    }
   },
   "source": [
    "After the optimization is finished, we can get the best model with the corresponding hyperparameters by running:"
   ]
  },
  {
   "cell_type": "code",
   "execution_count": 22,
   "metadata": {
    "slideshow": {
     "slide_type": "subslide"
    }
   },
   "outputs": [],
   "source": [
    "#Gets the best combination of hyperparameters\n",
    "best_hps=tuner.get_best_hyperparameters(num_trials=1)[0]\n",
    "\n",
    "#Gets the best model \n",
    "best_model = tuner.get_best_models(num_models=1)[0]\n",
    "\n"
   ]
  },
  {
   "cell_type": "markdown",
   "metadata": {
    "slideshow": {
     "slide_type": "subslide"
    }
   },
   "source": [
    "It is also possible to have a summary of the optimization results by simply running:"
   ]
  },
  {
   "cell_type": "code",
   "execution_count": 23,
   "metadata": {
    "slideshow": {
     "slide_type": "subslide"
    }
   },
   "outputs": [
    {
     "data": {
      "text/html": [
       "<span style=\"color:#4527A0\"><h1 style=\"font-size:18px\">Results summary</h1></span>"
      ],
      "text/plain": [
       "<IPython.core.display.HTML object>"
      ]
     },
     "metadata": {},
     "output_type": "display_data"
    },
    {
     "data": {
      "text/html": [
       "<span style=\"color:cyan\"> |-Results in .\\untitled_project</span>"
      ],
      "text/plain": [
       "<IPython.core.display.HTML object>"
      ]
     },
     "metadata": {},
     "output_type": "display_data"
    },
    {
     "data": {
      "text/html": [
       "<span style=\"color:cyan\"> |-Showing 10 best trials</span>"
      ],
      "text/plain": [
       "<IPython.core.display.HTML object>"
      ]
     },
     "metadata": {},
     "output_type": "display_data"
    },
    {
     "data": {
      "text/html": [
       "<span style=\"color:cyan\"> |-Objective(name='val_loss', direction='min')</span>"
      ],
      "text/plain": [
       "<IPython.core.display.HTML object>"
      ]
     },
     "metadata": {},
     "output_type": "display_data"
    },
    {
     "data": {
      "text/html": [
       "<span style=\"color:#4527A0\"><h1 style=\"font-size:18px\">Trial summary</h1></span>"
      ],
      "text/plain": [
       "<IPython.core.display.HTML object>"
      ]
     },
     "metadata": {},
     "output_type": "display_data"
    },
    {
     "data": {
      "text/html": [
       "<span style=\"color:cyan\"> |-Trial ID: 49c3bd5e015b7dd102e07d602a112318</span>"
      ],
      "text/plain": [
       "<IPython.core.display.HTML object>"
      ]
     },
     "metadata": {},
     "output_type": "display_data"
    },
    {
     "data": {
      "text/html": [
       "<span style=\"color:cyan\"> |-Score: 0.004671557806432247</span>"
      ],
      "text/plain": [
       "<IPython.core.display.HTML object>"
      ]
     },
     "metadata": {},
     "output_type": "display_data"
    },
    {
     "data": {
      "text/html": [
       "<span style=\"color:cyan\"> |-Best step: 0</span>"
      ],
      "text/plain": [
       "<IPython.core.display.HTML object>"
      ]
     },
     "metadata": {},
     "output_type": "display_data"
    },
    {
     "data": {
      "text/html": [
       "<span style=\"color:#7E57C2\"><h2 style=\"font-size:16px\">Hyperparameters:</h2></span>"
      ],
      "text/plain": [
       "<IPython.core.display.HTML object>"
      ]
     },
     "metadata": {},
     "output_type": "display_data"
    },
    {
     "data": {
      "text/html": [
       "<span style=\"color:cyan\"> |-act1: relu</span>"
      ],
      "text/plain": [
       "<IPython.core.display.HTML object>"
      ]
     },
     "metadata": {},
     "output_type": "display_data"
    },
    {
     "data": {
      "text/html": [
       "<span style=\"color:blue\"> |-act2: tanh</span>"
      ],
      "text/plain": [
       "<IPython.core.display.HTML object>"
      ]
     },
     "metadata": {},
     "output_type": "display_data"
    },
    {
     "data": {
      "text/html": [
       "<span style=\"color:cyan\"> |-learning_rate: 0.01</span>"
      ],
      "text/plain": [
       "<IPython.core.display.HTML object>"
      ]
     },
     "metadata": {},
     "output_type": "display_data"
    },
    {
     "data": {
      "text/html": [
       "<span style=\"color:blue\"> |-tuner/bracket: 4</span>"
      ],
      "text/plain": [
       "<IPython.core.display.HTML object>"
      ]
     },
     "metadata": {},
     "output_type": "display_data"
    },
    {
     "data": {
      "text/html": [
       "<span style=\"color:cyan\"> |-tuner/epochs: 100</span>"
      ],
      "text/plain": [
       "<IPython.core.display.HTML object>"
      ]
     },
     "metadata": {},
     "output_type": "display_data"
    },
    {
     "data": {
      "text/html": [
       "<span style=\"color:blue\"> |-tuner/initial_epoch: 34</span>"
      ],
      "text/plain": [
       "<IPython.core.display.HTML object>"
      ]
     },
     "metadata": {},
     "output_type": "display_data"
    },
    {
     "data": {
      "text/html": [
       "<span style=\"color:cyan\"> |-tuner/round: 4</span>"
      ],
      "text/plain": [
       "<IPython.core.display.HTML object>"
      ]
     },
     "metadata": {},
     "output_type": "display_data"
    },
    {
     "data": {
      "text/html": [
       "<span style=\"color:blue\"> |-tuner/trial_id: f1db739a3a0bdb16e1cba0ee0724817d</span>"
      ],
      "text/plain": [
       "<IPython.core.display.HTML object>"
      ]
     },
     "metadata": {},
     "output_type": "display_data"
    },
    {
     "data": {
      "text/html": [
       "<span style=\"color:cyan\"> |-units: 60</span>"
      ],
      "text/plain": [
       "<IPython.core.display.HTML object>"
      ]
     },
     "metadata": {},
     "output_type": "display_data"
    },
    {
     "data": {
      "text/html": [
       "<span style=\"color:#4527A0\"><h1 style=\"font-size:18px\">Trial summary</h1></span>"
      ],
      "text/plain": [
       "<IPython.core.display.HTML object>"
      ]
     },
     "metadata": {},
     "output_type": "display_data"
    },
    {
     "data": {
      "text/html": [
       "<span style=\"color:cyan\"> |-Trial ID: 3587f2177e688067a4b39b3a822a3ff3</span>"
      ],
      "text/plain": [
       "<IPython.core.display.HTML object>"
      ]
     },
     "metadata": {},
     "output_type": "display_data"
    },
    {
     "data": {
      "text/html": [
       "<span style=\"color:cyan\"> |-Score: 0.004879305915286143</span>"
      ],
      "text/plain": [
       "<IPython.core.display.HTML object>"
      ]
     },
     "metadata": {},
     "output_type": "display_data"
    },
    {
     "data": {
      "text/html": [
       "<span style=\"color:cyan\"> |-Best step: 0</span>"
      ],
      "text/plain": [
       "<IPython.core.display.HTML object>"
      ]
     },
     "metadata": {},
     "output_type": "display_data"
    },
    {
     "data": {
      "text/html": [
       "<span style=\"color:#7E57C2\"><h2 style=\"font-size:16px\">Hyperparameters:</h2></span>"
      ],
      "text/plain": [
       "<IPython.core.display.HTML object>"
      ]
     },
     "metadata": {},
     "output_type": "display_data"
    },
    {
     "data": {
      "text/html": [
       "<span style=\"color:cyan\"> |-act1: relu</span>"
      ],
      "text/plain": [
       "<IPython.core.display.HTML object>"
      ]
     },
     "metadata": {},
     "output_type": "display_data"
    },
    {
     "data": {
      "text/html": [
       "<span style=\"color:blue\"> |-act2: relu</span>"
      ],
      "text/plain": [
       "<IPython.core.display.HTML object>"
      ]
     },
     "metadata": {},
     "output_type": "display_data"
    },
    {
     "data": {
      "text/html": [
       "<span style=\"color:cyan\"> |-learning_rate: 0.01</span>"
      ],
      "text/plain": [
       "<IPython.core.display.HTML object>"
      ]
     },
     "metadata": {},
     "output_type": "display_data"
    },
    {
     "data": {
      "text/html": [
       "<span style=\"color:blue\"> |-tuner/bracket: 4</span>"
      ],
      "text/plain": [
       "<IPython.core.display.HTML object>"
      ]
     },
     "metadata": {},
     "output_type": "display_data"
    },
    {
     "data": {
      "text/html": [
       "<span style=\"color:cyan\"> |-tuner/epochs: 100</span>"
      ],
      "text/plain": [
       "<IPython.core.display.HTML object>"
      ]
     },
     "metadata": {},
     "output_type": "display_data"
    },
    {
     "data": {
      "text/html": [
       "<span style=\"color:blue\"> |-tuner/initial_epoch: 34</span>"
      ],
      "text/plain": [
       "<IPython.core.display.HTML object>"
      ]
     },
     "metadata": {},
     "output_type": "display_data"
    },
    {
     "data": {
      "text/html": [
       "<span style=\"color:cyan\"> |-tuner/round: 4</span>"
      ],
      "text/plain": [
       "<IPython.core.display.HTML object>"
      ]
     },
     "metadata": {},
     "output_type": "display_data"
    },
    {
     "data": {
      "text/html": [
       "<span style=\"color:blue\"> |-tuner/trial_id: a021711aec8494ce39df281d07338615</span>"
      ],
      "text/plain": [
       "<IPython.core.display.HTML object>"
      ]
     },
     "metadata": {},
     "output_type": "display_data"
    },
    {
     "data": {
      "text/html": [
       "<span style=\"color:cyan\"> |-units: 68</span>"
      ],
      "text/plain": [
       "<IPython.core.display.HTML object>"
      ]
     },
     "metadata": {},
     "output_type": "display_data"
    },
    {
     "data": {
      "text/html": [
       "<span style=\"color:#4527A0\"><h1 style=\"font-size:18px\">Trial summary</h1></span>"
      ],
      "text/plain": [
       "<IPython.core.display.HTML object>"
      ]
     },
     "metadata": {},
     "output_type": "display_data"
    },
    {
     "data": {
      "text/html": [
       "<span style=\"color:cyan\"> |-Trial ID: f1db739a3a0bdb16e1cba0ee0724817d</span>"
      ],
      "text/plain": [
       "<IPython.core.display.HTML object>"
      ]
     },
     "metadata": {},
     "output_type": "display_data"
    },
    {
     "data": {
      "text/html": [
       "<span style=\"color:cyan\"> |-Score: 0.08862714221080144</span>"
      ],
      "text/plain": [
       "<IPython.core.display.HTML object>"
      ]
     },
     "metadata": {},
     "output_type": "display_data"
    },
    {
     "data": {
      "text/html": [
       "<span style=\"color:cyan\"> |-Best step: 0</span>"
      ],
      "text/plain": [
       "<IPython.core.display.HTML object>"
      ]
     },
     "metadata": {},
     "output_type": "display_data"
    },
    {
     "data": {
      "text/html": [
       "<span style=\"color:#7E57C2\"><h2 style=\"font-size:16px\">Hyperparameters:</h2></span>"
      ],
      "text/plain": [
       "<IPython.core.display.HTML object>"
      ]
     },
     "metadata": {},
     "output_type": "display_data"
    },
    {
     "data": {
      "text/html": [
       "<span style=\"color:cyan\"> |-act1: relu</span>"
      ],
      "text/plain": [
       "<IPython.core.display.HTML object>"
      ]
     },
     "metadata": {},
     "output_type": "display_data"
    },
    {
     "data": {
      "text/html": [
       "<span style=\"color:blue\"> |-act2: tanh</span>"
      ],
      "text/plain": [
       "<IPython.core.display.HTML object>"
      ]
     },
     "metadata": {},
     "output_type": "display_data"
    },
    {
     "data": {
      "text/html": [
       "<span style=\"color:cyan\"> |-learning_rate: 0.01</span>"
      ],
      "text/plain": [
       "<IPython.core.display.HTML object>"
      ]
     },
     "metadata": {},
     "output_type": "display_data"
    },
    {
     "data": {
      "text/html": [
       "<span style=\"color:blue\"> |-tuner/bracket: 4</span>"
      ],
      "text/plain": [
       "<IPython.core.display.HTML object>"
      ]
     },
     "metadata": {},
     "output_type": "display_data"
    },
    {
     "data": {
      "text/html": [
       "<span style=\"color:cyan\"> |-tuner/epochs: 34</span>"
      ],
      "text/plain": [
       "<IPython.core.display.HTML object>"
      ]
     },
     "metadata": {},
     "output_type": "display_data"
    },
    {
     "data": {
      "text/html": [
       "<span style=\"color:blue\"> |-tuner/initial_epoch: 12</span>"
      ],
      "text/plain": [
       "<IPython.core.display.HTML object>"
      ]
     },
     "metadata": {},
     "output_type": "display_data"
    },
    {
     "data": {
      "text/html": [
       "<span style=\"color:cyan\"> |-tuner/round: 3</span>"
      ],
      "text/plain": [
       "<IPython.core.display.HTML object>"
      ]
     },
     "metadata": {},
     "output_type": "display_data"
    },
    {
     "data": {
      "text/html": [
       "<span style=\"color:blue\"> |-tuner/trial_id: c07bf7aff1793cc1eec0b98fa2e4bc2d</span>"
      ],
      "text/plain": [
       "<IPython.core.display.HTML object>"
      ]
     },
     "metadata": {},
     "output_type": "display_data"
    },
    {
     "data": {
      "text/html": [
       "<span style=\"color:cyan\"> |-units: 60</span>"
      ],
      "text/plain": [
       "<IPython.core.display.HTML object>"
      ]
     },
     "metadata": {},
     "output_type": "display_data"
    },
    {
     "data": {
      "text/html": [
       "<span style=\"color:#4527A0\"><h1 style=\"font-size:18px\">Trial summary</h1></span>"
      ],
      "text/plain": [
       "<IPython.core.display.HTML object>"
      ]
     },
     "metadata": {},
     "output_type": "display_data"
    },
    {
     "data": {
      "text/html": [
       "<span style=\"color:cyan\"> |-Trial ID: a021711aec8494ce39df281d07338615</span>"
      ],
      "text/plain": [
       "<IPython.core.display.HTML object>"
      ]
     },
     "metadata": {},
     "output_type": "display_data"
    },
    {
     "data": {
      "text/html": [
       "<span style=\"color:cyan\"> |-Score: 0.08884547154108684</span>"
      ],
      "text/plain": [
       "<IPython.core.display.HTML object>"
      ]
     },
     "metadata": {},
     "output_type": "display_data"
    },
    {
     "data": {
      "text/html": [
       "<span style=\"color:cyan\"> |-Best step: 0</span>"
      ],
      "text/plain": [
       "<IPython.core.display.HTML object>"
      ]
     },
     "metadata": {},
     "output_type": "display_data"
    },
    {
     "data": {
      "text/html": [
       "<span style=\"color:#7E57C2\"><h2 style=\"font-size:16px\">Hyperparameters:</h2></span>"
      ],
      "text/plain": [
       "<IPython.core.display.HTML object>"
      ]
     },
     "metadata": {},
     "output_type": "display_data"
    },
    {
     "data": {
      "text/html": [
       "<span style=\"color:cyan\"> |-act1: relu</span>"
      ],
      "text/plain": [
       "<IPython.core.display.HTML object>"
      ]
     },
     "metadata": {},
     "output_type": "display_data"
    },
    {
     "data": {
      "text/html": [
       "<span style=\"color:blue\"> |-act2: relu</span>"
      ],
      "text/plain": [
       "<IPython.core.display.HTML object>"
      ]
     },
     "metadata": {},
     "output_type": "display_data"
    },
    {
     "data": {
      "text/html": [
       "<span style=\"color:cyan\"> |-learning_rate: 0.01</span>"
      ],
      "text/plain": [
       "<IPython.core.display.HTML object>"
      ]
     },
     "metadata": {},
     "output_type": "display_data"
    },
    {
     "data": {
      "text/html": [
       "<span style=\"color:blue\"> |-tuner/bracket: 4</span>"
      ],
      "text/plain": [
       "<IPython.core.display.HTML object>"
      ]
     },
     "metadata": {},
     "output_type": "display_data"
    },
    {
     "data": {
      "text/html": [
       "<span style=\"color:cyan\"> |-tuner/epochs: 34</span>"
      ],
      "text/plain": [
       "<IPython.core.display.HTML object>"
      ]
     },
     "metadata": {},
     "output_type": "display_data"
    },
    {
     "data": {
      "text/html": [
       "<span style=\"color:blue\"> |-tuner/initial_epoch: 12</span>"
      ],
      "text/plain": [
       "<IPython.core.display.HTML object>"
      ]
     },
     "metadata": {},
     "output_type": "display_data"
    },
    {
     "data": {
      "text/html": [
       "<span style=\"color:cyan\"> |-tuner/round: 3</span>"
      ],
      "text/plain": [
       "<IPython.core.display.HTML object>"
      ]
     },
     "metadata": {},
     "output_type": "display_data"
    },
    {
     "data": {
      "text/html": [
       "<span style=\"color:blue\"> |-tuner/trial_id: 839e5a6023bbc866f23ee35923e7b2fc</span>"
      ],
      "text/plain": [
       "<IPython.core.display.HTML object>"
      ]
     },
     "metadata": {},
     "output_type": "display_data"
    },
    {
     "data": {
      "text/html": [
       "<span style=\"color:cyan\"> |-units: 68</span>"
      ],
      "text/plain": [
       "<IPython.core.display.HTML object>"
      ]
     },
     "metadata": {},
     "output_type": "display_data"
    },
    {
     "data": {
      "text/html": [
       "<span style=\"color:#4527A0\"><h1 style=\"font-size:18px\">Trial summary</h1></span>"
      ],
      "text/plain": [
       "<IPython.core.display.HTML object>"
      ]
     },
     "metadata": {},
     "output_type": "display_data"
    },
    {
     "data": {
      "text/html": [
       "<span style=\"color:cyan\"> |-Trial ID: f49dc92a9a87867b6cf3638e898bb104</span>"
      ],
      "text/plain": [
       "<IPython.core.display.HTML object>"
      ]
     },
     "metadata": {},
     "output_type": "display_data"
    },
    {
     "data": {
      "text/html": [
       "<span style=\"color:cyan\"> |-Score: 0.08895033846298854</span>"
      ],
      "text/plain": [
       "<IPython.core.display.HTML object>"
      ]
     },
     "metadata": {},
     "output_type": "display_data"
    },
    {
     "data": {
      "text/html": [
       "<span style=\"color:cyan\"> |-Best step: 0</span>"
      ],
      "text/plain": [
       "<IPython.core.display.HTML object>"
      ]
     },
     "metadata": {},
     "output_type": "display_data"
    },
    {
     "data": {
      "text/html": [
       "<span style=\"color:#7E57C2\"><h2 style=\"font-size:16px\">Hyperparameters:</h2></span>"
      ],
      "text/plain": [
       "<IPython.core.display.HTML object>"
      ]
     },
     "metadata": {},
     "output_type": "display_data"
    },
    {
     "data": {
      "text/html": [
       "<span style=\"color:cyan\"> |-act1: relu</span>"
      ],
      "text/plain": [
       "<IPython.core.display.HTML object>"
      ]
     },
     "metadata": {},
     "output_type": "display_data"
    },
    {
     "data": {
      "text/html": [
       "<span style=\"color:blue\"> |-act2: relu</span>"
      ],
      "text/plain": [
       "<IPython.core.display.HTML object>"
      ]
     },
     "metadata": {},
     "output_type": "display_data"
    },
    {
     "data": {
      "text/html": [
       "<span style=\"color:cyan\"> |-learning_rate: 0.01</span>"
      ],
      "text/plain": [
       "<IPython.core.display.HTML object>"
      ]
     },
     "metadata": {},
     "output_type": "display_data"
    },
    {
     "data": {
      "text/html": [
       "<span style=\"color:blue\"> |-tuner/bracket: 4</span>"
      ],
      "text/plain": [
       "<IPython.core.display.HTML object>"
      ]
     },
     "metadata": {},
     "output_type": "display_data"
    },
    {
     "data": {
      "text/html": [
       "<span style=\"color:cyan\"> |-tuner/epochs: 34</span>"
      ],
      "text/plain": [
       "<IPython.core.display.HTML object>"
      ]
     },
     "metadata": {},
     "output_type": "display_data"
    },
    {
     "data": {
      "text/html": [
       "<span style=\"color:blue\"> |-tuner/initial_epoch: 12</span>"
      ],
      "text/plain": [
       "<IPython.core.display.HTML object>"
      ]
     },
     "metadata": {},
     "output_type": "display_data"
    },
    {
     "data": {
      "text/html": [
       "<span style=\"color:cyan\"> |-tuner/round: 3</span>"
      ],
      "text/plain": [
       "<IPython.core.display.HTML object>"
      ]
     },
     "metadata": {},
     "output_type": "display_data"
    },
    {
     "data": {
      "text/html": [
       "<span style=\"color:blue\"> |-tuner/trial_id: 0bbee34b54aa35b51af7abd547666151</span>"
      ],
      "text/plain": [
       "<IPython.core.display.HTML object>"
      ]
     },
     "metadata": {},
     "output_type": "display_data"
    },
    {
     "data": {
      "text/html": [
       "<span style=\"color:cyan\"> |-units: 60</span>"
      ],
      "text/plain": [
       "<IPython.core.display.HTML object>"
      ]
     },
     "metadata": {},
     "output_type": "display_data"
    },
    {
     "data": {
      "text/html": [
       "<span style=\"color:#4527A0\"><h1 style=\"font-size:18px\">Trial summary</h1></span>"
      ],
      "text/plain": [
       "<IPython.core.display.HTML object>"
      ]
     },
     "metadata": {},
     "output_type": "display_data"
    },
    {
     "data": {
      "text/html": [
       "<span style=\"color:cyan\"> |-Trial ID: d6c4aab51f73262f7faf38f95b9aff10</span>"
      ],
      "text/plain": [
       "<IPython.core.display.HTML object>"
      ]
     },
     "metadata": {},
     "output_type": "display_data"
    },
    {
     "data": {
      "text/html": [
       "<span style=\"color:cyan\"> |-Score: 0.09121630837519963</span>"
      ],
      "text/plain": [
       "<IPython.core.display.HTML object>"
      ]
     },
     "metadata": {},
     "output_type": "display_data"
    },
    {
     "data": {
      "text/html": [
       "<span style=\"color:cyan\"> |-Best step: 0</span>"
      ],
      "text/plain": [
       "<IPython.core.display.HTML object>"
      ]
     },
     "metadata": {},
     "output_type": "display_data"
    },
    {
     "data": {
      "text/html": [
       "<span style=\"color:#7E57C2\"><h2 style=\"font-size:16px\">Hyperparameters:</h2></span>"
      ],
      "text/plain": [
       "<IPython.core.display.HTML object>"
      ]
     },
     "metadata": {},
     "output_type": "display_data"
    },
    {
     "data": {
      "text/html": [
       "<span style=\"color:cyan\"> |-act1: relu</span>"
      ],
      "text/plain": [
       "<IPython.core.display.HTML object>"
      ]
     },
     "metadata": {},
     "output_type": "display_data"
    },
    {
     "data": {
      "text/html": [
       "<span style=\"color:blue\"> |-act2: relu</span>"
      ],
      "text/plain": [
       "<IPython.core.display.HTML object>"
      ]
     },
     "metadata": {},
     "output_type": "display_data"
    },
    {
     "data": {
      "text/html": [
       "<span style=\"color:cyan\"> |-learning_rate: 0.01</span>"
      ],
      "text/plain": [
       "<IPython.core.display.HTML object>"
      ]
     },
     "metadata": {},
     "output_type": "display_data"
    },
    {
     "data": {
      "text/html": [
       "<span style=\"color:blue\"> |-tuner/bracket: 4</span>"
      ],
      "text/plain": [
       "<IPython.core.display.HTML object>"
      ]
     },
     "metadata": {},
     "output_type": "display_data"
    },
    {
     "data": {
      "text/html": [
       "<span style=\"color:cyan\"> |-tuner/epochs: 34</span>"
      ],
      "text/plain": [
       "<IPython.core.display.HTML object>"
      ]
     },
     "metadata": {},
     "output_type": "display_data"
    },
    {
     "data": {
      "text/html": [
       "<span style=\"color:blue\"> |-tuner/initial_epoch: 12</span>"
      ],
      "text/plain": [
       "<IPython.core.display.HTML object>"
      ]
     },
     "metadata": {},
     "output_type": "display_data"
    },
    {
     "data": {
      "text/html": [
       "<span style=\"color:cyan\"> |-tuner/round: 3</span>"
      ],
      "text/plain": [
       "<IPython.core.display.HTML object>"
      ]
     },
     "metadata": {},
     "output_type": "display_data"
    },
    {
     "data": {
      "text/html": [
       "<span style=\"color:blue\"> |-tuner/trial_id: e0dfeaeb3d73d27fe947b288c16fb240</span>"
      ],
      "text/plain": [
       "<IPython.core.display.HTML object>"
      ]
     },
     "metadata": {},
     "output_type": "display_data"
    },
    {
     "data": {
      "text/html": [
       "<span style=\"color:cyan\"> |-units: 44</span>"
      ],
      "text/plain": [
       "<IPython.core.display.HTML object>"
      ]
     },
     "metadata": {},
     "output_type": "display_data"
    },
    {
     "data": {
      "text/html": [
       "<span style=\"color:#4527A0\"><h1 style=\"font-size:18px\">Trial summary</h1></span>"
      ],
      "text/plain": [
       "<IPython.core.display.HTML object>"
      ]
     },
     "metadata": {},
     "output_type": "display_data"
    },
    {
     "data": {
      "text/html": [
       "<span style=\"color:cyan\"> |-Trial ID: 839e5a6023bbc866f23ee35923e7b2fc</span>"
      ],
      "text/plain": [
       "<IPython.core.display.HTML object>"
      ]
     },
     "metadata": {},
     "output_type": "display_data"
    },
    {
     "data": {
      "text/html": [
       "<span style=\"color:cyan\"> |-Score: 0.09947979946931203</span>"
      ],
      "text/plain": [
       "<IPython.core.display.HTML object>"
      ]
     },
     "metadata": {},
     "output_type": "display_data"
    },
    {
     "data": {
      "text/html": [
       "<span style=\"color:cyan\"> |-Best step: 0</span>"
      ],
      "text/plain": [
       "<IPython.core.display.HTML object>"
      ]
     },
     "metadata": {},
     "output_type": "display_data"
    },
    {
     "data": {
      "text/html": [
       "<span style=\"color:#7E57C2\"><h2 style=\"font-size:16px\">Hyperparameters:</h2></span>"
      ],
      "text/plain": [
       "<IPython.core.display.HTML object>"
      ]
     },
     "metadata": {},
     "output_type": "display_data"
    },
    {
     "data": {
      "text/html": [
       "<span style=\"color:cyan\"> |-act1: relu</span>"
      ],
      "text/plain": [
       "<IPython.core.display.HTML object>"
      ]
     },
     "metadata": {},
     "output_type": "display_data"
    },
    {
     "data": {
      "text/html": [
       "<span style=\"color:blue\"> |-act2: relu</span>"
      ],
      "text/plain": [
       "<IPython.core.display.HTML object>"
      ]
     },
     "metadata": {},
     "output_type": "display_data"
    },
    {
     "data": {
      "text/html": [
       "<span style=\"color:cyan\"> |-learning_rate: 0.01</span>"
      ],
      "text/plain": [
       "<IPython.core.display.HTML object>"
      ]
     },
     "metadata": {},
     "output_type": "display_data"
    },
    {
     "data": {
      "text/html": [
       "<span style=\"color:blue\"> |-tuner/bracket: 4</span>"
      ],
      "text/plain": [
       "<IPython.core.display.HTML object>"
      ]
     },
     "metadata": {},
     "output_type": "display_data"
    },
    {
     "data": {
      "text/html": [
       "<span style=\"color:cyan\"> |-tuner/epochs: 12</span>"
      ],
      "text/plain": [
       "<IPython.core.display.HTML object>"
      ]
     },
     "metadata": {},
     "output_type": "display_data"
    },
    {
     "data": {
      "text/html": [
       "<span style=\"color:blue\"> |-tuner/initial_epoch: 4</span>"
      ],
      "text/plain": [
       "<IPython.core.display.HTML object>"
      ]
     },
     "metadata": {},
     "output_type": "display_data"
    },
    {
     "data": {
      "text/html": [
       "<span style=\"color:cyan\"> |-tuner/round: 2</span>"
      ],
      "text/plain": [
       "<IPython.core.display.HTML object>"
      ]
     },
     "metadata": {},
     "output_type": "display_data"
    },
    {
     "data": {
      "text/html": [
       "<span style=\"color:blue\"> |-tuner/trial_id: d5db3023f99bb0c5d7fe06f398d9ea4a</span>"
      ],
      "text/plain": [
       "<IPython.core.display.HTML object>"
      ]
     },
     "metadata": {},
     "output_type": "display_data"
    },
    {
     "data": {
      "text/html": [
       "<span style=\"color:cyan\"> |-units: 68</span>"
      ],
      "text/plain": [
       "<IPython.core.display.HTML object>"
      ]
     },
     "metadata": {},
     "output_type": "display_data"
    },
    {
     "data": {
      "text/html": [
       "<span style=\"color:#4527A0\"><h1 style=\"font-size:18px\">Trial summary</h1></span>"
      ],
      "text/plain": [
       "<IPython.core.display.HTML object>"
      ]
     },
     "metadata": {},
     "output_type": "display_data"
    },
    {
     "data": {
      "text/html": [
       "<span style=\"color:cyan\"> |-Trial ID: 0bbee34b54aa35b51af7abd547666151</span>"
      ],
      "text/plain": [
       "<IPython.core.display.HTML object>"
      ]
     },
     "metadata": {},
     "output_type": "display_data"
    },
    {
     "data": {
      "text/html": [
       "<span style=\"color:cyan\"> |-Score: 0.10379488517840703</span>"
      ],
      "text/plain": [
       "<IPython.core.display.HTML object>"
      ]
     },
     "metadata": {},
     "output_type": "display_data"
    },
    {
     "data": {
      "text/html": [
       "<span style=\"color:cyan\"> |-Best step: 0</span>"
      ],
      "text/plain": [
       "<IPython.core.display.HTML object>"
      ]
     },
     "metadata": {},
     "output_type": "display_data"
    },
    {
     "data": {
      "text/html": [
       "<span style=\"color:#7E57C2\"><h2 style=\"font-size:16px\">Hyperparameters:</h2></span>"
      ],
      "text/plain": [
       "<IPython.core.display.HTML object>"
      ]
     },
     "metadata": {},
     "output_type": "display_data"
    },
    {
     "data": {
      "text/html": [
       "<span style=\"color:cyan\"> |-act1: relu</span>"
      ],
      "text/plain": [
       "<IPython.core.display.HTML object>"
      ]
     },
     "metadata": {},
     "output_type": "display_data"
    },
    {
     "data": {
      "text/html": [
       "<span style=\"color:blue\"> |-act2: relu</span>"
      ],
      "text/plain": [
       "<IPython.core.display.HTML object>"
      ]
     },
     "metadata": {},
     "output_type": "display_data"
    },
    {
     "data": {
      "text/html": [
       "<span style=\"color:cyan\"> |-learning_rate: 0.01</span>"
      ],
      "text/plain": [
       "<IPython.core.display.HTML object>"
      ]
     },
     "metadata": {},
     "output_type": "display_data"
    },
    {
     "data": {
      "text/html": [
       "<span style=\"color:blue\"> |-tuner/bracket: 4</span>"
      ],
      "text/plain": [
       "<IPython.core.display.HTML object>"
      ]
     },
     "metadata": {},
     "output_type": "display_data"
    },
    {
     "data": {
      "text/html": [
       "<span style=\"color:cyan\"> |-tuner/epochs: 12</span>"
      ],
      "text/plain": [
       "<IPython.core.display.HTML object>"
      ]
     },
     "metadata": {},
     "output_type": "display_data"
    },
    {
     "data": {
      "text/html": [
       "<span style=\"color:blue\"> |-tuner/initial_epoch: 4</span>"
      ],
      "text/plain": [
       "<IPython.core.display.HTML object>"
      ]
     },
     "metadata": {},
     "output_type": "display_data"
    },
    {
     "data": {
      "text/html": [
       "<span style=\"color:cyan\"> |-tuner/round: 2</span>"
      ],
      "text/plain": [
       "<IPython.core.display.HTML object>"
      ]
     },
     "metadata": {},
     "output_type": "display_data"
    },
    {
     "data": {
      "text/html": [
       "<span style=\"color:blue\"> |-tuner/trial_id: f5e2cd92d6d1826f82e6d8f70e658014</span>"
      ],
      "text/plain": [
       "<IPython.core.display.HTML object>"
      ]
     },
     "metadata": {},
     "output_type": "display_data"
    },
    {
     "data": {
      "text/html": [
       "<span style=\"color:cyan\"> |-units: 60</span>"
      ],
      "text/plain": [
       "<IPython.core.display.HTML object>"
      ]
     },
     "metadata": {},
     "output_type": "display_data"
    },
    {
     "data": {
      "text/html": [
       "<span style=\"color:#4527A0\"><h1 style=\"font-size:18px\">Trial summary</h1></span>"
      ],
      "text/plain": [
       "<IPython.core.display.HTML object>"
      ]
     },
     "metadata": {},
     "output_type": "display_data"
    },
    {
     "data": {
      "text/html": [
       "<span style=\"color:cyan\"> |-Trial ID: e0dfeaeb3d73d27fe947b288c16fb240</span>"
      ],
      "text/plain": [
       "<IPython.core.display.HTML object>"
      ]
     },
     "metadata": {},
     "output_type": "display_data"
    },
    {
     "data": {
      "text/html": [
       "<span style=\"color:cyan\"> |-Score: 0.10476779192686081</span>"
      ],
      "text/plain": [
       "<IPython.core.display.HTML object>"
      ]
     },
     "metadata": {},
     "output_type": "display_data"
    },
    {
     "data": {
      "text/html": [
       "<span style=\"color:cyan\"> |-Best step: 0</span>"
      ],
      "text/plain": [
       "<IPython.core.display.HTML object>"
      ]
     },
     "metadata": {},
     "output_type": "display_data"
    },
    {
     "data": {
      "text/html": [
       "<span style=\"color:#7E57C2\"><h2 style=\"font-size:16px\">Hyperparameters:</h2></span>"
      ],
      "text/plain": [
       "<IPython.core.display.HTML object>"
      ]
     },
     "metadata": {},
     "output_type": "display_data"
    },
    {
     "data": {
      "text/html": [
       "<span style=\"color:cyan\"> |-act1: relu</span>"
      ],
      "text/plain": [
       "<IPython.core.display.HTML object>"
      ]
     },
     "metadata": {},
     "output_type": "display_data"
    },
    {
     "data": {
      "text/html": [
       "<span style=\"color:blue\"> |-act2: relu</span>"
      ],
      "text/plain": [
       "<IPython.core.display.HTML object>"
      ]
     },
     "metadata": {},
     "output_type": "display_data"
    },
    {
     "data": {
      "text/html": [
       "<span style=\"color:cyan\"> |-learning_rate: 0.01</span>"
      ],
      "text/plain": [
       "<IPython.core.display.HTML object>"
      ]
     },
     "metadata": {},
     "output_type": "display_data"
    },
    {
     "data": {
      "text/html": [
       "<span style=\"color:blue\"> |-tuner/bracket: 4</span>"
      ],
      "text/plain": [
       "<IPython.core.display.HTML object>"
      ]
     },
     "metadata": {},
     "output_type": "display_data"
    },
    {
     "data": {
      "text/html": [
       "<span style=\"color:cyan\"> |-tuner/epochs: 12</span>"
      ],
      "text/plain": [
       "<IPython.core.display.HTML object>"
      ]
     },
     "metadata": {},
     "output_type": "display_data"
    },
    {
     "data": {
      "text/html": [
       "<span style=\"color:blue\"> |-tuner/initial_epoch: 4</span>"
      ],
      "text/plain": [
       "<IPython.core.display.HTML object>"
      ]
     },
     "metadata": {},
     "output_type": "display_data"
    },
    {
     "data": {
      "text/html": [
       "<span style=\"color:cyan\"> |-tuner/round: 2</span>"
      ],
      "text/plain": [
       "<IPython.core.display.HTML object>"
      ]
     },
     "metadata": {},
     "output_type": "display_data"
    },
    {
     "data": {
      "text/html": [
       "<span style=\"color:blue\"> |-tuner/trial_id: 031ce6937fcb229d65f3c4a40621a53f</span>"
      ],
      "text/plain": [
       "<IPython.core.display.HTML object>"
      ]
     },
     "metadata": {},
     "output_type": "display_data"
    },
    {
     "data": {
      "text/html": [
       "<span style=\"color:cyan\"> |-units: 44</span>"
      ],
      "text/plain": [
       "<IPython.core.display.HTML object>"
      ]
     },
     "metadata": {},
     "output_type": "display_data"
    },
    {
     "data": {
      "text/html": [
       "<span style=\"color:#4527A0\"><h1 style=\"font-size:18px\">Trial summary</h1></span>"
      ],
      "text/plain": [
       "<IPython.core.display.HTML object>"
      ]
     },
     "metadata": {},
     "output_type": "display_data"
    },
    {
     "data": {
      "text/html": [
       "<span style=\"color:cyan\"> |-Trial ID: c07bf7aff1793cc1eec0b98fa2e4bc2d</span>"
      ],
      "text/plain": [
       "<IPython.core.display.HTML object>"
      ]
     },
     "metadata": {},
     "output_type": "display_data"
    },
    {
     "data": {
      "text/html": [
       "<span style=\"color:cyan\"> |-Score: 0.1073330466945966</span>"
      ],
      "text/plain": [
       "<IPython.core.display.HTML object>"
      ]
     },
     "metadata": {},
     "output_type": "display_data"
    },
    {
     "data": {
      "text/html": [
       "<span style=\"color:cyan\"> |-Best step: 0</span>"
      ],
      "text/plain": [
       "<IPython.core.display.HTML object>"
      ]
     },
     "metadata": {},
     "output_type": "display_data"
    },
    {
     "data": {
      "text/html": [
       "<span style=\"color:#7E57C2\"><h2 style=\"font-size:16px\">Hyperparameters:</h2></span>"
      ],
      "text/plain": [
       "<IPython.core.display.HTML object>"
      ]
     },
     "metadata": {},
     "output_type": "display_data"
    },
    {
     "data": {
      "text/html": [
       "<span style=\"color:cyan\"> |-act1: relu</span>"
      ],
      "text/plain": [
       "<IPython.core.display.HTML object>"
      ]
     },
     "metadata": {},
     "output_type": "display_data"
    },
    {
     "data": {
      "text/html": [
       "<span style=\"color:blue\"> |-act2: tanh</span>"
      ],
      "text/plain": [
       "<IPython.core.display.HTML object>"
      ]
     },
     "metadata": {},
     "output_type": "display_data"
    },
    {
     "data": {
      "text/html": [
       "<span style=\"color:cyan\"> |-learning_rate: 0.01</span>"
      ],
      "text/plain": [
       "<IPython.core.display.HTML object>"
      ]
     },
     "metadata": {},
     "output_type": "display_data"
    },
    {
     "data": {
      "text/html": [
       "<span style=\"color:blue\"> |-tuner/bracket: 4</span>"
      ],
      "text/plain": [
       "<IPython.core.display.HTML object>"
      ]
     },
     "metadata": {},
     "output_type": "display_data"
    },
    {
     "data": {
      "text/html": [
       "<span style=\"color:cyan\"> |-tuner/epochs: 12</span>"
      ],
      "text/plain": [
       "<IPython.core.display.HTML object>"
      ]
     },
     "metadata": {},
     "output_type": "display_data"
    },
    {
     "data": {
      "text/html": [
       "<span style=\"color:blue\"> |-tuner/initial_epoch: 4</span>"
      ],
      "text/plain": [
       "<IPython.core.display.HTML object>"
      ]
     },
     "metadata": {},
     "output_type": "display_data"
    },
    {
     "data": {
      "text/html": [
       "<span style=\"color:cyan\"> |-tuner/round: 2</span>"
      ],
      "text/plain": [
       "<IPython.core.display.HTML object>"
      ]
     },
     "metadata": {},
     "output_type": "display_data"
    },
    {
     "data": {
      "text/html": [
       "<span style=\"color:blue\"> |-tuner/trial_id: 18abf001de6bdafd4eeadf3d05f0701f</span>"
      ],
      "text/plain": [
       "<IPython.core.display.HTML object>"
      ]
     },
     "metadata": {},
     "output_type": "display_data"
    },
    {
     "data": {
      "text/html": [
       "<span style=\"color:cyan\"> |-units: 60</span>"
      ],
      "text/plain": [
       "<IPython.core.display.HTML object>"
      ]
     },
     "metadata": {},
     "output_type": "display_data"
    }
   ],
   "source": [
    "#Prints a summary of the results of the hyperband optimization\n",
    "tuner.results_summary()"
   ]
  },
  {
   "cell_type": "markdown",
   "metadata": {
    "pycharm": {
     "is_executing": true
    },
    "slideshow": {
     "slide_type": "slide"
    }
   },
   "source": [
    "We can now evaluate the performace of the algorithm. by inspecting  the output of the model for both training and test datasets. First, we can calculate and visualize the prediction for the train dataset."
   ]
  },
  {
   "cell_type": "code",
   "execution_count": 24,
   "metadata": {
    "pycharm": {
     "is_executing": true
    },
    "scrolled": true,
    "slideshow": {
     "slide_type": "subslide"
    }
   },
   "outputs": [
    {
     "data": {
      "image/png": "[encoded data removed]",
      "text/plain": [
       "<Figure size 864x576 with 2 Axes>"
      ]
     },
     "metadata": {
      "needs_background": "light"
     },
     "output_type": "display_data"
    }
   ],
   "source": [
    "#Stores the output of the trained model\n",
    "y_train_pred = best_model.predict(X_train)\n",
    "\n",
    "#Creates a new figure with two subplots\n",
    "fig = plt.figure(figsize=(12,8))\n",
    "\n",
    "#Cl plot with a 1:1 aspect ratio\n",
    "ax1 = fig.add_subplot(1,2,1, adjustable='box', aspect=1)\n",
    "#Plot reference data as a solid black line\n",
    "ax1.plot(y_train.values[:,0],y_train.values[:,0], c='k')\n",
    "#Plot model output as black empty circles\n",
    "ax1.scatter(y_train.values[:,0], y_train_pred[:,0], facecolor = 'none', edgecolor='k')\n",
    "#Add title and axes labels\n",
    "ax1.set_title('Cl - Train')\n",
    "ax1.set_xlabel('y_train')\n",
    "ax1.set_ylabel('y_train / y_train_pred')\n",
    "\n",
    "#Cd plot with a 1:1 aspect ratio\n",
    "ax2 = fig.add_subplot(1,2,2, adjustable='box', aspect=1)\n",
    "#Plot reference data as a solid black line\n",
    "ax2.plot(y_train.values[:,1],y_train.values[:,1], c='k', label='True')\n",
    "#Plot model output as black empty circles\n",
    "ax2.scatter(y_train.values[:,1], y_train_pred[:,1], facecolor = 'none', edgecolor='k', label='Predicted')\n",
    "#Add title and axes labels and a legend\n",
    "ax2.legend()\n",
    "ax2.set_title('Cd - Train')\n",
    "ax2.set_xlabel('y_train')\n",
    "ax2.set_ylabel('y_train / y_train_pred')\n",
    "\n",
    "plt.show()"
   ]
  },
  {
   "cell_type": "markdown",
   "metadata": {
    "slideshow": {
     "slide_type": "slide"
    }
   },
   "source": [
    "Finally, we can can evaluate the error of the model in the test dataset,"
   ]
  },
  {
   "cell_type": "code",
   "execution_count": 25,
   "metadata": {
    "pycharm": {
     "is_executing": true
    },
    "slideshow": {
     "slide_type": "subslide"
    }
   },
   "outputs": [
    {
     "data": {
      "image/png": "[encoded data removed]",
      "text/plain": [
       "<Figure size 864x576 with 2 Axes>"
      ]
     },
     "metadata": {
      "needs_background": "light"
     },
     "output_type": "display_data"
    }
   ],
   "source": [
    "#Evaluates the output of the model on the test data \n",
    "y_test_pred = best_model.predict(X_test)\n",
    "\n",
    "#Creates a new figure with two subplots\n",
    "fig = plt.figure(figsize=(12,8))\n",
    "\n",
    "#Cl plot with a 1:1 aspect ratio\n",
    "ax1 = fig.add_subplot(1,2,1, adjustable='box', aspect=1)\n",
    "#Plot reference data as a solid black line\n",
    "ax1.plot(y_test.values[:,0],y_test.values[:,0], c='k')\n",
    "#Plot model output as black empty circles\n",
    "ax1.scatter(y_test.values[:,0], y_test_pred[:,0], facecolor = 'none', edgecolor='k')\n",
    "#Add title and axes labels\n",
    "ax1.set_title('Cl - Test')\n",
    "ax1.set_xlabel('y_test')\n",
    "ax1.set_ylabel('y_test / y_test_pred')\n",
    "\n",
    "#Cd plot with a 1:1 aspect ratio\n",
    "ax2 = fig.add_subplot(1,2,2, adjustable='box', aspect=1)\n",
    "#Plot reference data as a solid black line\n",
    "ax2.plot(y_test.values[:,1],y_test.values[:,1], c='k', label='True')\n",
    "#Plot model output as black empty circles\n",
    "ax2.scatter(y_test.values[:,1], y_test_pred[:,1], facecolor = 'none', edgecolor='k', label='Predicted')\n",
    "#Add title and axes labels and a legend\n",
    "ax2.legend()\n",
    "ax2.set_title('Cd - Test')\n",
    "ax2.set_xlabel('y_test')\n",
    "ax2.set_ylabel('y_test / y_test_pred')\n",
    "\n",
    "plt.show()"
   ]
  },
  {
   "cell_type": "markdown",
   "metadata": {},
   "source": [
    "Are we done? Not really! We must spend many more efforts to improve the model and the\n",
    "results, like increasing the training dataset, validating the model against out-of-the-box, testing\n",
    "different data treatments, etc. etc. However, we can be satisfied as we have derived a good\n",
    "starting point."
   ]
  },
  {
   "cell_type": "code",
   "execution_count": null,
   "metadata": {},
   "outputs": [],
   "source": []
  }
 ],
 "metadata": {
  "celltoolbar": "Slideshow",
  "kernelspec": {
   "display_name": "Python 3",
   "language": "python",
   "name": "python3"
  },
  "language_info": {
   "codemirror_mode": {
    "name": "ipython",
    "version": 3
   },
   "file_extension": ".py",
   "mimetype": "text/x-python",
   "name": "python",
   "nbconvert_exporter": "python",
   "pygments_lexer": "ipython3",
   "version": "3.8.10"
  }
 },
 "nbformat": 4,
 "nbformat_minor": 1
}