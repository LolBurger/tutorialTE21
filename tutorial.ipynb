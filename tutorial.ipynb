{
 "cells": [
  {
   "cell_type": "markdown",
   "metadata": {
    "pycharm": {
     "name": "#%% md\n"
    },
    "slideshow": {
     "slide_type": "slide"
    }
   },
   "source": [
    "<h1><center>Data preprocessing </center></h1>\n",
    "\n",
    "The first few lines of every Python code are usually dedicated to the imports of the modules that are run in the code. We can now import data that we previously generated and that will be used to train the neural network. Three modules are here included:\n",
    "- numpy: basic library for array handling and manipulation\n",
    "- pandas: library to handle I/O of files and data structure manipulation\n",
    "- matplotlib: data visualization\n",
    "To increase the code readability, a common approach involves using aliases *(e.g. import pandas as <ins>pd</ins>)*."
   ]
  },
  {
   "cell_type": "code",
   "execution_count": 1,
   "metadata": {
    "slideshow": {
     "slide_type": "subslide"
    }
   },
   "outputs": [],
   "source": [
    "#Import the necessary modules and address them using aliases\n",
    "import numpy as np\n",
    "import pandas as pd\n",
    "import matplotlib.pyplot as plt"
   ]
  },
  {
   "cell_type": "markdown",
   "metadata": {
    "pycharm": {
     "name": "#%% md\n"
    },
    "slideshow": {
     "slide_type": "slide"
    }
   },
   "source": [
    "We are now ready to is to import the database that we are using for training and we previously stored in a *Comma Separated Values* file *(.csv)*. The input format strongly depends on the source that generated your data and it may come from different sources. "
   ]
  },
  {
   "cell_type": "code",
   "execution_count": 2,
   "metadata": {
    "pycharm": {
     "name": "#%%\n"
    },
    "slideshow": {
     "slide_type": "subslide"
    }
   },
   "outputs": [],
   "source": [
    "#Read the training data stored in .csv file\n",
    "df = pd.read_csv('RESULT_FILES/trainingData.csv',sep=',')"
   ]
  },
  {
   "cell_type": "markdown",
   "metadata": {
    "pycharm": {
     "name": "#%% md\n"
    },
    "slideshow": {
     "slide_type": "slide"
    }
   },
   "source": [
    "The file is read using the pandas library and it is stored in the df *dataframe* variable. We can now inspect the database we just loaded by accessing the first few rows of the file with their index, using the *.iloc[ ]* function, and by printing them on the screen:"
   ]
  },
  {
   "cell_type": "code",
   "execution_count": 3,
   "metadata": {
    "pycharm": {
     "name": "#%%\n"
    },
    "slideshow": {
     "slide_type": "subslide"
    }
   },
   "outputs": [
    {
     "name": "stdout",
     "output_type": "stream",
     "text": [
      "   AoA      CL       CD  camber  camber_loc  thickness     Re\n",
      "0 -2.0 -0.1551  0.01968       1           1          6  50000\n",
      "1  0.0  0.0572  0.01435       1           1          6  50000\n",
      "2  2.0  0.2316  0.01576       1           1          6  50000\n",
      "3  4.0  0.5433  0.01971       1           1          6  50000\n"
     ]
    }
   ],
   "source": [
    "#On screen print of the first four rows of the database\n",
    "print(df.iloc[0:4])"
   ]
  },
  {
   "cell_type": "markdown",
   "metadata": {
    "slideshow": {
     "slide_type": "slide"
    }
   },
   "source": [
    "The database for this tutorial was formerly cleaned of all the non-relevant columns. We can inspect the available features through the built-in pandas feature *df.columns*. We can print them on the screen by simply iterating all over them:"
   ]
  },
  {
   "cell_type": "code",
   "execution_count": 4,
   "metadata": {
    "pycharm": {
     "name": "#%%\n"
    },
    "slideshow": {
     "slide_type": "subslide"
    }
   },
   "outputs": [
    {
     "name": "stdout",
     "output_type": "stream",
     "text": [
      "AoA\n",
      "CL\n",
      "CD\n",
      "camber\n",
      "camber_loc\n",
      "thickness\n",
      "Re\n"
     ]
    }
   ],
   "source": [
    "#On screen print of the database columns\n",
    "for cname in df.columns:\n",
    "    print(cname)"
   ]
  },
  {
   "cell_type": "markdown",
   "metadata": {
    "pycharm": {
     "name": "#%% md\n"
    },
    "slideshow": {
     "slide_type": "slide"
    }
   },
   "source": [
    "As previously introduced in the first part of the tutorial, neural networks may be impaired by training data with features having different scales of magnitude and outliers. In general, data regularization/standardization is often beneficial for the neural netwrk training. We will here scale data according to one of the simplest criterion, called *minMax scaler*, that regularize features by bounding all the features between 0 and 1: <br><center>\n",
    " $\\hat{x}=\\frac{x-{x}_{min}}{x_{max}-{x}_{min}}$\n",
    " </center>\n",
    " where:\n",
    " - $\\hat{x}$ is the normalized feature vector\n",
    " - $x$ is the dimensional feature vecotr\n",
    " - $min$ and $max$ are the minimum and the maximum of the feature vector respectively\n",
    " To do so, we can use a for loop to scroll through the columns (features), iteratively computing the minimum and the maximum and eventually normalize data:"
   ]
  },
  {
   "cell_type": "code",
   "execution_count": 5,
   "metadata": {
    "pycharm": {
     "name": "#%%\n"
    },
    "slideshow": {
     "slide_type": "subslide"
    }
   },
   "outputs": [],
   "source": [
    "#Minmax reegularizer implementation\n",
    "for cname in df.columns:\n",
    "    df[cname] = (df[cname]-df[cname].min())/(df[cname].max()-df[cname].min())"
   ]
  },
  {
   "cell_type": "markdown",
   "metadata": {
    "slideshow": {
     "slide_type": "slide"
    }
   },
   "source": [
    "We can now inspect the normalized dataset statistics using the pandas built-in function *pd.describe()*:"
   ]
  },
  {
   "cell_type": "code",
   "execution_count": 6,
   "metadata": {
    "pycharm": {
     "name": "#%%\n"
    },
    "slideshow": {
     "slide_type": "subslide"
    }
   },
   "outputs": [
    {
     "name": "stdout",
     "output_type": "stream",
     "text": [
      "               AoA           CL           CD       camber   camber_loc  \\\n",
      "count  2276.000000  2276.000000  2276.000000  2276.000000  2276.000000   \n",
      "mean      0.488967     0.493499     0.203944     0.479350     0.521383   \n",
      "std       0.318187     0.206408     0.239350     0.371136     0.367524   \n",
      "min       0.000000     0.000000     0.000000     0.000000     0.000000   \n",
      "25%       0.222222     0.354608     0.053910     0.000000     0.333333   \n",
      "50%       0.444444     0.519807     0.096755     0.333333     0.666667   \n",
      "75%       0.777778     0.633627     0.233039     0.666667     1.000000   \n",
      "max       1.000000     1.000000     1.000000     1.000000     1.000000   \n",
      "\n",
      "         thickness           Re  \n",
      "count  2276.000000  2276.000000  \n",
      "mean      0.528705     0.289127  \n",
      "std       0.367556     0.388650  \n",
      "min       0.000000     0.000000  \n",
      "25%       0.333333     0.000000  \n",
      "50%       0.666667     0.052632  \n",
      "75%       1.000000     0.210526  \n",
      "max       1.000000     1.000000  \n"
     ]
    }
   ],
   "source": [
    "#Computes basic statistics of the normalized data and print that on the screen \n",
    "stats = df.describe()\n",
    "print(stats)"
   ]
  },
  {
   "cell_type": "markdown",
   "metadata": {},
   "source": [
    "We can also visualize the distribution of data using box plots, that show data distribution with their quantile. We can use the build-in pandas function called *boxplot()*. "
   ]
  },
  {
   "cell_type": "code",
   "execution_count": 7,
   "metadata": {},
   "outputs": [
    {
     "data": {
      "image/png": "[encoded data removed]",
      "text/plain": [
       "<Figure size 864x432 with 1 Axes>"
      ]
     },
     "metadata": {
      "needs_background": "light"
     },
     "output_type": "display_data"
    }
   ],
   "source": [
    "#Generates a new figure\n",
    "plt.figure(figsize=(12,6))\n",
    "\n",
    "#Box plot using pandas \n",
    "df.boxplot()\n",
    "\n",
    "#Add labels to the axes\n",
    "plt.xlabel('Feature')\n",
    "plt.ylabel('Numerical value')\n",
    "\n",
    "#Show figure\n",
    "plt.show()"
   ]
  },
  {
   "cell_type": "markdown",
   "metadata": {
    "slideshow": {
     "slide_type": "slide"
    }
   },
   "source": [
    "We can also visualize the different momenths  to have an easier inspection of the normalization outcome. Despite being possible to plot data directly with pandas, we will here use the standard Python module for visualization, *matplotlib*, that we previously imported as *plt*:"
   ]
  },
  {
   "cell_type": "code",
   "execution_count": 8,
   "metadata": {
    "pycharm": {
     "name": "#%%\n"
    },
    "slideshow": {
     "slide_type": "subslide"
    }
   },
   "outputs": [
    {
     "data": {
      "image/png": "[encoded data removed]",
      "text/plain": [
       "<Figure size 648x648 with 1 Axes>"
      ]
     },
     "metadata": {
      "needs_background": "light"
     },
     "output_type": "display_data"
    }
   ],
   "source": [
    "#Generates a new figure and plots mean/min/max/std for each feature.\n",
    "plt.figure(figsize = (9,9))\n",
    "\n",
    "#Plot mean\n",
    "plt.plot(stats.columns, stats.loc['mean'], c='r', label='mean')\n",
    "\n",
    "#Plot minimum\n",
    "plt.plot(stats.columns, stats.loc['min'], c='b', label='min')\n",
    "\n",
    "#Plot maximum\n",
    "plt.plot(stats.columns, stats.loc['max'], c='g', label='max')\n",
    "\n",
    "#Plot standard deviation\n",
    "plt.plot(stats.columns, stats.loc['std'], c='y', label='std')\n",
    "\n",
    "#Add a legend and a grid \n",
    "plt.legend()\n",
    "plt.grid()\n",
    "\n",
    "#Shows figure\n",
    "plt.show()"
   ]
  },
  {
   "cell_type": "markdown",
   "metadata": {
    "pycharm": {
     "name": "#%% md\n"
    },
    "slideshow": {
     "slide_type": "slide"
    }
   },
   "source": [
    "After the regularization, the features are  bounded between 0 and 1.\n",
    "<br> The subsequent step is to divide data between the *train* and *test* subsets. To do so, we are going to use another module, called \n",
    "*scikit-learn*, and its utility *train_test_split*. In addition, this utility automatically splits the existing features based on their belonging to\n",
    "**input** or **output** features. The database that we are using is already ordered to have the last two columns that correspond to the\n",
    " output. The *train_test_split* function requires as arguments the input and output features and the relative sizes of the two splits. Depending on the application, the training/test size ration may change, however we will opt for a 70% training and 30% testing of the original dataset, that includes 2276 entires. Such function returns four arguments: \n",
    "* **X_train**: training input features, with shape (1594, 5)\n",
    "* **y_train**: training output features, with shape (1594, 2)\n",
    "* **X_test**: testing input features, with shape (682, 5)\n",
    "* **y_test**: testing output features, with shape (682, 2)\n"
   ]
  },
  {
   "cell_type": "code",
   "execution_count": 9,
   "metadata": {
    "pycharm": {
     "name": "#%%\n"
    },
    "slideshow": {
     "slide_type": "subslide"
    }
   },
   "outputs": [],
   "source": [
    "#Import of the sklearn train_test_split function\n",
    "from sklearn.model_selection import train_test_split\n",
    "\n",
    "#Definition of the input/output features \n",
    "df_shape = df.shape\n",
    "input_features = df[['AoA', 'camber', 'camber_loc', 'thickness', 'Re']]\n",
    "output_features = df[['CL','CD']]\n",
    "\n",
    "#Split in train and test data\n",
    "X_train, X_test, y_train, y_test = train_test_split(\n",
    "    input_features, output_features, test_size=0.3, random_state=20)"
   ]
  },
  {
   "cell_type": "markdown",
   "metadata": {
    "pycharm": {
     "name": "#%% md\n"
    },
    "slideshow": {
     "slide_type": "slide"
    }
   },
   "source": [
    "<h1><center>Training a basic model</center></h1>\n",
    "We are now ready to define the neural network architecture. Several deep learning APIs are available for free, <i> e.g.\n",
    "Tensorflow, Keras, Pytorch</i>. In this tutorial we will be using Keras API.\n",
    "Several neural network topologies may compete in solving the same kind of problem, and it is not always easy to\n",
    "determine the best solutions a priori. In this case, we will solve this simple problem by using one of the simplest\n",
    "topology, a feed-forward multi-layer perceptron neural network. <br> We can start importing the necessary modules from the\n",
    "<i>Keras</i> library, distributed with the <i>tensorflow</i> package:"
   ]
  },
  {
   "cell_type": "code",
   "execution_count": 10,
   "metadata": {
    "pycharm": {
     "is_executing": true,
     "name": "#%%\n"
    },
    "slideshow": {
     "slide_type": "subslide"
    }
   },
   "outputs": [],
   "source": [
    "#import of the tensorflow library\n",
    "from tensorflow import keras\n"
   ]
  },
  {
   "cell_type": "markdown",
   "metadata": {
    "pycharm": {
     "name": "#%% md\n"
    },
    "slideshow": {
     "slide_type": "slide"
    }
   },
   "source": [
    "Finding the best architecture for our neural network is not a trivial task, as it is normally one of the goal of the\n",
    "optimization of the neural network. We can start with a basic non-optimized morphology. We can choose as initial structure a three layer\n",
    "feed forward neural network with 5 neurons per biased layer. The number of neurons per layer may be chosen using a rule of thumb: rounding the number of output plus half of the number of input features.\n",
    "As a first assumption, <br><centering> $n_\\text{neur}=f_\\text{out}+0.5*f_\\text{in}=2+0.5*5 \\simeq 5$ </centering><br>\n",
    "We can also draw a fast sketch of the structure to understand data flow across the network.\n"
   ]
  },
  {
   "cell_type": "markdown",
   "metadata": {},
   "source": [
    "We can also visualize the actual structure of the neural network:\n",
    "    ![title](img/nn.svg)\n",
    "<centering> \n",
    "    *Image generated using NN SVG (http://alexlenail.me/NN-SVG/index.html)*\n",
    "</centering>"
   ]
  },
  {
   "cell_type": "markdown",
   "metadata": {},
   "source": [
    "Please note that the first instruction defines an input layer that has 5 neurons that are activated using a Rectified\n",
    "Linear Unit, whereas in the second instruction it is not necessary to specify the shape, as it is automatically derived\n",
    "from the previous layer. In such structure, the first and the second sets of weights have a shape of $f_\\text{in} \\times 5$\n",
    "and $5 \\times 5$ respectively. In our network structure we still miss the output layer with two neurons, corresponding to the number of output features $f_\\text{out}$. Moreover, we no longer want the output to be binded by the ReLU function, therefore we will use a simple linear activation."
   ]
  },
  {
   "cell_type": "markdown",
   "metadata": {},
   "source": [
    "The implementation of the mathematical formulation underlying neural networks may be complex and time consuming. Luckily, most of the\n",
    "deep-learning APIs like Keras distribute functions that dramatically speed up the process. We can start by defining our simple model through a user-defined function, here called *basic_model*."
   ]
  },
  {
   "cell_type": "code",
   "execution_count": 11,
   "metadata": {
    "slideshow": {
     "slide_type": "subslide"
    }
   },
   "outputs": [],
   "source": [
    "# Computes the shape of the input features \n",
    "M,N_feat = X_train.shape\n",
    "\n",
    "# Definition the basic_model function\n",
    "def basic_model():\n",
    "    \n",
    "    #Definition the feed-forward neural network structure\n",
    "    model = keras.Sequential()\n",
    "    \n",
    "    #Definition of the first hidden layer\n",
    "    model.add(keras.layers.Dense(5, input_dim=N_feat, activation='tanh'))\n",
    "    \n",
    "    #Definition of the second hidden layer\n",
    "    model.add(keras.layers.Dense(5, activation='tanh'))\n",
    "    \n",
    "    #Definition of the output layer\n",
    "    model.add(keras.layers.Dense(2, activation='linear'))\n",
    "    \n",
    "    #Definition of the optimizer \n",
    "    opt = keras.optimizers.Adam(learning_rate=0.01)\n",
    "    \n",
    "    #Definition of the cost function\n",
    "    cost = keras.losses.MeanSquaredError()\n",
    "    \n",
    "    #Model finalization\n",
    "    model.compile(optimizer=opt,loss=cost)\n",
    "    \n",
    "    #Model return\n",
    "    return model"
   ]
  },
  {
   "cell_type": "markdown",
   "metadata": {
    "slideshow": {
     "slide_type": "slide"
    }
   },
   "source": [
    "In the last three lines of the function definition we are coding three relevant aspect of the neural network:\n",
    "<ul>\n",
    "<li>the learning rate (0.01)</li>\n",
    "<li>the cost function (Mean squared error)</li>\n",
    "<li>the optimizer (Adam)</li>\n",
    "</ul>\n",
    "<br> \n",
    "Even if Adam optimizer adapts the learning rate during the training phase, it has an impact on the speed of the algorithm. In fact, it controls the proportion that weights are updated. Larger values (e.g. 0.3) results in faster initial learning before the rate is updated. Smaller values (e.g. 1.0E-5) slow learning right down during training. <br>\n",
    "The choice of the cost function (also called loss function), depends mainly on the task to solve(regression\\classification). Its role in the neural network process is to determine the cost, i.e. the error that we are making between prediction and true values. As the gradients of losses are computed based on the cost function, it strongly affects the proper convergence of the optimizer. In this case we will use a common expression, the Mean Squared Error (MSE) function, defined as: <br><center>\n",
    "    $\\text{MSE}= \\frac{\\sum_{t=1}^T \\left(\\hat{y}_1-y\\right)^2}{T}$\n",
    "    </center><br>\n",
    "    \n",
    "The optimizer defines how to change weights or learning rates of the neural network to reduce the losses we previously defined. Adam optimizer has gained the favour of the community thanks to its fast convergence and adaptive learning rate."
   ]
  },
  {
   "cell_type": "markdown",
   "metadata": {
    "slideshow": {
     "slide_type": "slide"
    }
   },
   "source": [
    "Now everything is set up to start the training of the neural network. To do so, we use the *fit* command. The fit method accepts several arguments that may help or impair the convergence of the model. We want to specify that we want to use X_train and y_train as input/output of the training of the model and that X_test and y_test must be used to evaluate the model. "
   ]
  },
  {
   "cell_type": "code",
   "execution_count": 12,
   "metadata": {
    "slideshow": {
     "slide_type": "subslide"
    }
   },
   "outputs": [
    {
     "name": "stdout",
     "output_type": "stream",
     "text": [
      "Train on 1593 samples, validate on 683 samples\n",
      "Epoch 1/200\n",
      "1593/1593 [==============================] - 0s 258us/sample - loss: 0.0634 - val_loss: 0.0360\n",
      "Epoch 2/200\n",
      "1593/1593 [==============================] - 0s 41us/sample - loss: 0.0257 - val_loss: 0.0209\n",
      "Epoch 3/200\n",
      "1593/1593 [==============================] - 0s 40us/sample - loss: 0.0174 - val_loss: 0.0175\n",
      "Epoch 4/200\n",
      "1593/1593 [==============================] - 0s 39us/sample - loss: 0.0160 - val_loss: 0.0164\n",
      "Epoch 5/200\n",
      "1593/1593 [==============================] - 0s 40us/sample - loss: 0.0146 - val_loss: 0.0152\n",
      "Epoch 6/200\n",
      "1593/1593 [==============================] - 0s 39us/sample - loss: 0.0132 - val_loss: 0.0137\n",
      "Epoch 7/200\n",
      "1593/1593 [==============================] - 0s 38us/sample - loss: 0.0118 - val_loss: 0.0110\n",
      "Epoch 8/200\n",
      "1593/1593 [==============================] - 0s 40us/sample - loss: 0.0102 - val_loss: 0.0095\n",
      "Epoch 9/200\n",
      "1593/1593 [==============================] - 0s 38us/sample - loss: 0.0091 - val_loss: 0.0079\n",
      "Epoch 10/200\n",
      "1593/1593 [==============================] - 0s 38us/sample - loss: 0.0082 - val_loss: 0.0073\n",
      "Epoch 11/200\n",
      "1593/1593 [==============================] - 0s 40us/sample - loss: 0.0079 - val_loss: 0.0072\n",
      "Epoch 12/200\n",
      "1593/1593 [==============================] - 0s 40us/sample - loss: 0.0076 - val_loss: 0.0072\n",
      "Epoch 13/200\n",
      "1593/1593 [==============================] - 0s 38us/sample - loss: 0.0074 - val_loss: 0.0068\n",
      "Epoch 14/200\n",
      "1593/1593 [==============================] - 0s 39us/sample - loss: 0.0076 - val_loss: 0.0070\n",
      "Epoch 15/200\n",
      "1593/1593 [==============================] - 0s 38us/sample - loss: 0.0073 - val_loss: 0.0065\n",
      "Epoch 16/200\n",
      "1593/1593 [==============================] - 0s 38us/sample - loss: 0.0071 - val_loss: 0.0063\n",
      "Epoch 17/200\n",
      "1593/1593 [==============================] - 0s 37us/sample - loss: 0.0070 - val_loss: 0.0064\n",
      "Epoch 18/200\n",
      "1593/1593 [==============================] - 0s 38us/sample - loss: 0.0070 - val_loss: 0.0064\n",
      "Epoch 19/200\n",
      "1593/1593 [==============================] - 0s 39us/sample - loss: 0.0067 - val_loss: 0.0061\n",
      "Epoch 20/200\n",
      "1593/1593 [==============================] - 0s 37us/sample - loss: 0.0066 - val_loss: 0.0061\n",
      "Epoch 21/200\n",
      "1593/1593 [==============================] - 0s 38us/sample - loss: 0.0067 - val_loss: 0.0067\n",
      "Epoch 22/200\n",
      "1593/1593 [==============================] - 0s 41us/sample - loss: 0.0065 - val_loss: 0.0062\n",
      "Epoch 23/200\n",
      "1593/1593 [==============================] - 0s 41us/sample - loss: 0.0064 - val_loss: 0.0059\n",
      "Epoch 24/200\n",
      "1593/1593 [==============================] - 0s 40us/sample - loss: 0.0060 - val_loss: 0.0067\n",
      "Epoch 25/200\n",
      "1593/1593 [==============================] - 0s 40us/sample - loss: 0.0061 - val_loss: 0.0067\n",
      "Epoch 26/200\n",
      "1593/1593 [==============================] - 0s 40us/sample - loss: 0.0059 - val_loss: 0.0061\n",
      "Epoch 27/200\n",
      "1593/1593 [==============================] - 0s 39us/sample - loss: 0.0057 - val_loss: 0.0058\n",
      "Epoch 28/200\n",
      "1593/1593 [==============================] - 0s 38us/sample - loss: 0.0058 - val_loss: 0.0055\n",
      "Epoch 29/200\n",
      "1593/1593 [==============================] - 0s 40us/sample - loss: 0.0056 - val_loss: 0.0055\n",
      "Epoch 30/200\n",
      "1593/1593 [==============================] - 0s 38us/sample - loss: 0.0055 - val_loss: 0.0062\n",
      "Epoch 31/200\n",
      "1593/1593 [==============================] - 0s 40us/sample - loss: 0.0056 - val_loss: 0.0059\n",
      "Epoch 32/200\n",
      "1593/1593 [==============================] - 0s 39us/sample - loss: 0.0053 - val_loss: 0.0056\n",
      "Epoch 33/200\n",
      "1593/1593 [==============================] - 0s 40us/sample - loss: 0.0054 - val_loss: 0.0059\n",
      "Epoch 34/200\n",
      "1593/1593 [==============================] - 0s 40us/sample - loss: 0.0054 - val_loss: 0.0053\n",
      "Epoch 35/200\n",
      "1593/1593 [==============================] - 0s 40us/sample - loss: 0.0053 - val_loss: 0.0052\n",
      "Epoch 36/200\n",
      "1593/1593 [==============================] - 0s 40us/sample - loss: 0.0052 - val_loss: 0.0055\n",
      "Epoch 37/200\n",
      "1593/1593 [==============================] - 0s 38us/sample - loss: 0.0052 - val_loss: 0.0054\n",
      "Epoch 38/200\n",
      "1593/1593 [==============================] - 0s 38us/sample - loss: 0.0052 - val_loss: 0.0060\n",
      "Epoch 39/200\n",
      "1593/1593 [==============================] - 0s 40us/sample - loss: 0.0052 - val_loss: 0.0052\n",
      "Epoch 40/200\n",
      "1593/1593 [==============================] - 0s 38us/sample - loss: 0.0051 - val_loss: 0.0052\n",
      "Epoch 41/200\n",
      "1593/1593 [==============================] - 0s 39us/sample - loss: 0.0052 - val_loss: 0.0058\n",
      "Epoch 42/200\n",
      "1593/1593 [==============================] - 0s 37us/sample - loss: 0.0050 - val_loss: 0.0052\n",
      "Epoch 43/200\n",
      "1593/1593 [==============================] - 0s 38us/sample - loss: 0.0050 - val_loss: 0.0060\n",
      "Epoch 44/200\n",
      "1593/1593 [==============================] - 0s 38us/sample - loss: 0.0051 - val_loss: 0.0051\n",
      "Epoch 45/200\n",
      "1593/1593 [==============================] - 0s 40us/sample - loss: 0.0051 - val_loss: 0.0050\n",
      "Epoch 46/200\n",
      "1593/1593 [==============================] - 0s 38us/sample - loss: 0.0049 - val_loss: 0.0054\n",
      "Epoch 47/200\n",
      "1593/1593 [==============================] - 0s 38us/sample - loss: 0.0050 - val_loss: 0.0055\n",
      "Epoch 48/200\n",
      "1593/1593 [==============================] - 0s 41us/sample - loss: 0.0049 - val_loss: 0.0054\n",
      "Epoch 49/200\n",
      "1593/1593 [==============================] - 0s 40us/sample - loss: 0.0051 - val_loss: 0.0048\n",
      "Epoch 50/200\n",
      "1593/1593 [==============================] - 0s 41us/sample - loss: 0.0049 - val_loss: 0.0051\n",
      "Epoch 51/200\n",
      "1593/1593 [==============================] - 0s 40us/sample - loss: 0.0052 - val_loss: 0.0057\n",
      "Epoch 52/200\n",
      "1593/1593 [==============================] - 0s 39us/sample - loss: 0.0050 - val_loss: 0.0049\n",
      "Epoch 53/200\n",
      "1593/1593 [==============================] - 0s 39us/sample - loss: 0.0049 - val_loss: 0.0057\n",
      "Epoch 54/200\n",
      "1593/1593 [==============================] - 0s 40us/sample - loss: 0.0049 - val_loss: 0.0056\n",
      "Epoch 55/200\n",
      "1593/1593 [==============================] - 0s 40us/sample - loss: 0.0049 - val_loss: 0.0060\n",
      "Epoch 56/200\n",
      "1593/1593 [==============================] - 0s 39us/sample - loss: 0.0049 - val_loss: 0.0048\n",
      "Epoch 57/200\n",
      "1593/1593 [==============================] - 0s 40us/sample - loss: 0.0047 - val_loss: 0.0065\n",
      "Epoch 58/200\n",
      "1593/1593 [==============================] - 0s 39us/sample - loss: 0.0049 - val_loss: 0.0047\n",
      "Epoch 59/200\n",
      "1593/1593 [==============================] - 0s 40us/sample - loss: 0.0047 - val_loss: 0.0049\n",
      "Epoch 60/200\n",
      "1593/1593 [==============================] - 0s 39us/sample - loss: 0.0046 - val_loss: 0.0050\n",
      "Epoch 61/200\n",
      "1593/1593 [==============================] - 0s 40us/sample - loss: 0.0048 - val_loss: 0.0047\n",
      "Epoch 62/200\n",
      "1593/1593 [==============================] - 0s 40us/sample - loss: 0.0046 - val_loss: 0.0052\n",
      "Epoch 63/200\n",
      "1593/1593 [==============================] - 0s 41us/sample - loss: 0.0048 - val_loss: 0.0049\n",
      "Epoch 64/200\n",
      "1593/1593 [==============================] - 0s 40us/sample - loss: 0.0049 - val_loss: 0.0048\n",
      "Epoch 65/200\n",
      "1593/1593 [==============================] - 0s 37us/sample - loss: 0.0048 - val_loss: 0.0048\n",
      "Epoch 66/200\n",
      "1593/1593 [==============================] - 0s 38us/sample - loss: 0.0049 - val_loss: 0.0074\n",
      "Epoch 67/200\n",
      "1593/1593 [==============================] - 0s 42us/sample - loss: 0.0048 - val_loss: 0.0053\n",
      "Epoch 68/200\n",
      "1593/1593 [==============================] - 0s 41us/sample - loss: 0.0047 - val_loss: 0.0047\n",
      "Epoch 69/200\n",
      "1593/1593 [==============================] - 0s 39us/sample - loss: 0.0049 - val_loss: 0.0052\n",
      "Epoch 70/200\n",
      "1593/1593 [==============================] - 0s 39us/sample - loss: 0.0048 - val_loss: 0.0051\n",
      "Epoch 71/200\n",
      "1593/1593 [==============================] - 0s 38us/sample - loss: 0.0048 - val_loss: 0.0047\n",
      "Epoch 72/200\n",
      "1593/1593 [==============================] - 0s 39us/sample - loss: 0.0046 - val_loss: 0.0051\n",
      "Epoch 73/200\n",
      "1593/1593 [==============================] - 0s 49us/sample - loss: 0.0046 - val_loss: 0.0049\n",
      "Epoch 74/200\n",
      "1593/1593 [==============================] - 0s 50us/sample - loss: 0.0047 - val_loss: 0.0046\n",
      "Epoch 75/200\n",
      "1593/1593 [==============================] - 0s 46us/sample - loss: 0.0047 - val_loss: 0.0050\n",
      "Epoch 76/200\n",
      "1593/1593 [==============================] - 0s 45us/sample - loss: 0.0052 - val_loss: 0.0048\n",
      "Epoch 77/200\n"
     ]
    },
    {
     "name": "stdout",
     "output_type": "stream",
     "text": [
      "1593/1593 [==============================] - 0s 42us/sample - loss: 0.0045 - val_loss: 0.0051\n",
      "Epoch 78/200\n",
      "1593/1593 [==============================] - 0s 38us/sample - loss: 0.0045 - val_loss: 0.0050\n",
      "Epoch 79/200\n",
      "1593/1593 [==============================] - 0s 37us/sample - loss: 0.0045 - val_loss: 0.0047\n",
      "Epoch 80/200\n",
      "1593/1593 [==============================] - 0s 38us/sample - loss: 0.0048 - val_loss: 0.0058\n",
      "Epoch 81/200\n",
      "1593/1593 [==============================] - 0s 39us/sample - loss: 0.0047 - val_loss: 0.0050\n",
      "Epoch 82/200\n",
      "1593/1593 [==============================] - 0s 39us/sample - loss: 0.0047 - val_loss: 0.0050\n",
      "Epoch 83/200\n",
      "1593/1593 [==============================] - 0s 40us/sample - loss: 0.0045 - val_loss: 0.0050\n",
      "Epoch 84/200\n",
      "1593/1593 [==============================] - 0s 41us/sample - loss: 0.0046 - val_loss: 0.0051\n",
      "Epoch 85/200\n",
      "1593/1593 [==============================] - 0s 40us/sample - loss: 0.0047 - val_loss: 0.0045\n",
      "Epoch 86/200\n",
      "1593/1593 [==============================] - 0s 38us/sample - loss: 0.0047 - val_loss: 0.0047\n",
      "Epoch 87/200\n",
      "1593/1593 [==============================] - 0s 45us/sample - loss: 0.0048 - val_loss: 0.0048\n",
      "Epoch 88/200\n",
      "1593/1593 [==============================] - 0s 42us/sample - loss: 0.0045 - val_loss: 0.0046\n",
      "Epoch 89/200\n",
      "1593/1593 [==============================] - 0s 44us/sample - loss: 0.0044 - val_loss: 0.0063\n",
      "Epoch 90/200\n",
      "1593/1593 [==============================] - 0s 45us/sample - loss: 0.0046 - val_loss: 0.0051\n",
      "Epoch 91/200\n",
      "1593/1593 [==============================] - 0s 44us/sample - loss: 0.0044 - val_loss: 0.0046\n",
      "Epoch 92/200\n",
      "1593/1593 [==============================] - 0s 45us/sample - loss: 0.0043 - val_loss: 0.0045\n",
      "Epoch 93/200\n",
      "1593/1593 [==============================] - 0s 44us/sample - loss: 0.0044 - val_loss: 0.0046\n",
      "Epoch 94/200\n",
      "1593/1593 [==============================] - 0s 41us/sample - loss: 0.0045 - val_loss: 0.0058\n",
      "Epoch 95/200\n",
      "1593/1593 [==============================] - 0s 55us/sample - loss: 0.0044 - val_loss: 0.0047\n",
      "Epoch 96/200\n",
      "1593/1593 [==============================] - 0s 42us/sample - loss: 0.0044 - val_loss: 0.0046\n",
      "Epoch 97/200\n",
      "1593/1593 [==============================] - 0s 39us/sample - loss: 0.0043 - val_loss: 0.0044\n",
      "Epoch 98/200\n",
      "1593/1593 [==============================] - 0s 38us/sample - loss: 0.0044 - val_loss: 0.0053\n",
      "Epoch 99/200\n",
      "1593/1593 [==============================] - 0s 37us/sample - loss: 0.0046 - val_loss: 0.0059\n",
      "Epoch 100/200\n",
      "1593/1593 [==============================] - 0s 38us/sample - loss: 0.0049 - val_loss: 0.0048\n",
      "Epoch 101/200\n",
      "1593/1593 [==============================] - 0s 36us/sample - loss: 0.0045 - val_loss: 0.0048\n",
      "Epoch 102/200\n",
      "1593/1593 [==============================] - 0s 38us/sample - loss: 0.0045 - val_loss: 0.0047\n",
      "Epoch 103/200\n",
      "1593/1593 [==============================] - 0s 39us/sample - loss: 0.0044 - val_loss: 0.0045\n",
      "Epoch 104/200\n",
      "1593/1593 [==============================] - 0s 37us/sample - loss: 0.0046 - val_loss: 0.0051\n",
      "Epoch 105/200\n",
      "1593/1593 [==============================] - 0s 38us/sample - loss: 0.0046 - val_loss: 0.0046\n",
      "Epoch 106/200\n",
      "1593/1593 [==============================] - 0s 38us/sample - loss: 0.0042 - val_loss: 0.0045\n",
      "Epoch 107/200\n",
      "1593/1593 [==============================] - 0s 38us/sample - loss: 0.0044 - val_loss: 0.0048\n",
      "Epoch 108/200\n",
      "1593/1593 [==============================] - 0s 39us/sample - loss: 0.0043 - val_loss: 0.0045\n",
      "Epoch 109/200\n",
      "1593/1593 [==============================] - 0s 40us/sample - loss: 0.0043 - val_loss: 0.0043\n",
      "Epoch 110/200\n",
      "1593/1593 [==============================] - 0s 39us/sample - loss: 0.0044 - val_loss: 0.0044\n",
      "Epoch 111/200\n",
      "1593/1593 [==============================] - ETA: 0s - loss: 0.004 - 0s 40us/sample - loss: 0.0044 - val_loss: 0.0050\n",
      "Epoch 112/200\n",
      "1593/1593 [==============================] - 0s 40us/sample - loss: 0.0045 - val_loss: 0.0049\n",
      "Epoch 113/200\n",
      "1593/1593 [==============================] - 0s 37us/sample - loss: 0.0044 - val_loss: 0.0044\n",
      "Epoch 114/200\n",
      "1593/1593 [==============================] - 0s 38us/sample - loss: 0.0043 - val_loss: 0.0048\n",
      "Epoch 115/200\n",
      "1593/1593 [==============================] - 0s 39us/sample - loss: 0.0041 - val_loss: 0.0045\n",
      "Epoch 116/200\n",
      "1593/1593 [==============================] - 0s 37us/sample - loss: 0.0043 - val_loss: 0.0046\n",
      "Epoch 117/200\n",
      "1593/1593 [==============================] - 0s 39us/sample - loss: 0.0042 - val_loss: 0.0049\n",
      "Epoch 118/200\n",
      "1593/1593 [==============================] - 0s 40us/sample - loss: 0.0044 - val_loss: 0.0043\n",
      "Epoch 119/200\n",
      "1593/1593 [==============================] - 0s 37us/sample - loss: 0.0042 - val_loss: 0.0047\n",
      "Epoch 120/200\n",
      "1593/1593 [==============================] - 0s 38us/sample - loss: 0.0043 - val_loss: 0.0044\n",
      "Epoch 121/200\n",
      "1593/1593 [==============================] - 0s 39us/sample - loss: 0.0042 - val_loss: 0.0043\n",
      "Epoch 122/200\n",
      "1593/1593 [==============================] - 0s 38us/sample - loss: 0.0042 - val_loss: 0.0043\n",
      "Epoch 123/200\n",
      "1593/1593 [==============================] - 0s 37us/sample - loss: 0.0042 - val_loss: 0.0043\n",
      "Epoch 124/200\n",
      "1593/1593 [==============================] - 0s 38us/sample - loss: 0.0048 - val_loss: 0.0045\n",
      "Epoch 125/200\n",
      "1593/1593 [==============================] - 0s 39us/sample - loss: 0.0042 - val_loss: 0.0042\n",
      "Epoch 126/200\n",
      "1593/1593 [==============================] - 0s 39us/sample - loss: 0.0042 - val_loss: 0.0044\n",
      "Epoch 127/200\n",
      "1593/1593 [==============================] - 0s 38us/sample - loss: 0.0044 - val_loss: 0.0056\n",
      "Epoch 128/200\n",
      "1593/1593 [==============================] - 0s 38us/sample - loss: 0.0044 - val_loss: 0.0044\n",
      "Epoch 129/200\n",
      "1593/1593 [==============================] - 0s 38us/sample - loss: 0.0044 - val_loss: 0.0045\n",
      "Epoch 130/200\n",
      "1593/1593 [==============================] - 0s 38us/sample - loss: 0.0043 - val_loss: 0.0045\n",
      "Epoch 131/200\n",
      "1593/1593 [==============================] - 0s 37us/sample - loss: 0.0041 - val_loss: 0.0047\n",
      "Epoch 132/200\n",
      "1593/1593 [==============================] - 0s 37us/sample - loss: 0.0043 - val_loss: 0.0042\n",
      "Epoch 133/200\n",
      "1593/1593 [==============================] - 0s 40us/sample - loss: 0.0042 - val_loss: 0.0052\n",
      "Epoch 134/200\n",
      "1593/1593 [==============================] - 0s 40us/sample - loss: 0.0043 - val_loss: 0.0043\n",
      "Epoch 135/200\n",
      "1593/1593 [==============================] - 0s 38us/sample - loss: 0.0044 - val_loss: 0.0047\n",
      "Epoch 136/200\n",
      "1593/1593 [==============================] - 0s 38us/sample - loss: 0.0043 - val_loss: 0.0047\n",
      "Epoch 137/200\n",
      "1593/1593 [==============================] - 0s 38us/sample - loss: 0.0041 - val_loss: 0.0046\n",
      "Epoch 138/200\n",
      "1593/1593 [==============================] - 0s 38us/sample - loss: 0.0042 - val_loss: 0.0051\n",
      "Epoch 139/200\n",
      "1593/1593 [==============================] - 0s 40us/sample - loss: 0.0044 - val_loss: 0.0046\n",
      "Epoch 140/200\n",
      "1593/1593 [==============================] - 0s 39us/sample - loss: 0.0042 - val_loss: 0.0045\n",
      "Epoch 141/200\n",
      "1593/1593 [==============================] - 0s 40us/sample - loss: 0.0042 - val_loss: 0.0043\n",
      "Epoch 142/200\n",
      "1593/1593 [==============================] - 0s 39us/sample - loss: 0.0042 - val_loss: 0.0044\n",
      "Epoch 143/200\n",
      "1593/1593 [==============================] - 0s 38us/sample - loss: 0.0041 - val_loss: 0.0048\n",
      "Epoch 144/200\n",
      "1593/1593 [==============================] - 0s 36us/sample - loss: 0.0042 - val_loss: 0.0044\n",
      "Epoch 145/200\n",
      "1593/1593 [==============================] - 0s 41us/sample - loss: 0.0042 - val_loss: 0.0046\n",
      "Epoch 146/200\n",
      "1593/1593 [==============================] - 0s 41us/sample - loss: 0.0043 - val_loss: 0.0046\n",
      "Epoch 147/200\n",
      "1593/1593 [==============================] - 0s 40us/sample - loss: 0.0042 - val_loss: 0.0044\n",
      "Epoch 148/200\n",
      "1593/1593 [==============================] - 0s 38us/sample - loss: 0.0042 - val_loss: 0.0041\n",
      "Epoch 149/200\n",
      "1593/1593 [==============================] - 0s 38us/sample - loss: 0.0041 - val_loss: 0.0044\n",
      "Epoch 150/200\n",
      "1593/1593 [==============================] - 0s 38us/sample - loss: 0.0042 - val_loss: 0.0049\n",
      "Epoch 151/200\n",
      "1593/1593 [==============================] - 0s 39us/sample - loss: 0.0041 - val_loss: 0.0050\n",
      "Epoch 152/200\n",
      "1593/1593 [==============================] - 0s 39us/sample - loss: 0.0044 - val_loss: 0.0050\n"
     ]
    },
    {
     "name": "stdout",
     "output_type": "stream",
     "text": [
      "Epoch 153/200\n",
      "1593/1593 [==============================] - 0s 37us/sample - loss: 0.0043 - val_loss: 0.0045\n",
      "Epoch 154/200\n",
      "1593/1593 [==============================] - 0s 37us/sample - loss: 0.0041 - val_loss: 0.0043\n",
      "Epoch 155/200\n",
      "1593/1593 [==============================] - 0s 38us/sample - loss: 0.0041 - val_loss: 0.0042\n",
      "Epoch 156/200\n",
      "1593/1593 [==============================] - 0s 37us/sample - loss: 0.0040 - val_loss: 0.0042\n",
      "Epoch 157/200\n",
      "1593/1593 [==============================] - 0s 39us/sample - loss: 0.0041 - val_loss: 0.0047\n",
      "Epoch 158/200\n",
      "1593/1593 [==============================] - 0s 38us/sample - loss: 0.0042 - val_loss: 0.0048\n",
      "Epoch 159/200\n",
      "1593/1593 [==============================] - 0s 37us/sample - loss: 0.0042 - val_loss: 0.0046\n",
      "Epoch 160/200\n",
      "1593/1593 [==============================] - 0s 38us/sample - loss: 0.0040 - val_loss: 0.0042\n",
      "Epoch 161/200\n",
      "1593/1593 [==============================] - 0s 38us/sample - loss: 0.0043 - val_loss: 0.0043\n",
      "Epoch 162/200\n",
      "1593/1593 [==============================] - 0s 38us/sample - loss: 0.0040 - val_loss: 0.0042\n",
      "Epoch 163/200\n",
      "1593/1593 [==============================] - 0s 40us/sample - loss: 0.0041 - val_loss: 0.0043\n",
      "Epoch 164/200\n",
      "1593/1593 [==============================] - 0s 38us/sample - loss: 0.0041 - val_loss: 0.0043\n",
      "Epoch 165/200\n",
      "1593/1593 [==============================] - 0s 40us/sample - loss: 0.0041 - val_loss: 0.0048\n",
      "Epoch 166/200\n",
      "1593/1593 [==============================] - 0s 38us/sample - loss: 0.0042 - val_loss: 0.0042\n",
      "Epoch 167/200\n",
      "1593/1593 [==============================] - 0s 39us/sample - loss: 0.0041 - val_loss: 0.0044\n",
      "Epoch 168/200\n",
      "1593/1593 [==============================] - 0s 38us/sample - loss: 0.0040 - val_loss: 0.0041\n",
      "Epoch 169/200\n",
      "1593/1593 [==============================] - 0s 37us/sample - loss: 0.0040 - val_loss: 0.0045\n",
      "Epoch 170/200\n",
      "1593/1593 [==============================] - 0s 37us/sample - loss: 0.0042 - val_loss: 0.0046\n",
      "Epoch 171/200\n",
      "1593/1593 [==============================] - 0s 38us/sample - loss: 0.0042 - val_loss: 0.0046\n",
      "Epoch 172/200\n",
      "1593/1593 [==============================] - 0s 37us/sample - loss: 0.0040 - val_loss: 0.0041\n",
      "Epoch 173/200\n",
      "1593/1593 [==============================] - 0s 37us/sample - loss: 0.0041 - val_loss: 0.0044\n",
      "Epoch 174/200\n",
      "1593/1593 [==============================] - 0s 40us/sample - loss: 0.0042 - val_loss: 0.0042\n",
      "Epoch 175/200\n",
      "1593/1593 [==============================] - 0s 38us/sample - loss: 0.0042 - val_loss: 0.0045\n",
      "Epoch 176/200\n",
      "1593/1593 [==============================] - 0s 38us/sample - loss: 0.0041 - val_loss: 0.0045\n",
      "Epoch 177/200\n",
      "1593/1593 [==============================] - 0s 38us/sample - loss: 0.0040 - val_loss: 0.0043\n",
      "Epoch 178/200\n",
      "1593/1593 [==============================] - 0s 38us/sample - loss: 0.0040 - val_loss: 0.0044\n",
      "Epoch 179/200\n",
      "1593/1593 [==============================] - 0s 40us/sample - loss: 0.0040 - val_loss: 0.0042\n",
      "Epoch 180/200\n",
      "1593/1593 [==============================] - 0s 40us/sample - loss: 0.0040 - val_loss: 0.0043\n",
      "Epoch 181/200\n",
      "1593/1593 [==============================] - 0s 40us/sample - loss: 0.0042 - val_loss: 0.0048\n",
      "Epoch 182/200\n",
      "1593/1593 [==============================] - 0s 37us/sample - loss: 0.0041 - val_loss: 0.0043\n",
      "Epoch 183/200\n",
      "1593/1593 [==============================] - 0s 39us/sample - loss: 0.0040 - val_loss: 0.0046\n",
      "Epoch 184/200\n",
      "1593/1593 [==============================] - 0s 38us/sample - loss: 0.0042 - val_loss: 0.0042\n",
      "Epoch 185/200\n",
      "1593/1593 [==============================] - 0s 38us/sample - loss: 0.0041 - val_loss: 0.0045\n",
      "Epoch 186/200\n",
      "1593/1593 [==============================] - 0s 39us/sample - loss: 0.0039 - val_loss: 0.0042\n",
      "Epoch 187/200\n",
      "1593/1593 [==============================] - 0s 40us/sample - loss: 0.0040 - val_loss: 0.0042\n",
      "Epoch 188/200\n",
      "1593/1593 [==============================] - 0s 41us/sample - loss: 0.0041 - val_loss: 0.0044\n",
      "Epoch 189/200\n",
      "1593/1593 [==============================] - 0s 40us/sample - loss: 0.0045 - val_loss: 0.0047\n",
      "Epoch 190/200\n",
      "1593/1593 [==============================] - 0s 40us/sample - loss: 0.0042 - val_loss: 0.0051\n",
      "Epoch 191/200\n",
      "1593/1593 [==============================] - 0s 40us/sample - loss: 0.0041 - val_loss: 0.0041\n",
      "Epoch 192/200\n",
      "1593/1593 [==============================] - 0s 37us/sample - loss: 0.0040 - val_loss: 0.0045\n",
      "Epoch 193/200\n",
      "1593/1593 [==============================] - 0s 38us/sample - loss: 0.0042 - val_loss: 0.0050\n",
      "Epoch 194/200\n",
      "1593/1593 [==============================] - 0s 42us/sample - loss: 0.0041 - val_loss: 0.0042\n",
      "Epoch 195/200\n",
      "1593/1593 [==============================] - 0s 41us/sample - loss: 0.0040 - val_loss: 0.0043\n",
      "Epoch 196/200\n",
      "1593/1593 [==============================] - 0s 40us/sample - loss: 0.0040 - val_loss: 0.0047\n",
      "Epoch 197/200\n",
      "1593/1593 [==============================] - 0s 44us/sample - loss: 0.0040 - val_loss: 0.0049\n",
      "Epoch 198/200\n",
      "1593/1593 [==============================] - 0s 40us/sample - loss: 0.0041 - val_loss: 0.0044\n",
      "Epoch 199/200\n",
      "1593/1593 [==============================] - 0s 41us/sample - loss: 0.0041 - val_loss: 0.0050\n",
      "Epoch 200/200\n",
      "1593/1593 [==============================] - 0s 40us/sample - loss: 0.0042 - val_loss: 0.0051\n"
     ]
    }
   ],
   "source": [
    "#Model training\n",
    "history = basic_model().fit(X_train, y_train, epochs=200, validation_data = (X_test, y_test))"
   ]
  },
  {
   "cell_type": "markdown",
   "metadata": {
    "slideshow": {
     "slide_type": "slide"
    }
   },
   "source": [
    "Training and test losses, i.e. the computed MSE, are stored in the *history* variable. The history variable belongs to the *dictionary* type. Dictionaries are Python data structures that can be indexed using their *keys*, inspectable using the *.keys()* command.  "
   ]
  },
  {
   "cell_type": "code",
   "execution_count": 13,
   "metadata": {
    "slideshow": {
     "slide_type": "subslide"
    }
   },
   "outputs": [
    {
     "name": "stdout",
     "output_type": "stream",
     "text": [
      "dict_keys(['loss', 'val_loss'])\n"
     ]
    }
   ],
   "source": [
    "#On screen print of the history dictionary\n",
    "print(history.history.keys())"
   ]
  },
  {
   "cell_type": "markdown",
   "metadata": {
    "slideshow": {
     "slide_type": "subslide"
    }
   },
   "source": [
    "We want to plot both of them in the same figure, to compare the convergence hisotry and enstablish if the model is overfitting or not. "
   ]
  },
  {
   "cell_type": "code",
   "execution_count": 14,
   "metadata": {
    "slideshow": {
     "slide_type": "subslide"
    }
   },
   "outputs": [
    {
     "data": {
      "image/png": "[encoded data removed]",
      "text/plain": [
       "<Figure size 432x288 with 1 Axes>"
      ]
     },
     "metadata": {
      "needs_background": "light"
     },
     "output_type": "display_data"
    }
   ],
   "source": [
    "#Creates a new figure\n",
    "plt.figure()\n",
    "#Plotter of the training and test MSE\n",
    "plt.plot(history.history['loss'], c='k',label='Train')\n",
    "plt.plot(history.history['val_loss'], c='r', label = 'Test', ls='--')\n",
    "#Shows legend and add labels to the plot\n",
    "plt.legend()\n",
    "plt.xlabel('Nr. of Epochs')\n",
    "plt.ylabel('RMSE')\n",
    "plt.show()"
   ]
  },
  {
   "cell_type": "markdown",
   "metadata": {
    "slideshow": {
     "slide_type": "slide"
    }
   },
   "source": [
    "As both series (train and test MSE) are converging, we can assess that the model is behaving correctly in both datasets. Such visualization, however, provides a broad view on the model, without additional information on the local behavior of the model. For example, our artificial intelligence may work correctly within a certain range of the input features while underfitting in the rest of data. As MSE is averaged over the observations, we may not notice such problem and end up with an ill-conditioned model. We can generate a simple plot that compares the predicted output versus the true values for each of the outputs of the model. Let's start with the training data.<br>\n",
    "We first want to store the predictions of the model for both train and test data in the *y_train_pred* and *y_test_pred* variables: "
   ]
  },
  {
   "cell_type": "code",
   "execution_count": 15,
   "metadata": {
    "slideshow": {
     "slide_type": "subslide"
    }
   },
   "outputs": [],
   "source": [
    "#Computes predictions of the model for both train and test datasets\n",
    "y_train_pred = basic_model().predict(X_train)\n",
    "y_test_pred = basic_model().predict(X_test)"
   ]
  },
  {
   "cell_type": "markdown",
   "metadata": {
    "slideshow": {
     "slide_type": "slide"
    }
   },
   "source": [
    "We can now compare them and see how the model is performing locally. An immediate way is to plot the true outputs of the model on both axes of a graph. In so doing, reference data is represented as a line. The output of the model is instead represented using the true output of the model on one of the axis and the predicted values on the other axis. The error of the model can therefore be visualized as the distance between the predicted points and the solid line. "
   ]
  },
  {
   "cell_type": "code",
   "execution_count": 16,
   "metadata": {
    "slideshow": {
     "slide_type": "subslide"
    }
   },
   "outputs": [
    {
     "data": {
      "image/png": "[encoded data removed]",
      "text/plain": [
       "<Figure size 864x576 with 2 Axes>"
      ]
     },
     "metadata": {
      "needs_background": "light"
     },
     "output_type": "display_data"
    }
   ],
   "source": [
    "#Creates a new figure with two subplots\n",
    "fig = plt.figure(figsize=(12,8))\n",
    "\n",
    "#Cl plot with a 1:1 aspect ratio\n",
    "ax1 = fig.add_subplot(1,2,1, adjustable='box', aspect=1)\n",
    "#Plot reference data as a solid black line\n",
    "ax1.plot(y_train.values[:,0],y_train.values[:,0], c='k')\n",
    "#Plot model output as black empty circles\n",
    "ax1.scatter(y_train.values[:,0], y_train_pred[:,0], facecolor = 'none', edgecolor='k')\n",
    "#Add title and axes labels\n",
    "ax1.set_title('Cl - Train')\n",
    "ax1.set_xlabel('y_train')\n",
    "ax1.set_ylabel('y_train / y_train_pred')\n",
    "\n",
    "#Cd plot with a 1:1 aspect ratio\n",
    "ax2 = fig.add_subplot(1,2,2, adjustable='box', aspect=1)\n",
    "#Plot reference data as a solid black line\n",
    "ax2.plot(y_train.values[:,1],y_train.values[:,1], c='k', label='True')\n",
    "#Plot model output as black empty circles\n",
    "ax2.scatter(y_train.values[:,1], y_train_pred[:,1], facecolor = 'none', edgecolor='k', label='Predicted')\n",
    "#Add title and axes labels and a legend\n",
    "ax2.legend()\n",
    "ax2.set_title('Cd - Train')\n",
    "ax2.set_xlabel('y_train')\n",
    "ax2.set_ylabel('y_train / y_train_pred')\n",
    "\n",
    "plt.show()"
   ]
  },
  {
   "cell_type": "markdown",
   "metadata": {
    "slideshow": {
     "slide_type": "slide"
    }
   },
   "source": [
    "Now we can adapt the same lines of code for the test database:"
   ]
  },
  {
   "cell_type": "code",
   "execution_count": 17,
   "metadata": {
    "slideshow": {
     "slide_type": "subslide"
    }
   },
   "outputs": [
    {
     "data": {
      "image/png": "[encoded data removed]",
      "text/plain": [
       "<Figure size 864x576 with 2 Axes>"
      ]
     },
     "metadata": {
      "needs_background": "light"
     },
     "output_type": "display_data"
    }
   ],
   "source": [
    "#Creates a new figure with two subplots\n",
    "fig = plt.figure(figsize=(12,8))\n",
    "\n",
    "#Cl plot with a 1:1 aspect ratio\n",
    "ax1 = fig.add_subplot(1,2,1, adjustable='box', aspect=1)\n",
    "#Plot reference data as a solid black line\n",
    "ax1.plot(y_test.values[:,0],y_test.values[:,0], c='k')\n",
    "#Plot model output as black empty circles\n",
    "ax1.scatter(y_test.values[:,0], y_test_pred[:,0], facecolor = 'none', edgecolor='k')\n",
    "#Add title and axes labels\n",
    "ax1.set_title('Cl - Test')\n",
    "ax1.set_xlabel('y_test')\n",
    "ax1.set_ylabel('y_test / y_test_pred')\n",
    "\n",
    "#Cd plot with a 1:1 aspect ratio\n",
    "ax2 = fig.add_subplot(1,2,2, adjustable='box', aspect=1)\n",
    "#Plot reference data as a solid black line\n",
    "ax2.plot(y_test.values[:,1],y_test.values[:,1], c='k', label='True')\n",
    "#Plot model output as black empty circles\n",
    "ax2.scatter(y_test.values[:,1], y_test_pred[:,1], facecolor = 'none', edgecolor='k', label='Predicted')\n",
    "#Add title and axes labels and a legend\n",
    "ax2.legend()\n",
    "ax2.set_title('Cd - Test')\n",
    "ax2.set_xlabel('y_test')\n",
    "ax2.set_ylabel('y_test / y_test_pred')\n",
    "\n",
    "plt.show()"
   ]
  },
  {
   "cell_type": "markdown",
   "metadata": {
    "slideshow": {
     "slide_type": "subslide"
    }
   },
   "source": [
    "It is evident that the errors are large and the trained model is useless as it is. The initial selection selection of the hyperparameters of the neural network is not suited to solve this particular task. It is now time to optimize the algorithm. "
   ]
  },
  {
   "cell_type": "markdown",
   "metadata": {
    "slideshow": {
     "slide_type": "slide"
    }
   },
   "source": [
    "<h1><center>Optimizing the model</center></h1>\n",
    "The optimization phase of the alogrithm is usually a computationally expensive and tedious process. The aim is to find the best combinations of hyperamters to achieve the highest accuracy / least error while making prediction. Depending on the computational costs of the training, we can investigate from tens to thousands possible combination of several hyperparameters and their effect on the neural network. In the simplest optimization, we can manually choose some combinations and hard-code them in the algorithm. However, this non-automatic approach is simply unfeasible for complex architectures. We will hereby use an hyperparameter optimizer already distributed in Keras, called *Keras Tuner*. We will define a search space and find out the best combination of hyperparameters. \n",
    "Our goal here is to find the best combination of:\n",
    "\n",
    "- **number of neurons**, ranging from 4 to 32\n",
    "- **activation functions**, choosing beetween ReLu and tanh\n",
    "- **learning rate**, choosing between 1e-2, 1e-3, 1e-4\n",
    "\n",
    "The first step is to define a dynamic structure of the neural network. In this new function, *model_builder*, the input argument *hp* is provided by the Keras Tuner. The number of neurons is a variable called *hp_units*, defined as integer, that varies from 4 to 32 with a 4 stride. The number of neurons is considered constant along all layers. We have also added a *dropout* layer between each hidden layer to increase the robustness of the model to overfitting. This layer randomly sets input units to 0 with a 30 % frequency of rate at each step during training time. The different acivations are chosen using the function *hp.Choice*, where we specify the availabe options. The same goes for the learning rate, stored in the *hp_learning_rate* variable. "
   ]
  },
  {
   "cell_type": "code",
   "execution_count": 18,
   "metadata": {
    "pycharm": {
     "is_executing": true,
     "name": "#%%\n"
    },
    "slideshow": {
     "slide_type": "slide"
    }
   },
   "outputs": [],
   "source": [
    "\n",
    "def model_builder(hp):\n",
    "    #Definition the feed-forward neural network structure\n",
    "    model = keras.Sequential()\n",
    "    \n",
    "    #Declares the number of neurons to optimize\n",
    "    hp_units = hp.Int('units', min_value=4, max_value=68, step=8)\n",
    "    \n",
    "    #Chooses between relu and tanh for the first layer\n",
    "    act1 = hp.Choice('act1', values=['relu', 'tanh'])\n",
    "    \n",
    "    #Definition of the first hidden layer\n",
    "    model.add(keras.layers.Dense(hp_units, input_dim=N_feat, activation=act1))\n",
    "    \n",
    "    #Adds a dropout layer = 30%\n",
    "    model.add(keras.layers.Dropout(0.3))\n",
    "    \n",
    "    #Chooses between relu and tanh for the second layer\n",
    "    act2 = hp.Choice('act2', values=['relu', 'tanh'])\n",
    "    \n",
    "    #Adds a dropout layer = 30%\n",
    "    model.add(keras.layers.Dropout(0.3))\n",
    "    \n",
    "    #Definition of the second hidden layer\n",
    "    model.add(keras.layers.Dense(hp_units, activation=act2))\n",
    "    \n",
    "    #Adds a dropout layer = 30%\n",
    "    model.add(keras.layers.Dropout(0.3))\n",
    "    \n",
    "    #Chooses between relu and tanh for the first layer\n",
    "    act3 = hp.Choice('act3', values=['relu', 'tanh'])\n",
    "    \n",
    "    #Definition of the third hidden layer\n",
    "    model.add(keras.layers.Dense(hp_units, activation=act3))\n",
    "\n",
    "    #Definition of the output layer\n",
    "    model.add(keras.layers.Dense(2, activation='linear'))\n",
    "    \n",
    "    #Chooses between three possible learning rate \n",
    "    hp_learning_rate = hp.Choice('learning_rate', values=[1e-2, 1e-3, 1e-4])\n",
    "    \n",
    "    #Model finalization\n",
    "    model.compile(optimizer=keras.optimizers.Adam(learning_rate=hp_learning_rate),\n",
    "                  loss=keras.losses.MeanSquaredError())\n",
    "    \n",
    "    return model\n",
    "\n"
   ]
  },
  {
   "cell_type": "markdown",
   "metadata": {
    "pycharm": {
     "name": "#%% md\n"
    },
    "slideshow": {
     "slide_type": "slide"
    }
   },
   "source": [
    "We can now import the required module for the hyperparameter optimization. Among the possible optimizers, we are here using the *Hyperband* algorithm. To reduce the computational costs of training multiple neural network, we are limited the number of epochs to 100 and the maximum number of executions per trial to 3. The metric that is used to optimize the algorithm is the loss computed on the test data. "
   ]
  },
  {
   "cell_type": "code",
   "execution_count": 19,
   "metadata": {
    "pycharm": {
     "is_executing": true
    },
    "slideshow": {
     "slide_type": "subslide"
    }
   },
   "outputs": [
    {
     "name": "stdout",
     "output_type": "stream",
     "text": [
      "INFO:tensorflow:Reloading Oracle from existing project .\\untitled_project\\oracle.json\n",
      "INFO:tensorflow:Reloading Tuner from .\\untitled_project\\tuner0.json\n"
     ]
    }
   ],
   "source": [
    "#Import of the required module\n",
    "from kerastuner.tuners import Hyperband\n",
    "\n",
    "#Definition of the tuner\n",
    "tuner = Hyperband(\n",
    "    model_builder,\n",
    "    max_epochs=100,\n",
    "    objective='val_loss',\n",
    "    seed=111,\n",
    "    executions_per_trial=3,\n",
    "    )"
   ]
  },
  {
   "cell_type": "markdown",
   "metadata": {
    "slideshow": {
     "slide_type": "slide"
    }
   },
   "source": [
    "Everything is now set up to run the optimization process. Please notice that the following expression is the same as the *.fit()* function that we previously used."
   ]
  },
  {
   "cell_type": "code",
   "execution_count": 37,
   "metadata": {
    "pycharm": {
     "is_executing": true
    },
    "slideshow": {
     "slide_type": "subslide"
    }
   },
   "outputs": [
    {
     "name": "stdout",
     "output_type": "stream",
     "text": [
      "Train on 1593 samples, validate on 683 samples\n",
      "Epoch 1/4\n",
      "1593/1593 [==============================] - ETA: 15s - loss: 0.22 - ETA: 0s - loss: 0.2200 - 0s 305us/sample - loss: 0.2153 - val_loss: 0.0978\n",
      "Epoch 2/4\n",
      "1593/1593 [==============================] - ETA: 0s - loss: 0.136 - ETA: 0s - loss: 0.158 - 0s 65us/sample - loss: 0.1569 - val_loss: 0.0698\n",
      "Epoch 3/4\n",
      "1593/1593 [==============================] - ETA: 0s - loss: 0.127 - ETA: 0s - loss: 0.123 - 0s 77us/sample - loss: 0.1232 - val_loss: 0.0572\n",
      "Epoch 4/4\n",
      "1593/1593 [==============================] - ETA: 0s - loss: 0.126 - ETA: 0s - loss: 0.103 - 0s 78us/sample - loss: 0.1025 - val_loss: 0.0501\n",
      "Train on 1593 samples, validate on 683 samples\n",
      "Epoch 1/4\n",
      "1593/1593 [==============================] - ETA: 16s - loss: 0.27 - ETA: 0s - loss: 0.2054 - 0s 291us/sample - loss: 0.1996 - val_loss: 0.1371\n",
      "Epoch 2/4\n",
      "1593/1593 [==============================] - ETA: 0s - loss: 0.174 - ETA: 0s - loss: 0.143 - 0s 65us/sample - loss: 0.1356 - val_loss: 0.0811\n",
      "Epoch 3/4\n",
      "1593/1593 [==============================] - ETA: 0s - loss: 0.103 - ETA: 0s - loss: 0.099 - 0s 57us/sample - loss: 0.0970 - val_loss: 0.0529\n",
      "Epoch 4/4\n",
      "1593/1593 [==============================] - ETA: 0s - loss: 0.055 - ETA: 0s - loss: 0.078 - 0s 87us/sample - loss: 0.0791 - val_loss: 0.0416\n",
      "Train on 1593 samples, validate on 683 samples\n",
      "Epoch 1/4\n",
      "1593/1593 [==============================] - ETA: 15s - loss: 0.46 - ETA: 0s - loss: 0.3281 - 0s 282us/sample - loss: 0.3201 - val_loss: 0.1820\n",
      "Epoch 2/4\n",
      "1593/1593 [==============================] - ETA: 0s - loss: 0.252 - ETA: 0s - loss: 0.211 - 0s 53us/sample - loss: 0.2078 - val_loss: 0.1056\n",
      "Epoch 3/4\n",
      "1593/1593 [==============================] - ETA: 0s - loss: 0.238 - ETA: 0s - loss: 0.152 - 0s 52us/sample - loss: 0.1494 - val_loss: 0.0694\n",
      "Epoch 4/4\n",
      "1593/1593 [==============================] - ETA: 0s - loss: 0.141 - ETA: 0s - loss: 0.118 - 0s 51us/sample - loss: 0.1178 - val_loss: 0.0540\n"
     ]
    },
    {
     "data": {
      "text/html": [
       "<span style=\"color:#4527A0\"><h1 style=\"font-size:18px\">Trial complete</h1></span>"
      ],
      "text/plain": [
       "<IPython.core.display.HTML object>"
      ]
     },
     "metadata": {},
     "output_type": "display_data"
    },
    {
     "data": {
      "text/html": [
       "<span style=\"color:#4527A0\"><h1 style=\"font-size:18px\">Trial summary</h1></span>"
      ],
      "text/plain": [
       "<IPython.core.display.HTML object>"
      ]
     },
     "metadata": {},
     "output_type": "display_data"
    },
    {
     "data": {
      "text/html": [
       "<span style=\"color:cyan\"> |-Trial ID: 80976083d636807f700b7f24a110b17a</span>"
      ],
      "text/plain": [
       "<IPython.core.display.HTML object>"
      ]
     },
     "metadata": {},
     "output_type": "display_data"
    },
    {
     "data": {
      "text/html": [
       "<span style=\"color:cyan\"> |-Score: 0.04853741903896155</span>"
      ],
      "text/plain": [
       "<IPython.core.display.HTML object>"
      ]
     },
     "metadata": {},
     "output_type": "display_data"
    },
    {
     "data": {
      "text/html": [
       "<span style=\"color:cyan\"> |-Best step: 0</span>"
      ],
      "text/plain": [
       "<IPython.core.display.HTML object>"
      ]
     },
     "metadata": {},
     "output_type": "display_data"
    },
    {
     "data": {
      "text/html": [
       "<span style=\"color:#7E57C2\"><h2 style=\"font-size:16px\">Hyperparameters:</h2></span>"
      ],
      "text/plain": [
       "<IPython.core.display.HTML object>"
      ]
     },
     "metadata": {},
     "output_type": "display_data"
    },
    {
     "data": {
      "text/html": [
       "<span style=\"color:cyan\"> |-act1: relu</span>"
      ],
      "text/plain": [
       "<IPython.core.display.HTML object>"
      ]
     },
     "metadata": {},
     "output_type": "display_data"
    },
    {
     "data": {
      "text/html": [
       "<span style=\"color:blue\"> |-act2: tanh</span>"
      ],
      "text/plain": [
       "<IPython.core.display.HTML object>"
      ]
     },
     "metadata": {},
     "output_type": "display_data"
    },
    {
     "data": {
      "text/html": [
       "<span style=\"color:cyan\"> |-act3: tanh</span>"
      ],
      "text/plain": [
       "<IPython.core.display.HTML object>"
      ]
     },
     "metadata": {},
     "output_type": "display_data"
    },
    {
     "data": {
      "text/html": [
       "<span style=\"color:blue\"> |-learning_rate: 0.0001</span>"
      ],
      "text/plain": [
       "<IPython.core.display.HTML object>"
      ]
     },
     "metadata": {},
     "output_type": "display_data"
    },
    {
     "data": {
      "text/html": [
       "<span style=\"color:cyan\"> |-tuner/bracket: 3</span>"
      ],
      "text/plain": [
       "<IPython.core.display.HTML object>"
      ]
     },
     "metadata": {},
     "output_type": "display_data"
    },
    {
     "data": {
      "text/html": [
       "<span style=\"color:blue\"> |-tuner/epochs: 4</span>"
      ],
      "text/plain": [
       "<IPython.core.display.HTML object>"
      ]
     },
     "metadata": {},
     "output_type": "display_data"
    },
    {
     "data": {
      "text/html": [
       "<span style=\"color:cyan\"> |-tuner/initial_epoch: 0</span>"
      ],
      "text/plain": [
       "<IPython.core.display.HTML object>"
      ]
     },
     "metadata": {},
     "output_type": "display_data"
    },
    {
     "data": {
      "text/html": [
       "<span style=\"color:blue\"> |-tuner/round: 0</span>"
      ],
      "text/plain": [
       "<IPython.core.display.HTML object>"
      ]
     },
     "metadata": {},
     "output_type": "display_data"
    },
    {
     "data": {
      "text/html": [
       "<span style=\"color:cyan\"> |-units: 28</span>"
      ],
      "text/plain": [
       "<IPython.core.display.HTML object>"
      ]
     },
     "metadata": {},
     "output_type": "display_data"
    },
    {
     "name": "stdout",
     "output_type": "stream",
     "text": [
      "Train on 1593 samples, validate on 683 samples\n",
      "Epoch 1/4\n",
      "1593/1593 [==============================] - ETA: 15s - loss: 0.32 - ETA: 0s - loss: 0.2098 - 0s 296us/sample - loss: 0.2030 - val_loss: 0.0744\n",
      "Epoch 2/4\n",
      "1593/1593 [==============================] - ETA: 0s - loss: 0.135 - ETA: 0s - loss: 0.146 - 0s 82us/sample - loss: 0.1453 - val_loss: 0.0538\n",
      "Epoch 3/4\n",
      "1593/1593 [==============================] - ETA: 0s - loss: 0.095 - ETA: 0s - loss: 0.116 - 0s 71us/sample - loss: 0.1147 - val_loss: 0.0455\n",
      "Epoch 4/4\n",
      "1593/1593 [==============================] - ETA: 0s - loss: 0.111 - ETA: 0s - loss: 0.099 - 0s 71us/sample - loss: 0.0961 - val_loss: 0.0401\n",
      "Train on 1593 samples, validate on 683 samples\n",
      "Epoch 1/4\n",
      "1593/1593 [==============================] - ETA: 15s - loss: 0.20 - ETA: 0s - loss: 0.1496 - 0s 276us/sample - loss: 0.1437 - val_loss: 0.0597\n",
      "Epoch 2/4\n",
      "1593/1593 [==============================] - ETA: 0s - loss: 0.113 - ETA: 0s - loss: 0.113 - 0s 55us/sample - loss: 0.1090 - val_loss: 0.0494\n",
      "Epoch 3/4\n",
      "1593/1593 [==============================] - ETA: 0s - loss: 0.105 - ETA: 0s - loss: 0.091 - 0s 51us/sample - loss: 0.0889 - val_loss: 0.0429\n",
      "Epoch 4/4\n",
      "1593/1593 [==============================] - ETA: 0s - loss: 0.083 - ETA: 0s - loss: 0.075 - 0s 67us/sample - loss: 0.0766 - val_loss: 0.0387\n",
      "Train on 1593 samples, validate on 683 samples\n",
      "Epoch 1/4\n",
      "1593/1593 [==============================] - ETA: 15s - loss: 0.31 - ETA: 0s - loss: 0.2659 - 0s 278us/sample - loss: 0.2571 - val_loss: 0.0771\n",
      "Epoch 2/4\n",
      "1593/1593 [==============================] - ETA: 0s - loss: 0.220 - ETA: 0s - loss: 0.163 - 0s 54us/sample - loss: 0.1601 - val_loss: 0.0457\n",
      "Epoch 3/4\n",
      "1593/1593 [==============================] - ETA: 0s - loss: 0.123 - ETA: 0s - loss: 0.132 - 0s 51us/sample - loss: 0.1283 - val_loss: 0.0393\n",
      "Epoch 4/4\n",
      "1593/1593 [==============================] - ETA: 0s - loss: 0.107 - ETA: 0s - loss: 0.105 - 0s 68us/sample - loss: 0.1067 - val_loss: 0.0366\n"
     ]
    },
    {
     "data": {
      "text/html": [
       "<span style=\"color:#4527A0\"><h1 style=\"font-size:18px\">Trial complete</h1></span>"
      ],
      "text/plain": [
       "<IPython.core.display.HTML object>"
      ]
     },
     "metadata": {},
     "output_type": "display_data"
    },
    {
     "data": {
      "text/html": [
       "<span style=\"color:#4527A0\"><h1 style=\"font-size:18px\">Trial summary</h1></span>"
      ],
      "text/plain": [
       "<IPython.core.display.HTML object>"
      ]
     },
     "metadata": {},
     "output_type": "display_data"
    },
    {
     "data": {
      "text/html": [
       "<span style=\"color:cyan\"> |-Trial ID: a7a5ffc47b8c9062443caec4efb193a6</span>"
      ],
      "text/plain": [
       "<IPython.core.display.HTML object>"
      ]
     },
     "metadata": {},
     "output_type": "display_data"
    },
    {
     "data": {
      "text/html": [
       "<span style=\"color:cyan\"> |-Score: 0.03843641996550932</span>"
      ],
      "text/plain": [
       "<IPython.core.display.HTML object>"
      ]
     },
     "metadata": {},
     "output_type": "display_data"
    },
    {
     "data": {
      "text/html": [
       "<span style=\"color:cyan\"> |-Best step: 0</span>"
      ],
      "text/plain": [
       "<IPython.core.display.HTML object>"
      ]
     },
     "metadata": {},
     "output_type": "display_data"
    },
    {
     "data": {
      "text/html": [
       "<span style=\"color:#7E57C2\"><h2 style=\"font-size:16px\">Hyperparameters:</h2></span>"
      ],
      "text/plain": [
       "<IPython.core.display.HTML object>"
      ]
     },
     "metadata": {},
     "output_type": "display_data"
    },
    {
     "data": {
      "text/html": [
       "<span style=\"color:cyan\"> |-act1: relu</span>"
      ],
      "text/plain": [
       "<IPython.core.display.HTML object>"
      ]
     },
     "metadata": {},
     "output_type": "display_data"
    },
    {
     "data": {
      "text/html": [
       "<span style=\"color:blue\"> |-act2: tanh</span>"
      ],
      "text/plain": [
       "<IPython.core.display.HTML object>"
      ]
     },
     "metadata": {},
     "output_type": "display_data"
    },
    {
     "data": {
      "text/html": [
       "<span style=\"color:cyan\"> |-act3: tanh</span>"
      ],
      "text/plain": [
       "<IPython.core.display.HTML object>"
      ]
     },
     "metadata": {},
     "output_type": "display_data"
    },
    {
     "data": {
      "text/html": [
       "<span style=\"color:blue\"> |-learning_rate: 0.0001</span>"
      ],
      "text/plain": [
       "<IPython.core.display.HTML object>"
      ]
     },
     "metadata": {},
     "output_type": "display_data"
    },
    {
     "data": {
      "text/html": [
       "<span style=\"color:cyan\"> |-tuner/bracket: 3</span>"
      ],
      "text/plain": [
       "<IPython.core.display.HTML object>"
      ]
     },
     "metadata": {},
     "output_type": "display_data"
    },
    {
     "data": {
      "text/html": [
       "<span style=\"color:blue\"> |-tuner/epochs: 4</span>"
      ],
      "text/plain": [
       "<IPython.core.display.HTML object>"
      ]
     },
     "metadata": {},
     "output_type": "display_data"
    },
    {
     "data": {
      "text/html": [
       "<span style=\"color:cyan\"> |-tuner/initial_epoch: 0</span>"
      ],
      "text/plain": [
       "<IPython.core.display.HTML object>"
      ]
     },
     "metadata": {},
     "output_type": "display_data"
    },
    {
     "data": {
      "text/html": [
       "<span style=\"color:blue\"> |-tuner/round: 0</span>"
      ],
      "text/plain": [
       "<IPython.core.display.HTML object>"
      ]
     },
     "metadata": {},
     "output_type": "display_data"
    },
    {
     "data": {
      "text/html": [
       "<span style=\"color:cyan\"> |-units: 40</span>"
      ],
      "text/plain": [
       "<IPython.core.display.HTML object>"
      ]
     },
     "metadata": {},
     "output_type": "display_data"
    },
    {
     "name": "stdout",
     "output_type": "stream",
     "text": [
      "Train on 1593 samples, validate on 683 samples\n",
      "Epoch 1/4\n",
      "1593/1593 [==============================] - ETA: 17s - loss: 0.14 - ETA: 0s - loss: 0.0739 - 1s 326us/sample - loss: 0.0682 - val_loss: 0.0372\n",
      "Epoch 2/4\n",
      "1593/1593 [==============================] - ETA: 0s - loss: 0.040 - ETA: 0s - loss: 0.038 - 0s 67us/sample - loss: 0.0375 - val_loss: 0.0291\n",
      "Epoch 3/4\n",
      "1593/1593 [==============================] - ETA: 0s - loss: 0.024 - ETA: 0s - loss: 0.030 - 0s 77us/sample - loss: 0.0298 - val_loss: 0.0260\n",
      "Epoch 4/4\n",
      "1593/1593 [==============================] - ETA: 0s - loss: 0.033 - ETA: 0s - loss: 0.028 - 0s 71us/sample - loss: 0.0277 - val_loss: 0.0243\n",
      "Train on 1593 samples, validate on 683 samples\n",
      "Epoch 1/4\n",
      "1593/1593 [==============================] - ETA: 17s - loss: 0.31 - ETA: 0s - loss: 0.0996 - 1s 314us/sample - loss: 0.0864 - val_loss: 0.0343\n",
      "Epoch 2/4\n",
      "1593/1593 [==============================] - ETA: 0s - loss: 0.046 - ETA: 0s - loss: 0.040 - 0s 53us/sample - loss: 0.0405 - val_loss: 0.0297\n",
      "Epoch 3/4\n",
      "1593/1593 [==============================] - ETA: 0s - loss: 0.040 - ETA: 0s - loss: 0.033 - 0s 53us/sample - loss: 0.0338 - val_loss: 0.0246\n",
      "Epoch 4/4\n",
      "1593/1593 [==============================] - ETA: 0s - loss: 0.041 - ETA: 0s - loss: 0.031 - 0s 68us/sample - loss: 0.0303 - val_loss: 0.0222\n",
      "Train on 1593 samples, validate on 683 samples\n",
      "Epoch 1/4\n",
      "1593/1593 [==============================] - ETA: 18s - loss: 0.21 - ETA: 0s - loss: 0.0908 - 1s 333us/sample - loss: 0.0765 - val_loss: 0.0266\n",
      "Epoch 2/4\n",
      "1593/1593 [==============================] - ETA: 0s - loss: 0.042 - ETA: 0s - loss: 0.038 - 0s 59us/sample - loss: 0.0376 - val_loss: 0.0246\n",
      "Epoch 3/4\n",
      "1593/1593 [==============================] - ETA: 0s - loss: 0.026 - ETA: 0s - loss: 0.030 - 0s 75us/sample - loss: 0.0299 - val_loss: 0.0204\n",
      "Epoch 4/4\n",
      "1593/1593 [==============================] - ETA: 0s - loss: 0.032 - ETA: 0s - loss: 0.028 - 0s 73us/sample - loss: 0.0275 - val_loss: 0.0203\n"
     ]
    },
    {
     "data": {
      "text/html": [
       "<span style=\"color:#4527A0\"><h1 style=\"font-size:18px\">Trial complete</h1></span>"
      ],
      "text/plain": [
       "<IPython.core.display.HTML object>"
      ]
     },
     "metadata": {},
     "output_type": "display_data"
    },
    {
     "data": {
      "text/html": [
       "<span style=\"color:#4527A0\"><h1 style=\"font-size:18px\">Trial summary</h1></span>"
      ],
      "text/plain": [
       "<IPython.core.display.HTML object>"
      ]
     },
     "metadata": {},
     "output_type": "display_data"
    },
    {
     "data": {
      "text/html": [
       "<span style=\"color:cyan\"> |-Trial ID: 8486bd187cc364000bc18c2f975dafa1</span>"
      ],
      "text/plain": [
       "<IPython.core.display.HTML object>"
      ]
     },
     "metadata": {},
     "output_type": "display_data"
    },
    {
     "data": {
      "text/html": [
       "<span style=\"color:cyan\"> |-Score: 0.022262000799244525</span>"
      ],
      "text/plain": [
       "<IPython.core.display.HTML object>"
      ]
     },
     "metadata": {},
     "output_type": "display_data"
    },
    {
     "data": {
      "text/html": [
       "<span style=\"color:cyan\"> |-Best step: 0</span>"
      ],
      "text/plain": [
       "<IPython.core.display.HTML object>"
      ]
     },
     "metadata": {},
     "output_type": "display_data"
    },
    {
     "data": {
      "text/html": [
       "<span style=\"color:#7E57C2\"><h2 style=\"font-size:16px\">Hyperparameters:</h2></span>"
      ],
      "text/plain": [
       "<IPython.core.display.HTML object>"
      ]
     },
     "metadata": {},
     "output_type": "display_data"
    },
    {
     "data": {
      "text/html": [
       "<span style=\"color:cyan\"> |-act1: tanh</span>"
      ],
      "text/plain": [
       "<IPython.core.display.HTML object>"
      ]
     },
     "metadata": {},
     "output_type": "display_data"
    },
    {
     "data": {
      "text/html": [
       "<span style=\"color:blue\"> |-act2: relu</span>"
      ],
      "text/plain": [
       "<IPython.core.display.HTML object>"
      ]
     },
     "metadata": {},
     "output_type": "display_data"
    },
    {
     "data": {
      "text/html": [
       "<span style=\"color:cyan\"> |-act3: tanh</span>"
      ],
      "text/plain": [
       "<IPython.core.display.HTML object>"
      ]
     },
     "metadata": {},
     "output_type": "display_data"
    },
    {
     "data": {
      "text/html": [
       "<span style=\"color:blue\"> |-learning_rate: 0.001</span>"
      ],
      "text/plain": [
       "<IPython.core.display.HTML object>"
      ]
     },
     "metadata": {},
     "output_type": "display_data"
    },
    {
     "data": {
      "text/html": [
       "<span style=\"color:cyan\"> |-tuner/bracket: 3</span>"
      ],
      "text/plain": [
       "<IPython.core.display.HTML object>"
      ]
     },
     "metadata": {},
     "output_type": "display_data"
    },
    {
     "data": {
      "text/html": [
       "<span style=\"color:blue\"> |-tuner/epochs: 4</span>"
      ],
      "text/plain": [
       "<IPython.core.display.HTML object>"
      ]
     },
     "metadata": {},
     "output_type": "display_data"
    },
    {
     "data": {
      "text/html": [
       "<span style=\"color:cyan\"> |-tuner/initial_epoch: 0</span>"
      ],
      "text/plain": [
       "<IPython.core.display.HTML object>"
      ]
     },
     "metadata": {},
     "output_type": "display_data"
    },
    {
     "data": {
      "text/html": [
       "<span style=\"color:blue\"> |-tuner/round: 0</span>"
      ],
      "text/plain": [
       "<IPython.core.display.HTML object>"
      ]
     },
     "metadata": {},
     "output_type": "display_data"
    },
    {
     "data": {
      "text/html": [
       "<span style=\"color:cyan\"> |-units: 44</span>"
      ],
      "text/plain": [
       "<IPython.core.display.HTML object>"
      ]
     },
     "metadata": {},
     "output_type": "display_data"
    },
    {
     "name": "stdout",
     "output_type": "stream",
     "text": [
      "Train on 1593 samples, validate on 683 samples\n",
      "Epoch 1/4\n",
      "1593/1593 [==============================] - ETA: 16s - loss: 0.35 - ETA: 0s - loss: 0.2278 - 1s 316us/sample - loss: 0.2036 - val_loss: 0.1125\n",
      "Epoch 2/4\n",
      "1593/1593 [==============================] - ETA: 0s - loss: 0.136 - ETA: 0s - loss: 0.106 - 0s 73us/sample - loss: 0.1022 - val_loss: 0.0664\n",
      "Epoch 3/4\n",
      "1593/1593 [==============================] - ETA: 0s - loss: 0.078 - ETA: 0s - loss: 0.083 - 0s 70us/sample - loss: 0.0816 - val_loss: 0.0583\n",
      "Epoch 4/4\n",
      "1593/1593 [==============================] - ETA: 0s - loss: 0.071 - ETA: 0s - loss: 0.077 - 0s 76us/sample - loss: 0.0758 - val_loss: 0.0560\n",
      "Train on 1593 samples, validate on 683 samples\n",
      "Epoch 1/4\n",
      "1593/1593 [==============================] - ETA: 17s - loss: 0.13 - ETA: 0s - loss: 0.1341 - 1s 316us/sample - loss: 0.1234 - val_loss: 0.0677\n",
      "Epoch 2/4\n",
      "1593/1593 [==============================] - ETA: 0s - loss: 0.103 - ETA: 0s - loss: 0.088 - 0s 58us/sample - loss: 0.0863 - val_loss: 0.0561\n",
      "Epoch 3/4\n",
      "1593/1593 [==============================] - ETA: 0s - loss: 0.080 - ETA: 0s - loss: 0.074 - 0s 69us/sample - loss: 0.0733 - val_loss: 0.0476\n",
      "Epoch 4/4\n",
      "1593/1593 [==============================] - ETA: 0s - loss: 0.054 - ETA: 0s - loss: 0.064 - 0s 69us/sample - loss: 0.0636 - val_loss: 0.0421\n",
      "Train on 1593 samples, validate on 683 samples\n",
      "Epoch 1/4\n",
      "1593/1593 [==============================] - ETA: 16s - loss: 0.15 - ETA: 0s - loss: 0.1268 - 0s 305us/sample - loss: 0.1167 - val_loss: 0.0487\n",
      "Epoch 2/4\n",
      "1593/1593 [==============================] - ETA: 0s - loss: 0.079 - ETA: 0s - loss: 0.085 - 0s 66us/sample - loss: 0.0829 - val_loss: 0.0438\n",
      "Epoch 3/4\n",
      "1593/1593 [==============================] - ETA: 0s - loss: 0.087 - ETA: 0s - loss: 0.075 - 0s 73us/sample - loss: 0.0710 - val_loss: 0.0400\n",
      "Epoch 4/4\n",
      "1593/1593 [==============================] - ETA: 0s - loss: 0.075 - ETA: 0s - loss: 0.063 - 0s 74us/sample - loss: 0.0613 - val_loss: 0.0373\n"
     ]
    },
    {
     "data": {
      "text/html": [
       "<span style=\"color:#4527A0\"><h1 style=\"font-size:18px\">Trial complete</h1></span>"
      ],
      "text/plain": [
       "<IPython.core.display.HTML object>"
      ]
     },
     "metadata": {},
     "output_type": "display_data"
    },
    {
     "data": {
      "text/html": [
       "<span style=\"color:#4527A0\"><h1 style=\"font-size:18px\">Trial summary</h1></span>"
      ],
      "text/plain": [
       "<IPython.core.display.HTML object>"
      ]
     },
     "metadata": {},
     "output_type": "display_data"
    },
    {
     "data": {
      "text/html": [
       "<span style=\"color:cyan\"> |-Trial ID: 62c3ea9f59e3209332155cbc6a6b1bd6</span>"
      ],
      "text/plain": [
       "<IPython.core.display.HTML object>"
      ]
     },
     "metadata": {},
     "output_type": "display_data"
    },
    {
     "data": {
      "text/html": [
       "<span style=\"color:cyan\"> |-Score: 0.045141477141440234</span>"
      ],
      "text/plain": [
       "<IPython.core.display.HTML object>"
      ]
     },
     "metadata": {},
     "output_type": "display_data"
    },
    {
     "data": {
      "text/html": [
       "<span style=\"color:cyan\"> |-Best step: 0</span>"
      ],
      "text/plain": [
       "<IPython.core.display.HTML object>"
      ]
     },
     "metadata": {},
     "output_type": "display_data"
    },
    {
     "data": {
      "text/html": [
       "<span style=\"color:#7E57C2\"><h2 style=\"font-size:16px\">Hyperparameters:</h2></span>"
      ],
      "text/plain": [
       "<IPython.core.display.HTML object>"
      ]
     },
     "metadata": {},
     "output_type": "display_data"
    },
    {
     "data": {
      "text/html": [
       "<span style=\"color:cyan\"> |-act1: relu</span>"
      ],
      "text/plain": [
       "<IPython.core.display.HTML object>"
      ]
     },
     "metadata": {},
     "output_type": "display_data"
    },
    {
     "data": {
      "text/html": [
       "<span style=\"color:blue\"> |-act2: relu</span>"
      ],
      "text/plain": [
       "<IPython.core.display.HTML object>"
      ]
     },
     "metadata": {},
     "output_type": "display_data"
    },
    {
     "data": {
      "text/html": [
       "<span style=\"color:cyan\"> |-act3: tanh</span>"
      ],
      "text/plain": [
       "<IPython.core.display.HTML object>"
      ]
     },
     "metadata": {},
     "output_type": "display_data"
    },
    {
     "data": {
      "text/html": [
       "<span style=\"color:blue\"> |-learning_rate: 0.0001</span>"
      ],
      "text/plain": [
       "<IPython.core.display.HTML object>"
      ]
     },
     "metadata": {},
     "output_type": "display_data"
    },
    {
     "data": {
      "text/html": [
       "<span style=\"color:cyan\"> |-tuner/bracket: 3</span>"
      ],
      "text/plain": [
       "<IPython.core.display.HTML object>"
      ]
     },
     "metadata": {},
     "output_type": "display_data"
    },
    {
     "data": {
      "text/html": [
       "<span style=\"color:blue\"> |-tuner/epochs: 4</span>"
      ],
      "text/plain": [
       "<IPython.core.display.HTML object>"
      ]
     },
     "metadata": {},
     "output_type": "display_data"
    },
    {
     "data": {
      "text/html": [
       "<span style=\"color:cyan\"> |-tuner/initial_epoch: 0</span>"
      ],
      "text/plain": [
       "<IPython.core.display.HTML object>"
      ]
     },
     "metadata": {},
     "output_type": "display_data"
    },
    {
     "data": {
      "text/html": [
       "<span style=\"color:blue\"> |-tuner/round: 0</span>"
      ],
      "text/plain": [
       "<IPython.core.display.HTML object>"
      ]
     },
     "metadata": {},
     "output_type": "display_data"
    },
    {
     "data": {
      "text/html": [
       "<span style=\"color:cyan\"> |-units: 64</span>"
      ],
      "text/plain": [
       "<IPython.core.display.HTML object>"
      ]
     },
     "metadata": {},
     "output_type": "display_data"
    },
    {
     "name": "stdout",
     "output_type": "stream",
     "text": [
      "Train on 1593 samples, validate on 683 samples\n",
      "Epoch 1/4\n",
      "1593/1593 [==============================] - ETA: 16s - loss: 0.22 - ETA: 0s - loss: 0.2145 - 0s 307us/sample - loss: 0.2119 - val_loss: 0.1367\n",
      "Epoch 2/4\n",
      "1593/1593 [==============================] - ETA: 0s - loss: 0.191 - ETA: 0s - loss: 0.160 - 0s 64us/sample - loss: 0.1591 - val_loss: 0.0999\n",
      "Epoch 3/4\n",
      "1593/1593 [==============================] - ETA: 0s - loss: 0.194 - ETA: 0s - loss: 0.132 - 0s 65us/sample - loss: 0.1294 - val_loss: 0.0756\n",
      "Epoch 4/4\n",
      "1593/1593 [==============================] - ETA: 0s - loss: 0.130 - ETA: 0s - loss: 0.110 - 0s 65us/sample - loss: 0.1088 - val_loss: 0.0610\n",
      "Train on 1593 samples, validate on 683 samples\n",
      "Epoch 1/4\n",
      "1593/1593 [==============================] - ETA: 17s - loss: 0.21 - ETA: 0s - loss: 0.2048 - 0s 313us/sample - loss: 0.2015 - val_loss: 0.1591\n",
      "Epoch 2/4\n",
      "1593/1593 [==============================] - ETA: 0s - loss: 0.179 - ETA: 0s - loss: 0.159 - 0s 52us/sample - loss: 0.1578 - val_loss: 0.1342\n",
      "Epoch 3/4\n",
      "1593/1593 [==============================] - ETA: 0s - loss: 0.141 - ETA: 0s - loss: 0.131 - 0s 53us/sample - loss: 0.1309 - val_loss: 0.1149\n",
      "Epoch 4/4\n",
      "1593/1593 [==============================] - ETA: 0s - loss: 0.087 - ETA: 0s - loss: 0.108 - 0s 50us/sample - loss: 0.1073 - val_loss: 0.1004\n",
      "Train on 1593 samples, validate on 683 samples\n",
      "Epoch 1/4\n",
      "1593/1593 [==============================] - ETA: 16s - loss: 0.74 - ETA: 0s - loss: 0.5870 - 0s 296us/sample - loss: 0.5735 - val_loss: 0.3619\n",
      "Epoch 2/4\n",
      "1593/1593 [==============================] - ETA: 0s - loss: 0.486 - ETA: 0s - loss: 0.428 - 0s 50us/sample - loss: 0.4219 - val_loss: 0.2586\n",
      "Epoch 3/4\n",
      "1593/1593 [==============================] - ETA: 0s - loss: 0.514 - ETA: 0s - loss: 0.321 - 0s 51us/sample - loss: 0.3146 - val_loss: 0.1917\n",
      "Epoch 4/4\n",
      "1593/1593 [==============================] - ETA: 0s - loss: 0.281 - ETA: 0s - loss: 0.243 - 0s 49us/sample - loss: 0.2423 - val_loss: 0.1483\n"
     ]
    },
    {
     "data": {
      "text/html": [
       "<span style=\"color:#4527A0\"><h1 style=\"font-size:18px\">Trial complete</h1></span>"
      ],
      "text/plain": [
       "<IPython.core.display.HTML object>"
      ]
     },
     "metadata": {},
     "output_type": "display_data"
    },
    {
     "data": {
      "text/html": [
       "<span style=\"color:#4527A0\"><h1 style=\"font-size:18px\">Trial summary</h1></span>"
      ],
      "text/plain": [
       "<IPython.core.display.HTML object>"
      ]
     },
     "metadata": {},
     "output_type": "display_data"
    },
    {
     "data": {
      "text/html": [
       "<span style=\"color:cyan\"> |-Trial ID: 3487a7d843e85bd7eb7985ca74ce8924</span>"
      ],
      "text/plain": [
       "<IPython.core.display.HTML object>"
      ]
     },
     "metadata": {},
     "output_type": "display_data"
    },
    {
     "data": {
      "text/html": [
       "<span style=\"color:cyan\"> |-Score: 0.10322443506757244</span>"
      ],
      "text/plain": [
       "<IPython.core.display.HTML object>"
      ]
     },
     "metadata": {},
     "output_type": "display_data"
    },
    {
     "data": {
      "text/html": [
       "<span style=\"color:cyan\"> |-Best step: 0</span>"
      ],
      "text/plain": [
       "<IPython.core.display.HTML object>"
      ]
     },
     "metadata": {},
     "output_type": "display_data"
    },
    {
     "data": {
      "text/html": [
       "<span style=\"color:#7E57C2\"><h2 style=\"font-size:16px\">Hyperparameters:</h2></span>"
      ],
      "text/plain": [
       "<IPython.core.display.HTML object>"
      ]
     },
     "metadata": {},
     "output_type": "display_data"
    },
    {
     "data": {
      "text/html": [
       "<span style=\"color:cyan\"> |-act1: relu</span>"
      ],
      "text/plain": [
       "<IPython.core.display.HTML object>"
      ]
     },
     "metadata": {},
     "output_type": "display_data"
    },
    {
     "data": {
      "text/html": [
       "<span style=\"color:blue\"> |-act2: relu</span>"
      ],
      "text/plain": [
       "<IPython.core.display.HTML object>"
      ]
     },
     "metadata": {},
     "output_type": "display_data"
    },
    {
     "data": {
      "text/html": [
       "<span style=\"color:cyan\"> |-act3: relu</span>"
      ],
      "text/plain": [
       "<IPython.core.display.HTML object>"
      ]
     },
     "metadata": {},
     "output_type": "display_data"
    },
    {
     "data": {
      "text/html": [
       "<span style=\"color:blue\"> |-learning_rate: 0.0001</span>"
      ],
      "text/plain": [
       "<IPython.core.display.HTML object>"
      ]
     },
     "metadata": {},
     "output_type": "display_data"
    },
    {
     "data": {
      "text/html": [
       "<span style=\"color:cyan\"> |-tuner/bracket: 3</span>"
      ],
      "text/plain": [
       "<IPython.core.display.HTML object>"
      ]
     },
     "metadata": {},
     "output_type": "display_data"
    },
    {
     "data": {
      "text/html": [
       "<span style=\"color:blue\"> |-tuner/epochs: 4</span>"
      ],
      "text/plain": [
       "<IPython.core.display.HTML object>"
      ]
     },
     "metadata": {},
     "output_type": "display_data"
    },
    {
     "data": {
      "text/html": [
       "<span style=\"color:cyan\"> |-tuner/initial_epoch: 0</span>"
      ],
      "text/plain": [
       "<IPython.core.display.HTML object>"
      ]
     },
     "metadata": {},
     "output_type": "display_data"
    },
    {
     "data": {
      "text/html": [
       "<span style=\"color:blue\"> |-tuner/round: 0</span>"
      ],
      "text/plain": [
       "<IPython.core.display.HTML object>"
      ]
     },
     "metadata": {},
     "output_type": "display_data"
    },
    {
     "data": {
      "text/html": [
       "<span style=\"color:cyan\"> |-units: 24</span>"
      ],
      "text/plain": [
       "<IPython.core.display.HTML object>"
      ]
     },
     "metadata": {},
     "output_type": "display_data"
    },
    {
     "name": "stdout",
     "output_type": "stream",
     "text": [
      "Train on 1593 samples, validate on 683 samples\n",
      "Epoch 1/4\n",
      "1593/1593 [==============================] - ETA: 15s - loss: 0.30 - ETA: 0s - loss: 0.4062 - 0s 299us/sample - loss: 0.3961 - val_loss: 0.1878\n",
      "Epoch 2/4\n",
      "1593/1593 [==============================] - ETA: 0s - loss: 0.365 - ETA: 0s - loss: 0.284 - 0s 65us/sample - loss: 0.2828 - val_loss: 0.1142\n",
      "Epoch 3/4\n",
      "1593/1593 [==============================] - ETA: 0s - loss: 0.228 - ETA: 0s - loss: 0.221 - 0s 65us/sample - loss: 0.2257 - val_loss: 0.0762\n",
      "Epoch 4/4\n",
      "1593/1593 [==============================] - ETA: 0s - loss: 0.181 - ETA: 0s - loss: 0.189 - 0s 63us/sample - loss: 0.1876 - val_loss: 0.0585\n",
      "Train on 1593 samples, validate on 683 samples\n",
      "Epoch 1/4\n",
      "1593/1593 [==============================] - ETA: 16s - loss: 0.26 - ETA: 0s - loss: 0.3405 - 0s 298us/sample - loss: 0.3297 - val_loss: 0.2585\n",
      "Epoch 2/4\n",
      "1593/1593 [==============================] - ETA: 0s - loss: 0.334 - ETA: 0s - loss: 0.253 - 0s 56us/sample - loss: 0.2466 - val_loss: 0.1907\n",
      "Epoch 3/4\n",
      "1593/1593 [==============================] - ETA: 0s - loss: 0.253 - ETA: 0s - loss: 0.189 - 0s 54us/sample - loss: 0.1886 - val_loss: 0.1438\n",
      "Epoch 4/4\n",
      "1593/1593 [==============================] - ETA: 0s - loss: 0.173 - ETA: 0s - loss: 0.147 - 0s 51us/sample - loss: 0.1432 - val_loss: 0.1104\n",
      "Train on 1593 samples, validate on 683 samples\n",
      "Epoch 1/4\n",
      "1593/1593 [==============================] - ETA: 18s - loss: 0.29 - ETA: 0s - loss: 0.2250 - 1s 320us/sample - loss: 0.2177 - val_loss: 0.0977\n",
      "Epoch 2/4\n",
      "1593/1593 [==============================] - ETA: 0s - loss: 0.235 - ETA: 0s - loss: 0.171 - 0s 53us/sample - loss: 0.1701 - val_loss: 0.0813\n",
      "Epoch 3/4\n",
      "1593/1593 [==============================] - ETA: 0s - loss: 0.122 - ETA: 0s - loss: 0.145 - 0s 59us/sample - loss: 0.1409 - val_loss: 0.0738\n",
      "Epoch 4/4\n",
      "1593/1593 [==============================] - ETA: 0s - loss: 0.143 - ETA: 0s - loss: 0.122 - 0s 56us/sample - loss: 0.1217 - val_loss: 0.0701\n"
     ]
    },
    {
     "data": {
      "text/html": [
       "<span style=\"color:#4527A0\"><h1 style=\"font-size:18px\">Trial complete</h1></span>"
      ],
      "text/plain": [
       "<IPython.core.display.HTML object>"
      ]
     },
     "metadata": {},
     "output_type": "display_data"
    },
    {
     "data": {
      "text/html": [
       "<span style=\"color:#4527A0\"><h1 style=\"font-size:18px\">Trial summary</h1></span>"
      ],
      "text/plain": [
       "<IPython.core.display.HTML object>"
      ]
     },
     "metadata": {},
     "output_type": "display_data"
    },
    {
     "data": {
      "text/html": [
       "<span style=\"color:cyan\"> |-Trial ID: 82922c5dc9698b891cb0b5ef0f942d88</span>"
      ],
      "text/plain": [
       "<IPython.core.display.HTML object>"
      ]
     },
     "metadata": {},
     "output_type": "display_data"
    },
    {
     "data": {
      "text/html": [
       "<span style=\"color:cyan\"> |-Score: 0.07966936108046709</span>"
      ],
      "text/plain": [
       "<IPython.core.display.HTML object>"
      ]
     },
     "metadata": {},
     "output_type": "display_data"
    },
    {
     "data": {
      "text/html": [
       "<span style=\"color:cyan\"> |-Best step: 0</span>"
      ],
      "text/plain": [
       "<IPython.core.display.HTML object>"
      ]
     },
     "metadata": {},
     "output_type": "display_data"
    },
    {
     "data": {
      "text/html": [
       "<span style=\"color:#7E57C2\"><h2 style=\"font-size:16px\">Hyperparameters:</h2></span>"
      ],
      "text/plain": [
       "<IPython.core.display.HTML object>"
      ]
     },
     "metadata": {},
     "output_type": "display_data"
    },
    {
     "data": {
      "text/html": [
       "<span style=\"color:cyan\"> |-act1: relu</span>"
      ],
      "text/plain": [
       "<IPython.core.display.HTML object>"
      ]
     },
     "metadata": {},
     "output_type": "display_data"
    },
    {
     "data": {
      "text/html": [
       "<span style=\"color:blue\"> |-act2: relu</span>"
      ],
      "text/plain": [
       "<IPython.core.display.HTML object>"
      ]
     },
     "metadata": {},
     "output_type": "display_data"
    },
    {
     "data": {
      "text/html": [
       "<span style=\"color:cyan\"> |-act3: tanh</span>"
      ],
      "text/plain": [
       "<IPython.core.display.HTML object>"
      ]
     },
     "metadata": {},
     "output_type": "display_data"
    },
    {
     "data": {
      "text/html": [
       "<span style=\"color:blue\"> |-learning_rate: 0.0001</span>"
      ],
      "text/plain": [
       "<IPython.core.display.HTML object>"
      ]
     },
     "metadata": {},
     "output_type": "display_data"
    },
    {
     "data": {
      "text/html": [
       "<span style=\"color:cyan\"> |-tuner/bracket: 3</span>"
      ],
      "text/plain": [
       "<IPython.core.display.HTML object>"
      ]
     },
     "metadata": {},
     "output_type": "display_data"
    },
    {
     "data": {
      "text/html": [
       "<span style=\"color:blue\"> |-tuner/epochs: 4</span>"
      ],
      "text/plain": [
       "<IPython.core.display.HTML object>"
      ]
     },
     "metadata": {},
     "output_type": "display_data"
    },
    {
     "data": {
      "text/html": [
       "<span style=\"color:cyan\"> |-tuner/initial_epoch: 0</span>"
      ],
      "text/plain": [
       "<IPython.core.display.HTML object>"
      ]
     },
     "metadata": {},
     "output_type": "display_data"
    },
    {
     "data": {
      "text/html": [
       "<span style=\"color:blue\"> |-tuner/round: 0</span>"
      ],
      "text/plain": [
       "<IPython.core.display.HTML object>"
      ]
     },
     "metadata": {},
     "output_type": "display_data"
    },
    {
     "data": {
      "text/html": [
       "<span style=\"color:cyan\"> |-units: 20</span>"
      ],
      "text/plain": [
       "<IPython.core.display.HTML object>"
      ]
     },
     "metadata": {},
     "output_type": "display_data"
    },
    {
     "name": "stdout",
     "output_type": "stream",
     "text": [
      "Train on 1593 samples, validate on 683 samples\n",
      "Epoch 1/4\n",
      "1593/1593 [==============================] - ETA: 16s - loss: 0.32 - ETA: 0s - loss: 0.1659 - 0s 302us/sample - loss: 0.1614 - val_loss: 0.0511\n",
      "Epoch 2/4\n",
      "1593/1593 [==============================] - ETA: 0s - loss: 0.087 - ETA: 0s - loss: 0.070 - 0s 63us/sample - loss: 0.0708 - val_loss: 0.0455\n",
      "Epoch 3/4\n",
      "1593/1593 [==============================] - ETA: 0s - loss: 0.061 - ETA: 0s - loss: 0.056 - 0s 59us/sample - loss: 0.0567 - val_loss: 0.0434\n",
      "Epoch 4/4\n",
      "1593/1593 [==============================] - ETA: 0s - loss: 0.036 - ETA: 0s - loss: 0.048 - 0s 60us/sample - loss: 0.0480 - val_loss: 0.0406\n",
      "Train on 1593 samples, validate on 683 samples\n",
      "Epoch 1/4\n",
      "1593/1593 [==============================] - ETA: 15s - loss: 0.31 - ETA: 0s - loss: 0.1738 - 0s 273us/sample - loss: 0.1671 - val_loss: 0.0408\n",
      "Epoch 2/4\n",
      "1593/1593 [==============================] - ETA: 0s - loss: 0.093 - 0s 64us/sample - loss: 0.0759 - val_loss: 0.0329\n",
      "Epoch 3/4\n",
      "1593/1593 [==============================] - ETA: 0s - loss: 0.058 - ETA: 0s - loss: 0.054 - 0s 67us/sample - loss: 0.0538 - val_loss: 0.0294\n",
      "Epoch 4/4\n",
      "1593/1593 [==============================] - ETA: 0s - loss: 0.040 - ETA: 0s - loss: 0.042 - 0s 64us/sample - loss: 0.0424 - val_loss: 0.0275\n",
      "Train on 1593 samples, validate on 683 samples\n",
      "Epoch 1/4\n",
      "1593/1593 [==============================] - ETA: 15s - loss: 0.36 - ETA: 0s - loss: 0.1775 - 0s 276us/sample - loss: 0.1694 - val_loss: 0.0324\n",
      "Epoch 2/4\n",
      "1593/1593 [==============================] - ETA: 0s - loss: 0.114 - ETA: 0s - loss: 0.080 - 0s 49us/sample - loss: 0.0797 - val_loss: 0.0310\n",
      "Epoch 3/4\n",
      "1593/1593 [==============================] - ETA: 0s - loss: 0.046 - ETA: 0s - loss: 0.056 - 0s 51us/sample - loss: 0.0554 - val_loss: 0.0307\n",
      "Epoch 4/4\n",
      "1593/1593 [==============================] - ETA: 0s - loss: 0.038 - ETA: 0s - loss: 0.047 - 0s 58us/sample - loss: 0.0474 - val_loss: 0.0296\n"
     ]
    },
    {
     "data": {
      "text/html": [
       "<span style=\"color:#4527A0\"><h1 style=\"font-size:18px\">Trial complete</h1></span>"
      ],
      "text/plain": [
       "<IPython.core.display.HTML object>"
      ]
     },
     "metadata": {},
     "output_type": "display_data"
    },
    {
     "data": {
      "text/html": [
       "<span style=\"color:#4527A0\"><h1 style=\"font-size:18px\">Trial summary</h1></span>"
      ],
      "text/plain": [
       "<IPython.core.display.HTML object>"
      ]
     },
     "metadata": {},
     "output_type": "display_data"
    },
    {
     "data": {
      "text/html": [
       "<span style=\"color:cyan\"> |-Trial ID: 87efeed17325f99bf729309423fee448</span>"
      ],
      "text/plain": [
       "<IPython.core.display.HTML object>"
      ]
     },
     "metadata": {},
     "output_type": "display_data"
    },
    {
     "data": {
      "text/html": [
       "<span style=\"color:cyan\"> |-Score: 0.03257059758159083</span>"
      ],
      "text/plain": [
       "<IPython.core.display.HTML object>"
      ]
     },
     "metadata": {},
     "output_type": "display_data"
    },
    {
     "data": {
      "text/html": [
       "<span style=\"color:cyan\"> |-Best step: 0</span>"
      ],
      "text/plain": [
       "<IPython.core.display.HTML object>"
      ]
     },
     "metadata": {},
     "output_type": "display_data"
    },
    {
     "data": {
      "text/html": [
       "<span style=\"color:#7E57C2\"><h2 style=\"font-size:16px\">Hyperparameters:</h2></span>"
      ],
      "text/plain": [
       "<IPython.core.display.HTML object>"
      ]
     },
     "metadata": {},
     "output_type": "display_data"
    },
    {
     "data": {
      "text/html": [
       "<span style=\"color:cyan\"> |-act1: relu</span>"
      ],
      "text/plain": [
       "<IPython.core.display.HTML object>"
      ]
     },
     "metadata": {},
     "output_type": "display_data"
    },
    {
     "data": {
      "text/html": [
       "<span style=\"color:blue\"> |-act2: tanh</span>"
      ],
      "text/plain": [
       "<IPython.core.display.HTML object>"
      ]
     },
     "metadata": {},
     "output_type": "display_data"
    },
    {
     "data": {
      "text/html": [
       "<span style=\"color:cyan\"> |-act3: tanh</span>"
      ],
      "text/plain": [
       "<IPython.core.display.HTML object>"
      ]
     },
     "metadata": {},
     "output_type": "display_data"
    },
    {
     "data": {
      "text/html": [
       "<span style=\"color:blue\"> |-learning_rate: 0.001</span>"
      ],
      "text/plain": [
       "<IPython.core.display.HTML object>"
      ]
     },
     "metadata": {},
     "output_type": "display_data"
    },
    {
     "data": {
      "text/html": [
       "<span style=\"color:cyan\"> |-tuner/bracket: 3</span>"
      ],
      "text/plain": [
       "<IPython.core.display.HTML object>"
      ]
     },
     "metadata": {},
     "output_type": "display_data"
    },
    {
     "data": {
      "text/html": [
       "<span style=\"color:blue\"> |-tuner/epochs: 4</span>"
      ],
      "text/plain": [
       "<IPython.core.display.HTML object>"
      ]
     },
     "metadata": {},
     "output_type": "display_data"
    },
    {
     "data": {
      "text/html": [
       "<span style=\"color:cyan\"> |-tuner/initial_epoch: 0</span>"
      ],
      "text/plain": [
       "<IPython.core.display.HTML object>"
      ]
     },
     "metadata": {},
     "output_type": "display_data"
    },
    {
     "data": {
      "text/html": [
       "<span style=\"color:blue\"> |-tuner/round: 0</span>"
      ],
      "text/plain": [
       "<IPython.core.display.HTML object>"
      ]
     },
     "metadata": {},
     "output_type": "display_data"
    },
    {
     "data": {
      "text/html": [
       "<span style=\"color:cyan\"> |-units: 16</span>"
      ],
      "text/plain": [
       "<IPython.core.display.HTML object>"
      ]
     },
     "metadata": {},
     "output_type": "display_data"
    },
    {
     "name": "stdout",
     "output_type": "stream",
     "text": [
      "Train on 1593 samples, validate on 683 samples\n",
      "Epoch 1/4\n",
      "1593/1593 [==============================] - ETA: 16s - loss: 0.52 - ETA: 0s - loss: 0.2673 - 0s 304us/sample - loss: 0.2518 - val_loss: 0.0492\n",
      "Epoch 2/4\n",
      "1593/1593 [==============================] - ETA: 0s - loss: 0.083 - ETA: 0s - loss: 0.091 - 0s 68us/sample - loss: 0.0883 - val_loss: 0.0460\n",
      "Epoch 3/4\n",
      "1593/1593 [==============================] - ETA: 0s - loss: 0.052 - ETA: 0s - loss: 0.060 - 0s 67us/sample - loss: 0.0603 - val_loss: 0.0420\n",
      "Epoch 4/4\n",
      "1593/1593 [==============================] - ETA: 0s - loss: 0.037 - ETA: 0s - loss: 0.048 - 0s 67us/sample - loss: 0.0486 - val_loss: 0.0392\n",
      "Train on 1593 samples, validate on 683 samples\n",
      "Epoch 1/4\n",
      "1593/1593 [==============================] - ETA: 18s - loss: 0.26 - ETA: 0s - loss: 0.1188 - 1s 320us/sample - loss: 0.1086 - val_loss: 0.0403\n",
      "Epoch 2/4\n",
      "1593/1593 [==============================] - ETA: 0s - loss: 0.087 - ETA: 0s - loss: 0.052 - 0s 66us/sample - loss: 0.0509 - val_loss: 0.0347\n",
      "Epoch 3/4\n",
      "1593/1593 [==============================] - ETA: 0s - loss: 0.051 - ETA: 0s - loss: 0.042 - 0s 67us/sample - loss: 0.0431 - val_loss: 0.0336\n",
      "Epoch 4/4\n",
      "1593/1593 [==============================] - ETA: 0s - loss: 0.045 - ETA: 0s - loss: 0.037 - 0s 65us/sample - loss: 0.0381 - val_loss: 0.0298\n",
      "Train on 1593 samples, validate on 683 samples\n",
      "Epoch 1/4\n",
      "1593/1593 [==============================] - ETA: 17s - loss: 0.40 - ETA: 0s - loss: 0.1684 - 0s 309us/sample - loss: 0.1568 - val_loss: 0.0341\n",
      "Epoch 2/4\n",
      "1593/1593 [==============================] - ETA: 0s - loss: 0.064 - ETA: 0s - loss: 0.064 - 0s 78us/sample - loss: 0.0593 - val_loss: 0.0286\n",
      "Epoch 3/4\n",
      "1593/1593 [==============================] - ETA: 0s - loss: 0.033 - ETA: 0s - loss: 0.042 - 0s 72us/sample - loss: 0.0424 - val_loss: 0.0285\n",
      "Epoch 4/4\n",
      "1248/1593 [======================>.......] - ETA: 0s - loss: 0.038 - ETA: 0s - loss: 0.0386"
     ]
    },
    {
     "ename": "UnknownError",
     "evalue": "Failed to rename: .\\untitled_project\\trial_04b50eb7d5161e8705f43bef16830a85\\checkpoints\\epoch_0\\checkpoint_temp_2fd2743a0a234010ab800ba6f7a93ff7/part-00000-of-00001.data-00000-of-00001 to: .\\untitled_project\\trial_04b50eb7d5161e8705f43bef16830a85\\checkpoints\\epoch_0\\checkpoint.data-00000-of-00001 : Accesso negato.\r\n; Input/output error [Op:MergeV2Checkpoints]",
     "output_type": "error",
     "traceback": [
      "\u001b[1;31m---------------------------------------------------------------------------\u001b[0m",
      "\u001b[1;31mUnknownError\u001b[0m                              Traceback (most recent call last)",
      "\u001b[1;32m<ipython-input-37-dbb03a1ea9c8>\u001b[0m in \u001b[0;36m<module>\u001b[1;34m\u001b[0m\n\u001b[0;32m      1\u001b[0m \u001b[1;31m#Start the hyperband search algoirthm\u001b[0m\u001b[1;33m\u001b[0m\u001b[1;33m\u001b[0m\u001b[1;33m\u001b[0m\u001b[0m\n\u001b[1;32m----> 2\u001b[1;33m \u001b[0mtuner\u001b[0m\u001b[1;33m.\u001b[0m\u001b[0msearch\u001b[0m\u001b[1;33m(\u001b[0m\u001b[0mX_train\u001b[0m\u001b[1;33m,\u001b[0m \u001b[0my_train\u001b[0m\u001b[1;33m,\u001b[0m \u001b[0mepochs\u001b[0m\u001b[1;33m=\u001b[0m\u001b[1;36m30\u001b[0m\u001b[1;33m,\u001b[0m \u001b[0mvalidation_data\u001b[0m \u001b[1;33m=\u001b[0m \u001b[1;33m(\u001b[0m\u001b[0mX_test\u001b[0m\u001b[1;33m,\u001b[0m \u001b[0my_test\u001b[0m\u001b[1;33m)\u001b[0m\u001b[1;33m)\u001b[0m\u001b[1;33m\u001b[0m\u001b[1;33m\u001b[0m\u001b[0m\n\u001b[0m",
      "\u001b[1;32m~\\.conda\\envs\\sapienza\\lib\\site-packages\\kerastuner\\engine\\base_tuner.py\u001b[0m in \u001b[0;36msearch\u001b[1;34m(self, *fit_args, **fit_kwargs)\u001b[0m\n\u001b[0;32m    128\u001b[0m \u001b[1;33m\u001b[0m\u001b[0m\n\u001b[0;32m    129\u001b[0m             \u001b[0mself\u001b[0m\u001b[1;33m.\u001b[0m\u001b[0mon_trial_begin\u001b[0m\u001b[1;33m(\u001b[0m\u001b[0mtrial\u001b[0m\u001b[1;33m)\u001b[0m\u001b[1;33m\u001b[0m\u001b[1;33m\u001b[0m\u001b[0m\n\u001b[1;32m--> 130\u001b[1;33m             \u001b[0mself\u001b[0m\u001b[1;33m.\u001b[0m\u001b[0mrun_trial\u001b[0m\u001b[1;33m(\u001b[0m\u001b[0mtrial\u001b[0m\u001b[1;33m,\u001b[0m \u001b[1;33m*\u001b[0m\u001b[0mfit_args\u001b[0m\u001b[1;33m,\u001b[0m \u001b[1;33m**\u001b[0m\u001b[0mfit_kwargs\u001b[0m\u001b[1;33m)\u001b[0m\u001b[1;33m\u001b[0m\u001b[1;33m\u001b[0m\u001b[0m\n\u001b[0m\u001b[0;32m    131\u001b[0m             \u001b[0mself\u001b[0m\u001b[1;33m.\u001b[0m\u001b[0mon_trial_end\u001b[0m\u001b[1;33m(\u001b[0m\u001b[0mtrial\u001b[0m\u001b[1;33m)\u001b[0m\u001b[1;33m\u001b[0m\u001b[1;33m\u001b[0m\u001b[0m\n\u001b[0;32m    132\u001b[0m         \u001b[0mself\u001b[0m\u001b[1;33m.\u001b[0m\u001b[0mon_search_end\u001b[0m\u001b[1;33m(\u001b[0m\u001b[1;33m)\u001b[0m\u001b[1;33m\u001b[0m\u001b[1;33m\u001b[0m\u001b[0m\n",
      "\u001b[1;32m~\\.conda\\envs\\sapienza\\lib\\site-packages\\kerastuner\\tuners\\hyperband.py\u001b[0m in \u001b[0;36mrun_trial\u001b[1;34m(self, trial, *fit_args, **fit_kwargs)\u001b[0m\n\u001b[0;32m    385\u001b[0m             \u001b[0mfit_kwargs\u001b[0m\u001b[1;33m[\u001b[0m\u001b[1;34m'epochs'\u001b[0m\u001b[1;33m]\u001b[0m \u001b[1;33m=\u001b[0m \u001b[0mhp\u001b[0m\u001b[1;33m.\u001b[0m\u001b[0mvalues\u001b[0m\u001b[1;33m[\u001b[0m\u001b[1;34m'tuner/epochs'\u001b[0m\u001b[1;33m]\u001b[0m\u001b[1;33m\u001b[0m\u001b[1;33m\u001b[0m\u001b[0m\n\u001b[0;32m    386\u001b[0m             \u001b[0mfit_kwargs\u001b[0m\u001b[1;33m[\u001b[0m\u001b[1;34m'initial_epoch'\u001b[0m\u001b[1;33m]\u001b[0m \u001b[1;33m=\u001b[0m \u001b[0mhp\u001b[0m\u001b[1;33m.\u001b[0m\u001b[0mvalues\u001b[0m\u001b[1;33m[\u001b[0m\u001b[1;34m'tuner/initial_epoch'\u001b[0m\u001b[1;33m]\u001b[0m\u001b[1;33m\u001b[0m\u001b[1;33m\u001b[0m\u001b[0m\n\u001b[1;32m--> 387\u001b[1;33m         \u001b[0msuper\u001b[0m\u001b[1;33m(\u001b[0m\u001b[0mHyperband\u001b[0m\u001b[1;33m,\u001b[0m \u001b[0mself\u001b[0m\u001b[1;33m)\u001b[0m\u001b[1;33m.\u001b[0m\u001b[0mrun_trial\u001b[0m\u001b[1;33m(\u001b[0m\u001b[0mtrial\u001b[0m\u001b[1;33m,\u001b[0m \u001b[1;33m*\u001b[0m\u001b[0mfit_args\u001b[0m\u001b[1;33m,\u001b[0m \u001b[1;33m**\u001b[0m\u001b[0mfit_kwargs\u001b[0m\u001b[1;33m)\u001b[0m\u001b[1;33m\u001b[0m\u001b[1;33m\u001b[0m\u001b[0m\n\u001b[0m\u001b[0;32m    388\u001b[0m \u001b[1;33m\u001b[0m\u001b[0m\n\u001b[0;32m    389\u001b[0m     \u001b[1;32mdef\u001b[0m \u001b[0m_build_model\u001b[0m\u001b[1;33m(\u001b[0m\u001b[0mself\u001b[0m\u001b[1;33m,\u001b[0m \u001b[0mhp\u001b[0m\u001b[1;33m)\u001b[0m\u001b[1;33m:\u001b[0m\u001b[1;33m\u001b[0m\u001b[1;33m\u001b[0m\u001b[0m\n",
      "\u001b[1;32m~\\.conda\\envs\\sapienza\\lib\\site-packages\\kerastuner\\engine\\multi_execution_tuner.py\u001b[0m in \u001b[0;36mrun_trial\u001b[1;34m(self, trial, *fit_args, **fit_kwargs)\u001b[0m\n\u001b[0;32m     94\u001b[0m \u001b[1;33m\u001b[0m\u001b[0m\n\u001b[0;32m     95\u001b[0m             \u001b[0mmodel\u001b[0m \u001b[1;33m=\u001b[0m \u001b[0mself\u001b[0m\u001b[1;33m.\u001b[0m\u001b[0mhypermodel\u001b[0m\u001b[1;33m.\u001b[0m\u001b[0mbuild\u001b[0m\u001b[1;33m(\u001b[0m\u001b[0mtrial\u001b[0m\u001b[1;33m.\u001b[0m\u001b[0mhyperparameters\u001b[0m\u001b[1;33m)\u001b[0m\u001b[1;33m\u001b[0m\u001b[1;33m\u001b[0m\u001b[0m\n\u001b[1;32m---> 96\u001b[1;33m             \u001b[0mhistory\u001b[0m \u001b[1;33m=\u001b[0m \u001b[0mmodel\u001b[0m\u001b[1;33m.\u001b[0m\u001b[0mfit\u001b[0m\u001b[1;33m(\u001b[0m\u001b[1;33m*\u001b[0m\u001b[0mfit_args\u001b[0m\u001b[1;33m,\u001b[0m \u001b[1;33m**\u001b[0m\u001b[0mcopied_fit_kwargs\u001b[0m\u001b[1;33m)\u001b[0m\u001b[1;33m\u001b[0m\u001b[1;33m\u001b[0m\u001b[0m\n\u001b[0m\u001b[0;32m     97\u001b[0m             \u001b[1;32mfor\u001b[0m \u001b[0mmetric\u001b[0m\u001b[1;33m,\u001b[0m \u001b[0mepoch_values\u001b[0m \u001b[1;32min\u001b[0m \u001b[0mhistory\u001b[0m\u001b[1;33m.\u001b[0m\u001b[0mhistory\u001b[0m\u001b[1;33m.\u001b[0m\u001b[0mitems\u001b[0m\u001b[1;33m(\u001b[0m\u001b[1;33m)\u001b[0m\u001b[1;33m:\u001b[0m\u001b[1;33m\u001b[0m\u001b[1;33m\u001b[0m\u001b[0m\n\u001b[0;32m     98\u001b[0m                 \u001b[1;32mif\u001b[0m \u001b[0mself\u001b[0m\u001b[1;33m.\u001b[0m\u001b[0moracle\u001b[0m\u001b[1;33m.\u001b[0m\u001b[0mobjective\u001b[0m\u001b[1;33m.\u001b[0m\u001b[0mdirection\u001b[0m \u001b[1;33m==\u001b[0m \u001b[1;34m'min'\u001b[0m\u001b[1;33m:\u001b[0m\u001b[1;33m\u001b[0m\u001b[1;33m\u001b[0m\u001b[0m\n",
      "\u001b[1;32m~\\.conda\\envs\\sapienza\\lib\\site-packages\\tensorflow_core\\python\\keras\\engine\\training.py\u001b[0m in \u001b[0;36mfit\u001b[1;34m(self, x, y, batch_size, epochs, verbose, callbacks, validation_split, validation_data, shuffle, class_weight, sample_weight, initial_epoch, steps_per_epoch, validation_steps, validation_freq, max_queue_size, workers, use_multiprocessing, **kwargs)\u001b[0m\n\u001b[0;32m    817\u001b[0m         \u001b[0mmax_queue_size\u001b[0m\u001b[1;33m=\u001b[0m\u001b[0mmax_queue_size\u001b[0m\u001b[1;33m,\u001b[0m\u001b[1;33m\u001b[0m\u001b[1;33m\u001b[0m\u001b[0m\n\u001b[0;32m    818\u001b[0m         \u001b[0mworkers\u001b[0m\u001b[1;33m=\u001b[0m\u001b[0mworkers\u001b[0m\u001b[1;33m,\u001b[0m\u001b[1;33m\u001b[0m\u001b[1;33m\u001b[0m\u001b[0m\n\u001b[1;32m--> 819\u001b[1;33m         use_multiprocessing=use_multiprocessing)\n\u001b[0m\u001b[0;32m    820\u001b[0m \u001b[1;33m\u001b[0m\u001b[0m\n\u001b[0;32m    821\u001b[0m   def evaluate(self,\n",
      "\u001b[1;32m~\\.conda\\envs\\sapienza\\lib\\site-packages\\tensorflow_core\\python\\keras\\engine\\training_v2.py\u001b[0m in \u001b[0;36mfit\u001b[1;34m(self, model, x, y, batch_size, epochs, verbose, callbacks, validation_split, validation_data, shuffle, class_weight, sample_weight, initial_epoch, steps_per_epoch, validation_steps, validation_freq, max_queue_size, workers, use_multiprocessing, **kwargs)\u001b[0m\n\u001b[0;32m    395\u001b[0m                       total_epochs=1)\n\u001b[0;32m    396\u001b[0m                   cbks.make_logs(model, epoch_logs, eval_result, ModeKeys.TEST,\n\u001b[1;32m--> 397\u001b[1;33m                                  prefix='val_')\n\u001b[0m\u001b[0;32m    398\u001b[0m \u001b[1;33m\u001b[0m\u001b[0m\n\u001b[0;32m    399\u001b[0m     \u001b[1;32mreturn\u001b[0m \u001b[0mmodel\u001b[0m\u001b[1;33m.\u001b[0m\u001b[0mhistory\u001b[0m\u001b[1;33m\u001b[0m\u001b[1;33m\u001b[0m\u001b[0m\n",
      "\u001b[1;32m~\\.conda\\envs\\sapienza\\lib\\contextlib.py\u001b[0m in \u001b[0;36m__exit__\u001b[1;34m(self, type, value, traceback)\u001b[0m\n\u001b[0;32m    117\u001b[0m         \u001b[1;32mif\u001b[0m \u001b[0mtype\u001b[0m \u001b[1;32mis\u001b[0m \u001b[1;32mNone\u001b[0m\u001b[1;33m:\u001b[0m\u001b[1;33m\u001b[0m\u001b[1;33m\u001b[0m\u001b[0m\n\u001b[0;32m    118\u001b[0m             \u001b[1;32mtry\u001b[0m\u001b[1;33m:\u001b[0m\u001b[1;33m\u001b[0m\u001b[1;33m\u001b[0m\u001b[0m\n\u001b[1;32m--> 119\u001b[1;33m                 \u001b[0mnext\u001b[0m\u001b[1;33m(\u001b[0m\u001b[0mself\u001b[0m\u001b[1;33m.\u001b[0m\u001b[0mgen\u001b[0m\u001b[1;33m)\u001b[0m\u001b[1;33m\u001b[0m\u001b[1;33m\u001b[0m\u001b[0m\n\u001b[0m\u001b[0;32m    120\u001b[0m             \u001b[1;32mexcept\u001b[0m \u001b[0mStopIteration\u001b[0m\u001b[1;33m:\u001b[0m\u001b[1;33m\u001b[0m\u001b[1;33m\u001b[0m\u001b[0m\n\u001b[0;32m    121\u001b[0m                 \u001b[1;32mreturn\u001b[0m \u001b[1;32mFalse\u001b[0m\u001b[1;33m\u001b[0m\u001b[1;33m\u001b[0m\u001b[0m\n",
      "\u001b[1;32m~\\.conda\\envs\\sapienza\\lib\\site-packages\\tensorflow_core\\python\\keras\\engine\\training_v2.py\u001b[0m in \u001b[0;36mon_epoch\u001b[1;34m(self, epoch, mode)\u001b[0m\n\u001b[0;32m    769\u001b[0m       \u001b[1;32mif\u001b[0m \u001b[0mmode\u001b[0m \u001b[1;33m==\u001b[0m \u001b[0mModeKeys\u001b[0m\u001b[1;33m.\u001b[0m\u001b[0mTRAIN\u001b[0m\u001b[1;33m:\u001b[0m\u001b[1;33m\u001b[0m\u001b[1;33m\u001b[0m\u001b[0m\n\u001b[0;32m    770\u001b[0m         \u001b[1;31m# Epochs only apply to `fit`.\u001b[0m\u001b[1;33m\u001b[0m\u001b[1;33m\u001b[0m\u001b[1;33m\u001b[0m\u001b[0m\n\u001b[1;32m--> 771\u001b[1;33m         \u001b[0mself\u001b[0m\u001b[1;33m.\u001b[0m\u001b[0mcallbacks\u001b[0m\u001b[1;33m.\u001b[0m\u001b[0mon_epoch_end\u001b[0m\u001b[1;33m(\u001b[0m\u001b[0mepoch\u001b[0m\u001b[1;33m,\u001b[0m \u001b[0mepoch_logs\u001b[0m\u001b[1;33m)\u001b[0m\u001b[1;33m\u001b[0m\u001b[1;33m\u001b[0m\u001b[0m\n\u001b[0m\u001b[0;32m    772\u001b[0m       \u001b[0mself\u001b[0m\u001b[1;33m.\u001b[0m\u001b[0mprogbar\u001b[0m\u001b[1;33m.\u001b[0m\u001b[0mon_epoch_end\u001b[0m\u001b[1;33m(\u001b[0m\u001b[0mepoch\u001b[0m\u001b[1;33m,\u001b[0m \u001b[0mepoch_logs\u001b[0m\u001b[1;33m)\u001b[0m\u001b[1;33m\u001b[0m\u001b[1;33m\u001b[0m\u001b[0m\n\u001b[0;32m    773\u001b[0m \u001b[1;33m\u001b[0m\u001b[0m\n",
      "\u001b[1;32m~\\.conda\\envs\\sapienza\\lib\\site-packages\\tensorflow_core\\python\\keras\\callbacks.py\u001b[0m in \u001b[0;36mon_epoch_end\u001b[1;34m(self, epoch, logs)\u001b[0m\n\u001b[0;32m    300\u001b[0m     \u001b[0mlogs\u001b[0m \u001b[1;33m=\u001b[0m \u001b[0mlogs\u001b[0m \u001b[1;32mor\u001b[0m \u001b[1;33m{\u001b[0m\u001b[1;33m}\u001b[0m\u001b[1;33m\u001b[0m\u001b[1;33m\u001b[0m\u001b[0m\n\u001b[0;32m    301\u001b[0m     \u001b[1;32mfor\u001b[0m \u001b[0mcallback\u001b[0m \u001b[1;32min\u001b[0m \u001b[0mself\u001b[0m\u001b[1;33m.\u001b[0m\u001b[0mcallbacks\u001b[0m\u001b[1;33m:\u001b[0m\u001b[1;33m\u001b[0m\u001b[1;33m\u001b[0m\u001b[0m\n\u001b[1;32m--> 302\u001b[1;33m       \u001b[0mcallback\u001b[0m\u001b[1;33m.\u001b[0m\u001b[0mon_epoch_end\u001b[0m\u001b[1;33m(\u001b[0m\u001b[0mepoch\u001b[0m\u001b[1;33m,\u001b[0m \u001b[0mlogs\u001b[0m\u001b[1;33m)\u001b[0m\u001b[1;33m\u001b[0m\u001b[1;33m\u001b[0m\u001b[0m\n\u001b[0m\u001b[0;32m    303\u001b[0m \u001b[1;33m\u001b[0m\u001b[0m\n\u001b[0;32m    304\u001b[0m   \u001b[1;32mdef\u001b[0m \u001b[0mon_train_batch_begin\u001b[0m\u001b[1;33m(\u001b[0m\u001b[0mself\u001b[0m\u001b[1;33m,\u001b[0m \u001b[0mbatch\u001b[0m\u001b[1;33m,\u001b[0m \u001b[0mlogs\u001b[0m\u001b[1;33m=\u001b[0m\u001b[1;32mNone\u001b[0m\u001b[1;33m)\u001b[0m\u001b[1;33m:\u001b[0m\u001b[1;33m\u001b[0m\u001b[1;33m\u001b[0m\u001b[0m\n",
      "\u001b[1;32m~\\.conda\\envs\\sapienza\\lib\\site-packages\\tensorflow_core\\python\\keras\\callbacks.py\u001b[0m in \u001b[0;36mon_epoch_end\u001b[1;34m(self, epoch, logs)\u001b[0m\n\u001b[0;32m    990\u001b[0m           \u001b[0mself\u001b[0m\u001b[1;33m.\u001b[0m\u001b[0m_save_model\u001b[0m\u001b[1;33m(\u001b[0m\u001b[0mepoch\u001b[0m\u001b[1;33m=\u001b[0m\u001b[0mepoch\u001b[0m\u001b[1;33m,\u001b[0m \u001b[0mlogs\u001b[0m\u001b[1;33m=\u001b[0m\u001b[0mlogs\u001b[0m\u001b[1;33m)\u001b[0m\u001b[1;33m\u001b[0m\u001b[1;33m\u001b[0m\u001b[0m\n\u001b[0;32m    991\u001b[0m       \u001b[1;32melse\u001b[0m\u001b[1;33m:\u001b[0m\u001b[1;33m\u001b[0m\u001b[1;33m\u001b[0m\u001b[0m\n\u001b[1;32m--> 992\u001b[1;33m         \u001b[0mself\u001b[0m\u001b[1;33m.\u001b[0m\u001b[0m_save_model\u001b[0m\u001b[1;33m(\u001b[0m\u001b[0mepoch\u001b[0m\u001b[1;33m=\u001b[0m\u001b[0mepoch\u001b[0m\u001b[1;33m,\u001b[0m \u001b[0mlogs\u001b[0m\u001b[1;33m=\u001b[0m\u001b[0mlogs\u001b[0m\u001b[1;33m)\u001b[0m\u001b[1;33m\u001b[0m\u001b[1;33m\u001b[0m\u001b[0m\n\u001b[0m\u001b[0;32m    993\u001b[0m     \u001b[1;32mif\u001b[0m \u001b[0mself\u001b[0m\u001b[1;33m.\u001b[0m\u001b[0mmodel\u001b[0m\u001b[1;33m.\u001b[0m\u001b[0m_in_multi_worker_mode\u001b[0m\u001b[1;33m(\u001b[0m\u001b[1;33m)\u001b[0m\u001b[1;33m:\u001b[0m\u001b[1;33m\u001b[0m\u001b[1;33m\u001b[0m\u001b[0m\n\u001b[0;32m    994\u001b[0m       \u001b[1;31m# For multi-worker training, back up the weights and current training\u001b[0m\u001b[1;33m\u001b[0m\u001b[1;33m\u001b[0m\u001b[1;33m\u001b[0m\u001b[0m\n",
      "\u001b[1;32m~\\.conda\\envs\\sapienza\\lib\\site-packages\\tensorflow_core\\python\\keras\\callbacks.py\u001b[0m in \u001b[0;36m_save_model\u001b[1;34m(self, epoch, logs)\u001b[0m\n\u001b[0;32m   1025\u001b[0m               \u001b[0mself\u001b[0m\u001b[1;33m.\u001b[0m\u001b[0mbest\u001b[0m \u001b[1;33m=\u001b[0m \u001b[0mcurrent\u001b[0m\u001b[1;33m\u001b[0m\u001b[1;33m\u001b[0m\u001b[0m\n\u001b[0;32m   1026\u001b[0m               \u001b[1;32mif\u001b[0m \u001b[0mself\u001b[0m\u001b[1;33m.\u001b[0m\u001b[0msave_weights_only\u001b[0m\u001b[1;33m:\u001b[0m\u001b[1;33m\u001b[0m\u001b[1;33m\u001b[0m\u001b[0m\n\u001b[1;32m-> 1027\u001b[1;33m                 \u001b[0mself\u001b[0m\u001b[1;33m.\u001b[0m\u001b[0mmodel\u001b[0m\u001b[1;33m.\u001b[0m\u001b[0msave_weights\u001b[0m\u001b[1;33m(\u001b[0m\u001b[0mfilepath\u001b[0m\u001b[1;33m,\u001b[0m \u001b[0moverwrite\u001b[0m\u001b[1;33m=\u001b[0m\u001b[1;32mTrue\u001b[0m\u001b[1;33m)\u001b[0m\u001b[1;33m\u001b[0m\u001b[1;33m\u001b[0m\u001b[0m\n\u001b[0m\u001b[0;32m   1028\u001b[0m               \u001b[1;32melse\u001b[0m\u001b[1;33m:\u001b[0m\u001b[1;33m\u001b[0m\u001b[1;33m\u001b[0m\u001b[0m\n\u001b[0;32m   1029\u001b[0m                 \u001b[0mself\u001b[0m\u001b[1;33m.\u001b[0m\u001b[0mmodel\u001b[0m\u001b[1;33m.\u001b[0m\u001b[0msave\u001b[0m\u001b[1;33m(\u001b[0m\u001b[0mfilepath\u001b[0m\u001b[1;33m,\u001b[0m \u001b[0moverwrite\u001b[0m\u001b[1;33m=\u001b[0m\u001b[1;32mTrue\u001b[0m\u001b[1;33m)\u001b[0m\u001b[1;33m\u001b[0m\u001b[1;33m\u001b[0m\u001b[0m\n",
      "\u001b[1;32m~\\.conda\\envs\\sapienza\\lib\\site-packages\\tensorflow_core\\python\\keras\\engine\\network.py\u001b[0m in \u001b[0;36msave_weights\u001b[1;34m(self, filepath, overwrite, save_format)\u001b[0m\n\u001b[0;32m   1121\u001b[0m              'saved.\\n\\nConsider using a TensorFlow optimizer from `tf.train`.')\n\u001b[0;32m   1122\u001b[0m             % (optimizer,))\n\u001b[1;32m-> 1123\u001b[1;33m       \u001b[0mself\u001b[0m\u001b[1;33m.\u001b[0m\u001b[0m_trackable_saver\u001b[0m\u001b[1;33m.\u001b[0m\u001b[0msave\u001b[0m\u001b[1;33m(\u001b[0m\u001b[0mfilepath\u001b[0m\u001b[1;33m,\u001b[0m \u001b[0msession\u001b[0m\u001b[1;33m=\u001b[0m\u001b[0msession\u001b[0m\u001b[1;33m)\u001b[0m\u001b[1;33m\u001b[0m\u001b[1;33m\u001b[0m\u001b[0m\n\u001b[0m\u001b[0;32m   1124\u001b[0m       \u001b[1;31m# Record this checkpoint so it's visible from tf.train.latest_checkpoint.\u001b[0m\u001b[1;33m\u001b[0m\u001b[1;33m\u001b[0m\u001b[1;33m\u001b[0m\u001b[0m\n\u001b[0;32m   1125\u001b[0m       checkpoint_management.update_checkpoint_state_internal(\n",
      "\u001b[1;32m~\\.conda\\envs\\sapienza\\lib\\site-packages\\tensorflow_core\\python\\training\\tracking\\util.py\u001b[0m in \u001b[0;36msave\u001b[1;34m(self, file_prefix, checkpoint_number, session)\u001b[0m\n\u001b[0;32m   1166\u001b[0m     \u001b[0mfile_io\u001b[0m\u001b[1;33m.\u001b[0m\u001b[0mrecursive_create_dir\u001b[0m\u001b[1;33m(\u001b[0m\u001b[0mos\u001b[0m\u001b[1;33m.\u001b[0m\u001b[0mpath\u001b[0m\u001b[1;33m.\u001b[0m\u001b[0mdirname\u001b[0m\u001b[1;33m(\u001b[0m\u001b[0mfile_prefix\u001b[0m\u001b[1;33m)\u001b[0m\u001b[1;33m)\u001b[0m\u001b[1;33m\u001b[0m\u001b[1;33m\u001b[0m\u001b[0m\n\u001b[0;32m   1167\u001b[0m     save_path, new_feed_additions = self._save_cached_when_graph_building(\n\u001b[1;32m-> 1168\u001b[1;33m         file_prefix=file_prefix_tensor, object_graph_tensor=object_graph_tensor)\n\u001b[0m\u001b[0;32m   1169\u001b[0m     \u001b[1;32mif\u001b[0m \u001b[0mnew_feed_additions\u001b[0m\u001b[1;33m:\u001b[0m\u001b[1;33m\u001b[0m\u001b[1;33m\u001b[0m\u001b[0m\n\u001b[0;32m   1170\u001b[0m       \u001b[0mfeed_dict\u001b[0m\u001b[1;33m.\u001b[0m\u001b[0mupdate\u001b[0m\u001b[1;33m(\u001b[0m\u001b[0mnew_feed_additions\u001b[0m\u001b[1;33m)\u001b[0m\u001b[1;33m\u001b[0m\u001b[1;33m\u001b[0m\u001b[0m\n",
      "\u001b[1;32m~\\.conda\\envs\\sapienza\\lib\\site-packages\\tensorflow_core\\python\\training\\tracking\\util.py\u001b[0m in \u001b[0;36m_save_cached_when_graph_building\u001b[1;34m(self, file_prefix, object_graph_tensor)\u001b[0m\n\u001b[0;32m   1114\u001b[0m         or context.executing_eagerly() or ops.inside_function()):\n\u001b[0;32m   1115\u001b[0m       \u001b[0msaver\u001b[0m \u001b[1;33m=\u001b[0m \u001b[0mfunctional_saver\u001b[0m\u001b[1;33m.\u001b[0m\u001b[0mMultiDeviceSaver\u001b[0m\u001b[1;33m(\u001b[0m\u001b[0mnamed_saveable_objects\u001b[0m\u001b[1;33m)\u001b[0m\u001b[1;33m\u001b[0m\u001b[1;33m\u001b[0m\u001b[0m\n\u001b[1;32m-> 1116\u001b[1;33m       \u001b[0msave_op\u001b[0m \u001b[1;33m=\u001b[0m \u001b[0msaver\u001b[0m\u001b[1;33m.\u001b[0m\u001b[0msave\u001b[0m\u001b[1;33m(\u001b[0m\u001b[0mfile_prefix\u001b[0m\u001b[1;33m)\u001b[0m\u001b[1;33m\u001b[0m\u001b[1;33m\u001b[0m\u001b[0m\n\u001b[0m\u001b[0;32m   1117\u001b[0m       \u001b[1;32mwith\u001b[0m \u001b[0mops\u001b[0m\u001b[1;33m.\u001b[0m\u001b[0mdevice\u001b[0m\u001b[1;33m(\u001b[0m\u001b[1;34m\"/cpu:0\"\u001b[0m\u001b[1;33m)\u001b[0m\u001b[1;33m:\u001b[0m\u001b[1;33m\u001b[0m\u001b[1;33m\u001b[0m\u001b[0m\n\u001b[0;32m   1118\u001b[0m         \u001b[1;32mwith\u001b[0m \u001b[0mops\u001b[0m\u001b[1;33m.\u001b[0m\u001b[0mcontrol_dependencies\u001b[0m\u001b[1;33m(\u001b[0m\u001b[1;33m[\u001b[0m\u001b[0msave_op\u001b[0m\u001b[1;33m]\u001b[0m\u001b[1;33m)\u001b[0m\u001b[1;33m:\u001b[0m\u001b[1;33m\u001b[0m\u001b[1;33m\u001b[0m\u001b[0m\n",
      "\u001b[1;32m~\\.conda\\envs\\sapienza\\lib\\site-packages\\tensorflow_core\\python\\training\\saving\\functional_saver.py\u001b[0m in \u001b[0;36msave\u001b[1;34m(self, file_prefix)\u001b[0m\n\u001b[0;32m    236\u001b[0m         \u001b[1;31m# attempts to delete the temporary directory, \"<user-fed prefix>_temp\".\u001b[0m\u001b[1;33m\u001b[0m\u001b[1;33m\u001b[0m\u001b[1;33m\u001b[0m\u001b[0m\n\u001b[0;32m    237\u001b[0m         return gen_io_ops.merge_v2_checkpoints(\n\u001b[1;32m--> 238\u001b[1;33m             sharded_prefixes, file_prefix, delete_old_dirs=True)\n\u001b[0m\u001b[0;32m    239\u001b[0m \u001b[1;33m\u001b[0m\u001b[0m\n\u001b[0;32m    240\u001b[0m   \u001b[1;32mdef\u001b[0m \u001b[0mrestore\u001b[0m\u001b[1;33m(\u001b[0m\u001b[0mself\u001b[0m\u001b[1;33m,\u001b[0m \u001b[0mfile_prefix\u001b[0m\u001b[1;33m)\u001b[0m\u001b[1;33m:\u001b[0m\u001b[1;33m\u001b[0m\u001b[1;33m\u001b[0m\u001b[0m\n",
      "\u001b[1;32m~\\.conda\\envs\\sapienza\\lib\\site-packages\\tensorflow_core\\python\\ops\\gen_io_ops.py\u001b[0m in \u001b[0;36mmerge_v2_checkpoints\u001b[1;34m(checkpoint_prefixes, destination_prefix, delete_old_dirs, name)\u001b[0m\n\u001b[0;32m    496\u001b[0m         return merge_v2_checkpoints_eager_fallback(\n\u001b[0;32m    497\u001b[0m             \u001b[0mcheckpoint_prefixes\u001b[0m\u001b[1;33m,\u001b[0m \u001b[0mdestination_prefix\u001b[0m\u001b[1;33m,\u001b[0m\u001b[1;33m\u001b[0m\u001b[1;33m\u001b[0m\u001b[0m\n\u001b[1;32m--> 498\u001b[1;33m             delete_old_dirs=delete_old_dirs, name=name, ctx=_ctx)\n\u001b[0m\u001b[0;32m    499\u001b[0m       \u001b[1;32mexcept\u001b[0m \u001b[0m_core\u001b[0m\u001b[1;33m.\u001b[0m\u001b[0m_SymbolicException\u001b[0m\u001b[1;33m:\u001b[0m\u001b[1;33m\u001b[0m\u001b[1;33m\u001b[0m\u001b[0m\n\u001b[0;32m    500\u001b[0m         \u001b[1;32mpass\u001b[0m  \u001b[1;31m# Add nodes to the TensorFlow graph.\u001b[0m\u001b[1;33m\u001b[0m\u001b[1;33m\u001b[0m\u001b[0m\n",
      "\u001b[1;32m~\\.conda\\envs\\sapienza\\lib\\site-packages\\tensorflow_core\\python\\ops\\gen_io_ops.py\u001b[0m in \u001b[0;36mmerge_v2_checkpoints_eager_fallback\u001b[1;34m(checkpoint_prefixes, destination_prefix, delete_old_dirs, name, ctx)\u001b[0m\n\u001b[0;32m    522\u001b[0m   \u001b[0m_attrs\u001b[0m \u001b[1;33m=\u001b[0m \u001b[1;33m(\u001b[0m\u001b[1;34m\"delete_old_dirs\"\u001b[0m\u001b[1;33m,\u001b[0m \u001b[0mdelete_old_dirs\u001b[0m\u001b[1;33m)\u001b[0m\u001b[1;33m\u001b[0m\u001b[1;33m\u001b[0m\u001b[0m\n\u001b[0;32m    523\u001b[0m   _result = _execute.execute(b\"MergeV2Checkpoints\", 0, inputs=_inputs_flat,\n\u001b[1;32m--> 524\u001b[1;33m                              attrs=_attrs, ctx=ctx, name=name)\n\u001b[0m\u001b[0;32m    525\u001b[0m   \u001b[0m_result\u001b[0m \u001b[1;33m=\u001b[0m \u001b[1;32mNone\u001b[0m\u001b[1;33m\u001b[0m\u001b[1;33m\u001b[0m\u001b[0m\n\u001b[0;32m    526\u001b[0m   \u001b[1;32mreturn\u001b[0m \u001b[0m_result\u001b[0m\u001b[1;33m\u001b[0m\u001b[1;33m\u001b[0m\u001b[0m\n",
      "\u001b[1;32m~\\.conda\\envs\\sapienza\\lib\\site-packages\\tensorflow_core\\python\\eager\\execute.py\u001b[0m in \u001b[0;36mquick_execute\u001b[1;34m(op_name, num_outputs, inputs, attrs, ctx, name)\u001b[0m\n\u001b[0;32m     65\u001b[0m     \u001b[1;32melse\u001b[0m\u001b[1;33m:\u001b[0m\u001b[1;33m\u001b[0m\u001b[1;33m\u001b[0m\u001b[0m\n\u001b[0;32m     66\u001b[0m       \u001b[0mmessage\u001b[0m \u001b[1;33m=\u001b[0m \u001b[0me\u001b[0m\u001b[1;33m.\u001b[0m\u001b[0mmessage\u001b[0m\u001b[1;33m\u001b[0m\u001b[1;33m\u001b[0m\u001b[0m\n\u001b[1;32m---> 67\u001b[1;33m     \u001b[0msix\u001b[0m\u001b[1;33m.\u001b[0m\u001b[0mraise_from\u001b[0m\u001b[1;33m(\u001b[0m\u001b[0mcore\u001b[0m\u001b[1;33m.\u001b[0m\u001b[0m_status_to_exception\u001b[0m\u001b[1;33m(\u001b[0m\u001b[0me\u001b[0m\u001b[1;33m.\u001b[0m\u001b[0mcode\u001b[0m\u001b[1;33m,\u001b[0m \u001b[0mmessage\u001b[0m\u001b[1;33m)\u001b[0m\u001b[1;33m,\u001b[0m \u001b[1;32mNone\u001b[0m\u001b[1;33m)\u001b[0m\u001b[1;33m\u001b[0m\u001b[1;33m\u001b[0m\u001b[0m\n\u001b[0m\u001b[0;32m     68\u001b[0m   \u001b[1;32mexcept\u001b[0m \u001b[0mTypeError\u001b[0m \u001b[1;32mas\u001b[0m \u001b[0me\u001b[0m\u001b[1;33m:\u001b[0m\u001b[1;33m\u001b[0m\u001b[1;33m\u001b[0m\u001b[0m\n\u001b[0;32m     69\u001b[0m     keras_symbolic_tensors = [\n",
      "\u001b[1;32m~\\.conda\\envs\\sapienza\\lib\\site-packages\\six.py\u001b[0m in \u001b[0;36mraise_from\u001b[1;34m(value, from_value)\u001b[0m\n",
      "\u001b[1;31mUnknownError\u001b[0m: Failed to rename: .\\untitled_project\\trial_04b50eb7d5161e8705f43bef16830a85\\checkpoints\\epoch_0\\checkpoint_temp_2fd2743a0a234010ab800ba6f7a93ff7/part-00000-of-00001.data-00000-of-00001 to: .\\untitled_project\\trial_04b50eb7d5161e8705f43bef16830a85\\checkpoints\\epoch_0\\checkpoint.data-00000-of-00001 : Accesso negato.\r\n; Input/output error [Op:MergeV2Checkpoints]"
     ]
    }
   ],
   "source": [
    "#Start the hyperband search algoirthm\n",
    "tuner.search(X_train, y_train, epochs=30, validation_data = (X_test, y_test))\n"
   ]
  },
  {
   "cell_type": "markdown",
   "metadata": {
    "slideshow": {
     "slide_type": "slide"
    }
   },
   "source": [
    "After the optimization is finished, we can get the best model with the corresponding hyperparameters by running:"
   ]
  },
  {
   "cell_type": "code",
   "execution_count": 38,
   "metadata": {
    "slideshow": {
     "slide_type": "subslide"
    }
   },
   "outputs": [],
   "source": [
    "#Gets the best combination of hyperparameters\n",
    "best_hps=tuner.get_best_hyperparameters(num_trials=1)[0]\n",
    "\n",
    "#Gets the best model \n",
    "best_model = tuner.get_best_models(num_models=1)[0]\n",
    "\n"
   ]
  },
  {
   "cell_type": "markdown",
   "metadata": {
    "slideshow": {
     "slide_type": "subslide"
    }
   },
   "source": [
    "It is also possible to have a summary of the optimization results by simply running:"
   ]
  },
  {
   "cell_type": "code",
   "execution_count": 39,
   "metadata": {
    "slideshow": {
     "slide_type": "subslide"
    }
   },
   "outputs": [
    {
     "data": {
      "text/html": [
       "<span style=\"color:#4527A0\"><h1 style=\"font-size:18px\">Results summary</h1></span>"
      ],
      "text/plain": [
       "<IPython.core.display.HTML object>"
      ]
     },
     "metadata": {},
     "output_type": "display_data"
    },
    {
     "data": {
      "text/html": [
       "<span style=\"color:cyan\"> |-Results in .\\untitled_project</span>"
      ],
      "text/plain": [
       "<IPython.core.display.HTML object>"
      ]
     },
     "metadata": {},
     "output_type": "display_data"
    },
    {
     "data": {
      "text/html": [
       "<span style=\"color:cyan\"> |-Showing 10 best trials</span>"
      ],
      "text/plain": [
       "<IPython.core.display.HTML object>"
      ]
     },
     "metadata": {},
     "output_type": "display_data"
    },
    {
     "data": {
      "text/html": [
       "<span style=\"color:cyan\"> |-Objective(name='val_loss', direction='min')</span>"
      ],
      "text/plain": [
       "<IPython.core.display.HTML object>"
      ]
     },
     "metadata": {},
     "output_type": "display_data"
    },
    {
     "data": {
      "text/html": [
       "<span style=\"color:#4527A0\"><h1 style=\"font-size:18px\">Trial summary</h1></span>"
      ],
      "text/plain": [
       "<IPython.core.display.HTML object>"
      ]
     },
     "metadata": {},
     "output_type": "display_data"
    },
    {
     "data": {
      "text/html": [
       "<span style=\"color:cyan\"> |-Trial ID: 50583f5ce7e7cfc9ff207fb3fd38d751</span>"
      ],
      "text/plain": [
       "<IPython.core.display.HTML object>"
      ]
     },
     "metadata": {},
     "output_type": "display_data"
    },
    {
     "data": {
      "text/html": [
       "<span style=\"color:cyan\"> |-Score: 0.00466000735273393</span>"
      ],
      "text/plain": [
       "<IPython.core.display.HTML object>"
      ]
     },
     "metadata": {},
     "output_type": "display_data"
    },
    {
     "data": {
      "text/html": [
       "<span style=\"color:cyan\"> |-Best step: 0</span>"
      ],
      "text/plain": [
       "<IPython.core.display.HTML object>"
      ]
     },
     "metadata": {},
     "output_type": "display_data"
    },
    {
     "data": {
      "text/html": [
       "<span style=\"color:#7E57C2\"><h2 style=\"font-size:16px\">Hyperparameters:</h2></span>"
      ],
      "text/plain": [
       "<IPython.core.display.HTML object>"
      ]
     },
     "metadata": {},
     "output_type": "display_data"
    },
    {
     "data": {
      "text/html": [
       "<span style=\"color:cyan\"> |-act1: relu</span>"
      ],
      "text/plain": [
       "<IPython.core.display.HTML object>"
      ]
     },
     "metadata": {},
     "output_type": "display_data"
    },
    {
     "data": {
      "text/html": [
       "<span style=\"color:blue\"> |-act2: tanh</span>"
      ],
      "text/plain": [
       "<IPython.core.display.HTML object>"
      ]
     },
     "metadata": {},
     "output_type": "display_data"
    },
    {
     "data": {
      "text/html": [
       "<span style=\"color:cyan\"> |-act3: tanh</span>"
      ],
      "text/plain": [
       "<IPython.core.display.HTML object>"
      ]
     },
     "metadata": {},
     "output_type": "display_data"
    },
    {
     "data": {
      "text/html": [
       "<span style=\"color:blue\"> |-learning_rate: 0.001</span>"
      ],
      "text/plain": [
       "<IPython.core.display.HTML object>"
      ]
     },
     "metadata": {},
     "output_type": "display_data"
    },
    {
     "data": {
      "text/html": [
       "<span style=\"color:cyan\"> |-tuner/bracket: 2</span>"
      ],
      "text/plain": [
       "<IPython.core.display.HTML object>"
      ]
     },
     "metadata": {},
     "output_type": "display_data"
    },
    {
     "data": {
      "text/html": [
       "<span style=\"color:blue\"> |-tuner/epochs: 100</span>"
      ],
      "text/plain": [
       "<IPython.core.display.HTML object>"
      ]
     },
     "metadata": {},
     "output_type": "display_data"
    },
    {
     "data": {
      "text/html": [
       "<span style=\"color:cyan\"> |-tuner/initial_epoch: 34</span>"
      ],
      "text/plain": [
       "<IPython.core.display.HTML object>"
      ]
     },
     "metadata": {},
     "output_type": "display_data"
    },
    {
     "data": {
      "text/html": [
       "<span style=\"color:blue\"> |-tuner/round: 2</span>"
      ],
      "text/plain": [
       "<IPython.core.display.HTML object>"
      ]
     },
     "metadata": {},
     "output_type": "display_data"
    },
    {
     "data": {
      "text/html": [
       "<span style=\"color:cyan\"> |-tuner/trial_id: 0a39fb2d92940f17dedf44529b51daf6</span>"
      ],
      "text/plain": [
       "<IPython.core.display.HTML object>"
      ]
     },
     "metadata": {},
     "output_type": "display_data"
    },
    {
     "data": {
      "text/html": [
       "<span style=\"color:blue\"> |-units: 60</span>"
      ],
      "text/plain": [
       "<IPython.core.display.HTML object>"
      ]
     },
     "metadata": {},
     "output_type": "display_data"
    },
    {
     "data": {
      "text/html": [
       "<span style=\"color:#4527A0\"><h1 style=\"font-size:18px\">Trial summary</h1></span>"
      ],
      "text/plain": [
       "<IPython.core.display.HTML object>"
      ]
     },
     "metadata": {},
     "output_type": "display_data"
    },
    {
     "data": {
      "text/html": [
       "<span style=\"color:cyan\"> |-Trial ID: 680ec7ca7341db42510e53394c3c2a8b</span>"
      ],
      "text/plain": [
       "<IPython.core.display.HTML object>"
      ]
     },
     "metadata": {},
     "output_type": "display_data"
    },
    {
     "data": {
      "text/html": [
       "<span style=\"color:cyan\"> |-Score: 0.004794401569319676</span>"
      ],
      "text/plain": [
       "<IPython.core.display.HTML object>"
      ]
     },
     "metadata": {},
     "output_type": "display_data"
    },
    {
     "data": {
      "text/html": [
       "<span style=\"color:cyan\"> |-Best step: 0</span>"
      ],
      "text/plain": [
       "<IPython.core.display.HTML object>"
      ]
     },
     "metadata": {},
     "output_type": "display_data"
    },
    {
     "data": {
      "text/html": [
       "<span style=\"color:#7E57C2\"><h2 style=\"font-size:16px\">Hyperparameters:</h2></span>"
      ],
      "text/plain": [
       "<IPython.core.display.HTML object>"
      ]
     },
     "metadata": {},
     "output_type": "display_data"
    },
    {
     "data": {
      "text/html": [
       "<span style=\"color:cyan\"> |-act1: relu</span>"
      ],
      "text/plain": [
       "<IPython.core.display.HTML object>"
      ]
     },
     "metadata": {},
     "output_type": "display_data"
    },
    {
     "data": {
      "text/html": [
       "<span style=\"color:blue\"> |-act2: tanh</span>"
      ],
      "text/plain": [
       "<IPython.core.display.HTML object>"
      ]
     },
     "metadata": {},
     "output_type": "display_data"
    },
    {
     "data": {
      "text/html": [
       "<span style=\"color:cyan\"> |-act3: relu</span>"
      ],
      "text/plain": [
       "<IPython.core.display.HTML object>"
      ]
     },
     "metadata": {},
     "output_type": "display_data"
    },
    {
     "data": {
      "text/html": [
       "<span style=\"color:blue\"> |-learning_rate: 0.01</span>"
      ],
      "text/plain": [
       "<IPython.core.display.HTML object>"
      ]
     },
     "metadata": {},
     "output_type": "display_data"
    },
    {
     "data": {
      "text/html": [
       "<span style=\"color:cyan\"> |-tuner/bracket: 4</span>"
      ],
      "text/plain": [
       "<IPython.core.display.HTML object>"
      ]
     },
     "metadata": {},
     "output_type": "display_data"
    },
    {
     "data": {
      "text/html": [
       "<span style=\"color:blue\"> |-tuner/epochs: 100</span>"
      ],
      "text/plain": [
       "<IPython.core.display.HTML object>"
      ]
     },
     "metadata": {},
     "output_type": "display_data"
    },
    {
     "data": {
      "text/html": [
       "<span style=\"color:cyan\"> |-tuner/initial_epoch: 34</span>"
      ],
      "text/plain": [
       "<IPython.core.display.HTML object>"
      ]
     },
     "metadata": {},
     "output_type": "display_data"
    },
    {
     "data": {
      "text/html": [
       "<span style=\"color:blue\"> |-tuner/round: 4</span>"
      ],
      "text/plain": [
       "<IPython.core.display.HTML object>"
      ]
     },
     "metadata": {},
     "output_type": "display_data"
    },
    {
     "data": {
      "text/html": [
       "<span style=\"color:cyan\"> |-tuner/trial_id: ec1dc626f08cd4734bce6635ae5eb98a</span>"
      ],
      "text/plain": [
       "<IPython.core.display.HTML object>"
      ]
     },
     "metadata": {},
     "output_type": "display_data"
    },
    {
     "data": {
      "text/html": [
       "<span style=\"color:blue\"> |-units: 60</span>"
      ],
      "text/plain": [
       "<IPython.core.display.HTML object>"
      ]
     },
     "metadata": {},
     "output_type": "display_data"
    },
    {
     "data": {
      "text/html": [
       "<span style=\"color:#4527A0\"><h1 style=\"font-size:18px\">Trial summary</h1></span>"
      ],
      "text/plain": [
       "<IPython.core.display.HTML object>"
      ]
     },
     "metadata": {},
     "output_type": "display_data"
    },
    {
     "data": {
      "text/html": [
       "<span style=\"color:cyan\"> |-Trial ID: 63dfb400b0343ea94bb2b6daed567439</span>"
      ],
      "text/plain": [
       "<IPython.core.display.HTML object>"
      ]
     },
     "metadata": {},
     "output_type": "display_data"
    },
    {
     "data": {
      "text/html": [
       "<span style=\"color:cyan\"> |-Score: 0.004820322891853644</span>"
      ],
      "text/plain": [
       "<IPython.core.display.HTML object>"
      ]
     },
     "metadata": {},
     "output_type": "display_data"
    },
    {
     "data": {
      "text/html": [
       "<span style=\"color:cyan\"> |-Best step: 0</span>"
      ],
      "text/plain": [
       "<IPython.core.display.HTML object>"
      ]
     },
     "metadata": {},
     "output_type": "display_data"
    },
    {
     "data": {
      "text/html": [
       "<span style=\"color:#7E57C2\"><h2 style=\"font-size:16px\">Hyperparameters:</h2></span>"
      ],
      "text/plain": [
       "<IPython.core.display.HTML object>"
      ]
     },
     "metadata": {},
     "output_type": "display_data"
    },
    {
     "data": {
      "text/html": [
       "<span style=\"color:cyan\"> |-act1: relu</span>"
      ],
      "text/plain": [
       "<IPython.core.display.HTML object>"
      ]
     },
     "metadata": {},
     "output_type": "display_data"
    },
    {
     "data": {
      "text/html": [
       "<span style=\"color:blue\"> |-act2: relu</span>"
      ],
      "text/plain": [
       "<IPython.core.display.HTML object>"
      ]
     },
     "metadata": {},
     "output_type": "display_data"
    },
    {
     "data": {
      "text/html": [
       "<span style=\"color:cyan\"> |-act3: tanh</span>"
      ],
      "text/plain": [
       "<IPython.core.display.HTML object>"
      ]
     },
     "metadata": {},
     "output_type": "display_data"
    },
    {
     "data": {
      "text/html": [
       "<span style=\"color:blue\"> |-learning_rate: 0.001</span>"
      ],
      "text/plain": [
       "<IPython.core.display.HTML object>"
      ]
     },
     "metadata": {},
     "output_type": "display_data"
    },
    {
     "data": {
      "text/html": [
       "<span style=\"color:cyan\"> |-tuner/bracket: 0</span>"
      ],
      "text/plain": [
       "<IPython.core.display.HTML object>"
      ]
     },
     "metadata": {},
     "output_type": "display_data"
    },
    {
     "data": {
      "text/html": [
       "<span style=\"color:blue\"> |-tuner/epochs: 100</span>"
      ],
      "text/plain": [
       "<IPython.core.display.HTML object>"
      ]
     },
     "metadata": {},
     "output_type": "display_data"
    },
    {
     "data": {
      "text/html": [
       "<span style=\"color:cyan\"> |-tuner/initial_epoch: 0</span>"
      ],
      "text/plain": [
       "<IPython.core.display.HTML object>"
      ]
     },
     "metadata": {},
     "output_type": "display_data"
    },
    {
     "data": {
      "text/html": [
       "<span style=\"color:blue\"> |-tuner/round: 0</span>"
      ],
      "text/plain": [
       "<IPython.core.display.HTML object>"
      ]
     },
     "metadata": {},
     "output_type": "display_data"
    },
    {
     "data": {
      "text/html": [
       "<span style=\"color:cyan\"> |-units: 36</span>"
      ],
      "text/plain": [
       "<IPython.core.display.HTML object>"
      ]
     },
     "metadata": {},
     "output_type": "display_data"
    },
    {
     "data": {
      "text/html": [
       "<span style=\"color:#4527A0\"><h1 style=\"font-size:18px\">Trial summary</h1></span>"
      ],
      "text/plain": [
       "<IPython.core.display.HTML object>"
      ]
     },
     "metadata": {},
     "output_type": "display_data"
    },
    {
     "data": {
      "text/html": [
       "<span style=\"color:cyan\"> |-Trial ID: acb2c209eb3d3ac7dbb28395da6f920d</span>"
      ],
      "text/plain": [
       "<IPython.core.display.HTML object>"
      ]
     },
     "metadata": {},
     "output_type": "display_data"
    },
    {
     "data": {
      "text/html": [
       "<span style=\"color:cyan\"> |-Score: 0.004822546333425009</span>"
      ],
      "text/plain": [
       "<IPython.core.display.HTML object>"
      ]
     },
     "metadata": {},
     "output_type": "display_data"
    },
    {
     "data": {
      "text/html": [
       "<span style=\"color:cyan\"> |-Best step: 0</span>"
      ],
      "text/plain": [
       "<IPython.core.display.HTML object>"
      ]
     },
     "metadata": {},
     "output_type": "display_data"
    },
    {
     "data": {
      "text/html": [
       "<span style=\"color:#7E57C2\"><h2 style=\"font-size:16px\">Hyperparameters:</h2></span>"
      ],
      "text/plain": [
       "<IPython.core.display.HTML object>"
      ]
     },
     "metadata": {},
     "output_type": "display_data"
    },
    {
     "data": {
      "text/html": [
       "<span style=\"color:cyan\"> |-act1: relu</span>"
      ],
      "text/plain": [
       "<IPython.core.display.HTML object>"
      ]
     },
     "metadata": {},
     "output_type": "display_data"
    },
    {
     "data": {
      "text/html": [
       "<span style=\"color:blue\"> |-act2: tanh</span>"
      ],
      "text/plain": [
       "<IPython.core.display.HTML object>"
      ]
     },
     "metadata": {},
     "output_type": "display_data"
    },
    {
     "data": {
      "text/html": [
       "<span style=\"color:cyan\"> |-act3: tanh</span>"
      ],
      "text/plain": [
       "<IPython.core.display.HTML object>"
      ]
     },
     "metadata": {},
     "output_type": "display_data"
    },
    {
     "data": {
      "text/html": [
       "<span style=\"color:blue\"> |-learning_rate: 0.01</span>"
      ],
      "text/plain": [
       "<IPython.core.display.HTML object>"
      ]
     },
     "metadata": {},
     "output_type": "display_data"
    },
    {
     "data": {
      "text/html": [
       "<span style=\"color:cyan\"> |-tuner/bracket: 3</span>"
      ],
      "text/plain": [
       "<IPython.core.display.HTML object>"
      ]
     },
     "metadata": {},
     "output_type": "display_data"
    },
    {
     "data": {
      "text/html": [
       "<span style=\"color:blue\"> |-tuner/epochs: 100</span>"
      ],
      "text/plain": [
       "<IPython.core.display.HTML object>"
      ]
     },
     "metadata": {},
     "output_type": "display_data"
    },
    {
     "data": {
      "text/html": [
       "<span style=\"color:cyan\"> |-tuner/initial_epoch: 34</span>"
      ],
      "text/plain": [
       "<IPython.core.display.HTML object>"
      ]
     },
     "metadata": {},
     "output_type": "display_data"
    },
    {
     "data": {
      "text/html": [
       "<span style=\"color:blue\"> |-tuner/round: 3</span>"
      ],
      "text/plain": [
       "<IPython.core.display.HTML object>"
      ]
     },
     "metadata": {},
     "output_type": "display_data"
    },
    {
     "data": {
      "text/html": [
       "<span style=\"color:cyan\"> |-tuner/trial_id: 3fa79a1fda7d884b170bb16556a6525f</span>"
      ],
      "text/plain": [
       "<IPython.core.display.HTML object>"
      ]
     },
     "metadata": {},
     "output_type": "display_data"
    },
    {
     "data": {
      "text/html": [
       "<span style=\"color:blue\"> |-units: 64</span>"
      ],
      "text/plain": [
       "<IPython.core.display.HTML object>"
      ]
     },
     "metadata": {},
     "output_type": "display_data"
    },
    {
     "data": {
      "text/html": [
       "<span style=\"color:#4527A0\"><h1 style=\"font-size:18px\">Trial summary</h1></span>"
      ],
      "text/plain": [
       "<IPython.core.display.HTML object>"
      ]
     },
     "metadata": {},
     "output_type": "display_data"
    },
    {
     "data": {
      "text/html": [
       "<span style=\"color:cyan\"> |-Trial ID: f4727b8467a41831ac759bad668b87dd</span>"
      ],
      "text/plain": [
       "<IPython.core.display.HTML object>"
      ]
     },
     "metadata": {},
     "output_type": "display_data"
    },
    {
     "data": {
      "text/html": [
       "<span style=\"color:cyan\"> |-Score: 0.004946699671641814</span>"
      ],
      "text/plain": [
       "<IPython.core.display.HTML object>"
      ]
     },
     "metadata": {},
     "output_type": "display_data"
    },
    {
     "data": {
      "text/html": [
       "<span style=\"color:cyan\"> |-Best step: 0</span>"
      ],
      "text/plain": [
       "<IPython.core.display.HTML object>"
      ]
     },
     "metadata": {},
     "output_type": "display_data"
    },
    {
     "data": {
      "text/html": [
       "<span style=\"color:#7E57C2\"><h2 style=\"font-size:16px\">Hyperparameters:</h2></span>"
      ],
      "text/plain": [
       "<IPython.core.display.HTML object>"
      ]
     },
     "metadata": {},
     "output_type": "display_data"
    },
    {
     "data": {
      "text/html": [
       "<span style=\"color:cyan\"> |-act1: relu</span>"
      ],
      "text/plain": [
       "<IPython.core.display.HTML object>"
      ]
     },
     "metadata": {},
     "output_type": "display_data"
    },
    {
     "data": {
      "text/html": [
       "<span style=\"color:blue\"> |-act2: tanh</span>"
      ],
      "text/plain": [
       "<IPython.core.display.HTML object>"
      ]
     },
     "metadata": {},
     "output_type": "display_data"
    },
    {
     "data": {
      "text/html": [
       "<span style=\"color:cyan\"> |-act3: tanh</span>"
      ],
      "text/plain": [
       "<IPython.core.display.HTML object>"
      ]
     },
     "metadata": {},
     "output_type": "display_data"
    },
    {
     "data": {
      "text/html": [
       "<span style=\"color:blue\"> |-learning_rate: 0.01</span>"
      ],
      "text/plain": [
       "<IPython.core.display.HTML object>"
      ]
     },
     "metadata": {},
     "output_type": "display_data"
    },
    {
     "data": {
      "text/html": [
       "<span style=\"color:cyan\"> |-tuner/bracket: 4</span>"
      ],
      "text/plain": [
       "<IPython.core.display.HTML object>"
      ]
     },
     "metadata": {},
     "output_type": "display_data"
    },
    {
     "data": {
      "text/html": [
       "<span style=\"color:blue\"> |-tuner/epochs: 100</span>"
      ],
      "text/plain": [
       "<IPython.core.display.HTML object>"
      ]
     },
     "metadata": {},
     "output_type": "display_data"
    },
    {
     "data": {
      "text/html": [
       "<span style=\"color:cyan\"> |-tuner/initial_epoch: 34</span>"
      ],
      "text/plain": [
       "<IPython.core.display.HTML object>"
      ]
     },
     "metadata": {},
     "output_type": "display_data"
    },
    {
     "data": {
      "text/html": [
       "<span style=\"color:blue\"> |-tuner/round: 4</span>"
      ],
      "text/plain": [
       "<IPython.core.display.HTML object>"
      ]
     },
     "metadata": {},
     "output_type": "display_data"
    },
    {
     "data": {
      "text/html": [
       "<span style=\"color:cyan\"> |-tuner/trial_id: 6d2ba0afa6083e3739fbad8598c2e334</span>"
      ],
      "text/plain": [
       "<IPython.core.display.HTML object>"
      ]
     },
     "metadata": {},
     "output_type": "display_data"
    },
    {
     "data": {
      "text/html": [
       "<span style=\"color:blue\"> |-units: 60</span>"
      ],
      "text/plain": [
       "<IPython.core.display.HTML object>"
      ]
     },
     "metadata": {},
     "output_type": "display_data"
    },
    {
     "data": {
      "text/html": [
       "<span style=\"color:#4527A0\"><h1 style=\"font-size:18px\">Trial summary</h1></span>"
      ],
      "text/plain": [
       "<IPython.core.display.HTML object>"
      ]
     },
     "metadata": {},
     "output_type": "display_data"
    },
    {
     "data": {
      "text/html": [
       "<span style=\"color:cyan\"> |-Trial ID: 509af0f3023f307dc263f06ecfcb9d9f</span>"
      ],
      "text/plain": [
       "<IPython.core.display.HTML object>"
      ]
     },
     "metadata": {},
     "output_type": "display_data"
    },
    {
     "data": {
      "text/html": [
       "<span style=\"color:cyan\"> |-Score: 0.00495023466373956</span>"
      ],
      "text/plain": [
       "<IPython.core.display.HTML object>"
      ]
     },
     "metadata": {},
     "output_type": "display_data"
    },
    {
     "data": {
      "text/html": [
       "<span style=\"color:cyan\"> |-Best step: 0</span>"
      ],
      "text/plain": [
       "<IPython.core.display.HTML object>"
      ]
     },
     "metadata": {},
     "output_type": "display_data"
    },
    {
     "data": {
      "text/html": [
       "<span style=\"color:#7E57C2\"><h2 style=\"font-size:16px\">Hyperparameters:</h2></span>"
      ],
      "text/plain": [
       "<IPython.core.display.HTML object>"
      ]
     },
     "metadata": {},
     "output_type": "display_data"
    },
    {
     "data": {
      "text/html": [
       "<span style=\"color:cyan\"> |-act1: tanh</span>"
      ],
      "text/plain": [
       "<IPython.core.display.HTML object>"
      ]
     },
     "metadata": {},
     "output_type": "display_data"
    },
    {
     "data": {
      "text/html": [
       "<span style=\"color:blue\"> |-act2: relu</span>"
      ],
      "text/plain": [
       "<IPython.core.display.HTML object>"
      ]
     },
     "metadata": {},
     "output_type": "display_data"
    },
    {
     "data": {
      "text/html": [
       "<span style=\"color:cyan\"> |-act3: relu</span>"
      ],
      "text/plain": [
       "<IPython.core.display.HTML object>"
      ]
     },
     "metadata": {},
     "output_type": "display_data"
    },
    {
     "data": {
      "text/html": [
       "<span style=\"color:blue\"> |-learning_rate: 0.01</span>"
      ],
      "text/plain": [
       "<IPython.core.display.HTML object>"
      ]
     },
     "metadata": {},
     "output_type": "display_data"
    },
    {
     "data": {
      "text/html": [
       "<span style=\"color:cyan\"> |-tuner/bracket: 1</span>"
      ],
      "text/plain": [
       "<IPython.core.display.HTML object>"
      ]
     },
     "metadata": {},
     "output_type": "display_data"
    },
    {
     "data": {
      "text/html": [
       "<span style=\"color:blue\"> |-tuner/epochs: 100</span>"
      ],
      "text/plain": [
       "<IPython.core.display.HTML object>"
      ]
     },
     "metadata": {},
     "output_type": "display_data"
    },
    {
     "data": {
      "text/html": [
       "<span style=\"color:cyan\"> |-tuner/initial_epoch: 34</span>"
      ],
      "text/plain": [
       "<IPython.core.display.HTML object>"
      ]
     },
     "metadata": {},
     "output_type": "display_data"
    },
    {
     "data": {
      "text/html": [
       "<span style=\"color:blue\"> |-tuner/round: 1</span>"
      ],
      "text/plain": [
       "<IPython.core.display.HTML object>"
      ]
     },
     "metadata": {},
     "output_type": "display_data"
    },
    {
     "data": {
      "text/html": [
       "<span style=\"color:cyan\"> |-tuner/trial_id: 08488137f637aec74de92002449671e9</span>"
      ],
      "text/plain": [
       "<IPython.core.display.HTML object>"
      ]
     },
     "metadata": {},
     "output_type": "display_data"
    },
    {
     "data": {
      "text/html": [
       "<span style=\"color:blue\"> |-units: 60</span>"
      ],
      "text/plain": [
       "<IPython.core.display.HTML object>"
      ]
     },
     "metadata": {},
     "output_type": "display_data"
    },
    {
     "data": {
      "text/html": [
       "<span style=\"color:#4527A0\"><h1 style=\"font-size:18px\">Trial summary</h1></span>"
      ],
      "text/plain": [
       "<IPython.core.display.HTML object>"
      ]
     },
     "metadata": {},
     "output_type": "display_data"
    },
    {
     "data": {
      "text/html": [
       "<span style=\"color:cyan\"> |-Trial ID: 7723523bbf3e98ee0c71242f6884a014</span>"
      ],
      "text/plain": [
       "<IPython.core.display.HTML object>"
      ]
     },
     "metadata": {},
     "output_type": "display_data"
    },
    {
     "data": {
      "text/html": [
       "<span style=\"color:cyan\"> |-Score: 0.005114946953155529</span>"
      ],
      "text/plain": [
       "<IPython.core.display.HTML object>"
      ]
     },
     "metadata": {},
     "output_type": "display_data"
    },
    {
     "data": {
      "text/html": [
       "<span style=\"color:cyan\"> |-Best step: 0</span>"
      ],
      "text/plain": [
       "<IPython.core.display.HTML object>"
      ]
     },
     "metadata": {},
     "output_type": "display_data"
    },
    {
     "data": {
      "text/html": [
       "<span style=\"color:#7E57C2\"><h2 style=\"font-size:16px\">Hyperparameters:</h2></span>"
      ],
      "text/plain": [
       "<IPython.core.display.HTML object>"
      ]
     },
     "metadata": {},
     "output_type": "display_data"
    },
    {
     "data": {
      "text/html": [
       "<span style=\"color:cyan\"> |-act1: relu</span>"
      ],
      "text/plain": [
       "<IPython.core.display.HTML object>"
      ]
     },
     "metadata": {},
     "output_type": "display_data"
    },
    {
     "data": {
      "text/html": [
       "<span style=\"color:blue\"> |-act2: tanh</span>"
      ],
      "text/plain": [
       "<IPython.core.display.HTML object>"
      ]
     },
     "metadata": {},
     "output_type": "display_data"
    },
    {
     "data": {
      "text/html": [
       "<span style=\"color:cyan\"> |-act3: relu</span>"
      ],
      "text/plain": [
       "<IPython.core.display.HTML object>"
      ]
     },
     "metadata": {},
     "output_type": "display_data"
    },
    {
     "data": {
      "text/html": [
       "<span style=\"color:blue\"> |-learning_rate: 0.01</span>"
      ],
      "text/plain": [
       "<IPython.core.display.HTML object>"
      ]
     },
     "metadata": {},
     "output_type": "display_data"
    },
    {
     "data": {
      "text/html": [
       "<span style=\"color:cyan\"> |-tuner/bracket: 3</span>"
      ],
      "text/plain": [
       "<IPython.core.display.HTML object>"
      ]
     },
     "metadata": {},
     "output_type": "display_data"
    },
    {
     "data": {
      "text/html": [
       "<span style=\"color:blue\"> |-tuner/epochs: 100</span>"
      ],
      "text/plain": [
       "<IPython.core.display.HTML object>"
      ]
     },
     "metadata": {},
     "output_type": "display_data"
    },
    {
     "data": {
      "text/html": [
       "<span style=\"color:cyan\"> |-tuner/initial_epoch: 34</span>"
      ],
      "text/plain": [
       "<IPython.core.display.HTML object>"
      ]
     },
     "metadata": {},
     "output_type": "display_data"
    },
    {
     "data": {
      "text/html": [
       "<span style=\"color:blue\"> |-tuner/round: 3</span>"
      ],
      "text/plain": [
       "<IPython.core.display.HTML object>"
      ]
     },
     "metadata": {},
     "output_type": "display_data"
    },
    {
     "data": {
      "text/html": [
       "<span style=\"color:cyan\"> |-tuner/trial_id: f15b98980bacc940e157664b4bf3666c</span>"
      ],
      "text/plain": [
       "<IPython.core.display.HTML object>"
      ]
     },
     "metadata": {},
     "output_type": "display_data"
    },
    {
     "data": {
      "text/html": [
       "<span style=\"color:blue\"> |-units: 48</span>"
      ],
      "text/plain": [
       "<IPython.core.display.HTML object>"
      ]
     },
     "metadata": {},
     "output_type": "display_data"
    },
    {
     "data": {
      "text/html": [
       "<span style=\"color:#4527A0\"><h1 style=\"font-size:18px\">Trial summary</h1></span>"
      ],
      "text/plain": [
       "<IPython.core.display.HTML object>"
      ]
     },
     "metadata": {},
     "output_type": "display_data"
    },
    {
     "data": {
      "text/html": [
       "<span style=\"color:cyan\"> |-Trial ID: ec1dc626f08cd4734bce6635ae5eb98a</span>"
      ],
      "text/plain": [
       "<IPython.core.display.HTML object>"
      ]
     },
     "metadata": {},
     "output_type": "display_data"
    },
    {
     "data": {
      "text/html": [
       "<span style=\"color:cyan\"> |-Score: 0.005161501402003539</span>"
      ],
      "text/plain": [
       "<IPython.core.display.HTML object>"
      ]
     },
     "metadata": {},
     "output_type": "display_data"
    },
    {
     "data": {
      "text/html": [
       "<span style=\"color:cyan\"> |-Best step: 0</span>"
      ],
      "text/plain": [
       "<IPython.core.display.HTML object>"
      ]
     },
     "metadata": {},
     "output_type": "display_data"
    },
    {
     "data": {
      "text/html": [
       "<span style=\"color:#7E57C2\"><h2 style=\"font-size:16px\">Hyperparameters:</h2></span>"
      ],
      "text/plain": [
       "<IPython.core.display.HTML object>"
      ]
     },
     "metadata": {},
     "output_type": "display_data"
    },
    {
     "data": {
      "text/html": [
       "<span style=\"color:cyan\"> |-act1: relu</span>"
      ],
      "text/plain": [
       "<IPython.core.display.HTML object>"
      ]
     },
     "metadata": {},
     "output_type": "display_data"
    },
    {
     "data": {
      "text/html": [
       "<span style=\"color:blue\"> |-act2: tanh</span>"
      ],
      "text/plain": [
       "<IPython.core.display.HTML object>"
      ]
     },
     "metadata": {},
     "output_type": "display_data"
    },
    {
     "data": {
      "text/html": [
       "<span style=\"color:cyan\"> |-act3: relu</span>"
      ],
      "text/plain": [
       "<IPython.core.display.HTML object>"
      ]
     },
     "metadata": {},
     "output_type": "display_data"
    },
    {
     "data": {
      "text/html": [
       "<span style=\"color:blue\"> |-learning_rate: 0.01</span>"
      ],
      "text/plain": [
       "<IPython.core.display.HTML object>"
      ]
     },
     "metadata": {},
     "output_type": "display_data"
    },
    {
     "data": {
      "text/html": [
       "<span style=\"color:cyan\"> |-tuner/bracket: 4</span>"
      ],
      "text/plain": [
       "<IPython.core.display.HTML object>"
      ]
     },
     "metadata": {},
     "output_type": "display_data"
    },
    {
     "data": {
      "text/html": [
       "<span style=\"color:blue\"> |-tuner/epochs: 34</span>"
      ],
      "text/plain": [
       "<IPython.core.display.HTML object>"
      ]
     },
     "metadata": {},
     "output_type": "display_data"
    },
    {
     "data": {
      "text/html": [
       "<span style=\"color:cyan\"> |-tuner/initial_epoch: 12</span>"
      ],
      "text/plain": [
       "<IPython.core.display.HTML object>"
      ]
     },
     "metadata": {},
     "output_type": "display_data"
    },
    {
     "data": {
      "text/html": [
       "<span style=\"color:blue\"> |-tuner/round: 3</span>"
      ],
      "text/plain": [
       "<IPython.core.display.HTML object>"
      ]
     },
     "metadata": {},
     "output_type": "display_data"
    },
    {
     "data": {
      "text/html": [
       "<span style=\"color:cyan\"> |-tuner/trial_id: 8ca5c2d73566fa0c313fe470230434c8</span>"
      ],
      "text/plain": [
       "<IPython.core.display.HTML object>"
      ]
     },
     "metadata": {},
     "output_type": "display_data"
    },
    {
     "data": {
      "text/html": [
       "<span style=\"color:blue\"> |-units: 60</span>"
      ],
      "text/plain": [
       "<IPython.core.display.HTML object>"
      ]
     },
     "metadata": {},
     "output_type": "display_data"
    },
    {
     "data": {
      "text/html": [
       "<span style=\"color:#4527A0\"><h1 style=\"font-size:18px\">Trial summary</h1></span>"
      ],
      "text/plain": [
       "<IPython.core.display.HTML object>"
      ]
     },
     "metadata": {},
     "output_type": "display_data"
    },
    {
     "data": {
      "text/html": [
       "<span style=\"color:cyan\"> |-Trial ID: c44110b487f6d01bcf67596f58d0fa4a</span>"
      ],
      "text/plain": [
       "<IPython.core.display.HTML object>"
      ]
     },
     "metadata": {},
     "output_type": "display_data"
    },
    {
     "data": {
      "text/html": [
       "<span style=\"color:cyan\"> |-Score: 0.00520779931540076</span>"
      ],
      "text/plain": [
       "<IPython.core.display.HTML object>"
      ]
     },
     "metadata": {},
     "output_type": "display_data"
    },
    {
     "data": {
      "text/html": [
       "<span style=\"color:cyan\"> |-Best step: 0</span>"
      ],
      "text/plain": [
       "<IPython.core.display.HTML object>"
      ]
     },
     "metadata": {},
     "output_type": "display_data"
    },
    {
     "data": {
      "text/html": [
       "<span style=\"color:#7E57C2\"><h2 style=\"font-size:16px\">Hyperparameters:</h2></span>"
      ],
      "text/plain": [
       "<IPython.core.display.HTML object>"
      ]
     },
     "metadata": {},
     "output_type": "display_data"
    },
    {
     "data": {
      "text/html": [
       "<span style=\"color:cyan\"> |-act1: relu</span>"
      ],
      "text/plain": [
       "<IPython.core.display.HTML object>"
      ]
     },
     "metadata": {},
     "output_type": "display_data"
    },
    {
     "data": {
      "text/html": [
       "<span style=\"color:blue\"> |-act2: relu</span>"
      ],
      "text/plain": [
       "<IPython.core.display.HTML object>"
      ]
     },
     "metadata": {},
     "output_type": "display_data"
    },
    {
     "data": {
      "text/html": [
       "<span style=\"color:cyan\"> |-act3: tanh</span>"
      ],
      "text/plain": [
       "<IPython.core.display.HTML object>"
      ]
     },
     "metadata": {},
     "output_type": "display_data"
    },
    {
     "data": {
      "text/html": [
       "<span style=\"color:blue\"> |-learning_rate: 0.01</span>"
      ],
      "text/plain": [
       "<IPython.core.display.HTML object>"
      ]
     },
     "metadata": {},
     "output_type": "display_data"
    },
    {
     "data": {
      "text/html": [
       "<span style=\"color:cyan\"> |-tuner/bracket: 2</span>"
      ],
      "text/plain": [
       "<IPython.core.display.HTML object>"
      ]
     },
     "metadata": {},
     "output_type": "display_data"
    },
    {
     "data": {
      "text/html": [
       "<span style=\"color:blue\"> |-tuner/epochs: 100</span>"
      ],
      "text/plain": [
       "<IPython.core.display.HTML object>"
      ]
     },
     "metadata": {},
     "output_type": "display_data"
    },
    {
     "data": {
      "text/html": [
       "<span style=\"color:cyan\"> |-tuner/initial_epoch: 34</span>"
      ],
      "text/plain": [
       "<IPython.core.display.HTML object>"
      ]
     },
     "metadata": {},
     "output_type": "display_data"
    },
    {
     "data": {
      "text/html": [
       "<span style=\"color:blue\"> |-tuner/round: 2</span>"
      ],
      "text/plain": [
       "<IPython.core.display.HTML object>"
      ]
     },
     "metadata": {},
     "output_type": "display_data"
    },
    {
     "data": {
      "text/html": [
       "<span style=\"color:cyan\"> |-tuner/trial_id: 7f245e74b5caba5e2670c7acb4bfe5ad</span>"
      ],
      "text/plain": [
       "<IPython.core.display.HTML object>"
      ]
     },
     "metadata": {},
     "output_type": "display_data"
    },
    {
     "data": {
      "text/html": [
       "<span style=\"color:blue\"> |-units: 40</span>"
      ],
      "text/plain": [
       "<IPython.core.display.HTML object>"
      ]
     },
     "metadata": {},
     "output_type": "display_data"
    },
    {
     "data": {
      "text/html": [
       "<span style=\"color:#4527A0\"><h1 style=\"font-size:18px\">Trial summary</h1></span>"
      ],
      "text/plain": [
       "<IPython.core.display.HTML object>"
      ]
     },
     "metadata": {},
     "output_type": "display_data"
    },
    {
     "data": {
      "text/html": [
       "<span style=\"color:cyan\"> |-Trial ID: 6d2ba0afa6083e3739fbad8598c2e334</span>"
      ],
      "text/plain": [
       "<IPython.core.display.HTML object>"
      ]
     },
     "metadata": {},
     "output_type": "display_data"
    },
    {
     "data": {
      "text/html": [
       "<span style=\"color:cyan\"> |-Score: 0.005282736357186479</span>"
      ],
      "text/plain": [
       "<IPython.core.display.HTML object>"
      ]
     },
     "metadata": {},
     "output_type": "display_data"
    },
    {
     "data": {
      "text/html": [
       "<span style=\"color:cyan\"> |-Best step: 0</span>"
      ],
      "text/plain": [
       "<IPython.core.display.HTML object>"
      ]
     },
     "metadata": {},
     "output_type": "display_data"
    },
    {
     "data": {
      "text/html": [
       "<span style=\"color:#7E57C2\"><h2 style=\"font-size:16px\">Hyperparameters:</h2></span>"
      ],
      "text/plain": [
       "<IPython.core.display.HTML object>"
      ]
     },
     "metadata": {},
     "output_type": "display_data"
    },
    {
     "data": {
      "text/html": [
       "<span style=\"color:cyan\"> |-act1: relu</span>"
      ],
      "text/plain": [
       "<IPython.core.display.HTML object>"
      ]
     },
     "metadata": {},
     "output_type": "display_data"
    },
    {
     "data": {
      "text/html": [
       "<span style=\"color:blue\"> |-act2: tanh</span>"
      ],
      "text/plain": [
       "<IPython.core.display.HTML object>"
      ]
     },
     "metadata": {},
     "output_type": "display_data"
    },
    {
     "data": {
      "text/html": [
       "<span style=\"color:cyan\"> |-act3: tanh</span>"
      ],
      "text/plain": [
       "<IPython.core.display.HTML object>"
      ]
     },
     "metadata": {},
     "output_type": "display_data"
    },
    {
     "data": {
      "text/html": [
       "<span style=\"color:blue\"> |-learning_rate: 0.01</span>"
      ],
      "text/plain": [
       "<IPython.core.display.HTML object>"
      ]
     },
     "metadata": {},
     "output_type": "display_data"
    },
    {
     "data": {
      "text/html": [
       "<span style=\"color:cyan\"> |-tuner/bracket: 4</span>"
      ],
      "text/plain": [
       "<IPython.core.display.HTML object>"
      ]
     },
     "metadata": {},
     "output_type": "display_data"
    },
    {
     "data": {
      "text/html": [
       "<span style=\"color:blue\"> |-tuner/epochs: 34</span>"
      ],
      "text/plain": [
       "<IPython.core.display.HTML object>"
      ]
     },
     "metadata": {},
     "output_type": "display_data"
    },
    {
     "data": {
      "text/html": [
       "<span style=\"color:cyan\"> |-tuner/initial_epoch: 12</span>"
      ],
      "text/plain": [
       "<IPython.core.display.HTML object>"
      ]
     },
     "metadata": {},
     "output_type": "display_data"
    },
    {
     "data": {
      "text/html": [
       "<span style=\"color:blue\"> |-tuner/round: 3</span>"
      ],
      "text/plain": [
       "<IPython.core.display.HTML object>"
      ]
     },
     "metadata": {},
     "output_type": "display_data"
    },
    {
     "data": {
      "text/html": [
       "<span style=\"color:cyan\"> |-tuner/trial_id: bfa5b4028428bcd5dd8ddfeea14d3ef0</span>"
      ],
      "text/plain": [
       "<IPython.core.display.HTML object>"
      ]
     },
     "metadata": {},
     "output_type": "display_data"
    },
    {
     "data": {
      "text/html": [
       "<span style=\"color:blue\"> |-units: 60</span>"
      ],
      "text/plain": [
       "<IPython.core.display.HTML object>"
      ]
     },
     "metadata": {},
     "output_type": "display_data"
    }
   ],
   "source": [
    "#Prints a summary of the results of the hyperband optimization\n",
    "tuner.results_summary()"
   ]
  },
  {
   "cell_type": "markdown",
   "metadata": {
    "pycharm": {
     "is_executing": true
    },
    "slideshow": {
     "slide_type": "slide"
    }
   },
   "source": [
    "We can now evaluate the performace of the algorithm. The process is exactly the same, we evaluate the convergence of the algorithm, then the output of the model for both training and test datasets. In this case, we don't want to stop the training of the algorithm too early. In so doing, in fact, we could obtain a suboptimal combination of weight and biases. We want to set the number of trainig epochs to a large number and then code a stopping criterion to interrupt the training when certain conditions are met. This is also called *early stopping*. To do so, we can use a *callback* function already implemented in Keras. In particular, the following command stops the training when the test loss is not improved during five subsequent epochs."
   ]
  },
  {
   "cell_type": "code",
   "execution_count": 42,
   "metadata": {
    "pycharm": {
     "is_executing": true
    },
    "slideshow": {
     "slide_type": "subslide"
    }
   },
   "outputs": [
    {
     "name": "stdout",
     "output_type": "stream",
     "text": [
      "Train on 1593 samples, validate on 683 samples\n",
      "Epoch 1/2000\n",
      "1593/1593 [==============================] - ETA: 0s - loss: 0.004 - ETA: 0s - loss: 0.006 - 0s 58us/sample - loss: 0.0065 - val_loss: 0.0044\n",
      "Epoch 2/2000\n",
      "1593/1593 [==============================] - ETA: 0s - loss: 0.009 - ETA: 0s - loss: 0.006 - 0s 56us/sample - loss: 0.0064 - val_loss: 0.0054\n",
      "Epoch 3/2000\n",
      "1593/1593 [==============================] - ETA: 0s - loss: 0.007 - ETA: 0s - loss: 0.006 - 0s 55us/sample - loss: 0.0063 - val_loss: 0.0047\n",
      "Epoch 4/2000\n",
      "1593/1593 [==============================] - ETA: 0s - loss: 0.006 - ETA: 0s - loss: 0.006 - 0s 54us/sample - loss: 0.0063 - val_loss: 0.0045\n",
      "Epoch 5/2000\n",
      "1593/1593 [==============================] - ETA: 0s - loss: 0.006 - ETA: 0s - loss: 0.006 - 0s 55us/sample - loss: 0.0063 - val_loss: 0.0047\n",
      "Epoch 6/2000\n",
      "1593/1593 [==============================] - ETA: 0s - loss: 0.010 - ETA: 0s - loss: 0.006 - 0s 55us/sample - loss: 0.0064 - val_loss: 0.0051\n",
      "Epoch 7/2000\n",
      "1593/1593 [==============================] - ETA: 0s - loss: 0.006 - ETA: 0s - loss: 0.006 - 0s 55us/sample - loss: 0.0064 - val_loss: 0.0045\n",
      "Epoch 8/2000\n",
      "1593/1593 [==============================] - ETA: 0s - loss: 0.006 - ETA: 0s - loss: 0.006 - 0s 53us/sample - loss: 0.0063 - val_loss: 0.0045\n",
      "Epoch 9/2000\n",
      "1593/1593 [==============================] - ETA: 0s - loss: 0.008 - ETA: 0s - loss: 0.006 - 0s 55us/sample - loss: 0.0064 - val_loss: 0.0050\n",
      "Epoch 10/2000\n",
      "1593/1593 [==============================] - ETA: 0s - loss: 0.004 - ETA: 0s - loss: 0.006 - 0s 55us/sample - loss: 0.0061 - val_loss: 0.0045\n",
      "Epoch 11/2000\n",
      "1593/1593 [==============================] - ETA: 0s - loss: 0.005 - ETA: 0s - loss: 0.006 - 0s 54us/sample - loss: 0.0062 - val_loss: 0.0047\n",
      "Epoch 12/2000\n",
      "1593/1593 [==============================] - ETA: 0s - loss: 0.004 - ETA: 0s - loss: 0.006 - 0s 55us/sample - loss: 0.0063 - val_loss: 0.0043\n",
      "Epoch 13/2000\n",
      "1593/1593 [==============================] - ETA: 0s - loss: 0.008 - ETA: 0s - loss: 0.005 - 0s 56us/sample - loss: 0.0060 - val_loss: 0.0048\n",
      "Epoch 14/2000\n",
      "1593/1593 [==============================] - ETA: 0s - loss: 0.007 - ETA: 0s - loss: 0.006 - 0s 58us/sample - loss: 0.0061 - val_loss: 0.0045\n",
      "Epoch 15/2000\n",
      "1593/1593 [==============================] - ETA: 0s - loss: 0.008 - ETA: 0s - loss: 0.006 - 0s 56us/sample - loss: 0.0062 - val_loss: 0.0046\n",
      "Epoch 16/2000\n",
      "1593/1593 [==============================] - ETA: 0s - loss: 0.007 - ETA: 0s - loss: 0.006 - 0s 56us/sample - loss: 0.0060 - val_loss: 0.0042\n",
      "Epoch 17/2000\n",
      "1593/1593 [==============================] - ETA: 0s - loss: 0.004 - ETA: 0s - loss: 0.006 - 0s 56us/sample - loss: 0.0059 - val_loss: 0.0043\n",
      "Epoch 18/2000\n",
      "1593/1593 [==============================] - ETA: 0s - loss: 0.006 - ETA: 0s - loss: 0.005 - 0s 56us/sample - loss: 0.0059 - val_loss: 0.0046\n",
      "Epoch 19/2000\n",
      "1593/1593 [==============================] - ETA: 0s - loss: 0.009 - ETA: 0s - loss: 0.006 - 0s 56us/sample - loss: 0.0060 - val_loss: 0.0044\n",
      "Epoch 20/2000\n",
      "1593/1593 [==============================] - ETA: 0s - loss: 0.003 - ETA: 0s - loss: 0.006 - 0s 54us/sample - loss: 0.0058 - val_loss: 0.0046\n",
      "Epoch 21/2000\n",
      "1593/1593 [==============================] - ETA: 0s - loss: 0.009 - ETA: 0s - loss: 0.006 - 0s 56us/sample - loss: 0.0063 - val_loss: 0.0047\n",
      "Epoch 22/2000\n",
      "1593/1593 [==============================] - ETA: 0s - loss: 0.007 - ETA: 0s - loss: 0.005 - 0s 56us/sample - loss: 0.0057 - val_loss: 0.0046\n",
      "Epoch 23/2000\n",
      "1593/1593 [==============================] - ETA: 0s - loss: 0.002 - ETA: 0s - loss: 0.005 - 0s 56us/sample - loss: 0.0058 - val_loss: 0.0045\n",
      "Epoch 24/2000\n",
      "1593/1593 [==============================] - ETA: 0s - loss: 0.005 - ETA: 0s - loss: 0.006 - 0s 56us/sample - loss: 0.0060 - val_loss: 0.0043\n",
      "Epoch 25/2000\n",
      "1593/1593 [==============================] - ETA: 0s - loss: 0.008 - ETA: 0s - loss: 0.005 - 0s 56us/sample - loss: 0.0060 - val_loss: 0.0042\n",
      "Epoch 26/2000\n",
      "1593/1593 [==============================] - ETA: 0s - loss: 0.005 - ETA: 0s - loss: 0.005 - 0s 56us/sample - loss: 0.0061 - val_loss: 0.0050\n",
      "Epoch 27/2000\n",
      "1593/1593 [==============================] - ETA: 0s - loss: 0.009 - ETA: 0s - loss: 0.006 - 0s 56us/sample - loss: 0.0058 - val_loss: 0.0044\n",
      "Epoch 28/2000\n",
      "1593/1593 [==============================] - ETA: 0s - loss: 0.011 - ETA: 0s - loss: 0.006 - 0s 55us/sample - loss: 0.0063 - val_loss: 0.0044\n",
      "Epoch 29/2000\n",
      "1593/1593 [==============================] - ETA: 0s - loss: 0.002 - ETA: 0s - loss: 0.006 - 0s 56us/sample - loss: 0.0057 - val_loss: 0.0049\n",
      "Epoch 30/2000\n",
      "1593/1593 [==============================] - ETA: 0s - loss: 0.007 - ETA: 0s - loss: 0.005 - 0s 56us/sample - loss: 0.0056 - val_loss: 0.0044\n",
      "Epoch 31/2000\n",
      "1593/1593 [==============================] - ETA: 0s - loss: 0.008 - ETA: 0s - loss: 0.006 - 0s 57us/sample - loss: 0.0061 - val_loss: 0.0043\n",
      "Epoch 32/2000\n",
      "1593/1593 [==============================] - ETA: 0s - loss: 0.006 - ETA: 0s - loss: 0.006 - 0s 55us/sample - loss: 0.0059 - val_loss: 0.0047\n",
      "Epoch 33/2000\n",
      "1593/1593 [==============================] - ETA: 0s - loss: 0.003 - ETA: 0s - loss: 0.005 - 0s 56us/sample - loss: 0.0058 - val_loss: 0.0044\n",
      "Epoch 34/2000\n",
      "1593/1593 [==============================] - ETA: 0s - loss: 0.004 - ETA: 0s - loss: 0.006 - 0s 55us/sample - loss: 0.0060 - val_loss: 0.0043\n",
      "Epoch 35/2000\n",
      "1593/1593 [==============================] - ETA: 0s - loss: 0.007 - ETA: 0s - loss: 0.006 - 0s 56us/sample - loss: 0.0059 - val_loss: 0.0044\n",
      "Epoch 36/2000\n",
      "1593/1593 [==============================] - ETA: 0s - loss: 0.007 - ETA: 0s - loss: 0.005 - 0s 54us/sample - loss: 0.0059 - val_loss: 0.0046\n",
      "Epoch 37/2000\n",
      "1593/1593 [==============================] - ETA: 0s - loss: 0.004 - ETA: 0s - loss: 0.005 - 0s 53us/sample - loss: 0.0058 - val_loss: 0.0048\n",
      "Epoch 38/2000\n",
      "1593/1593 [==============================] - ETA: 0s - loss: 0.004 - ETA: 0s - loss: 0.006 - 0s 55us/sample - loss: 0.0061 - val_loss: 0.0045\n",
      "Epoch 39/2000\n",
      "1593/1593 [==============================] - ETA: 0s - loss: 0.006 - ETA: 0s - loss: 0.005 - 0s 55us/sample - loss: 0.0058 - val_loss: 0.0044\n",
      "Epoch 40/2000\n",
      "1593/1593 [==============================] - ETA: 0s - loss: 0.004 - ETA: 0s - loss: 0.005 - 0s 54us/sample - loss: 0.0054 - val_loss: 0.0047\n",
      "Epoch 41/2000\n",
      "1593/1593 [==============================] - ETA: 0s - loss: 0.009 - ETA: 0s - loss: 0.005 - 0s 53us/sample - loss: 0.0054 - val_loss: 0.0044\n",
      "Epoch 42/2000\n",
      "1593/1593 [==============================] - ETA: 0s - loss: 0.008 - ETA: 0s - loss: 0.005 - 0s 54us/sample - loss: 0.0059 - val_loss: 0.0045\n",
      "Epoch 43/2000\n",
      "1593/1593 [==============================] - ETA: 0s - loss: 0.003 - ETA: 0s - loss: 0.005 - 0s 56us/sample - loss: 0.0055 - val_loss: 0.0049\n",
      "Epoch 44/2000\n",
      "1593/1593 [==============================] - ETA: 0s - loss: 0.008 - ETA: 0s - loss: 0.005 - 0s 53us/sample - loss: 0.0057 - val_loss: 0.0042\n",
      "Epoch 45/2000\n",
      "1593/1593 [==============================] - ETA: 0s - loss: 0.003 - ETA: 0s - loss: 0.005 - 0s 53us/sample - loss: 0.0057 - val_loss: 0.0042\n",
      "Epoch 46/2000\n",
      "1593/1593 [==============================] - ETA: 0s - loss: 0.007 - ETA: 0s - loss: 0.005 - 0s 53us/sample - loss: 0.0057 - val_loss: 0.0042\n",
      "Epoch 47/2000\n",
      "1593/1593 [==============================] - ETA: 0s - loss: 0.006 - ETA: 0s - loss: 0.005 - 0s 52us/sample - loss: 0.0053 - val_loss: 0.0041\n",
      "Epoch 48/2000\n",
      "1593/1593 [==============================] - ETA: 0s - loss: 0.001 - ETA: 0s - loss: 0.005 - 0s 53us/sample - loss: 0.0057 - val_loss: 0.0045\n",
      "Epoch 49/2000\n",
      "1593/1593 [==============================] - ETA: 0s - loss: 0.005 - ETA: 0s - loss: 0.005 - 0s 55us/sample - loss: 0.0055 - val_loss: 0.0047\n",
      "Epoch 50/2000\n",
      "1593/1593 [==============================] - ETA: 0s - loss: 0.006 - ETA: 0s - loss: 0.005 - 0s 53us/sample - loss: 0.0056 - val_loss: 0.0043\n",
      "Epoch 51/2000\n",
      "1593/1593 [==============================] - ETA: 0s - loss: 0.004 - ETA: 0s - loss: 0.005 - 0s 53us/sample - loss: 0.0055 - val_loss: 0.0042\n",
      "Epoch 52/2000\n",
      "1593/1593 [==============================] - ETA: 0s - loss: 0.006 - ETA: 0s - loss: 0.005 - 0s 53us/sample - loss: 0.0057 - val_loss: 0.0048\n",
      "Epoch 53/2000\n"
     ]
    },
    {
     "name": "stdout",
     "output_type": "stream",
     "text": [
      "1593/1593 [==============================] - ETA: 0s - loss: 0.003 - ETA: 0s - loss: 0.005 - 0s 54us/sample - loss: 0.0059 - val_loss: 0.0042\n",
      "Epoch 54/2000\n",
      "1593/1593 [==============================] - ETA: 0s - loss: 0.005 - ETA: 0s - loss: 0.005 - 0s 53us/sample - loss: 0.0058 - val_loss: 0.0053\n",
      "Epoch 55/2000\n",
      "1593/1593 [==============================] - ETA: 0s - loss: 0.006 - ETA: 0s - loss: 0.006 - 0s 53us/sample - loss: 0.0060 - val_loss: 0.0042\n",
      "Epoch 56/2000\n",
      "1593/1593 [==============================] - ETA: 0s - loss: 0.004 - ETA: 0s - loss: 0.005 - 0s 52us/sample - loss: 0.0056 - val_loss: 0.0046\n",
      "Epoch 57/2000\n",
      "1593/1593 [==============================] - ETA: 0s - loss: 0.004 - ETA: 0s - loss: 0.005 - 0s 53us/sample - loss: 0.0056 - val_loss: 0.0043\n",
      "Epoch 58/2000\n",
      "1593/1593 [==============================] - ETA: 0s - loss: 0.002 - ETA: 0s - loss: 0.005 - 0s 54us/sample - loss: 0.0054 - val_loss: 0.0042\n",
      "Epoch 59/2000\n",
      "1593/1593 [==============================] - ETA: 0s - loss: 0.005 - ETA: 0s - loss: 0.005 - 0s 52us/sample - loss: 0.0055 - val_loss: 0.0043\n",
      "Epoch 60/2000\n",
      "1593/1593 [==============================] - ETA: 0s - loss: 0.005 - ETA: 0s - loss: 0.005 - 0s 52us/sample - loss: 0.0058 - val_loss: 0.0047\n",
      "Epoch 61/2000\n",
      "1593/1593 [==============================] - ETA: 0s - loss: 0.006 - ETA: 0s - loss: 0.005 - 0s 53us/sample - loss: 0.0056 - val_loss: 0.0044\n",
      "Epoch 62/2000\n",
      "1593/1593 [==============================] - ETA: 0s - loss: 0.003 - ETA: 0s - loss: 0.005 - 0s 55us/sample - loss: 0.0055 - val_loss: 0.0042\n",
      "Epoch 63/2000\n",
      "1593/1593 [==============================] - ETA: 0s - loss: 0.006 - ETA: 0s - loss: 0.005 - 0s 53us/sample - loss: 0.0054 - val_loss: 0.0045\n",
      "Epoch 64/2000\n",
      "1593/1593 [==============================] - ETA: 0s - loss: 0.007 - ETA: 0s - loss: 0.005 - 0s 52us/sample - loss: 0.0056 - val_loss: 0.0044\n",
      "Epoch 65/2000\n",
      "1593/1593 [==============================] - ETA: 0s - loss: 0.004 - ETA: 0s - loss: 0.005 - 0s 52us/sample - loss: 0.0055 - val_loss: 0.0041\n",
      "Epoch 66/2000\n",
      "1593/1593 [==============================] - ETA: 0s - loss: 0.007 - ETA: 0s - loss: 0.005 - 0s 53us/sample - loss: 0.0052 - val_loss: 0.0042\n",
      "Epoch 67/2000\n",
      "1593/1593 [==============================] - ETA: 0s - loss: 0.009 - ETA: 0s - loss: 0.005 - 0s 53us/sample - loss: 0.0053 - val_loss: 0.0044\n",
      "Epoch 68/2000\n",
      "1593/1593 [==============================] - ETA: 0s - loss: 0.005 - ETA: 0s - loss: 0.005 - 0s 55us/sample - loss: 0.0056 - val_loss: 0.0042\n",
      "Epoch 69/2000\n",
      "1593/1593 [==============================] - ETA: 0s - loss: 0.005 - ETA: 0s - loss: 0.005 - 0s 55us/sample - loss: 0.0055 - val_loss: 0.0043\n",
      "Epoch 70/2000\n",
      "1593/1593 [==============================] - ETA: 0s - loss: 0.005 - ETA: 0s - loss: 0.005 - 0s 54us/sample - loss: 0.0056 - val_loss: 0.0045\n",
      "Epoch 71/2000\n",
      "1593/1593 [==============================] - ETA: 0s - loss: 0.005 - ETA: 0s - loss: 0.005 - 0s 54us/sample - loss: 0.0052 - val_loss: 0.0042\n",
      "Epoch 72/2000\n",
      "1593/1593 [==============================] - ETA: 0s - loss: 0.005 - ETA: 0s - loss: 0.005 - 0s 53us/sample - loss: 0.0055 - val_loss: 0.0043\n",
      "Epoch 73/2000\n",
      "1593/1593 [==============================] - ETA: 0s - loss: 0.003 - ETA: 0s - loss: 0.005 - 0s 53us/sample - loss: 0.0055 - val_loss: 0.0047\n",
      "Epoch 74/2000\n",
      "1593/1593 [==============================] - ETA: 0s - loss: 0.003 - ETA: 0s - loss: 0.005 - 0s 55us/sample - loss: 0.0055 - val_loss: 0.0041\n",
      "Epoch 75/2000\n",
      "1593/1593 [==============================] - ETA: 0s - loss: 0.003 - ETA: 0s - loss: 0.005 - 0s 53us/sample - loss: 0.0054 - val_loss: 0.0045\n",
      "Epoch 76/2000\n",
      "1593/1593 [==============================] - ETA: 0s - loss: 0.004 - ETA: 0s - loss: 0.005 - 0s 55us/sample - loss: 0.0058 - val_loss: 0.0046\n",
      "Epoch 77/2000\n",
      "1593/1593 [==============================] - ETA: 0s - loss: 0.006 - ETA: 0s - loss: 0.005 - 0s 53us/sample - loss: 0.0054 - val_loss: 0.0043\n",
      "Epoch 78/2000\n",
      "1593/1593 [==============================] - ETA: 0s - loss: 0.004 - ETA: 0s - loss: 0.005 - 0s 55us/sample - loss: 0.0054 - val_loss: 0.0046\n",
      "Epoch 79/2000\n",
      "1593/1593 [==============================] - ETA: 0s - loss: 0.004 - ETA: 0s - loss: 0.005 - 0s 51us/sample - loss: 0.0054 - val_loss: 0.0044\n",
      "Epoch 80/2000\n",
      "1593/1593 [==============================] - ETA: 0s - loss: 0.005 - ETA: 0s - loss: 0.005 - 0s 55us/sample - loss: 0.0053 - val_loss: 0.0046\n",
      "Epoch 81/2000\n",
      "1593/1593 [==============================] - ETA: 0s - loss: 0.008 - ETA: 0s - loss: 0.005 - 0s 56us/sample - loss: 0.0055 - val_loss: 0.0046\n",
      "Epoch 82/2000\n",
      "1593/1593 [==============================] - ETA: 0s - loss: 0.007 - ETA: 0s - loss: 0.005 - 0s 54us/sample - loss: 0.0052 - val_loss: 0.0043\n",
      "Epoch 83/2000\n",
      "1593/1593 [==============================] - ETA: 0s - loss: 0.005 - ETA: 0s - loss: 0.005 - 0s 53us/sample - loss: 0.0052 - val_loss: 0.0041\n",
      "Epoch 84/2000\n",
      "1593/1593 [==============================] - ETA: 0s - loss: 0.007 - ETA: 0s - loss: 0.005 - 0s 53us/sample - loss: 0.0052 - val_loss: 0.0043\n",
      "Epoch 85/2000\n",
      "1593/1593 [==============================] - ETA: 0s - loss: 0.003 - ETA: 0s - loss: 0.005 - 0s 53us/sample - loss: 0.0055 - val_loss: 0.0045\n",
      "Epoch 86/2000\n",
      "1593/1593 [==============================] - ETA: 0s - loss: 0.008 - ETA: 0s - loss: 0.005 - 0s 53us/sample - loss: 0.0055 - val_loss: 0.0043\n",
      "Epoch 87/2000\n",
      "1593/1593 [==============================] - ETA: 0s - loss: 0.003 - ETA: 0s - loss: 0.005 - 0s 56us/sample - loss: 0.0055 - val_loss: 0.0042\n",
      "Epoch 88/2000\n",
      "1593/1593 [==============================] - ETA: 0s - loss: 0.003 - ETA: 0s - loss: 0.005 - 0s 53us/sample - loss: 0.0055 - val_loss: 0.0046\n",
      "Epoch 89/2000\n",
      "1593/1593 [==============================] - ETA: 0s - loss: 0.003 - ETA: 0s - loss: 0.005 - 0s 53us/sample - loss: 0.0054 - val_loss: 0.0042\n",
      "Epoch 90/2000\n",
      "1593/1593 [==============================] - ETA: 0s - loss: 0.003 - ETA: 0s - loss: 0.005 - 0s 52us/sample - loss: 0.0052 - val_loss: 0.0043\n",
      "Epoch 91/2000\n",
      "1593/1593 [==============================] - ETA: 0s - loss: 0.007 - ETA: 0s - loss: 0.005 - 0s 54us/sample - loss: 0.0053 - val_loss: 0.0041\n",
      "Epoch 92/2000\n",
      "1593/1593 [==============================] - ETA: 0s - loss: 0.004 - ETA: 0s - loss: 0.005 - 0s 54us/sample - loss: 0.0053 - val_loss: 0.0045\n",
      "Epoch 93/2000\n",
      "1593/1593 [==============================] - ETA: 0s - loss: 0.005 - ETA: 0s - loss: 0.005 - 0s 56us/sample - loss: 0.0055 - val_loss: 0.0041\n",
      "Epoch 94/2000\n",
      "1593/1593 [==============================] - ETA: 0s - loss: 0.003 - ETA: 0s - loss: 0.005 - 0s 54us/sample - loss: 0.0056 - val_loss: 0.0041\n",
      "Epoch 95/2000\n",
      "1593/1593 [==============================] - ETA: 0s - loss: 0.006 - ETA: 0s - loss: 0.005 - 0s 54us/sample - loss: 0.0053 - val_loss: 0.0043\n",
      "Epoch 96/2000\n",
      "1593/1593 [==============================] - ETA: 0s - loss: 0.003 - ETA: 0s - loss: 0.004 - 0s 53us/sample - loss: 0.0048 - val_loss: 0.0042\n",
      "Epoch 97/2000\n",
      "1593/1593 [==============================] - ETA: 0s - loss: 0.006 - ETA: 0s - loss: 0.005 - 0s 51us/sample - loss: 0.0054 - val_loss: 0.0045\n",
      "Epoch 98/2000\n",
      "1593/1593 [==============================] - ETA: 0s - loss: 0.003 - ETA: 0s - loss: 0.005 - 0s 53us/sample - loss: 0.0054 - val_loss: 0.0042\n",
      "Epoch 99/2000\n",
      "1593/1593 [==============================] - ETA: 0s - loss: 0.004 - ETA: 0s - loss: 0.005 - 0s 55us/sample - loss: 0.0053 - val_loss: 0.0045\n",
      "Epoch 100/2000\n",
      "1593/1593 [==============================] - ETA: 0s - loss: 0.006 - ETA: 0s - loss: 0.005 - 0s 56us/sample - loss: 0.0050 - val_loss: 0.0043\n",
      "Epoch 101/2000\n",
      "1593/1593 [==============================] - ETA: 0s - loss: 0.002 - ETA: 0s - loss: 0.005 - 0s 57us/sample - loss: 0.0054 - val_loss: 0.0047\n",
      "Epoch 102/2000\n",
      "1593/1593 [==============================] - ETA: 0s - loss: 0.003 - ETA: 0s - loss: 0.005 - 0s 55us/sample - loss: 0.0053 - val_loss: 0.0042\n",
      "Epoch 103/2000\n",
      "1593/1593 [==============================] - ETA: 0s - loss: 0.006 - ETA: 0s - loss: 0.005 - 0s 53us/sample - loss: 0.0052 - val_loss: 0.0041\n",
      "Epoch 104/2000\n",
      "1593/1593 [==============================] - ETA: 0s - loss: 0.007 - ETA: 0s - loss: 0.005 - 0s 53us/sample - loss: 0.0055 - val_loss: 0.0040\n",
      "Epoch 105/2000\n"
     ]
    },
    {
     "name": "stdout",
     "output_type": "stream",
     "text": [
      "1593/1593 [==============================] - ETA: 0s - loss: 0.002 - ETA: 0s - loss: 0.005 - 0s 53us/sample - loss: 0.0052 - val_loss: 0.0041\n",
      "Epoch 106/2000\n",
      "1593/1593 [==============================] - ETA: 0s - loss: 0.004 - ETA: 0s - loss: 0.005 - 0s 57us/sample - loss: 0.0053 - val_loss: 0.0044\n",
      "Epoch 107/2000\n",
      "1593/1593 [==============================] - ETA: 0s - loss: 0.011 - ETA: 0s - loss: 0.005 - 0s 53us/sample - loss: 0.0050 - val_loss: 0.0043\n",
      "Epoch 108/2000\n",
      "1593/1593 [==============================] - ETA: 0s - loss: 0.003 - ETA: 0s - loss: 0.005 - 0s 53us/sample - loss: 0.0054 - val_loss: 0.0043\n",
      "Epoch 109/2000\n",
      "1593/1593 [==============================] - ETA: 0s - loss: 0.004 - ETA: 0s - loss: 0.005 - 0s 55us/sample - loss: 0.0057 - val_loss: 0.0041\n",
      "Epoch 110/2000\n",
      "1593/1593 [==============================] - ETA: 0s - loss: 0.005 - ETA: 0s - loss: 0.005 - 0s 56us/sample - loss: 0.0054 - val_loss: 0.0041\n",
      "Epoch 111/2000\n",
      "1593/1593 [==============================] - ETA: 0s - loss: 0.005 - ETA: 0s - loss: 0.005 - 0s 54us/sample - loss: 0.0054 - val_loss: 0.0042\n",
      "Epoch 112/2000\n",
      "1593/1593 [==============================] - ETA: 0s - loss: 0.004 - ETA: 0s - loss: 0.005 - 0s 53us/sample - loss: 0.0055 - val_loss: 0.0044\n",
      "Epoch 113/2000\n",
      "1593/1593 [==============================] - ETA: 0s - loss: 0.003 - ETA: 0s - loss: 0.004 - 0s 52us/sample - loss: 0.0051 - val_loss: 0.0042\n",
      "Epoch 114/2000\n",
      "1593/1593 [==============================] - ETA: 0s - loss: 0.004 - ETA: 0s - loss: 0.005 - 0s 55us/sample - loss: 0.0053 - val_loss: 0.0045\n",
      "Epoch 115/2000\n",
      "1593/1593 [==============================] - ETA: 0s - loss: 0.006 - ETA: 0s - loss: 0.005 - 0s 54us/sample - loss: 0.0053 - val_loss: 0.0041\n",
      "Epoch 116/2000\n",
      "1593/1593 [==============================] - ETA: 0s - loss: 0.010 - ETA: 0s - loss: 0.005 - 0s 55us/sample - loss: 0.0052 - val_loss: 0.0040\n",
      "Epoch 117/2000\n",
      "1593/1593 [==============================] - ETA: 0s - loss: 0.005 - ETA: 0s - loss: 0.004 - 0s 55us/sample - loss: 0.0049 - val_loss: 0.0043\n",
      "Epoch 118/2000\n",
      "1593/1593 [==============================] - ETA: 0s - loss: 0.004 - ETA: 0s - loss: 0.005 - 0s 56us/sample - loss: 0.0052 - val_loss: 0.0045\n",
      "Epoch 119/2000\n",
      "1593/1593 [==============================] - ETA: 0s - loss: 0.005 - ETA: 0s - loss: 0.004 - 0s 56us/sample - loss: 0.0050 - val_loss: 0.0041\n",
      "Epoch 120/2000\n",
      "1593/1593 [==============================] - ETA: 0s - loss: 0.002 - ETA: 0s - loss: 0.005 - 0s 55us/sample - loss: 0.0052 - val_loss: 0.0048\n",
      "Epoch 121/2000\n",
      "1593/1593 [==============================] - ETA: 0s - loss: 0.003 - ETA: 0s - loss: 0.005 - 0s 56us/sample - loss: 0.0052 - val_loss: 0.0042\n",
      "Epoch 122/2000\n",
      "1593/1593 [==============================] - ETA: 0s - loss: 0.003 - ETA: 0s - loss: 0.005 - 0s 55us/sample - loss: 0.0052 - val_loss: 0.0043\n",
      "Epoch 123/2000\n",
      "1593/1593 [==============================] - ETA: 0s - loss: 0.005 - ETA: 0s - loss: 0.005 - 0s 55us/sample - loss: 0.0054 - val_loss: 0.0043\n",
      "Epoch 124/2000\n",
      "1593/1593 [==============================] - ETA: 0s - loss: 0.008 - ETA: 0s - loss: 0.005 - 0s 53us/sample - loss: 0.0050 - val_loss: 0.0042\n",
      "Epoch 125/2000\n",
      "1593/1593 [==============================] - ETA: 0s - loss: 0.006 - ETA: 0s - loss: 0.005 - 0s 60us/sample - loss: 0.0053 - val_loss: 0.0042\n",
      "Epoch 126/2000\n",
      "1593/1593 [==============================] - ETA: 0s - loss: 0.002 - ETA: 0s - loss: 0.005 - 0s 67us/sample - loss: 0.0055 - val_loss: 0.0042\n"
     ]
    }
   ],
   "source": [
    "#Early stopping criterion definition\n",
    "callback = keras.callbacks.EarlyStopping(monitor='loss', patience=30, \n",
    "                                         min_delta=0.0001,mode='auto')\n",
    "\n",
    "#Optimized model training\n",
    "history = best_model.fit(X_train, y_train, epochs=2000, callbacks=[callback],\n",
    "                         validation_data = (X_test, y_test))\n"
   ]
  },
  {
   "cell_type": "markdown",
   "metadata": {
    "slideshow": {
     "slide_type": "subslide"
    }
   },
   "source": [
    "We can now plot the convergence history as we did previously:"
   ]
  },
  {
   "cell_type": "code",
   "execution_count": 43,
   "metadata": {
    "slideshow": {
     "slide_type": "subslide"
    }
   },
   "outputs": [
    {
     "data": {
      "image/png": "[encoded data removed]",
      "text/plain": [
       "<Figure size 432x288 with 1 Axes>"
      ]
     },
     "metadata": {
      "needs_background": "light"
     },
     "output_type": "display_data"
    }
   ],
   "source": [
    "#Creates a new figure\n",
    "plt.figure()\n",
    "#Plotter of the training and test MSE\n",
    "plt.plot(history.history['loss'], c='k',label='Train')\n",
    "plt.plot(history.history['val_loss'], c='r', label = 'Test', ls='--')\n",
    "#Shows legend and add labels to the plot\n",
    "plt.legend()\n",
    "plt.xlabel('Nr. of Epochs')\n",
    "plt.ylabel('MSE')\n",
    "plt.show()"
   ]
  },
  {
   "cell_type": "markdown",
   "metadata": {
    "slideshow": {
     "slide_type": "slide"
    }
   },
   "source": [
    "We first derive the prediction for the train dataset:"
   ]
  },
  {
   "cell_type": "code",
   "execution_count": 44,
   "metadata": {
    "pycharm": {
     "is_executing": true
    },
    "slideshow": {
     "slide_type": "subslide"
    }
   },
   "outputs": [],
   "source": [
    "#Stores the output of the trained model\n",
    "y_train_pred = best_model.predict(X_train)\n"
   ]
  },
  {
   "cell_type": "code",
   "execution_count": 45,
   "metadata": {
    "pycharm": {
     "is_executing": true
    },
    "slideshow": {
     "slide_type": "subslide"
    }
   },
   "outputs": [
    {
     "data": {
      "image/png": "[encoded data removed]",
      "text/plain": [
       "<Figure size 864x576 with 2 Axes>"
      ]
     },
     "metadata": {
      "needs_background": "light"
     },
     "output_type": "display_data"
    }
   ],
   "source": [
    "#Creates a new figure with two subplots\n",
    "fig = plt.figure(figsize=(12,8))\n",
    "\n",
    "#Cl plot with a 1:1 aspect ratio\n",
    "ax1 = fig.add_subplot(1,2,1, adjustable='box', aspect=1)\n",
    "#Plot reference data as a solid black line\n",
    "ax1.plot(y_train.values[:,0],y_train.values[:,0], c='k')\n",
    "#Plot model output as black empty circles\n",
    "ax1.scatter(y_train.values[:,0], y_train_pred[:,0], facecolor = 'none', edgecolor='k')\n",
    "#Add title and axes labels\n",
    "ax1.set_title('Cl - Train')\n",
    "ax1.set_xlabel('y_train')\n",
    "ax1.set_ylabel('y_train / y_train_pred')\n",
    "\n",
    "#Cd plot with a 1:1 aspect ratio\n",
    "ax2 = fig.add_subplot(1,2,2, adjustable='box', aspect=1)\n",
    "#Plot reference data as a solid black line\n",
    "ax2.plot(y_train.values[:,1],y_train.values[:,1], c='k', label='True')\n",
    "#Plot model output as black empty circles\n",
    "ax2.scatter(y_train.values[:,1], y_train_pred[:,1], facecolor = 'none', edgecolor='k', label='Predicted')\n",
    "#Add title and axes labels and a legend\n",
    "ax2.legend()\n",
    "ax2.set_title('Cd - Train')\n",
    "ax2.set_xlabel('y_train')\n",
    "ax2.set_ylabel('y_train / y_train_pred')\n",
    "\n",
    "plt.show()"
   ]
  },
  {
   "cell_type": "markdown",
   "metadata": {
    "slideshow": {
     "slide_type": "slide"
    }
   },
   "source": [
    "We can now do the same for the test database:"
   ]
  },
  {
   "cell_type": "code",
   "execution_count": 46,
   "metadata": {
    "pycharm": {
     "is_executing": true
    },
    "slideshow": {
     "slide_type": "subslide"
    }
   },
   "outputs": [
    {
     "data": {
      "image/png": "[encoded data removed]",
      "text/plain": [
       "<Figure size 864x576 with 2 Axes>"
      ]
     },
     "metadata": {
      "needs_background": "light"
     },
     "output_type": "display_data"
    }
   ],
   "source": [
    "#Evaluates the output of the model on the test data \n",
    "y_test_pred = best_model.predict(X_test)\n",
    "\n",
    "#Creates a new figure with two subplots\n",
    "fig = plt.figure(figsize=(12,8))\n",
    "\n",
    "#Cl plot with a 1:1 aspect ratio\n",
    "ax1 = fig.add_subplot(1,2,1, adjustable='box', aspect=1)\n",
    "#Plot reference data as a solid black line\n",
    "ax1.plot(y_test.values[:,0],y_test.values[:,0], c='k')\n",
    "#Plot model output as black empty circles\n",
    "ax1.scatter(y_test.values[:,0], y_test_pred[:,0], facecolor = 'none', edgecolor='k')\n",
    "#Add title and axes labels\n",
    "ax1.set_title('Cl - Test')\n",
    "ax1.set_xlabel('y_test')\n",
    "ax1.set_ylabel('y_test / y_test_pred')\n",
    "\n",
    "#Cd plot with a 1:1 aspect ratio\n",
    "ax2 = fig.add_subplot(1,2,2, adjustable='box', aspect=1)\n",
    "#Plot reference data as a solid black line\n",
    "ax2.plot(y_test.values[:,1],y_test.values[:,1], c='k', label='True')\n",
    "#Plot model output as black empty circles\n",
    "ax2.scatter(y_test.values[:,1], y_test_pred[:,1], facecolor = 'none', edgecolor='k', label='Predicted')\n",
    "#Add title and axes labels and a legend\n",
    "ax2.legend()\n",
    "ax2.set_title('Cd - Test')\n",
    "ax2.set_xlabel('y_test')\n",
    "ax2.set_ylabel('y_test / y_test_pred')\n",
    "\n",
    "plt.show()"
   ]
  },
  {
   "cell_type": "code",
   "execution_count": null,
   "metadata": {},
   "outputs": [],
   "source": []
  }
 ],
 "metadata": {
  "celltoolbar": "Slideshow",
  "kernelspec": {
   "display_name": "Python 3",
   "language": "python",
   "name": "python3"
  },
  "language_info": {
   "codemirror_mode": {
    "name": "ipython",
    "version": 3
   },
   "file_extension": ".py",
   "mimetype": "text/x-python",
   "name": "python",
   "nbconvert_exporter": "python",
   "pygments_lexer": "ipython3",
   "version": "3.7.9"
  }
 },
 "nbformat": 4,
 "nbformat_minor": 1
}
