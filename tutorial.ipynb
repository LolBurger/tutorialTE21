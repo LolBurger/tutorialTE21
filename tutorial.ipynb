{
 "cells": [
  {
   "cell_type": "markdown",
   "metadata": {
    "pycharm": {
     "name": "#%% md\n"
    },
    "slideshow": {
     "slide_type": "slide"
    }
   },
   "source": [
    "<h1><center>Data preprocessing </center></h1>\n",
    "\n",
    "First we import the modules (libraries) required by the code. <br>\n",
    "Three modules are here included:\n",
    "- numpy: basic library for array handling and manipulation\n",
    "- pandas: library to handle I/O of files and data structure manipulation\n",
    "- matplotlib: data visualization\n",
    "\n",
    "<p>To increase the code readability, a common approach involves\n",
    "    using aliases <i>(e.g. import pandas as <ins>pd</ins>)</i>."
   ]
  },
  {
   "cell_type": "code",
   "execution_count": 1,
   "metadata": {
    "slideshow": {
     "slide_type": "subslide"
    }
   },
   "outputs": [],
   "source": [
    "#Import the necessary modules and address them using aliases\n",
    "import numpy as np\n",
    "import pandas as pd\n",
    "import matplotlib.pyplot as plt"
   ]
  },
  {
   "cell_type": "markdown",
   "metadata": {
    "pycharm": {
     "name": "#%% md\n"
    },
    "slideshow": {
     "slide_type": "slide"
    }
   },
   "source": [
    "Now we read the training database that was previously stored in\n",
    "a *Comma Separated Values* file *(.csv)*. <br>\n",
    "The input format strongly depends on the source that generated\n",
    "your data."
   ]
  },
  {
   "cell_type": "code",
   "execution_count": 2,
   "metadata": {
    "pycharm": {
     "name": "#%%\n"
    },
    "slideshow": {
     "slide_type": "subslide"
    }
   },
   "outputs": [],
   "source": [
    "#Read the training data stored in .csv file\n",
    "df = pd.read_csv('RESULT_FILES/trainingData.csv',sep=',')"
   ]
  },
  {
   "cell_type": "markdown",
   "metadata": {
    "pycharm": {
     "name": "#%% md\n"
    },
    "slideshow": {
     "slide_type": "slide"
    }
   },
   "source": [
    "The file is read using the pandas library and it is stored in the df variable of type *dataframe*. The database for this tutorial was formerly cleaned of all the\n",
    "non-relevant columns. We can inspect the available features\n",
    "through the built-in pandas feature *df.columns*. <br>\n",
    "<p> We can now discover if the database was properly read by accessing the first few rows\n",
    "    of the file with their index, using the <i>.iloc[ ]</i> function. In addition, we want also to print the names of the columns by iterating over them."
   ]
  },
  {
   "cell_type": "code",
   "execution_count": 3,
   "metadata": {
    "pycharm": {
     "name": "#%%\n"
    },
    "slideshow": {
     "slide_type": "subslide"
    }
   },
   "outputs": [
    {
     "name": "stdout",
     "output_type": "stream",
     "text": [
      "   AoA      CL       CD  camber  camber_loc  thickness     Re\n",
      "0 -2.0 -0.1551  0.01968       1           1          6  50000\n",
      "1  0.0  0.0572  0.01435       1           1          6  50000\n",
      "2  2.0  0.2316  0.01576       1           1          6  50000\n",
      "3  4.0  0.5433  0.01971       1           1          6  50000\n",
      "\n",
      "\n",
      "AoA\n",
      "CL\n",
      "CD\n",
      "camber\n",
      "camber_loc\n",
      "thickness\n",
      "Re\n"
     ]
    }
   ],
   "source": [
    "#On-screen print of the first four rows of the database\n",
    "print(df.iloc[0:4])\n",
    "print('\\n')\n",
    "\n",
    "#On-screen print of the database columns\n",
    "for cname in df.columns:\n",
    "    print(cname)"
   ]
  },
  {
   "cell_type": "markdown",
   "metadata": {},
   "source": [
    "As previously introduced in the first part of the tutorial, neural networks may be impaired by training data with features having different scales of magnitude and outliers. We can inspect the raw dataset statistics using the pandas built-in function *pd.describe()*."
   ]
  },
  {
   "cell_type": "code",
   "execution_count": 4,
   "metadata": {},
   "outputs": [
    {
     "name": "stdout",
     "output_type": "stream",
     "text": [
      "               AoA           CL           CD       camber   camber_loc  \\\n",
      "count  2276.000000  2276.000000  2276.000000  2276.000000  2276.000000   \n",
      "mean      6.801406     0.730679     0.049028     2.438049     2.564148   \n",
      "std       5.727368     0.432466     0.057540     1.113408     1.102571   \n",
      "min      -2.000000    -0.303300     0.000000     1.000000     1.000000   \n",
      "25%       2.000000     0.439675     0.012960     1.000000     2.000000   \n",
      "50%       6.000000     0.785800     0.023260     2.000000     3.000000   \n",
      "75%      12.000000     1.024275     0.056023     3.000000     4.000000   \n",
      "max      16.000000     1.791900     0.240400     4.000000     4.000000   \n",
      "\n",
      "         thickness              Re  \n",
      "count  2276.000000     2276.000000  \n",
      "mean      9.172232   324670.474517  \n",
      "std       2.205337   369217.915854  \n",
      "min       6.000000    50000.000000  \n",
      "25%       8.000000    50000.000000  \n",
      "50%      10.000000   100000.000000  \n",
      "75%      12.000000   250000.000000  \n",
      "max      12.000000  1000000.000000  \n"
     ]
    }
   ],
   "source": [
    "print(df.describe())"
   ]
  },
  {
   "cell_type": "markdown",
   "metadata": {
    "pycharm": {
     "name": "#%% md\n"
    },
    "slideshow": {
     "slide_type": "slide"
    }
   },
   "source": [
    "<br>In general, data regularization/standardization is often beneficial for the neural netwrk training. <br>\n",
    "Here we scale data according to one of the simplest criterion, called\n",
    " *minMax scaler*, that regularize features by bounding all the features between 0 and 1: <br><center>\n",
    " $\\hat{x}=\\frac{x-{x}_{min}}{x_{max}-{x}_{min}}$\n",
    " </center>\n",
    " where:\n",
    " - $\\hat{x}$ is the normalized feature vector\n",
    " - $x$ is the dimensional feature vector\n",
    " - $min$ and $max$ are the minimum and the maximum of the feature vector respectively\n",
    " To do so, we can use a for loop to scroll through the columns (features), iteratively computing the minimum and the maximum and eventually normalize data:"
   ]
  },
  {
   "cell_type": "code",
   "execution_count": 5,
   "metadata": {
    "pycharm": {
     "name": "#%%\n"
    },
    "slideshow": {
     "slide_type": "subslide"
    }
   },
   "outputs": [],
   "source": [
    "#Minmax normalization\n",
    "for cname in df.columns:\n",
    "    df[cname] = (df[cname]-df[cname].min())/(df[cname].max()-df[cname].min())"
   ]
  },
  {
   "cell_type": "markdown",
   "metadata": {},
   "source": [
    "We can also statistically describe, as done for the raw dataset, the normalized data:"
   ]
  },
  {
   "cell_type": "code",
   "execution_count": 6,
   "metadata": {
    "pycharm": {
     "name": "#%%\n"
    },
    "slideshow": {
     "slide_type": "subslide"
    }
   },
   "outputs": [
    {
     "name": "stdout",
     "output_type": "stream",
     "text": [
      "               AoA           CL           CD       camber   camber_loc  \\\n",
      "count  2276.000000  2276.000000  2276.000000  2276.000000  2276.000000   \n",
      "mean      0.488967     0.493499     0.203944     0.479350     0.521383   \n",
      "std       0.318187     0.206408     0.239350     0.371136     0.367524   \n",
      "min       0.000000     0.000000     0.000000     0.000000     0.000000   \n",
      "25%       0.222222     0.354608     0.053910     0.000000     0.333333   \n",
      "50%       0.444444     0.519807     0.096755     0.333333     0.666667   \n",
      "75%       0.777778     0.633627     0.233039     0.666667     1.000000   \n",
      "max       1.000000     1.000000     1.000000     1.000000     1.000000   \n",
      "\n",
      "         thickness           Re  \n",
      "count  2276.000000  2276.000000  \n",
      "mean      0.528705     0.289127  \n",
      "std       0.367556     0.388650  \n",
      "min       0.000000     0.000000  \n",
      "25%       0.333333     0.000000  \n",
      "50%       0.666667     0.052632  \n",
      "75%       1.000000     0.210526  \n",
      "max       1.000000     1.000000  \n"
     ]
    }
   ],
   "source": [
    "#Computes basic statistics of the normalized data and print that on the screen \n",
    "stats = df.describe()\n",
    "print(stats)"
   ]
  },
  {
   "cell_type": "markdown",
   "metadata": {},
   "source": [
    "A common and compact way to visualize the staistics of data are box plots,\n",
    "showing the data distribution with their quantiles. <br>\n",
    "On way of doing that is the build-in pandas function called *boxplot()*."
   ]
  },
  {
   "cell_type": "code",
   "execution_count": 7,
   "metadata": {},
   "outputs": [
    {
     "data": {
      "image/png": "[encoded data removed]",
      "text/plain": [
       "<Figure size 864x432 with 1 Axes>"
      ]
     },
     "metadata": {
      "needs_background": "light"
     },
     "output_type": "display_data"
    }
   ],
   "source": [
    "#Generates a new figure\n",
    "plt.figure(figsize=(12,6))\n",
    "\n",
    "#Box plot using pandas \n",
    "df.boxplot()\n",
    "\n",
    "#Add labels to the axes\n",
    "plt.xlabel('Feature')\n",
    "plt.ylabel('Numerical value')\n",
    "\n",
    "#Show figure\n",
    "plt.show()"
   ]
  },
  {
   "cell_type": "markdown",
   "metadata": {
    "pycharm": {
     "name": "#%% md\n"
    },
    "slideshow": {
     "slide_type": "slide"
    }
   },
   "source": [
    "After regularization, the features are limited between 0 and 1.\n",
    "<br> The subsequent step is to divide data between the *train* and\n",
    "*test* subsets. <br>To do so, we use another library, called\n",
    "*scikit-learn*, and its method *train_test_split*. <br>\n",
    "In addition, this utility automatically splits the existing features\n",
    "between **input** or **output**.\n",
    "<br> The database that we are using is already ordered to have the\n",
    "last two columns that correspond to the output. <br>\n",
    "The *train_test_split* function requires as arguments the input and\n",
    "output features and the relative sizes of the two splits. <br>\n",
    "Depending on the application, the training/test size ratio may change,\n",
    "however we use 70% of the dataset as training subsample and 30%\n",
    "as testing subsample, that includes 2276 entires. <br>\n",
    "This function returns four arguments:\n",
    "* **X_train**: training input features, with shape (1594, 5)\n",
    "* **y_train**: training output features, with shape (1594, 2)\n",
    "* **X_test**: testing input features, with shape (682, 5)\n",
    "* **y_test**: testing output features, with shape (682, 2)\n"
   ]
  },
  {
   "cell_type": "code",
   "execution_count": 8,
   "metadata": {
    "pycharm": {
     "name": "#%%\n"
    },
    "slideshow": {
     "slide_type": "subslide"
    }
   },
   "outputs": [],
   "source": [
    "#Import of the sklearn train_test_split function\n",
    "from sklearn.model_selection import train_test_split\n",
    "\n",
    "#Definition of the input/output features \n",
    "df_shape = df.shape\n",
    "input_features = df[['AoA', 'camber', 'camber_loc', 'thickness', 'Re']]\n",
    "output_features = df[['CL','CD']]\n",
    "\n",
    "#Split in train and test data\n",
    "X_train, X_test, y_train, y_test = train_test_split(\n",
    "    input_features, output_features, test_size=0.3, random_state=20)\n"
   ]
  },
  {
   "cell_type": "markdown",
   "metadata": {
    "pycharm": {
     "name": "#%% md\n"
    },
    "slideshow": {
     "slide_type": "slide"
    }
   },
   "source": [
    "<h1><center>Training a basic model</center></h1>\n",
    "We are now ready to define the neural network architecture. Several deep learning APIs are available for free, <i> e.g.\n",
    "Tensorflow, Keras, Pytorch</i>. <br>\n",
    "In this tutorial we will be using the Keras library.\n",
    "Several neural network topologies may compete in solving the same kind of problem, and it is not always easy to determine the best solution a priori. <br>\n",
    "In this case, we will solve this simple problem by using one of the simplest\n",
    "topology, a feed-forward multi-layer perceptron neural network. <br> We can start importing the necessary modules from the\n",
    "<i>Keras</i> library, distributed with the <i>tensorflow</i> package:"
   ]
  },
  {
   "cell_type": "code",
   "execution_count": 9,
   "metadata": {
    "pycharm": {
     "is_executing": true,
     "name": "#%%\n"
    },
    "slideshow": {
     "slide_type": "subslide"
    }
   },
   "outputs": [],
   "source": [
    "#import of the tensorflow library\n",
    "from tensorflow import keras\n"
   ]
  },
  {
   "cell_type": "markdown",
   "metadata": {
    "pycharm": {
     "name": "#%% md\n"
    },
    "slideshow": {
     "slide_type": "slide"
    }
   },
   "source": [
    "Finding the best architecture for our neural network is not a trivial task, as it is normally one of the goals of the optimization of the neural network.<br>\n",
    "In the first part of the tutorial we will train a basic non-optimized morphology. \n",
    "<br> We can choose as initial structure a two-layer <b>feed forward neural network</b> with 5 neurons (perceptrons) for each layer. <br>\n",
    "The number of neurons per layer may be chosen using a rule of thumb: <br>\n",
    "<centering> $n_\\text{neur}=f_\\text{out}+0.5*f_\\text{in}=2+0.5*5 \\simeq 5$ </centering><br>\n",
    "(number of output features + 0.5 * number of input features)<br>\n",
    "We can also draw a fast sketch of the structure to understand data flow across the network.\n"
   ]
  },
  {
   "cell_type": "markdown",
   "metadata": {},
   "source": [
    "We can also visualize the actual structure of the neural network:\n",
    "    ![title](img/nn.svg)\n",
    "<centering> \n",
    "    *Image generated using NN SVG (http://alexlenail.me/NN-SVG/index.html)*\n",
    "</centering>"
   ]
  },
  {
   "cell_type": "markdown",
   "metadata": {},
   "source": [
    "The implementation of the mathematical formulation underlying neural networks may be complex and time consuming. Luckily, most of the\n",
    "deep-learning APIs like Keras distribute functions that dramatically speed up the process. We can start by defining our simple model through a user-defined function, here called *basic_model*."
   ]
  },
  {
   "cell_type": "code",
   "execution_count": 26,
   "metadata": {
    "slideshow": {
     "slide_type": "subslide"
    }
   },
   "outputs": [],
   "source": [
    "# Computes the shape of the input features \n",
    "M,N_feat = X_train.shape\n",
    "\n",
    "import numpy as np\n",
    "import tensorflow as tf\n",
    "from tensorflow import keras\n",
    "from tensorflow.keras import layers\n",
    "\n",
    "# Definition the basic_model function\n",
    "def basic_model():\n",
    "    \n",
    "    inputs = tf.keras.Input(shape=(5,))\n",
    "\n",
    "    #Definition of the first hidden layer\n",
    "    dense = layers.Dense(5, activation=\"tanh\")\n",
    "    x = dense(inputs)\n",
    "\n",
    "    #Definition of the second hidden layer\n",
    "    x = layers.Dense(5, activation=\"tanh\")(x)\n",
    "    \n",
    "    outputs = layers.Dense(2, activation=\"linear\")(x)\n",
    "\n",
    "    model = keras.Model(inputs=inputs, outputs=outputs, name=\"Basic_model\")\n",
    "\n",
    "    #Definition of the optimizer\n",
    "    opt = keras.optimizers.Adam(learning_rate=0.01)\n",
    "\n",
    "    #Definition of the cost function\n",
    "    cost = keras.losses.MeanSquaredError()\n",
    "\n",
    "    #Model finalization\n",
    "    model.compile(optimizer=opt,loss=cost)\n",
    "\n",
    "    #Model return\n",
    "    return model"
   ]
  },
  {
   "cell_type": "markdown",
   "metadata": {},
   "source": [
    "We can also visualize if the neural network is programmed as expected. To do so,\n",
    "we can use the *summary()* function of Keras."
   ]
  },
  {
   "cell_type": "code",
   "execution_count": 27,
   "metadata": {},
   "outputs": [
    {
     "name": "stdout",
     "output_type": "stream",
     "text": [
      "Model: \"Basic_model\"\n",
      "_________________________________________________________________\n",
      "Layer (type)                 Output Shape              Param #   \n",
      "=================================================================\n",
      "input_2 (InputLayer)         [(None, 5)]               0         \n",
      "_________________________________________________________________\n",
      "dense_3 (Dense)              (None, 5)                 30        \n",
      "_________________________________________________________________\n",
      "dense_4 (Dense)              (None, 5)                 30        \n",
      "_________________________________________________________________\n",
      "dense_5 (Dense)              (None, 2)                 12        \n",
      "=================================================================\n",
      "Total params: 72\n",
      "Trainable params: 72\n",
      "Non-trainable params: 0\n",
      "_________________________________________________________________\n",
      "None\n"
     ]
    }
   ],
   "source": [
    "print(basic_model().summary())"
   ]
  },
  {
   "cell_type": "markdown",
   "metadata": {
    "slideshow": {
     "slide_type": "slide"
    }
   },
   "source": [
    "In the last three lines of the function definition we are coding three relevant aspect of the neural network:\n",
    "<ul>\n",
    "<li>the learning rate (0.01)</li>\n",
    "<li>the cost function (Mean squared error)</li>\n",
    "<li>the optimizer (Adam)</li>\n",
    "</ul>\n",
    "<br> \n",
    "Even if Adam optimizer adapts the learning rate during the training phase, it has an impact on the speed of the algorithm. In fact, it controls the relaxation factor for weight update. Larger values (e.g. 0.3) result in faster initial learning. Smaller values (e.g. 1.0E-5) slow down the weight update during the training phase. </p>\n",
    "The choice of the cost function (also called loss function), depends mainly on the task (regression\\classification). Its role in the neural network is to determine the error that we are making between prediction and true values. <br>\n",
    "As the gradients of losses are computed based on the cost function, it strongly affects the proper convergence of the optimizer. <br>\n",
    "In this case we will use a common expression, the Mean Squared Error (MSE) function, defined as: <br><center>\n",
    "    $\\text{MSE}= \\frac{\\sum_{t=1}^T \\left(\\hat{y}_1-y\\right)^2}{T}$\n",
    "    </center><br>\n",
    "    \n",
    "The optimizer defines how to change weights or learning rates of the neural network to reduce the losses. <br>\n",
    "Adam optimizer is widely used because of fast convergence and adaptive learning rate."
   ]
  },
  {
   "cell_type": "markdown",
   "metadata": {
    "slideshow": {
     "slide_type": "slide"
    }
   },
   "source": [
    "Now everything is set up to start the training of the neural network. <br> \n",
    "To do so, we use the *fit* command. The fit method accepts several arguments that may help or impair the convergence of the model. We want to specify that we want to use X_train and y_train as input/output of the training of the model and that X_test and y_test must be used to evaluate the model. \n",
    "<br>\n",
    "<br>\n",
    "<b> How to choose the number of epochs? </b><br>\n",
    " In this case, we don't want to stop the training of the algorithm too early. In so doing, in fact, we could obtain a suboptimal combination of weight and biases. We want to set the number of trainig epochs to a large number and then code a stopping criterion to interrupt the training when certain conditions are met. This is also called *early stopping*. To do so, we can use a *callback* function already implemented in Keras. In particular, the following command stops the training when the test loss is not improved during five subsequent epochs. "
   ]
  },
  {
   "cell_type": "code",
   "execution_count": 28,
   "metadata": {
    "slideshow": {
     "slide_type": "subslide"
    }
   },
   "outputs": [
    {
     "name": "stdout",
     "output_type": "stream",
     "text": [
      "Epoch 1/200\n",
      "WARNING:tensorflow:AutoGraph could not transform <function Model.make_train_function.<locals>.train_function at 0x0000024176ADA708> and will run it as-is.\n",
      "Please report this to the TensorFlow team. When filing the bug, set the verbosity to 10 (on Linux, `export AUTOGRAPH_VERBOSITY=10`) and attach the full output.\n",
      "Cause: 'arguments' object has no attribute 'posonlyargs'\n",
      "To silence this warning, decorate the function with @tf.autograph.experimental.do_not_convert\n",
      "WARNING: AutoGraph could not transform <function Model.make_train_function.<locals>.train_function at 0x0000024176ADA708> and will run it as-is.\n",
      "Please report this to the TensorFlow team. When filing the bug, set the verbosity to 10 (on Linux, `export AUTOGRAPH_VERBOSITY=10`) and attach the full output.\n",
      "Cause: 'arguments' object has no attribute 'posonlyargs'\n",
      "To silence this warning, decorate the function with @tf.autograph.experimental.do_not_convert\n",
      "WARNING:tensorflow:AutoGraph could not transform <function Model.make_test_function.<locals>.test_function at 0x0000024176B4C438> and will run it as-is.\n",
      "Please report this to the TensorFlow team. When filing the bug, set the verbosity to 10 (on Linux, `export AUTOGRAPH_VERBOSITY=10`) and attach the full output.\n",
      "Cause: 'arguments' object has no attribute 'posonlyargs'\n",
      "To silence this warning, decorate the function with @tf.autograph.experimental.do_not_convert\n",
      "WARNING: AutoGraph could not transform <function Model.make_test_function.<locals>.test_function at 0x0000024176B4C438> and will run it as-is.\n",
      "Please report this to the TensorFlow team. When filing the bug, set the verbosity to 10 (on Linux, `export AUTOGRAPH_VERBOSITY=10`) and attach the full output.\n",
      "Cause: 'arguments' object has no attribute 'posonlyargs'\n",
      "To silence this warning, decorate the function with @tf.autograph.experimental.do_not_convert\n",
      "50/50 - 1s - loss: 0.0827 - val_loss: 0.0294\n",
      "Epoch 2/200\n",
      "50/50 - 0s - loss: 0.0198 - val_loss: 0.0136\n",
      "Epoch 3/200\n",
      "50/50 - 0s - loss: 0.0113 - val_loss: 0.0106\n",
      "Epoch 4/200\n",
      "50/50 - 0s - loss: 0.0095 - val_loss: 0.0102\n",
      "Epoch 5/200\n",
      "50/50 - 0s - loss: 0.0085 - val_loss: 0.0085\n",
      "Epoch 6/200\n",
      "50/50 - 0s - loss: 0.0077 - val_loss: 0.0075\n",
      "Epoch 7/200\n",
      "50/50 - 0s - loss: 0.0069 - val_loss: 0.0067\n",
      "Epoch 8/200\n",
      "50/50 - 0s - loss: 0.0064 - val_loss: 0.0062\n",
      "Epoch 9/200\n",
      "50/50 - 0s - loss: 0.0060 - val_loss: 0.0065\n",
      "Epoch 10/200\n",
      "50/50 - 0s - loss: 0.0056 - val_loss: 0.0056\n",
      "Epoch 11/200\n",
      "50/50 - 0s - loss: 0.0055 - val_loss: 0.0052\n",
      "Epoch 12/200\n",
      "50/50 - 0s - loss: 0.0054 - val_loss: 0.0051\n",
      "Epoch 13/200\n",
      "50/50 - 0s - loss: 0.0052 - val_loss: 0.0052\n",
      "Epoch 14/200\n",
      "50/50 - 0s - loss: 0.0050 - val_loss: 0.0051\n",
      "Epoch 15/200\n",
      "50/50 - 0s - loss: 0.0050 - val_loss: 0.0049\n",
      "Epoch 16/200\n",
      "50/50 - 0s - loss: 0.0050 - val_loss: 0.0049\n",
      "Epoch 17/200\n",
      "50/50 - 0s - loss: 0.0050 - val_loss: 0.0048\n",
      "Epoch 18/200\n",
      "50/50 - 0s - loss: 0.0050 - val_loss: 0.0049\n",
      "Epoch 19/200\n",
      "50/50 - 0s - loss: 0.0049 - val_loss: 0.0049\n",
      "Epoch 20/200\n",
      "50/50 - 0s - loss: 0.0048 - val_loss: 0.0049\n",
      "Epoch 21/200\n",
      "50/50 - 0s - loss: 0.0048 - val_loss: 0.0049\n",
      "Epoch 22/200\n",
      "50/50 - 0s - loss: 0.0049 - val_loss: 0.0047\n",
      "Epoch 23/200\n",
      "50/50 - 0s - loss: 0.0047 - val_loss: 0.0048\n",
      "Epoch 24/200\n",
      "50/50 - 0s - loss: 0.0048 - val_loss: 0.0059\n",
      "Epoch 25/200\n",
      "50/50 - 0s - loss: 0.0050 - val_loss: 0.0047\n",
      "Epoch 26/200\n",
      "50/50 - 0s - loss: 0.0047 - val_loss: 0.0046\n",
      "Epoch 27/200\n",
      "50/50 - 0s - loss: 0.0049 - val_loss: 0.0050\n",
      "Epoch 28/200\n",
      "50/50 - 0s - loss: 0.0047 - val_loss: 0.0048\n",
      "Epoch 29/200\n",
      "50/50 - 0s - loss: 0.0050 - val_loss: 0.0053\n",
      "Epoch 30/200\n",
      "50/50 - 0s - loss: 0.0049 - val_loss: 0.0045\n",
      "Epoch 31/200\n",
      "50/50 - 0s - loss: 0.0046 - val_loss: 0.0045\n",
      "Epoch 32/200\n",
      "50/50 - 0s - loss: 0.0048 - val_loss: 0.0046\n",
      "Epoch 33/200\n",
      "50/50 - 0s - loss: 0.0047 - val_loss: 0.0058\n",
      "Epoch 34/200\n",
      "50/50 - 0s - loss: 0.0050 - val_loss: 0.0049\n",
      "Epoch 35/200\n",
      "50/50 - 0s - loss: 0.0049 - val_loss: 0.0047\n",
      "Epoch 36/200\n",
      "50/50 - 0s - loss: 0.0048 - val_loss: 0.0049\n",
      "Epoch 37/200\n",
      "50/50 - 0s - loss: 0.0045 - val_loss: 0.0045\n",
      "Epoch 38/200\n",
      "50/50 - 0s - loss: 0.0048 - val_loss: 0.0047\n",
      "Epoch 39/200\n",
      "50/50 - 0s - loss: 0.0046 - val_loss: 0.0045\n",
      "Epoch 40/200\n",
      "50/50 - 0s - loss: 0.0049 - val_loss: 0.0046\n",
      "Epoch 41/200\n",
      "50/50 - 0s - loss: 0.0047 - val_loss: 0.0044\n",
      "Epoch 42/200\n",
      "50/50 - 0s - loss: 0.0048 - val_loss: 0.0046\n",
      "Epoch 43/200\n",
      "50/50 - 0s - loss: 0.0045 - val_loss: 0.0043\n",
      "Epoch 44/200\n",
      "50/50 - 0s - loss: 0.0045 - val_loss: 0.0047\n",
      "Epoch 45/200\n",
      "50/50 - 0s - loss: 0.0045 - val_loss: 0.0047\n",
      "Epoch 46/200\n",
      "50/50 - 0s - loss: 0.0046 - val_loss: 0.0044\n",
      "Epoch 47/200\n",
      "50/50 - 0s - loss: 0.0046 - val_loss: 0.0050\n",
      "Epoch 48/200\n",
      "50/50 - 0s - loss: 0.0045 - val_loss: 0.0043\n",
      "Epoch 49/200\n",
      "50/50 - 0s - loss: 0.0048 - val_loss: 0.0047\n",
      "Epoch 50/200\n",
      "50/50 - 0s - loss: 0.0047 - val_loss: 0.0047\n",
      "Epoch 51/200\n",
      "50/50 - 0s - loss: 0.0045 - val_loss: 0.0045\n",
      "Epoch 52/200\n",
      "50/50 - 0s - loss: 0.0046 - val_loss: 0.0050\n",
      "Epoch 53/200\n",
      "50/50 - 0s - loss: 0.0046 - val_loss: 0.0045\n",
      "Epoch 54/200\n",
      "50/50 - 0s - loss: 0.0044 - val_loss: 0.0043\n",
      "Epoch 55/200\n",
      "50/50 - 0s - loss: 0.0043 - val_loss: 0.0050\n",
      "Epoch 56/200\n",
      "50/50 - 0s - loss: 0.0045 - val_loss: 0.0045\n",
      "Epoch 57/200\n",
      "50/50 - 0s - loss: 0.0044 - val_loss: 0.0043\n",
      "Epoch 58/200\n",
      "50/50 - 0s - loss: 0.0044 - val_loss: 0.0047\n",
      "Epoch 59/200\n",
      "50/50 - 0s - loss: 0.0046 - val_loss: 0.0043\n",
      "Epoch 60/200\n",
      "50/50 - 0s - loss: 0.0045 - val_loss: 0.0043\n",
      "Epoch 61/200\n",
      "50/50 - 0s - loss: 0.0043 - val_loss: 0.0042\n",
      "Epoch 62/200\n",
      "50/50 - 0s - loss: 0.0043 - val_loss: 0.0045\n",
      "Epoch 63/200\n",
      "50/50 - 0s - loss: 0.0047 - val_loss: 0.0044\n",
      "Epoch 64/200\n",
      "50/50 - 0s - loss: 0.0044 - val_loss: 0.0045\n",
      "Epoch 65/200\n",
      "50/50 - 0s - loss: 0.0046 - val_loss: 0.0043\n",
      "Epoch 66/200\n",
      "50/50 - 0s - loss: 0.0043 - val_loss: 0.0042\n",
      "Epoch 67/200\n",
      "50/50 - 0s - loss: 0.0042 - val_loss: 0.0042\n",
      "Epoch 68/200\n",
      "50/50 - 0s - loss: 0.0043 - val_loss: 0.0048\n",
      "Epoch 69/200\n",
      "50/50 - 0s - loss: 0.0043 - val_loss: 0.0045\n",
      "Epoch 70/200\n",
      "50/50 - 0s - loss: 0.0045 - val_loss: 0.0042\n",
      "Epoch 71/200\n",
      "50/50 - 0s - loss: 0.0043 - val_loss: 0.0044\n",
      "Epoch 72/200\n",
      "50/50 - 0s - loss: 0.0042 - val_loss: 0.0042\n",
      "Epoch 73/200\n",
      "50/50 - 0s - loss: 0.0042 - val_loss: 0.0042\n",
      "Epoch 74/200\n",
      "50/50 - 0s - loss: 0.0043 - val_loss: 0.0045\n",
      "Epoch 75/200\n",
      "50/50 - 0s - loss: 0.0043 - val_loss: 0.0042\n",
      "Epoch 76/200\n",
      "50/50 - 0s - loss: 0.0043 - val_loss: 0.0044\n",
      "Epoch 77/200\n",
      "50/50 - 0s - loss: 0.0042 - val_loss: 0.0041\n",
      "Epoch 78/200\n",
      "50/50 - 0s - loss: 0.0043 - val_loss: 0.0053\n",
      "Epoch 79/200\n",
      "50/50 - 0s - loss: 0.0044 - val_loss: 0.0047\n",
      "Epoch 80/200\n",
      "50/50 - 0s - loss: 0.0042 - val_loss: 0.0041\n",
      "Epoch 81/200\n",
      "50/50 - 0s - loss: 0.0041 - val_loss: 0.0040\n",
      "Epoch 82/200\n",
      "50/50 - 0s - loss: 0.0041 - val_loss: 0.0040\n",
      "Epoch 83/200\n",
      "50/50 - 0s - loss: 0.0040 - val_loss: 0.0046\n",
      "Epoch 84/200\n",
      "50/50 - 0s - loss: 0.0041 - val_loss: 0.0042\n",
      "Epoch 85/200\n",
      "50/50 - 0s - loss: 0.0040 - val_loss: 0.0043\n",
      "Epoch 86/200\n",
      "50/50 - 0s - loss: 0.0042 - val_loss: 0.0040\n",
      "Epoch 87/200\n",
      "50/50 - 0s - loss: 0.0039 - val_loss: 0.0042\n",
      "Epoch 88/200\n",
      "50/50 - 0s - loss: 0.0041 - val_loss: 0.0043\n",
      "Epoch 89/200\n",
      "50/50 - 0s - loss: 0.0039 - val_loss: 0.0041\n",
      "Epoch 90/200\n",
      "50/50 - 0s - loss: 0.0040 - val_loss: 0.0042\n",
      "Epoch 91/200\n",
      "50/50 - 0s - loss: 0.0042 - val_loss: 0.0044\n",
      "Epoch 92/200\n",
      "50/50 - 0s - loss: 0.0044 - val_loss: 0.0044\n",
      "Epoch 93/200\n",
      "50/50 - 0s - loss: 0.0040 - val_loss: 0.0038\n",
      "Epoch 94/200\n",
      "50/50 - 0s - loss: 0.0038 - val_loss: 0.0039\n",
      "Epoch 95/200\n",
      "50/50 - 0s - loss: 0.0038 - val_loss: 0.0039\n",
      "Epoch 96/200\n",
      "50/50 - 0s - loss: 0.0038 - val_loss: 0.0038\n",
      "Epoch 97/200\n",
      "50/50 - 0s - loss: 0.0039 - val_loss: 0.0039\n",
      "Epoch 98/200\n",
      "50/50 - 0s - loss: 0.0037 - val_loss: 0.0044\n",
      "Epoch 99/200\n",
      "50/50 - 0s - loss: 0.0039 - val_loss: 0.0037\n",
      "Epoch 100/200\n",
      "50/50 - 0s - loss: 0.0037 - val_loss: 0.0037\n",
      "Epoch 101/200\n",
      "50/50 - 0s - loss: 0.0041 - val_loss: 0.0039\n",
      "Epoch 102/200\n",
      "50/50 - 0s - loss: 0.0040 - val_loss: 0.0038\n",
      "Epoch 103/200\n",
      "50/50 - 0s - loss: 0.0040 - val_loss: 0.0039\n",
      "Epoch 104/200\n",
      "50/50 - 0s - loss: 0.0036 - val_loss: 0.0041\n",
      "Epoch 105/200\n",
      "50/50 - 0s - loss: 0.0035 - val_loss: 0.0037\n",
      "Epoch 106/200\n",
      "50/50 - 0s - loss: 0.0036 - val_loss: 0.0040\n",
      "Epoch 107/200\n",
      "50/50 - 0s - loss: 0.0040 - val_loss: 0.0038\n",
      "Epoch 108/200\n",
      "50/50 - 0s - loss: 0.0038 - val_loss: 0.0036\n",
      "Epoch 109/200\n",
      "50/50 - 0s - loss: 0.0036 - val_loss: 0.0042\n",
      "Epoch 110/200\n",
      "50/50 - 0s - loss: 0.0036 - val_loss: 0.0036\n"
     ]
    },
    {
     "name": "stdout",
     "output_type": "stream",
     "text": [
      "Epoch 111/200\n",
      "50/50 - 0s - loss: 0.0036 - val_loss: 0.0036\n",
      "Epoch 112/200\n",
      "50/50 - 0s - loss: 0.0034 - val_loss: 0.0034\n",
      "Epoch 113/200\n",
      "50/50 - 0s - loss: 0.0035 - val_loss: 0.0036\n",
      "Epoch 114/200\n",
      "50/50 - 0s - loss: 0.0036 - val_loss: 0.0035\n",
      "Epoch 115/200\n",
      "50/50 - 0s - loss: 0.0037 - val_loss: 0.0035\n",
      "Epoch 116/200\n",
      "50/50 - 0s - loss: 0.0037 - val_loss: 0.0040\n",
      "Epoch 117/200\n",
      "50/50 - 0s - loss: 0.0036 - val_loss: 0.0038\n",
      "Epoch 118/200\n",
      "50/50 - 0s - loss: 0.0034 - val_loss: 0.0037\n",
      "Epoch 119/200\n",
      "50/50 - 0s - loss: 0.0034 - val_loss: 0.0033\n",
      "Epoch 120/200\n",
      "50/50 - 0s - loss: 0.0035 - val_loss: 0.0036\n",
      "Epoch 121/200\n",
      "50/50 - 0s - loss: 0.0036 - val_loss: 0.0035\n",
      "Epoch 122/200\n",
      "50/50 - 0s - loss: 0.0034 - val_loss: 0.0039\n",
      "Epoch 123/200\n",
      "50/50 - 0s - loss: 0.0035 - val_loss: 0.0033\n",
      "Epoch 124/200\n",
      "50/50 - 0s - loss: 0.0035 - val_loss: 0.0046\n",
      "Epoch 125/200\n",
      "50/50 - 0s - loss: 0.0034 - val_loss: 0.0035\n",
      "Epoch 126/200\n",
      "50/50 - 0s - loss: 0.0036 - val_loss: 0.0037\n",
      "Epoch 127/200\n",
      "50/50 - 0s - loss: 0.0035 - val_loss: 0.0035\n",
      "Epoch 128/200\n",
      "50/50 - 0s - loss: 0.0034 - val_loss: 0.0033\n",
      "Epoch 129/200\n",
      "50/50 - 0s - loss: 0.0034 - val_loss: 0.0033\n",
      "Epoch 130/200\n",
      "50/50 - 0s - loss: 0.0034 - val_loss: 0.0038\n",
      "Epoch 131/200\n",
      "50/50 - 0s - loss: 0.0033 - val_loss: 0.0032\n",
      "Epoch 132/200\n",
      "50/50 - 0s - loss: 0.0035 - val_loss: 0.0036\n",
      "Epoch 133/200\n",
      "50/50 - 0s - loss: 0.0033 - val_loss: 0.0034\n",
      "Epoch 134/200\n",
      "50/50 - 0s - loss: 0.0033 - val_loss: 0.0040\n",
      "Epoch 135/200\n",
      "50/50 - 0s - loss: 0.0033 - val_loss: 0.0033\n",
      "Epoch 136/200\n",
      "50/50 - 0s - loss: 0.0033 - val_loss: 0.0034\n",
      "Epoch 137/200\n",
      "50/50 - 0s - loss: 0.0033 - val_loss: 0.0032\n",
      "Epoch 138/200\n",
      "50/50 - 0s - loss: 0.0033 - val_loss: 0.0037\n",
      "Epoch 139/200\n",
      "50/50 - 0s - loss: 0.0033 - val_loss: 0.0038\n",
      "Epoch 140/200\n",
      "50/50 - 0s - loss: 0.0033 - val_loss: 0.0032\n",
      "Epoch 141/200\n",
      "50/50 - 0s - loss: 0.0033 - val_loss: 0.0034\n",
      "Epoch 142/200\n",
      "50/50 - 0s - loss: 0.0032 - val_loss: 0.0034\n",
      "Epoch 143/200\n",
      "50/50 - 0s - loss: 0.0033 - val_loss: 0.0032\n",
      "Epoch 144/200\n",
      "50/50 - 0s - loss: 0.0035 - val_loss: 0.0033\n",
      "Epoch 145/200\n",
      "50/50 - 0s - loss: 0.0034 - val_loss: 0.0038\n",
      "Epoch 146/200\n",
      "50/50 - 0s - loss: 0.0033 - val_loss: 0.0033\n",
      "Epoch 147/200\n",
      "50/50 - 0s - loss: 0.0033 - val_loss: 0.0034\n",
      "Epoch 148/200\n",
      "50/50 - 0s - loss: 0.0033 - val_loss: 0.0032\n",
      "Epoch 149/200\n",
      "50/50 - 0s - loss: 0.0034 - val_loss: 0.0035\n",
      "Epoch 150/200\n",
      "50/50 - 0s - loss: 0.0032 - val_loss: 0.0034\n",
      "Epoch 151/200\n",
      "50/50 - 0s - loss: 0.0034 - val_loss: 0.0041\n",
      "Epoch 152/200\n",
      "50/50 - 0s - loss: 0.0033 - val_loss: 0.0036\n",
      "Epoch 153/200\n",
      "50/50 - 0s - loss: 0.0034 - val_loss: 0.0033\n",
      "Epoch 154/200\n",
      "50/50 - 0s - loss: 0.0034 - val_loss: 0.0038\n",
      "Epoch 155/200\n",
      "50/50 - 0s - loss: 0.0033 - val_loss: 0.0036\n",
      "Epoch 156/200\n",
      "50/50 - 0s - loss: 0.0034 - val_loss: 0.0031\n",
      "Epoch 157/200\n",
      "50/50 - 0s - loss: 0.0033 - val_loss: 0.0037\n",
      "Epoch 158/200\n",
      "50/50 - 0s - loss: 0.0032 - val_loss: 0.0031\n",
      "Epoch 159/200\n",
      "50/50 - 0s - loss: 0.0033 - val_loss: 0.0034\n",
      "Epoch 160/200\n",
      "50/50 - 0s - loss: 0.0033 - val_loss: 0.0037\n",
      "Epoch 161/200\n",
      "50/50 - 0s - loss: 0.0032 - val_loss: 0.0032\n",
      "Epoch 162/200\n",
      "50/50 - 0s - loss: 0.0034 - val_loss: 0.0035\n",
      "Epoch 163/200\n",
      "50/50 - 0s - loss: 0.0033 - val_loss: 0.0034\n",
      "Epoch 164/200\n",
      "50/50 - 0s - loss: 0.0033 - val_loss: 0.0031\n",
      "Epoch 165/200\n",
      "50/50 - 0s - loss: 0.0034 - val_loss: 0.0033\n",
      "Epoch 166/200\n",
      "50/50 - 0s - loss: 0.0032 - val_loss: 0.0035\n",
      "Epoch 167/200\n",
      "50/50 - 0s - loss: 0.0036 - val_loss: 0.0035\n",
      "Epoch 168/200\n",
      "50/50 - 0s - loss: 0.0032 - val_loss: 0.0040\n",
      "Epoch 169/200\n",
      "50/50 - 0s - loss: 0.0035 - val_loss: 0.0033\n",
      "Epoch 170/200\n",
      "50/50 - 0s - loss: 0.0033 - val_loss: 0.0032\n",
      "Epoch 171/200\n",
      "50/50 - 0s - loss: 0.0032 - val_loss: 0.0031\n",
      "Epoch 172/200\n",
      "50/50 - 0s - loss: 0.0034 - val_loss: 0.0033\n",
      "Epoch 173/200\n",
      "50/50 - 0s - loss: 0.0032 - val_loss: 0.0032\n",
      "Epoch 174/200\n",
      "50/50 - 0s - loss: 0.0033 - val_loss: 0.0031\n",
      "Epoch 175/200\n",
      "50/50 - 0s - loss: 0.0033 - val_loss: 0.0031\n",
      "Epoch 176/200\n",
      "50/50 - 0s - loss: 0.0033 - val_loss: 0.0034\n",
      "Epoch 177/200\n",
      "50/50 - 0s - loss: 0.0034 - val_loss: 0.0039\n",
      "Epoch 178/200\n",
      "50/50 - 0s - loss: 0.0034 - val_loss: 0.0037\n",
      "Epoch 179/200\n",
      "50/50 - 0s - loss: 0.0032 - val_loss: 0.0035\n",
      "Epoch 180/200\n",
      "50/50 - 0s - loss: 0.0033 - val_loss: 0.0037\n",
      "Epoch 181/200\n",
      "50/50 - 0s - loss: 0.0032 - val_loss: 0.0033\n",
      "Epoch 182/200\n",
      "50/50 - 0s - loss: 0.0033 - val_loss: 0.0030\n",
      "Epoch 183/200\n",
      "50/50 - 0s - loss: 0.0033 - val_loss: 0.0031\n",
      "Epoch 184/200\n",
      "50/50 - 0s - loss: 0.0034 - val_loss: 0.0033\n",
      "Epoch 185/200\n",
      "50/50 - 0s - loss: 0.0034 - val_loss: 0.0041\n",
      "Epoch 186/200\n",
      "50/50 - 0s - loss: 0.0033 - val_loss: 0.0032\n",
      "Epoch 187/200\n",
      "50/50 - 0s - loss: 0.0031 - val_loss: 0.0034\n",
      "Epoch 188/200\n",
      "50/50 - 0s - loss: 0.0032 - val_loss: 0.0033\n",
      "Epoch 189/200\n",
      "50/50 - 0s - loss: 0.0033 - val_loss: 0.0036\n",
      "Epoch 190/200\n",
      "50/50 - 0s - loss: 0.0033 - val_loss: 0.0035\n",
      "Epoch 191/200\n",
      "50/50 - 0s - loss: 0.0032 - val_loss: 0.0033\n",
      "Epoch 192/200\n",
      "50/50 - 0s - loss: 0.0033 - val_loss: 0.0032\n",
      "Epoch 193/200\n",
      "50/50 - 0s - loss: 0.0032 - val_loss: 0.0033\n",
      "Epoch 194/200\n",
      "50/50 - 0s - loss: 0.0033 - val_loss: 0.0033\n",
      "Epoch 195/200\n",
      "50/50 - 0s - loss: 0.0032 - val_loss: 0.0036\n",
      "Epoch 196/200\n",
      "50/50 - 0s - loss: 0.0034 - val_loss: 0.0033\n",
      "Epoch 197/200\n",
      "50/50 - 0s - loss: 0.0033 - val_loss: 0.0034\n",
      "Epoch 198/200\n",
      "50/50 - 0s - loss: 0.0032 - val_loss: 0.0031\n",
      "Epoch 199/200\n",
      "50/50 - 0s - loss: 0.0031 - val_loss: 0.0032\n",
      "Epoch 200/200\n",
      "50/50 - 0s - loss: 0.0033 - val_loss: 0.0034\n"
     ]
    }
   ],
   "source": [
    "#Model training\n",
    "basicModel = basic_model()\n",
    "\n",
    "\n",
    "#Early stopping criterion definition\n",
    "callback = keras.callbacks.EarlyStopping(monitor='loss', patience=30, \n",
    "                                         min_delta=0.0001,mode='auto')\n",
    "\n",
    "#Training of the model\n",
    "history = basicModel.fit(X_train.values, [y_train.values[:,0],y_train.values[:,1]], epochs=2000, validation_data = (X_test, [y_test.values[:,0],y_test.values[:,1]]),\n",
    "                           verbose=2)"
   ]
  },
  {
   "cell_type": "markdown",
   "metadata": {
    "slideshow": {
     "slide_type": "slide"
    }
   },
   "source": [
    "Training and test losses, i.e. the computed MSE, are stored in the *history* variable. The history variable belongs to the *dictionary* type. Dictionaries are Python data structures that can be indexed using their *keys*, inspectable using the *.keys()* command.  "
   ]
  },
  {
   "cell_type": "code",
   "execution_count": 29,
   "metadata": {
    "slideshow": {
     "slide_type": "subslide"
    }
   },
   "outputs": [
    {
     "name": "stdout",
     "output_type": "stream",
     "text": [
      "dict_keys(['loss', 'val_loss'])\n"
     ]
    }
   ],
   "source": [
    "#On screen print of the history dictionary\n",
    "print(history.history.keys())"
   ]
  },
  {
   "cell_type": "markdown",
   "metadata": {
    "slideshow": {
     "slide_type": "subslide"
    }
   },
   "source": [
    "We want to plot both of them in the same figure, to compare the convergence hisotry and enstablish if the model is overfitting or not. "
   ]
  },
  {
   "cell_type": "code",
   "execution_count": 30,
   "metadata": {
    "slideshow": {
     "slide_type": "subslide"
    }
   },
   "outputs": [
    {
     "data": {
      "image/png": "[encoded data removed]",
      "text/plain": [
       "<Figure size 432x288 with 1 Axes>"
      ]
     },
     "metadata": {
      "needs_background": "light"
     },
     "output_type": "display_data"
    }
   ],
   "source": [
    "#Creates a new figure\n",
    "plt.figure()\n",
    "#Plotter of the training and test MSE\n",
    "plt.plot(history.history['loss'], c='k',label='Train')\n",
    "plt.plot(history.history['val_loss'], c='r', label = 'Test', ls='--')\n",
    "#Shows legend and add labels to the plot\n",
    "plt.legend()\n",
    "plt.xlabel('Nr. of Epochs')\n",
    "plt.ylabel('MSE')\n",
    "plt.show()"
   ]
  },
  {
   "cell_type": "markdown",
   "metadata": {
    "slideshow": {
     "slide_type": "slide"
    }
   },
   "source": [
    "As both series (train and test MSE) are converging, we can assess that the model is behaving correctly in both datasets. Such visualization, however, provides a broad view on the model, without additional information on its local behavior. For example, our artificial intelligence may work correctly within a certain range of the input features while underfitting in the rest of data. As MSE is averaged over the observations, we may not notice such problem and end up with an ill-conditioned model. We can generate a simple plot that compares the predicted output versus the true values for each of the outputs of the model. Let's start with the training data.<br>\n",
    "We first want to store the predictions of the model for both train and test data in the *y_train_pred* and *y_test_pred* variables: "
   ]
  },
  {
   "cell_type": "code",
   "execution_count": 16,
   "metadata": {
    "slideshow": {
     "slide_type": "subslide"
    }
   },
   "outputs": [
    {
     "name": "stdout",
     "output_type": "stream",
     "text": [
      "WARNING:tensorflow:AutoGraph could not transform <function Model.make_predict_function.<locals>.predict_function at 0x000002417510A9D8> and will run it as-is.\n",
      "Please report this to the TensorFlow team. When filing the bug, set the verbosity to 10 (on Linux, `export AUTOGRAPH_VERBOSITY=10`) and attach the full output.\n",
      "Cause: 'arguments' object has no attribute 'posonlyargs'\n",
      "To silence this warning, decorate the function with @tf.autograph.experimental.do_not_convert\n",
      "WARNING: AutoGraph could not transform <function Model.make_predict_function.<locals>.predict_function at 0x000002417510A9D8> and will run it as-is.\n",
      "Please report this to the TensorFlow team. When filing the bug, set the verbosity to 10 (on Linux, `export AUTOGRAPH_VERBOSITY=10`) and attach the full output.\n",
      "Cause: 'arguments' object has no attribute 'posonlyargs'\n",
      "To silence this warning, decorate the function with @tf.autograph.experimental.do_not_convert\n"
     ]
    }
   ],
   "source": [
    "#Computes predictions of the model for both train and test datasets\n",
    "y_train_pred = basicModel.predict(X_train)\n",
    "y_test_pred = basicModel.predict(X_test)"
   ]
  },
  {
   "cell_type": "markdown",
   "metadata": {
    "slideshow": {
     "slide_type": "slide"
    }
   },
   "source": [
    "We can now compare them and see how the model is performing locally. An immediate way is to plot the true outputs of the model on both axes of a graph. In so doing, reference data is represented as a line. The output of the model is instead represented using the true output of the model on one of the axis and the predicted values on the other axis. The error of the model can therefore be visualized as the distance between the predicted points and the solid line. "
   ]
  },
  {
   "cell_type": "code",
   "execution_count": 17,
   "metadata": {
    "slideshow": {
     "slide_type": "subslide"
    }
   },
   "outputs": [
    {
     "data": {
      "image/png": "[encoded data removed]",
      "text/plain": [
       "<Figure size 864x576 with 2 Axes>"
      ]
     },
     "metadata": {
      "needs_background": "light"
     },
     "output_type": "display_data"
    }
   ],
   "source": [
    "#Creates a new figure with two subplots\n",
    "fig = plt.figure(figsize=(12,8))\n",
    "\n",
    "#Cl plot with a 1:1 aspect ratio\n",
    "ax1 = fig.add_subplot(1,2,1, adjustable='box', aspect=1)\n",
    "#Plot reference data as a solid black line\n",
    "ax1.plot(y_train.values[:,0],y_train.values[:,0], c='k')\n",
    "#Plot model output as black empty circles\n",
    "ax1.scatter(y_train.values[:,0], y_train_pred[:,0], facecolor = 'none', edgecolor='k')\n",
    "#Add title and axes labels\n",
    "ax1.set_title('Cl - Train')\n",
    "ax1.set_xlabel('y_train')\n",
    "ax1.set_ylabel('y_train / y_train_pred')\n",
    "\n",
    "#Cd plot with a 1:1 aspect ratio\n",
    "ax2 = fig.add_subplot(1,2,2, adjustable='box', aspect=1)\n",
    "#Plot reference data as a solid black line\n",
    "ax2.plot(y_train.values[:,1],y_train.values[:,1], c='k', label='True')\n",
    "#Plot model output as black empty circles\n",
    "ax2.scatter(y_train.values[:,1], y_train_pred[:,1], facecolor = 'none', edgecolor='k', label='Predicted')\n",
    "#Add title and axes labels and a legend\n",
    "ax2.legend()\n",
    "ax2.set_title('Cd - Train')\n",
    "ax2.set_xlabel('y_train')\n",
    "ax2.set_ylabel('y_train / y_train_pred')\n",
    "\n",
    "plt.show()"
   ]
  },
  {
   "cell_type": "markdown",
   "metadata": {
    "slideshow": {
     "slide_type": "slide"
    }
   },
   "source": [
    "Now we can adapt the same lines of code for the test database:"
   ]
  },
  {
   "cell_type": "code",
   "execution_count": 18,
   "metadata": {
    "slideshow": {
     "slide_type": "subslide"
    }
   },
   "outputs": [
    {
     "data": {
      "image/png": "[encoded data removed]",
      "text/plain": [
       "<Figure size 864x576 with 2 Axes>"
      ]
     },
     "metadata": {
      "needs_background": "light"
     },
     "output_type": "display_data"
    }
   ],
   "source": [
    "#Creates a new figure with two subplots\n",
    "fig = plt.figure(figsize=(12,8))\n",
    "\n",
    "#Cl plot with a 1:1 aspect ratio\n",
    "ax1 = fig.add_subplot(1,2,1, adjustable='box', aspect=1)\n",
    "#Plot reference data as a solid black line\n",
    "ax1.plot(y_test.values[:,0],y_test.values[:,0], c='k')\n",
    "#Plot model output as black empty circles\n",
    "ax1.scatter(y_test.values[:,0], y_test_pred[:,0], facecolor = 'none', edgecolor='k')\n",
    "#Add title and axes labels\n",
    "ax1.set_title('Cl - Test')\n",
    "ax1.set_xlabel('y_test')\n",
    "ax1.set_ylabel('y_test / y_test_pred')\n",
    "\n",
    "#Cd plot with a 1:1 aspect ratio\n",
    "ax2 = fig.add_subplot(1,2,2, adjustable='box', aspect=1)\n",
    "#Plot reference data as a solid black line\n",
    "ax2.plot(y_test.values[:,1],y_test.values[:,1], c='k', label='True')\n",
    "#Plot model output as black empty circles\n",
    "ax2.scatter(y_test.values[:,1], y_test_pred[:,1], facecolor = 'none', edgecolor='k', label='Predicted')\n",
    "#Add title and axes labels and a legend\n",
    "ax2.legend()\n",
    "ax2.set_title('Cd - Test')\n",
    "ax2.set_xlabel('y_test')\n",
    "ax2.set_ylabel('y_test / y_test_pred')\n",
    "\n",
    "plt.show()"
   ]
  },
  {
   "cell_type": "markdown",
   "metadata": {
    "slideshow": {
     "slide_type": "subslide"
    }
   },
   "source": [
    "It is evident that the errors are large, especially for the drag coefficient. The trained model needs corrections. Several factors may impair the effectiveness of the algorithm. Among them, the initial selection of the hyperparameters of the neural network may be suboptimal to solve this particular task. It is now time to optimize the algorithm. "
   ]
  },
  {
   "cell_type": "markdown",
   "metadata": {
    "slideshow": {
     "slide_type": "slide"
    }
   },
   "source": [
    "<h1><center>Optimizing the model</center></h1>\n",
    "The optimization phase of the alogrithm is usually a computationally expensive and tedious process. The aim is to find the best combinations of hyperamters to achieve the highest accuracy / least error while making prediction. Depending on the computational costs of the training, we can investigate from tens to thousands possible combination of several hyperparameters and their effect on the neural network. In the simplest optimization, we can manually choose some combinations and hard-code them in the algorithm. However, this non-automatic approach is simply unfeasible for complex architectures. We will hereby use an hyperparameter optimizer already distributed in Keras, called *Keras Tuner*. We will define a search space and find out the best combination of hyperparameters. \n",
    "Our goal here is to find the best combination of:\n",
    "\n",
    "- **number of neurons**, ranging from 4 to 68\n",
    "- **activation functions**, choosing beetween ReLu and tanh\n",
    "- **learning rate**, choosing between 1e-2, 1e-3, 1e-4\n",
    "\n",
    "The first step is to define a dynamic structure of the neural network. In this new function, *model_builder*, the input argument *hp* is provided by the Keras Tuner. The number of neurons is a variable called *hp_units*, defined as integer, that varies from 4 to 32 with a 4 stride. The number of neurons is considered constant along all layers. We have also added a *dropout* layer between each hidden layer to increase the robustness of the model to overfitting. This layer randomly sets input units to 0 with a 30 % frequency of rate at each step during training time. The different acivations are chosen using the function *hp.Choice*, where we specify the availabe options. The same goes for the learning rate, stored in the *hp_learning_rate* variable. "
   ]
  },
  {
   "cell_type": "code",
   "execution_count": 19,
   "metadata": {
    "pycharm": {
     "is_executing": true,
     "name": "#%%\n"
    },
    "slideshow": {
     "slide_type": "slide"
    }
   },
   "outputs": [],
   "source": [
    "#Advanced model declaration\n",
    "def model_builder(hp):\n",
    "    \n",
    "    #Declaration of the input tensor\n",
    "    inputs = tf.keras.Input(shape=(5,))\n",
    "    \n",
    "    #Declares the number of neurons to optimize\n",
    "    hp_units = hp.Int('units', min_value=4, max_value=68, step=8)\n",
    "    \n",
    "    #Chooses between relu and tanh for the first layer\n",
    "    act1 = hp.Choice('act1', values=['relu', 'tanh'])\n",
    "    \n",
    "    #Definition of the first hidden layer\n",
    "    dense = layers.Dense(hp_units, activation=act1)\n",
    "    x = dense(inputs)\n",
    "    \n",
    "    #Adds a dropout layer = 30%\n",
    "    drop = keras.layers.Dropout(0.3)\n",
    "    x = drop(x)\n",
    "    \n",
    "    #Chooses between relu and tanh for the second layer\n",
    "    act2 = hp.Choice('act2', values=['relu', 'tanh'])\n",
    "    \n",
    "    #Definition of the second hidden layer\n",
    "    x = layers.Dense(hp_units, activation=act2)(x)\n",
    "    \n",
    "    #Adds a dropout layer = 30%\n",
    "    drop = keras.layers.Dropout(0.3)\n",
    "    x = drop(x)\n",
    "    \n",
    "    #Defines the output layer\n",
    "    outputs = layers.Dense(2, activation=\"linear\")(x)\n",
    "    \n",
    "    #Declaration of the advanced model\n",
    "    model = keras.Model(inputs=inputs, outputs=outputs, name=\"Advanced_model\")\n",
    "    \n",
    "    #Chooses between three possible learning rate\n",
    "    hp_learning_rate = hp.Choice('learning_rate', values=[1e-2, 1e-3, 1e-4])\n",
    "    \n",
    "    #Model finalization\n",
    "    model.compile(optimizer=keras.optimizers.Adam(learning_rate=hp_learning_rate),\n",
    "    loss=keras.losses.MeanSquaredError())\n",
    "    \n",
    "    return model"
   ]
  },
  {
   "cell_type": "markdown",
   "metadata": {
    "pycharm": {
     "name": "#%% md\n"
    },
    "slideshow": {
     "slide_type": "slide"
    }
   },
   "source": [
    "We can now import the required module for the hyperparameter optimization. Among the possible optimizers, we are here using the *Hyperband* algorithm. To reduce the computational costs of training multiple neural network, we are limited the number of epochs to 100 and the maximum number of executions per trial to 3. The metric that is used to optimize the algorithm is the loss computed on the test data. "
   ]
  },
  {
   "cell_type": "code",
   "execution_count": 20,
   "metadata": {
    "pycharm": {
     "is_executing": true
    },
    "slideshow": {
     "slide_type": "subslide"
    }
   },
   "outputs": [
    {
     "name": "stdout",
     "output_type": "stream",
     "text": [
      "INFO:tensorflow:Reloading Oracle from existing project .\\untitled_project\\oracle.json\n",
      "INFO:tensorflow:Reloading Tuner from .\\untitled_project\\tuner0.json\n"
     ]
    }
   ],
   "source": [
    "#Import of the required module\n",
    "from kerastuner.tuners import Hyperband\n",
    "\n",
    "#Definition of the tuner\n",
    "tuner = Hyperband(\n",
    "    model_builder,\n",
    "    max_epochs=100,\n",
    "    objective='val_loss',\n",
    "    seed=111,\n",
    "    executions_per_trial=3,\n",
    "    )"
   ]
  },
  {
   "cell_type": "markdown",
   "metadata": {
    "slideshow": {
     "slide_type": "slide"
    }
   },
   "source": [
    "Everything is now set up to run the optimization process. Please notice that the following expression is the same as the *.fit()* function that we previously used."
   ]
  },
  {
   "cell_type": "code",
   "execution_count": 21,
   "metadata": {
    "pycharm": {
     "is_executing": true
    },
    "slideshow": {
     "slide_type": "subslide"
    }
   },
   "outputs": [
    {
     "name": "stdout",
     "output_type": "stream",
     "text": [
      "INFO:tensorflow:Oracle triggered exit\n"
     ]
    }
   ],
   "source": [
    "#Start the hyperband search algoirthm\n",
    "tuner.search(X_train, y_train, epochs=30, validation_data = (X_test, y_test))\n"
   ]
  },
  {
   "cell_type": "markdown",
   "metadata": {
    "slideshow": {
     "slide_type": "slide"
    }
   },
   "source": [
    "After the optimization is finished, we can get the best model with the corresponding hyperparameters by running:"
   ]
  },
  {
   "cell_type": "code",
   "execution_count": 22,
   "metadata": {
    "slideshow": {
     "slide_type": "subslide"
    }
   },
   "outputs": [],
   "source": [
    "#Gets the best combination of hyperparameters\n",
    "best_hps=tuner.get_best_hyperparameters(num_trials=1)[0]\n",
    "\n",
    "#Gets the best model \n",
    "best_model = tuner.get_best_models(num_models=1)[0]\n",
    "\n"
   ]
  },
  {
   "cell_type": "markdown",
   "metadata": {
    "slideshow": {
     "slide_type": "subslide"
    }
   },
   "source": [
    "It is also possible to have a summary of the optimization results by simply running:"
   ]
  },
  {
   "cell_type": "code",
   "execution_count": 23,
   "metadata": {
    "slideshow": {
     "slide_type": "subslide"
    }
   },
   "outputs": [
    {
     "data": {
      "text/html": [
       "<span style=\"color:#4527A0\"><h1 style=\"font-size:18px\">Results summary</h1></span>"
      ],
      "text/plain": [
       "<IPython.core.display.HTML object>"
      ]
     },
     "metadata": {},
     "output_type": "display_data"
    },
    {
     "data": {
      "text/html": [
       "<span style=\"color:cyan\"> |-Results in .\\untitled_project</span>"
      ],
      "text/plain": [
       "<IPython.core.display.HTML object>"
      ]
     },
     "metadata": {},
     "output_type": "display_data"
    },
    {
     "data": {
      "text/html": [
       "<span style=\"color:cyan\"> |-Showing 10 best trials</span>"
      ],
      "text/plain": [
       "<IPython.core.display.HTML object>"
      ]
     },
     "metadata": {},
     "output_type": "display_data"
    },
    {
     "data": {
      "text/html": [
       "<span style=\"color:cyan\"> |-Objective(name='val_loss', direction='min')</span>"
      ],
      "text/plain": [
       "<IPython.core.display.HTML object>"
      ]
     },
     "metadata": {},
     "output_type": "display_data"
    },
    {
     "data": {
      "text/html": [
       "<span style=\"color:#4527A0\"><h1 style=\"font-size:18px\">Trial summary</h1></span>"
      ],
      "text/plain": [
       "<IPython.core.display.HTML object>"
      ]
     },
     "metadata": {},
     "output_type": "display_data"
    },
    {
     "data": {
      "text/html": [
       "<span style=\"color:cyan\"> |-Trial ID: c1eb8bc913269cd4fec757a8464bef67</span>"
      ],
      "text/plain": [
       "<IPython.core.display.HTML object>"
      ]
     },
     "metadata": {},
     "output_type": "display_data"
    },
    {
     "data": {
      "text/html": [
       "<span style=\"color:cyan\"> |-Score: 0.004875204370667537</span>"
      ],
      "text/plain": [
       "<IPython.core.display.HTML object>"
      ]
     },
     "metadata": {},
     "output_type": "display_data"
    },
    {
     "data": {
      "text/html": [
       "<span style=\"color:cyan\"> |-Best step: 0</span>"
      ],
      "text/plain": [
       "<IPython.core.display.HTML object>"
      ]
     },
     "metadata": {},
     "output_type": "display_data"
    },
    {
     "data": {
      "text/html": [
       "<span style=\"color:#7E57C2\"><h2 style=\"font-size:16px\">Hyperparameters:</h2></span>"
      ],
      "text/plain": [
       "<IPython.core.display.HTML object>"
      ]
     },
     "metadata": {},
     "output_type": "display_data"
    },
    {
     "data": {
      "text/html": [
       "<span style=\"color:cyan\"> |-act1: relu</span>"
      ],
      "text/plain": [
       "<IPython.core.display.HTML object>"
      ]
     },
     "metadata": {},
     "output_type": "display_data"
    },
    {
     "data": {
      "text/html": [
       "<span style=\"color:blue\"> |-act2: relu</span>"
      ],
      "text/plain": [
       "<IPython.core.display.HTML object>"
      ]
     },
     "metadata": {},
     "output_type": "display_data"
    },
    {
     "data": {
      "text/html": [
       "<span style=\"color:cyan\"> |-learning_rate: 0.01</span>"
      ],
      "text/plain": [
       "<IPython.core.display.HTML object>"
      ]
     },
     "metadata": {},
     "output_type": "display_data"
    },
    {
     "data": {
      "text/html": [
       "<span style=\"color:blue\"> |-tuner/bracket: 4</span>"
      ],
      "text/plain": [
       "<IPython.core.display.HTML object>"
      ]
     },
     "metadata": {},
     "output_type": "display_data"
    },
    {
     "data": {
      "text/html": [
       "<span style=\"color:cyan\"> |-tuner/epochs: 100</span>"
      ],
      "text/plain": [
       "<IPython.core.display.HTML object>"
      ]
     },
     "metadata": {},
     "output_type": "display_data"
    },
    {
     "data": {
      "text/html": [
       "<span style=\"color:blue\"> |-tuner/initial_epoch: 34</span>"
      ],
      "text/plain": [
       "<IPython.core.display.HTML object>"
      ]
     },
     "metadata": {},
     "output_type": "display_data"
    },
    {
     "data": {
      "text/html": [
       "<span style=\"color:cyan\"> |-tuner/round: 4</span>"
      ],
      "text/plain": [
       "<IPython.core.display.HTML object>"
      ]
     },
     "metadata": {},
     "output_type": "display_data"
    },
    {
     "data": {
      "text/html": [
       "<span style=\"color:blue\"> |-tuner/trial_id: ac617852d8070b74faf6643731994d8f</span>"
      ],
      "text/plain": [
       "<IPython.core.display.HTML object>"
      ]
     },
     "metadata": {},
     "output_type": "display_data"
    },
    {
     "data": {
      "text/html": [
       "<span style=\"color:cyan\"> |-units: 60</span>"
      ],
      "text/plain": [
       "<IPython.core.display.HTML object>"
      ]
     },
     "metadata": {},
     "output_type": "display_data"
    },
    {
     "data": {
      "text/html": [
       "<span style=\"color:#4527A0\"><h1 style=\"font-size:18px\">Trial summary</h1></span>"
      ],
      "text/plain": [
       "<IPython.core.display.HTML object>"
      ]
     },
     "metadata": {},
     "output_type": "display_data"
    },
    {
     "data": {
      "text/html": [
       "<span style=\"color:cyan\"> |-Trial ID: ac617852d8070b74faf6643731994d8f</span>"
      ],
      "text/plain": [
       "<IPython.core.display.HTML object>"
      ]
     },
     "metadata": {},
     "output_type": "display_data"
    },
    {
     "data": {
      "text/html": [
       "<span style=\"color:cyan\"> |-Score: 0.004916269642611344</span>"
      ],
      "text/plain": [
       "<IPython.core.display.HTML object>"
      ]
     },
     "metadata": {},
     "output_type": "display_data"
    },
    {
     "data": {
      "text/html": [
       "<span style=\"color:cyan\"> |-Best step: 0</span>"
      ],
      "text/plain": [
       "<IPython.core.display.HTML object>"
      ]
     },
     "metadata": {},
     "output_type": "display_data"
    },
    {
     "data": {
      "text/html": [
       "<span style=\"color:#7E57C2\"><h2 style=\"font-size:16px\">Hyperparameters:</h2></span>"
      ],
      "text/plain": [
       "<IPython.core.display.HTML object>"
      ]
     },
     "metadata": {},
     "output_type": "display_data"
    },
    {
     "data": {
      "text/html": [
       "<span style=\"color:cyan\"> |-act1: relu</span>"
      ],
      "text/plain": [
       "<IPython.core.display.HTML object>"
      ]
     },
     "metadata": {},
     "output_type": "display_data"
    },
    {
     "data": {
      "text/html": [
       "<span style=\"color:blue\"> |-act2: relu</span>"
      ],
      "text/plain": [
       "<IPython.core.display.HTML object>"
      ]
     },
     "metadata": {},
     "output_type": "display_data"
    },
    {
     "data": {
      "text/html": [
       "<span style=\"color:cyan\"> |-learning_rate: 0.01</span>"
      ],
      "text/plain": [
       "<IPython.core.display.HTML object>"
      ]
     },
     "metadata": {},
     "output_type": "display_data"
    },
    {
     "data": {
      "text/html": [
       "<span style=\"color:blue\"> |-tuner/bracket: 4</span>"
      ],
      "text/plain": [
       "<IPython.core.display.HTML object>"
      ]
     },
     "metadata": {},
     "output_type": "display_data"
    },
    {
     "data": {
      "text/html": [
       "<span style=\"color:cyan\"> |-tuner/epochs: 34</span>"
      ],
      "text/plain": [
       "<IPython.core.display.HTML object>"
      ]
     },
     "metadata": {},
     "output_type": "display_data"
    },
    {
     "data": {
      "text/html": [
       "<span style=\"color:blue\"> |-tuner/initial_epoch: 12</span>"
      ],
      "text/plain": [
       "<IPython.core.display.HTML object>"
      ]
     },
     "metadata": {},
     "output_type": "display_data"
    },
    {
     "data": {
      "text/html": [
       "<span style=\"color:cyan\"> |-tuner/round: 3</span>"
      ],
      "text/plain": [
       "<IPython.core.display.HTML object>"
      ]
     },
     "metadata": {},
     "output_type": "display_data"
    },
    {
     "data": {
      "text/html": [
       "<span style=\"color:blue\"> |-tuner/trial_id: 05240ad8d376c058cc4a5d80f4ff854e</span>"
      ],
      "text/plain": [
       "<IPython.core.display.HTML object>"
      ]
     },
     "metadata": {},
     "output_type": "display_data"
    },
    {
     "data": {
      "text/html": [
       "<span style=\"color:cyan\"> |-units: 60</span>"
      ],
      "text/plain": [
       "<IPython.core.display.HTML object>"
      ]
     },
     "metadata": {},
     "output_type": "display_data"
    },
    {
     "data": {
      "text/html": [
       "<span style=\"color:#4527A0\"><h1 style=\"font-size:18px\">Trial summary</h1></span>"
      ],
      "text/plain": [
       "<IPython.core.display.HTML object>"
      ]
     },
     "metadata": {},
     "output_type": "display_data"
    },
    {
     "data": {
      "text/html": [
       "<span style=\"color:cyan\"> |-Trial ID: e6b872da66c39a33f827a3db1e2c1d7f</span>"
      ],
      "text/plain": [
       "<IPython.core.display.HTML object>"
      ]
     },
     "metadata": {},
     "output_type": "display_data"
    },
    {
     "data": {
      "text/html": [
       "<span style=\"color:cyan\"> |-Score: 0.005083937663584948</span>"
      ],
      "text/plain": [
       "<IPython.core.display.HTML object>"
      ]
     },
     "metadata": {},
     "output_type": "display_data"
    },
    {
     "data": {
      "text/html": [
       "<span style=\"color:cyan\"> |-Best step: 0</span>"
      ],
      "text/plain": [
       "<IPython.core.display.HTML object>"
      ]
     },
     "metadata": {},
     "output_type": "display_data"
    },
    {
     "data": {
      "text/html": [
       "<span style=\"color:#7E57C2\"><h2 style=\"font-size:16px\">Hyperparameters:</h2></span>"
      ],
      "text/plain": [
       "<IPython.core.display.HTML object>"
      ]
     },
     "metadata": {},
     "output_type": "display_data"
    },
    {
     "data": {
      "text/html": [
       "<span style=\"color:cyan\"> |-act1: relu</span>"
      ],
      "text/plain": [
       "<IPython.core.display.HTML object>"
      ]
     },
     "metadata": {},
     "output_type": "display_data"
    },
    {
     "data": {
      "text/html": [
       "<span style=\"color:blue\"> |-act2: relu</span>"
      ],
      "text/plain": [
       "<IPython.core.display.HTML object>"
      ]
     },
     "metadata": {},
     "output_type": "display_data"
    },
    {
     "data": {
      "text/html": [
       "<span style=\"color:cyan\"> |-learning_rate: 0.01</span>"
      ],
      "text/plain": [
       "<IPython.core.display.HTML object>"
      ]
     },
     "metadata": {},
     "output_type": "display_data"
    },
    {
     "data": {
      "text/html": [
       "<span style=\"color:blue\"> |-tuner/bracket: 4</span>"
      ],
      "text/plain": [
       "<IPython.core.display.HTML object>"
      ]
     },
     "metadata": {},
     "output_type": "display_data"
    },
    {
     "data": {
      "text/html": [
       "<span style=\"color:cyan\"> |-tuner/epochs: 34</span>"
      ],
      "text/plain": [
       "<IPython.core.display.HTML object>"
      ]
     },
     "metadata": {},
     "output_type": "display_data"
    },
    {
     "data": {
      "text/html": [
       "<span style=\"color:blue\"> |-tuner/initial_epoch: 12</span>"
      ],
      "text/plain": [
       "<IPython.core.display.HTML object>"
      ]
     },
     "metadata": {},
     "output_type": "display_data"
    },
    {
     "data": {
      "text/html": [
       "<span style=\"color:cyan\"> |-tuner/round: 3</span>"
      ],
      "text/plain": [
       "<IPython.core.display.HTML object>"
      ]
     },
     "metadata": {},
     "output_type": "display_data"
    },
    {
     "data": {
      "text/html": [
       "<span style=\"color:blue\"> |-tuner/trial_id: 2416060061109170e11e66f3cc87b399</span>"
      ],
      "text/plain": [
       "<IPython.core.display.HTML object>"
      ]
     },
     "metadata": {},
     "output_type": "display_data"
    },
    {
     "data": {
      "text/html": [
       "<span style=\"color:cyan\"> |-units: 52</span>"
      ],
      "text/plain": [
       "<IPython.core.display.HTML object>"
      ]
     },
     "metadata": {},
     "output_type": "display_data"
    },
    {
     "data": {
      "text/html": [
       "<span style=\"color:#4527A0\"><h1 style=\"font-size:18px\">Trial summary</h1></span>"
      ],
      "text/plain": [
       "<IPython.core.display.HTML object>"
      ]
     },
     "metadata": {},
     "output_type": "display_data"
    },
    {
     "data": {
      "text/html": [
       "<span style=\"color:cyan\"> |-Trial ID: 1f3862b8c5ea29a43b70ac07931c8362</span>"
      ],
      "text/plain": [
       "<IPython.core.display.HTML object>"
      ]
     },
     "metadata": {},
     "output_type": "display_data"
    },
    {
     "data": {
      "text/html": [
       "<span style=\"color:cyan\"> |-Score: 0.00511900894343853</span>"
      ],
      "text/plain": [
       "<IPython.core.display.HTML object>"
      ]
     },
     "metadata": {},
     "output_type": "display_data"
    },
    {
     "data": {
      "text/html": [
       "<span style=\"color:cyan\"> |-Best step: 0</span>"
      ],
      "text/plain": [
       "<IPython.core.display.HTML object>"
      ]
     },
     "metadata": {},
     "output_type": "display_data"
    },
    {
     "data": {
      "text/html": [
       "<span style=\"color:#7E57C2\"><h2 style=\"font-size:16px\">Hyperparameters:</h2></span>"
      ],
      "text/plain": [
       "<IPython.core.display.HTML object>"
      ]
     },
     "metadata": {},
     "output_type": "display_data"
    },
    {
     "data": {
      "text/html": [
       "<span style=\"color:cyan\"> |-act1: relu</span>"
      ],
      "text/plain": [
       "<IPython.core.display.HTML object>"
      ]
     },
     "metadata": {},
     "output_type": "display_data"
    },
    {
     "data": {
      "text/html": [
       "<span style=\"color:blue\"> |-act2: tanh</span>"
      ],
      "text/plain": [
       "<IPython.core.display.HTML object>"
      ]
     },
     "metadata": {},
     "output_type": "display_data"
    },
    {
     "data": {
      "text/html": [
       "<span style=\"color:cyan\"> |-learning_rate: 0.01</span>"
      ],
      "text/plain": [
       "<IPython.core.display.HTML object>"
      ]
     },
     "metadata": {},
     "output_type": "display_data"
    },
    {
     "data": {
      "text/html": [
       "<span style=\"color:blue\"> |-tuner/bracket: 4</span>"
      ],
      "text/plain": [
       "<IPython.core.display.HTML object>"
      ]
     },
     "metadata": {},
     "output_type": "display_data"
    },
    {
     "data": {
      "text/html": [
       "<span style=\"color:cyan\"> |-tuner/epochs: 34</span>"
      ],
      "text/plain": [
       "<IPython.core.display.HTML object>"
      ]
     },
     "metadata": {},
     "output_type": "display_data"
    },
    {
     "data": {
      "text/html": [
       "<span style=\"color:blue\"> |-tuner/initial_epoch: 12</span>"
      ],
      "text/plain": [
       "<IPython.core.display.HTML object>"
      ]
     },
     "metadata": {},
     "output_type": "display_data"
    },
    {
     "data": {
      "text/html": [
       "<span style=\"color:cyan\"> |-tuner/round: 3</span>"
      ],
      "text/plain": [
       "<IPython.core.display.HTML object>"
      ]
     },
     "metadata": {},
     "output_type": "display_data"
    },
    {
     "data": {
      "text/html": [
       "<span style=\"color:blue\"> |-tuner/trial_id: d1d102dc6203972ac7db6dbc323377ac</span>"
      ],
      "text/plain": [
       "<IPython.core.display.HTML object>"
      ]
     },
     "metadata": {},
     "output_type": "display_data"
    },
    {
     "data": {
      "text/html": [
       "<span style=\"color:cyan\"> |-units: 60</span>"
      ],
      "text/plain": [
       "<IPython.core.display.HTML object>"
      ]
     },
     "metadata": {},
     "output_type": "display_data"
    },
    {
     "data": {
      "text/html": [
       "<span style=\"color:#4527A0\"><h1 style=\"font-size:18px\">Trial summary</h1></span>"
      ],
      "text/plain": [
       "<IPython.core.display.HTML object>"
      ]
     },
     "metadata": {},
     "output_type": "display_data"
    },
    {
     "data": {
      "text/html": [
       "<span style=\"color:cyan\"> |-Trial ID: ec373df20e702a38994fd5e428624f85</span>"
      ],
      "text/plain": [
       "<IPython.core.display.HTML object>"
      ]
     },
     "metadata": {},
     "output_type": "display_data"
    },
    {
     "data": {
      "text/html": [
       "<span style=\"color:cyan\"> |-Score: 0.005221355861673753</span>"
      ],
      "text/plain": [
       "<IPython.core.display.HTML object>"
      ]
     },
     "metadata": {},
     "output_type": "display_data"
    },
    {
     "data": {
      "text/html": [
       "<span style=\"color:cyan\"> |-Best step: 0</span>"
      ],
      "text/plain": [
       "<IPython.core.display.HTML object>"
      ]
     },
     "metadata": {},
     "output_type": "display_data"
    },
    {
     "data": {
      "text/html": [
       "<span style=\"color:#7E57C2\"><h2 style=\"font-size:16px\">Hyperparameters:</h2></span>"
      ],
      "text/plain": [
       "<IPython.core.display.HTML object>"
      ]
     },
     "metadata": {},
     "output_type": "display_data"
    },
    {
     "data": {
      "text/html": [
       "<span style=\"color:cyan\"> |-act1: relu</span>"
      ],
      "text/plain": [
       "<IPython.core.display.HTML object>"
      ]
     },
     "metadata": {},
     "output_type": "display_data"
    },
    {
     "data": {
      "text/html": [
       "<span style=\"color:blue\"> |-act2: tanh</span>"
      ],
      "text/plain": [
       "<IPython.core.display.HTML object>"
      ]
     },
     "metadata": {},
     "output_type": "display_data"
    },
    {
     "data": {
      "text/html": [
       "<span style=\"color:cyan\"> |-learning_rate: 0.01</span>"
      ],
      "text/plain": [
       "<IPython.core.display.HTML object>"
      ]
     },
     "metadata": {},
     "output_type": "display_data"
    },
    {
     "data": {
      "text/html": [
       "<span style=\"color:blue\"> |-tuner/bracket: 4</span>"
      ],
      "text/plain": [
       "<IPython.core.display.HTML object>"
      ]
     },
     "metadata": {},
     "output_type": "display_data"
    },
    {
     "data": {
      "text/html": [
       "<span style=\"color:cyan\"> |-tuner/epochs: 34</span>"
      ],
      "text/plain": [
       "<IPython.core.display.HTML object>"
      ]
     },
     "metadata": {},
     "output_type": "display_data"
    },
    {
     "data": {
      "text/html": [
       "<span style=\"color:blue\"> |-tuner/initial_epoch: 12</span>"
      ],
      "text/plain": [
       "<IPython.core.display.HTML object>"
      ]
     },
     "metadata": {},
     "output_type": "display_data"
    },
    {
     "data": {
      "text/html": [
       "<span style=\"color:cyan\"> |-tuner/round: 3</span>"
      ],
      "text/plain": [
       "<IPython.core.display.HTML object>"
      ]
     },
     "metadata": {},
     "output_type": "display_data"
    },
    {
     "data": {
      "text/html": [
       "<span style=\"color:blue\"> |-tuner/trial_id: d72ff859d7558edcb7c63f6fc89f8d2e</span>"
      ],
      "text/plain": [
       "<IPython.core.display.HTML object>"
      ]
     },
     "metadata": {},
     "output_type": "display_data"
    },
    {
     "data": {
      "text/html": [
       "<span style=\"color:cyan\"> |-units: 68</span>"
      ],
      "text/plain": [
       "<IPython.core.display.HTML object>"
      ]
     },
     "metadata": {},
     "output_type": "display_data"
    },
    {
     "data": {
      "text/html": [
       "<span style=\"color:#4527A0\"><h1 style=\"font-size:18px\">Trial summary</h1></span>"
      ],
      "text/plain": [
       "<IPython.core.display.HTML object>"
      ]
     },
     "metadata": {},
     "output_type": "display_data"
    },
    {
     "data": {
      "text/html": [
       "<span style=\"color:cyan\"> |-Trial ID: 58483af9e19d44db50d9fea15a35f14f</span>"
      ],
      "text/plain": [
       "<IPython.core.display.HTML object>"
      ]
     },
     "metadata": {},
     "output_type": "display_data"
    },
    {
     "data": {
      "text/html": [
       "<span style=\"color:cyan\"> |-Score: 0.005259321381648381</span>"
      ],
      "text/plain": [
       "<IPython.core.display.HTML object>"
      ]
     },
     "metadata": {},
     "output_type": "display_data"
    },
    {
     "data": {
      "text/html": [
       "<span style=\"color:cyan\"> |-Best step: 0</span>"
      ],
      "text/plain": [
       "<IPython.core.display.HTML object>"
      ]
     },
     "metadata": {},
     "output_type": "display_data"
    },
    {
     "data": {
      "text/html": [
       "<span style=\"color:#7E57C2\"><h2 style=\"font-size:16px\">Hyperparameters:</h2></span>"
      ],
      "text/plain": [
       "<IPython.core.display.HTML object>"
      ]
     },
     "metadata": {},
     "output_type": "display_data"
    },
    {
     "data": {
      "text/html": [
       "<span style=\"color:cyan\"> |-act1: relu</span>"
      ],
      "text/plain": [
       "<IPython.core.display.HTML object>"
      ]
     },
     "metadata": {},
     "output_type": "display_data"
    },
    {
     "data": {
      "text/html": [
       "<span style=\"color:blue\"> |-act2: relu</span>"
      ],
      "text/plain": [
       "<IPython.core.display.HTML object>"
      ]
     },
     "metadata": {},
     "output_type": "display_data"
    },
    {
     "data": {
      "text/html": [
       "<span style=\"color:cyan\"> |-learning_rate: 0.01</span>"
      ],
      "text/plain": [
       "<IPython.core.display.HTML object>"
      ]
     },
     "metadata": {},
     "output_type": "display_data"
    },
    {
     "data": {
      "text/html": [
       "<span style=\"color:blue\"> |-tuner/bracket: 4</span>"
      ],
      "text/plain": [
       "<IPython.core.display.HTML object>"
      ]
     },
     "metadata": {},
     "output_type": "display_data"
    },
    {
     "data": {
      "text/html": [
       "<span style=\"color:cyan\"> |-tuner/epochs: 100</span>"
      ],
      "text/plain": [
       "<IPython.core.display.HTML object>"
      ]
     },
     "metadata": {},
     "output_type": "display_data"
    },
    {
     "data": {
      "text/html": [
       "<span style=\"color:blue\"> |-tuner/initial_epoch: 34</span>"
      ],
      "text/plain": [
       "<IPython.core.display.HTML object>"
      ]
     },
     "metadata": {},
     "output_type": "display_data"
    },
    {
     "data": {
      "text/html": [
       "<span style=\"color:cyan\"> |-tuner/round: 4</span>"
      ],
      "text/plain": [
       "<IPython.core.display.HTML object>"
      ]
     },
     "metadata": {},
     "output_type": "display_data"
    },
    {
     "data": {
      "text/html": [
       "<span style=\"color:blue\"> |-tuner/trial_id: e6b872da66c39a33f827a3db1e2c1d7f</span>"
      ],
      "text/plain": [
       "<IPython.core.display.HTML object>"
      ]
     },
     "metadata": {},
     "output_type": "display_data"
    },
    {
     "data": {
      "text/html": [
       "<span style=\"color:cyan\"> |-units: 52</span>"
      ],
      "text/plain": [
       "<IPython.core.display.HTML object>"
      ]
     },
     "metadata": {},
     "output_type": "display_data"
    },
    {
     "data": {
      "text/html": [
       "<span style=\"color:#4527A0\"><h1 style=\"font-size:18px\">Trial summary</h1></span>"
      ],
      "text/plain": [
       "<IPython.core.display.HTML object>"
      ]
     },
     "metadata": {},
     "output_type": "display_data"
    },
    {
     "data": {
      "text/html": [
       "<span style=\"color:cyan\"> |-Trial ID: 05240ad8d376c058cc4a5d80f4ff854e</span>"
      ],
      "text/plain": [
       "<IPython.core.display.HTML object>"
      ]
     },
     "metadata": {},
     "output_type": "display_data"
    },
    {
     "data": {
      "text/html": [
       "<span style=\"color:cyan\"> |-Score: 0.005745906072358291</span>"
      ],
      "text/plain": [
       "<IPython.core.display.HTML object>"
      ]
     },
     "metadata": {},
     "output_type": "display_data"
    },
    {
     "data": {
      "text/html": [
       "<span style=\"color:cyan\"> |-Best step: 0</span>"
      ],
      "text/plain": [
       "<IPython.core.display.HTML object>"
      ]
     },
     "metadata": {},
     "output_type": "display_data"
    },
    {
     "data": {
      "text/html": [
       "<span style=\"color:#7E57C2\"><h2 style=\"font-size:16px\">Hyperparameters:</h2></span>"
      ],
      "text/plain": [
       "<IPython.core.display.HTML object>"
      ]
     },
     "metadata": {},
     "output_type": "display_data"
    },
    {
     "data": {
      "text/html": [
       "<span style=\"color:cyan\"> |-act1: relu</span>"
      ],
      "text/plain": [
       "<IPython.core.display.HTML object>"
      ]
     },
     "metadata": {},
     "output_type": "display_data"
    },
    {
     "data": {
      "text/html": [
       "<span style=\"color:blue\"> |-act2: relu</span>"
      ],
      "text/plain": [
       "<IPython.core.display.HTML object>"
      ]
     },
     "metadata": {},
     "output_type": "display_data"
    },
    {
     "data": {
      "text/html": [
       "<span style=\"color:cyan\"> |-learning_rate: 0.01</span>"
      ],
      "text/plain": [
       "<IPython.core.display.HTML object>"
      ]
     },
     "metadata": {},
     "output_type": "display_data"
    },
    {
     "data": {
      "text/html": [
       "<span style=\"color:blue\"> |-tuner/bracket: 4</span>"
      ],
      "text/plain": [
       "<IPython.core.display.HTML object>"
      ]
     },
     "metadata": {},
     "output_type": "display_data"
    },
    {
     "data": {
      "text/html": [
       "<span style=\"color:cyan\"> |-tuner/epochs: 12</span>"
      ],
      "text/plain": [
       "<IPython.core.display.HTML object>"
      ]
     },
     "metadata": {},
     "output_type": "display_data"
    },
    {
     "data": {
      "text/html": [
       "<span style=\"color:blue\"> |-tuner/initial_epoch: 4</span>"
      ],
      "text/plain": [
       "<IPython.core.display.HTML object>"
      ]
     },
     "metadata": {},
     "output_type": "display_data"
    },
    {
     "data": {
      "text/html": [
       "<span style=\"color:cyan\"> |-tuner/round: 2</span>"
      ],
      "text/plain": [
       "<IPython.core.display.HTML object>"
      ]
     },
     "metadata": {},
     "output_type": "display_data"
    },
    {
     "data": {
      "text/html": [
       "<span style=\"color:blue\"> |-tuner/trial_id: d03ea259bacbb45cbf7a13fb9681b2ca</span>"
      ],
      "text/plain": [
       "<IPython.core.display.HTML object>"
      ]
     },
     "metadata": {},
     "output_type": "display_data"
    },
    {
     "data": {
      "text/html": [
       "<span style=\"color:cyan\"> |-units: 60</span>"
      ],
      "text/plain": [
       "<IPython.core.display.HTML object>"
      ]
     },
     "metadata": {},
     "output_type": "display_data"
    },
    {
     "data": {
      "text/html": [
       "<span style=\"color:#4527A0\"><h1 style=\"font-size:18px\">Trial summary</h1></span>"
      ],
      "text/plain": [
       "<IPython.core.display.HTML object>"
      ]
     },
     "metadata": {},
     "output_type": "display_data"
    },
    {
     "data": {
      "text/html": [
       "<span style=\"color:cyan\"> |-Trial ID: d1d102dc6203972ac7db6dbc323377ac</span>"
      ],
      "text/plain": [
       "<IPython.core.display.HTML object>"
      ]
     },
     "metadata": {},
     "output_type": "display_data"
    },
    {
     "data": {
      "text/html": [
       "<span style=\"color:cyan\"> |-Score: 0.005789493986715873</span>"
      ],
      "text/plain": [
       "<IPython.core.display.HTML object>"
      ]
     },
     "metadata": {},
     "output_type": "display_data"
    },
    {
     "data": {
      "text/html": [
       "<span style=\"color:cyan\"> |-Best step: 0</span>"
      ],
      "text/plain": [
       "<IPython.core.display.HTML object>"
      ]
     },
     "metadata": {},
     "output_type": "display_data"
    },
    {
     "data": {
      "text/html": [
       "<span style=\"color:#7E57C2\"><h2 style=\"font-size:16px\">Hyperparameters:</h2></span>"
      ],
      "text/plain": [
       "<IPython.core.display.HTML object>"
      ]
     },
     "metadata": {},
     "output_type": "display_data"
    },
    {
     "data": {
      "text/html": [
       "<span style=\"color:cyan\"> |-act1: relu</span>"
      ],
      "text/plain": [
       "<IPython.core.display.HTML object>"
      ]
     },
     "metadata": {},
     "output_type": "display_data"
    },
    {
     "data": {
      "text/html": [
       "<span style=\"color:blue\"> |-act2: tanh</span>"
      ],
      "text/plain": [
       "<IPython.core.display.HTML object>"
      ]
     },
     "metadata": {},
     "output_type": "display_data"
    },
    {
     "data": {
      "text/html": [
       "<span style=\"color:cyan\"> |-learning_rate: 0.01</span>"
      ],
      "text/plain": [
       "<IPython.core.display.HTML object>"
      ]
     },
     "metadata": {},
     "output_type": "display_data"
    },
    {
     "data": {
      "text/html": [
       "<span style=\"color:blue\"> |-tuner/bracket: 4</span>"
      ],
      "text/plain": [
       "<IPython.core.display.HTML object>"
      ]
     },
     "metadata": {},
     "output_type": "display_data"
    },
    {
     "data": {
      "text/html": [
       "<span style=\"color:cyan\"> |-tuner/epochs: 12</span>"
      ],
      "text/plain": [
       "<IPython.core.display.HTML object>"
      ]
     },
     "metadata": {},
     "output_type": "display_data"
    },
    {
     "data": {
      "text/html": [
       "<span style=\"color:blue\"> |-tuner/initial_epoch: 4</span>"
      ],
      "text/plain": [
       "<IPython.core.display.HTML object>"
      ]
     },
     "metadata": {},
     "output_type": "display_data"
    },
    {
     "data": {
      "text/html": [
       "<span style=\"color:cyan\"> |-tuner/round: 2</span>"
      ],
      "text/plain": [
       "<IPython.core.display.HTML object>"
      ]
     },
     "metadata": {},
     "output_type": "display_data"
    },
    {
     "data": {
      "text/html": [
       "<span style=\"color:blue\"> |-tuner/trial_id: e58dd3d721eca19152e1a8400d5e5e91</span>"
      ],
      "text/plain": [
       "<IPython.core.display.HTML object>"
      ]
     },
     "metadata": {},
     "output_type": "display_data"
    },
    {
     "data": {
      "text/html": [
       "<span style=\"color:cyan\"> |-units: 60</span>"
      ],
      "text/plain": [
       "<IPython.core.display.HTML object>"
      ]
     },
     "metadata": {},
     "output_type": "display_data"
    },
    {
     "data": {
      "text/html": [
       "<span style=\"color:#4527A0\"><h1 style=\"font-size:18px\">Trial summary</h1></span>"
      ],
      "text/plain": [
       "<IPython.core.display.HTML object>"
      ]
     },
     "metadata": {},
     "output_type": "display_data"
    },
    {
     "data": {
      "text/html": [
       "<span style=\"color:cyan\"> |-Trial ID: d72ff859d7558edcb7c63f6fc89f8d2e</span>"
      ],
      "text/plain": [
       "<IPython.core.display.HTML object>"
      ]
     },
     "metadata": {},
     "output_type": "display_data"
    },
    {
     "data": {
      "text/html": [
       "<span style=\"color:cyan\"> |-Score: 0.005905663905044396</span>"
      ],
      "text/plain": [
       "<IPython.core.display.HTML object>"
      ]
     },
     "metadata": {},
     "output_type": "display_data"
    },
    {
     "data": {
      "text/html": [
       "<span style=\"color:cyan\"> |-Best step: 0</span>"
      ],
      "text/plain": [
       "<IPython.core.display.HTML object>"
      ]
     },
     "metadata": {},
     "output_type": "display_data"
    },
    {
     "data": {
      "text/html": [
       "<span style=\"color:#7E57C2\"><h2 style=\"font-size:16px\">Hyperparameters:</h2></span>"
      ],
      "text/plain": [
       "<IPython.core.display.HTML object>"
      ]
     },
     "metadata": {},
     "output_type": "display_data"
    },
    {
     "data": {
      "text/html": [
       "<span style=\"color:cyan\"> |-act1: relu</span>"
      ],
      "text/plain": [
       "<IPython.core.display.HTML object>"
      ]
     },
     "metadata": {},
     "output_type": "display_data"
    },
    {
     "data": {
      "text/html": [
       "<span style=\"color:blue\"> |-act2: tanh</span>"
      ],
      "text/plain": [
       "<IPython.core.display.HTML object>"
      ]
     },
     "metadata": {},
     "output_type": "display_data"
    },
    {
     "data": {
      "text/html": [
       "<span style=\"color:cyan\"> |-learning_rate: 0.01</span>"
      ],
      "text/plain": [
       "<IPython.core.display.HTML object>"
      ]
     },
     "metadata": {},
     "output_type": "display_data"
    },
    {
     "data": {
      "text/html": [
       "<span style=\"color:blue\"> |-tuner/bracket: 4</span>"
      ],
      "text/plain": [
       "<IPython.core.display.HTML object>"
      ]
     },
     "metadata": {},
     "output_type": "display_data"
    },
    {
     "data": {
      "text/html": [
       "<span style=\"color:cyan\"> |-tuner/epochs: 12</span>"
      ],
      "text/plain": [
       "<IPython.core.display.HTML object>"
      ]
     },
     "metadata": {},
     "output_type": "display_data"
    },
    {
     "data": {
      "text/html": [
       "<span style=\"color:blue\"> |-tuner/initial_epoch: 4</span>"
      ],
      "text/plain": [
       "<IPython.core.display.HTML object>"
      ]
     },
     "metadata": {},
     "output_type": "display_data"
    },
    {
     "data": {
      "text/html": [
       "<span style=\"color:cyan\"> |-tuner/round: 2</span>"
      ],
      "text/plain": [
       "<IPython.core.display.HTML object>"
      ]
     },
     "metadata": {},
     "output_type": "display_data"
    },
    {
     "data": {
      "text/html": [
       "<span style=\"color:blue\"> |-tuner/trial_id: c9f5fe18365a24e92c2d3689d745efdd</span>"
      ],
      "text/plain": [
       "<IPython.core.display.HTML object>"
      ]
     },
     "metadata": {},
     "output_type": "display_data"
    },
    {
     "data": {
      "text/html": [
       "<span style=\"color:cyan\"> |-units: 68</span>"
      ],
      "text/plain": [
       "<IPython.core.display.HTML object>"
      ]
     },
     "metadata": {},
     "output_type": "display_data"
    },
    {
     "data": {
      "text/html": [
       "<span style=\"color:#4527A0\"><h1 style=\"font-size:18px\">Trial summary</h1></span>"
      ],
      "text/plain": [
       "<IPython.core.display.HTML object>"
      ]
     },
     "metadata": {},
     "output_type": "display_data"
    },
    {
     "data": {
      "text/html": [
       "<span style=\"color:cyan\"> |-Trial ID: 2416060061109170e11e66f3cc87b399</span>"
      ],
      "text/plain": [
       "<IPython.core.display.HTML object>"
      ]
     },
     "metadata": {},
     "output_type": "display_data"
    },
    {
     "data": {
      "text/html": [
       "<span style=\"color:cyan\"> |-Score: 0.005940465411792199</span>"
      ],
      "text/plain": [
       "<IPython.core.display.HTML object>"
      ]
     },
     "metadata": {},
     "output_type": "display_data"
    },
    {
     "data": {
      "text/html": [
       "<span style=\"color:cyan\"> |-Best step: 0</span>"
      ],
      "text/plain": [
       "<IPython.core.display.HTML object>"
      ]
     },
     "metadata": {},
     "output_type": "display_data"
    },
    {
     "data": {
      "text/html": [
       "<span style=\"color:#7E57C2\"><h2 style=\"font-size:16px\">Hyperparameters:</h2></span>"
      ],
      "text/plain": [
       "<IPython.core.display.HTML object>"
      ]
     },
     "metadata": {},
     "output_type": "display_data"
    },
    {
     "data": {
      "text/html": [
       "<span style=\"color:cyan\"> |-act1: relu</span>"
      ],
      "text/plain": [
       "<IPython.core.display.HTML object>"
      ]
     },
     "metadata": {},
     "output_type": "display_data"
    },
    {
     "data": {
      "text/html": [
       "<span style=\"color:blue\"> |-act2: relu</span>"
      ],
      "text/plain": [
       "<IPython.core.display.HTML object>"
      ]
     },
     "metadata": {},
     "output_type": "display_data"
    },
    {
     "data": {
      "text/html": [
       "<span style=\"color:cyan\"> |-learning_rate: 0.01</span>"
      ],
      "text/plain": [
       "<IPython.core.display.HTML object>"
      ]
     },
     "metadata": {},
     "output_type": "display_data"
    },
    {
     "data": {
      "text/html": [
       "<span style=\"color:blue\"> |-tuner/bracket: 4</span>"
      ],
      "text/plain": [
       "<IPython.core.display.HTML object>"
      ]
     },
     "metadata": {},
     "output_type": "display_data"
    },
    {
     "data": {
      "text/html": [
       "<span style=\"color:cyan\"> |-tuner/epochs: 12</span>"
      ],
      "text/plain": [
       "<IPython.core.display.HTML object>"
      ]
     },
     "metadata": {},
     "output_type": "display_data"
    },
    {
     "data": {
      "text/html": [
       "<span style=\"color:blue\"> |-tuner/initial_epoch: 4</span>"
      ],
      "text/plain": [
       "<IPython.core.display.HTML object>"
      ]
     },
     "metadata": {},
     "output_type": "display_data"
    },
    {
     "data": {
      "text/html": [
       "<span style=\"color:cyan\"> |-tuner/round: 2</span>"
      ],
      "text/plain": [
       "<IPython.core.display.HTML object>"
      ]
     },
     "metadata": {},
     "output_type": "display_data"
    },
    {
     "data": {
      "text/html": [
       "<span style=\"color:blue\"> |-tuner/trial_id: d59f103aa0d2deb0b229f3d28cc539c2</span>"
      ],
      "text/plain": [
       "<IPython.core.display.HTML object>"
      ]
     },
     "metadata": {},
     "output_type": "display_data"
    },
    {
     "data": {
      "text/html": [
       "<span style=\"color:cyan\"> |-units: 52</span>"
      ],
      "text/plain": [
       "<IPython.core.display.HTML object>"
      ]
     },
     "metadata": {},
     "output_type": "display_data"
    }
   ],
   "source": [
    "#Prints a summary of the results of the hyperband optimization\n",
    "tuner.results_summary()"
   ]
  },
  {
   "cell_type": "markdown",
   "metadata": {
    "pycharm": {
     "is_executing": true
    },
    "slideshow": {
     "slide_type": "slide"
    }
   },
   "source": [
    "We can now evaluate the performace of the algorithm. by inspecting  the output of the model for both training and test datasets. First, we can calculate and visualize the prediction for the train dataset."
   ]
  },
  {
   "cell_type": "code",
   "execution_count": 31,
   "metadata": {
    "pycharm": {
     "is_executing": true
    },
    "scrolled": true,
    "slideshow": {
     "slide_type": "subslide"
    }
   },
   "outputs": [
    {
     "name": "stdout",
     "output_type": "stream",
     "text": [
      "WARNING:tensorflow:AutoGraph could not transform <function Model.make_predict_function.<locals>.predict_function at 0x0000024177F3B8B8> and will run it as-is.\n",
      "Please report this to the TensorFlow team. When filing the bug, set the verbosity to 10 (on Linux, `export AUTOGRAPH_VERBOSITY=10`) and attach the full output.\n",
      "Cause: 'arguments' object has no attribute 'posonlyargs'\n",
      "To silence this warning, decorate the function with @tf.autograph.experimental.do_not_convert\n",
      "WARNING: AutoGraph could not transform <function Model.make_predict_function.<locals>.predict_function at 0x0000024177F3B8B8> and will run it as-is.\n",
      "Please report this to the TensorFlow team. When filing the bug, set the verbosity to 10 (on Linux, `export AUTOGRAPH_VERBOSITY=10`) and attach the full output.\n",
      "Cause: 'arguments' object has no attribute 'posonlyargs'\n",
      "To silence this warning, decorate the function with @tf.autograph.experimental.do_not_convert\n"
     ]
    },
    {
     "data": {
      "image/png": "[encoded data removed]",
      "text/plain": [
       "<Figure size 864x576 with 2 Axes>"
      ]
     },
     "metadata": {
      "needs_background": "light"
     },
     "output_type": "display_data"
    }
   ],
   "source": [
    "#Stores the output of the trained model\n",
    "y_train_pred = best_model.predict(X_train)\n",
    "\n",
    "#Creates a new figure with two subplots\n",
    "fig = plt.figure(figsize=(12,8))\n",
    "\n",
    "#Cl plot with a 1:1 aspect ratio\n",
    "ax1 = fig.add_subplot(1,2,1, adjustable='box', aspect=1)\n",
    "#Plot reference data as a solid black line\n",
    "ax1.plot(y_train.values[:,0],y_train.values[:,0], c='k')\n",
    "#Plot model output as black empty circles\n",
    "ax1.scatter(y_train.values[:,0], y_train_pred[:,0], facecolor = 'none', edgecolor='k')\n",
    "#Add title and axes labels\n",
    "ax1.set_title('Cl - Train')\n",
    "ax1.set_xlabel('y_train')\n",
    "ax1.set_ylabel('y_train / y_train_pred')\n",
    "\n",
    "#Cd plot with a 1:1 aspect ratio\n",
    "ax2 = fig.add_subplot(1,2,2, adjustable='box', aspect=1)\n",
    "#Plot reference data as a solid black line\n",
    "ax2.plot(y_train.values[:,1],y_train.values[:,1], c='k', label='True')\n",
    "#Plot model output as black empty circles\n",
    "ax2.scatter(y_train.values[:,1], y_train_pred[:,1], facecolor = 'none', edgecolor='k', label='Predicted')\n",
    "#Add title and axes labels and a legend\n",
    "ax2.legend()\n",
    "ax2.set_title('Cd - Train')\n",
    "ax2.set_xlabel('y_train')\n",
    "ax2.set_ylabel('y_train / y_train_pred')\n",
    "\n",
    "plt.show()"
   ]
  },
  {
   "cell_type": "markdown",
   "metadata": {
    "slideshow": {
     "slide_type": "slide"
    }
   },
   "source": [
    "Finally, we can can evaluate the error of the model in the test dataset,"
   ]
  },
  {
   "cell_type": "code",
   "execution_count": 33,
   "metadata": {
    "pycharm": {
     "is_executing": true
    },
    "slideshow": {
     "slide_type": "subslide"
    }
   },
   "outputs": [
    {
     "data": {
      "image/png": "[encoded data removed]",
      "text/plain": [
       "<Figure size 864x576 with 2 Axes>"
      ]
     },
     "metadata": {
      "needs_background": "light"
     },
     "output_type": "display_data"
    }
   ],
   "source": [
    "#Evaluates the output of the model on the test data \n",
    "y_test_pred = best_model.predict(X_test)\n",
    "\n",
    "#Creates a new figure with two subplots\n",
    "fig = plt.figure(figsize=(12,8))\n",
    "\n",
    "#Cl plot with a 1:1 aspect ratio\n",
    "ax1 = fig.add_subplot(1,2,1, adjustable='box', aspect=1)\n",
    "#Plot reference data as a solid black line\n",
    "ax1.plot(y_test.values[:,0],y_test.values[:,0], c='k')\n",
    "#Plot model output as black empty circles\n",
    "ax1.scatter(y_test.values[:,0], y_test_pred[:,0], facecolor = 'none', edgecolor='k')\n",
    "#Add title and axes labels\n",
    "ax1.set_title('Cl - Test')\n",
    "ax1.set_xlabel('y_test')\n",
    "ax1.set_ylabel('y_test / y_test_pred')\n",
    "\n",
    "#Cd plot with a 1:1 aspect ratio\n",
    "ax2 = fig.add_subplot(1,2,2, adjustable='box', aspect=1)\n",
    "#Plot reference data as a solid black line\n",
    "ax2.plot(y_test.values[:,1],y_test.values[:,1], c='k', label='True')\n",
    "#Plot model output as black empty circles\n",
    "ax2.scatter(y_test.values[:,1], y_test_pred[:,1], facecolor = 'none', edgecolor='k', label='Predicted')\n",
    "#Add title and axes labels and a legend\n",
    "ax2.legend()\n",
    "ax2.set_title('Cd - Test')\n",
    "ax2.set_xlabel('y_test')\n",
    "ax2.set_ylabel('y_test / y_test_pred')\n",
    "\n",
    "plt.show()"
   ]
  },
  {
   "cell_type": "markdown",
   "metadata": {},
   "source": [
    "Are we done? Not really! We must spend many more efforts to improve the model and the\n",
    "results, like increasing the training dataset, validating the model against out-of-the-box, testing\n",
    "different data treatments, etc. etc. However, we can be satisfied as we have derived a good\n",
    "starting point."
   ]
  },
  {
   "cell_type": "code",
   "execution_count": null,
   "metadata": {},
   "outputs": [],
   "source": []
  }
 ],
 "metadata": {
  "celltoolbar": "Slideshow",
  "kernelspec": {
   "display_name": "Python 3",
   "language": "python",
   "name": "python3"
  },
  "language_info": {
   "codemirror_mode": {
    "name": "ipython",
    "version": 3
   },
   "file_extension": ".py",
   "mimetype": "text/x-python",
   "name": "python",
   "nbconvert_exporter": "python",
   "pygments_lexer": "ipython3",
   "version": "3.7.10"
  }
 },
 "nbformat": 4,
 "nbformat_minor": 1
}
